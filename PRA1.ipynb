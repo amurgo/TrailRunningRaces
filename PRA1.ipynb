{
 "cells": [
  {
   "cell_type": "markdown",
   "metadata": {},
   "source": [
    "# Scraping trail running races 2021"
   ]
  },
  {
   "cell_type": "markdown",
   "metadata": {},
   "source": [
    "This notebook scraps the trail running races's data from https://itra.run/races"
   ]
  },
  {
   "cell_type": "code",
   "execution_count": 1,
   "metadata": {
    "scrolled": true
   },
   "outputs": [
    {
     "ename": "SyntaxError",
     "evalue": "invalid syntax (<ipython-input-1-3e81a140bc65>, line 1)",
     "output_type": "error",
     "traceback": [
      "\u001b[1;36m  File \u001b[1;32m\"<ipython-input-1-3e81a140bc65>\"\u001b[1;36m, line \u001b[1;32m1\u001b[0m\n\u001b[1;33m    $ch = curl_init();\u001b[0m\n\u001b[1;37m    ^\u001b[0m\n\u001b[1;31mSyntaxError\u001b[0m\u001b[1;31m:\u001b[0m invalid syntax\n"
     ]
    }
   ],
   "source": []
  },
  {
   "cell_type": "code",
   "execution_count": 6,
   "metadata": {},
   "outputs": [
    {
     "ename": "SyntaxError",
     "evalue": "invalid syntax (<ipython-input-6-d99c37cf79ed>, line 4)",
     "output_type": "error",
     "traceback": [
      "\u001b[1;36m  File \u001b[1;32m\"<ipython-input-6-d99c37cf79ed>\"\u001b[1;36m, line \u001b[1;32m4\u001b[0m\n\u001b[1;33m    conda env list\u001b[0m\n\u001b[1;37m          ^\u001b[0m\n\u001b[1;31mSyntaxError\u001b[0m\u001b[1;31m:\u001b[0m invalid syntax\n"
     ]
    }
   ],
   "source": [
    "## Run in shell\n",
    "\n",
    "# Virtual environment \n",
    "conda env list\n",
    "conda create --name certTrail -k\n",
    "conda activate certTrail\n",
    "\n",
    "# Libraries needed\n",
    "conda install selenium -k\n",
    "conda install beautifulsoup4 -k\n",
    "conda install lxml -k\n",
    "pip install html5lib #easy_install html5lib\n",
    "pip install whois #easy_install whois\n",
    "pip install builtwith #easy_install builtwith\n",
    "conda install -c conda-forge geckodriver -k"
   ]
  },
  {
   "cell_type": "code",
   "execution_count": 71,
   "metadata": {},
   "outputs": [
    {
     "output_type": "stream",
     "name": "stdout",
     "text": [
      "C:\\Anaconda\\python.exe\n"
     ]
    }
   ],
   "source": [
    "from selenium import webdriver\n",
    "from selenium.webdriver.common.keys import Keys\n",
    "from selenium.webdriver.support.ui import Select\n",
    "from selenium.common.exceptions import TimeoutException\n",
    "from bs4 import BeautifulSoup\n",
    "import logging\n",
    "import concurrent.futures\n",
    "import time\n",
    "import re\n",
    "import json\n",
    "import pandas as pd\n",
    "#import whois\n",
    "import sys\n",
    "from tqdm import tqdm\n",
    "\n",
    "# What environment am I using?\n",
    "print(sys.executable)"
   ]
  },
  {
   "cell_type": "code",
   "execution_count": 100,
   "metadata": {},
   "outputs": [
    {
     "output_type": "stream",
     "name": "stdout",
     "text": [
      "Races - ITRA\n"
     ]
    }
   ],
   "source": [
    "#Setup options for FireFox\n",
    "from selenium.webdriver.firefox.options import Options as FirefoxOptions\n",
    "\n",
    "options = FirefoxOptions()\n",
    "options.binary_location = r'C:\\Users\\apelaez\\AppData\\Local\\Mozilla Firefox\\firefox.exe'\n",
    "options.add_argument(\"--lang=en-US\")\n",
    "\n",
    "# Using selenium, open firefox window with the ITRA website\n",
    "driver = webdriver.Firefox(options=options)\n",
    "driver.get(\"https://itra.run/races\")\n",
    "\n",
    "# Getting current URL source code \n",
    "get_title = driver.title \n",
    "  \n",
    "# Printing the title of this URL \n",
    "print(get_title) \n",
    "assert \"- ITRA\" in driver.title\n"
   ]
  },
  {
   "cell_type": "code",
   "execution_count": 107,
   "metadata": {
    "scrolled": true
   },
   "outputs": [
    {
     "output_type": "stream",
     "name": "stdout",
     "text": [
      "20\n"
     ]
    }
   ],
   "source": [
    "# Click dropdown menu for language selection\n",
    "#driver.find_element_by_xpath(\"/html/body/div[1]/div[1]/nav/div[4]\").click()\n",
    "\n",
    "#Switch to English\n",
    "btnCurrentLanguage = driver.find_element_by_css_selector(\"div.nav-item.dropdown\")\n",
    "btnCurrentLanguage.click()\n",
    "\n",
    "dpkStartdate = driver.find_element_by_css_selector(\"div.vdp-datepicker.dp1\")\n",
    "dpkStartdate.click()\n",
    "\n",
    "spnMonthSelector = driver.find_element_by_css_selector(\"span.day__month_btn.up\")\n",
    "spnMonthSelector.click()\n",
    "\n",
    "spnYearSelector = driver.find_element_by_css_selector(\"span.month__year_btn.up\")\n",
    "spnYearSelector.click()\n",
    "\n",
    "divYears = driver.find_elements_by_css_selector(\"span.cell.year\")\n",
    "print(len(divYears))"
   ]
  },
  {
   "cell_type": "code",
   "execution_count": 51,
   "metadata": {},
   "outputs": [],
   "source": [
    "# Click on PERIOD time selection \"START\"\n",
    "driver.find_element_by_xpath(\"/html/body/div[1]/div[3]/div/div/div[1]/div[2]/div/div[2]/div/div[1]/div/div[1]/div[1]/input\").click()\n",
    "\n",
    "# Click on month selection\n",
    "driver.find_element_by_xpath(\"/html/body/div[1]/div[3]/div/div/div[1]/div[2]/div/div[2]/div/div[1]/div/div[1]/div[2]/header/span[2]\").click()\n",
    "\n",
    "# Click on January\n",
    "driver.find_element_by_xpath(\"/html/body/div[1]/div[3]/div/div/div[1]/div[2]/div/div[2]/div/div[1]/div/div[1]/div[3]/span[1]\").click()\n",
    "\n",
    "# Click on 1st\n",
    "driver.find_element_by_xpath(\"/html/body/div[1]/div[3]/div/div/div[1]/div[2]/div/div[2]/div/div[1]/div/div[1]/div[2]/div/span[13]\").click()\n"
   ]
  },
  {
   "cell_type": "code",
   "execution_count": 18,
   "metadata": {},
   "outputs": [],
   "source": [
    "# Click on PERIOD time selection \"END\"\n",
    "driver.find_element_by_xpath(\"/html/body/div[1]/div[3]/div/div/div[1]/div[2]/div/div[2]/div/div[1]/div/div[4]/div[1]/input\").click()\n",
    "\n",
    "# Click on month selection\n",
    "driver.find_element_by_xpath(\"/html/body/div[1]/div[3]/div/div/div[1]/div[2]/div/div[2]/div/div[1]/div/div[4]/div[2]/header/span[2]\").click()\n",
    "\n",
    "# Click on year\n",
    "driver.find_element_by_xpath(\"/html/body/div[1]/div[3]/div/div/div[1]/div[2]/div/div[2]/div/div[1]/div/div[4]/div[3]/header/span[2]\").click()\n",
    "\n",
    "# Click on 2021\n",
    "driver.find_element_by_xpath(\"/html/body/div[1]/div[3]/div/div/div[1]/div[2]/div/div[2]/div/div[1]/div/div[4]/div[4]/span[2]\").click()\n",
    "\n",
    "# Click on December\n",
    "driver.find_element_by_xpath(\"/html/body/div[1]/div[3]/div/div/div[1]/div[2]/div/div[2]/div/div[1]/div/div[4]/div[3]/span[1]\").click()\n",
    "\n",
    "\n",
    "# Click on 31st\n",
    "driver.find_element_by_xpath(\"/html/body/div[1]/div[3]/div/div/div[1]/div[2]/div/div[2]/div/div[1]/div/div[4]/div[2]/div/span[41]\").click()\n"
   ]
  },
  {
   "cell_type": "code",
   "execution_count": 52,
   "metadata": {},
   "outputs": [
    {
     "output_type": "stream",
     "name": "stdout",
     "text": [
      "No more results\n"
     ]
    }
   ],
   "source": [
    "# Click on More Races to get the full list on the screen & Wait for Visibility of Races\n",
    "maxIterations = 10 #-1 for ALL\n",
    "i = 0\n",
    "try:\n",
    "    btnSeeMore = driver.find_element_by_css_selector('button.btn-itra-black[type=\"button\"]')    \n",
    "\n",
    "except:\n",
    "    btnSeeMore = None\n",
    "    print(\"No button\")\n",
    "\n",
    "while btnSeeMore is not None and i < maxIterations:\n",
    "    i = i +1\n",
    "    btnSeeMore.click()\n",
    "    try:\n",
    "        btnSeeMore = driver.find_element_by_css_selector('button.btn-itra-black[type=\"button\"]')    \n",
    "\n",
    "    except:\n",
    "        btnSeeMore = None\n",
    "        print(\"No button\")      \n",
    "    finally:\n",
    "        time.sleep(5)\n",
    "\n",
    "print(\"No more results\")"
   ]
  },
  {
   "cell_type": "code",
   "execution_count": 66,
   "metadata": {},
   "outputs": [
    {
     "output_type": "stream",
     "name": "stderr",
     "text": [
      "18:43:40: Thread 0: starting\n",
      "18:43:40: Thread 1: starting\n",
      "18:43:40: Thread 2: starting\n",
      "18:44:00: Thread 1: finishing\n",
      "Races - ITRA\n",
      "18:44:01: Thread 2: finishing\n",
      "Races - ITRA\n",
      "18:44:05: Thread 0: finishing\n",
      "Races - ITRA\n"
     ]
    }
   ],
   "source": [
    "\n",
    "\n",
    "def thread_function(name):\n",
    "    logging.info(\"Thread %s: starting\", name)\n",
    "    time.sleep(2)\n",
    "    #Prepare browser\n",
    "    #Setup options for FireFox\n",
    "    from selenium.webdriver.firefox.options import Options as FirefoxOptions\n",
    "\n",
    "    options = FirefoxOptions()\n",
    "    options.binary_location = r'C:\\Users\\apelaez\\AppData\\Local\\Mozilla Firefox\\firefox.exe'\n",
    "\n",
    "    # Using selenium, open firefox window with the ITRA website\n",
    "    driver = webdriver.Firefox(options=options)\n",
    "    driver.get(\"https://itra.run/races\")\n",
    "\n",
    "    # Getting current URL source code \n",
    "    get_title = driver.title \n",
    "    \n",
    "    # Printing the title of this URL \n",
    "    print(get_title) \n",
    "    assert \"- ITRA\" in driver.title\n",
    "    logging.info(\"Thread %s: finishing\", name)\n",
    "\n",
    "format = \"%(asctime)s: %(message)s\"\n",
    "logging.basicConfig(format=format, level=logging.INFO,\n",
    "                    datefmt=\"%H:%M:%S\")\n",
    "\n",
    "with concurrent.futures.ThreadPoolExecutor(max_workers=3) as executor:\n",
    "    executor.map(thread_function, range(3))"
   ]
  },
  {
   "cell_type": "code",
   "execution_count": 31,
   "metadata": {},
   "outputs": [],
   "source": [
    "# Getting current URL source code \n",
    "get_source = driver.page_source\n",
    "time.sleep(2)"
   ]
  },
  {
   "cell_type": "code",
   "execution_count": 32,
   "metadata": {},
   "outputs": [],
   "source": [
    "# Scraping race names with BeautifulSoup\n",
    "soup = BeautifulSoup(get_source, 'html')\n",
    "#print(soup.h5)\n",
    "#soup.find_all('h5')"
   ]
  },
  {
   "cell_type": "code",
   "execution_count": 33,
   "metadata": {},
   "outputs": [
    {
     "name": "stdout",
     "output_type": "stream",
     "text": [
      "2100\n",
      "['New Year Ne Mountain Race 2021 2021 - Challenge - Solo 23.60 K', 'New Year Ne Mountain Race 2021 2021 - Challenge - Team 23.60 K', 'New Year Ne Mountain Race 2021 2021 - Elite - Solo 36.80 K', 'New Year Ne Mountain Race 2021 2021 - Elite - Team 36.80 K', 'Wuxi New Year Blessing Ultra Trail 2021 - Wuxi 25km 24.30 K', 'Hunting Trail 2021 - Black Bear 101.60 K', 'Hunting Trail 2021 - Sambar - 狩獵山徑-台灣水鹿 82.90 K', 'Hunting Trail 2021 -  Goat 47.90 K', 'San Tan Scramble 2021 - 50k 50.10 K', 'San Tan Scramble 2021 - 26k 26.00 K', 'Hunting Trail 2021 - Wild Boar 39.30 K', 'Country To Capital 2021 69.60 K', 'Vagamon Ultrail 2021 - 60k 60.30 K', 'Vagamon Ultrail 2021 - 90k 90.10 K', 'S1 Trail La Corsa Della Bora 2021 - S1 Night Trail 80 Km - 79.70 K', 'Hoka One One Bandera Endurance Trail Run 2021 - 100 Km 99.50 K', 'Hoka One One Bandera Endurance Trail Run 2021 - 50 Km 50.40 K', 'S1 Trail La Corsa Della Bora 2021 - S1 Challenge 120km 121.10 K', 'Montane® Spine® Races 2021 - Mrt Challenge 174.10 K', 'Montane® Spine® Races 2021 - Montane® Spine® Challenger 174.10 K', 'Taliharja Vanakuri Winter Ultra Endurance Race 2021 - Taliharja Vanakuri 102.00 K', 'S1 Trail La Corsa Della Bora 2021 - S1 Trail Half 21km 22.10 K', 'S1 Trail La Corsa Della Bora 2021 - S1 Trail 57 Km 57.30 K', 'S1 Trail La Corsa Della Bora 2021 - S1 Sprint 16 Km 15.90 K', 'S1 Trail La Corsa Della Bora 2021 - S1 Urban Eco Marathon 41.80 K', 'Trail Hivernal Des Coursières 2021 - 24 Km 24.00 K', 'Montane® Spine® Races 2021 - Montane® Spine® Race 420.30 K', 'Зимний Тракт 2021 - Winter Road - M 22.90 K', 'Зимний Тракт 2021 - Winter Trail - S 12.30 K', 'Xiamen（siming）city Trail Race 2021 - Amoy 50— 22km Trail Race 22.40 K', 'Xiamen（siming）city Trail Race 2021 - Amoy 50—50km Trail Race 50.50 K', 'Xiamen（siming）city Trail Race 2021 - Amoy 50—50km Trail Race 50.70 K', 'Hoka One One Bandera Endurance Trail Run 2021 - 25 Km 25.00 K', 'Luang Phayao 2021 - Luang Phayao Trail 105 104.50 K', 'Sandsjöbacka Trail 2021 - Ultra Triple 180.00 K', 'The Great Southern Alps Miler 2021 160.30 K', 'Hong Kong 100 2021 - Vibram Hong Kong 100 Half Virtual 56.00 K', 'Sandsjöbacka Trail 2021 - 60k 57.70 K', 'Christmas Cracker 2021 56.20 K', 'Ultra Trail Oso Negro 2021 - 70k 71.30 K', 'Ultra Trail Oso Negro 2021 - 100k 97.30 K', 'Ultra Trail Oso Negro 2021 - 50k 48.40 K', 'The James Stampede 2021 - The James High Country 100 100.00 K', 'The James Stampede 2021 50.00 K', 'Ultra Trail Oso Negro 2021 - 21k 21.10 K', 'Ultra Trail Oso Negro 2021 - 30k 30.10 K', 'Hong Kong 100 2021 - Vibram Hong Kong 100 Full Virtual 103.00 K', 'Luang Phayao 2021 - Luang Phayao Trail 66 65.60 K', 'Luang Phayao 2021 - Luang Phayao Trail 38 37.60 K', 'Luang Phayao 2021 - Luang Phayao Trail 29 28.50 K', 'Sandsjöbacka Trail 2021 - 90k 92.20 K', 'Guut100k+fun2021 2021 - Guut100+fun 102.00 K', 'Coldwater Rumble 2021 - 100 Miles 161.80 K', 'Coldwater Rumble 2021 - 52 Miles 84.80 K', 'Coldwater Rumble 2021 - 52 Km 52.50 K', 'Coldwater Rumble 2021 - 20 Mile 32.30 K', 'Fenix Trail Gran Canaria 2021 - Fénix Trail Larga 24.90 K', 'Long Haul 2021 - 100m 160.00 K', 'Lantau 2 Peaks 2021 - 23km Team Of Two 23.90 K', 'Lantau 2 Peaks 2021 - 23km Team Of Four 23.90 K', 'Gruissan Poli Trail 2021 - 50 Km 50.00 K', 'Superace Taiwan 2021 - 3 Days Elite Race Group 103.50 K', 'Winter Wychavon Way 2021 63.70 K', 'Trail Des Coccinelles 2021 - 20km 20.00 K', 'Hk50 - Hong Kong Island 2021 - 50km Individual 50.70 K', 'Hk50 - Hong Kong Island 2021 - 50km Team Of 2 50.70 K', 'Hk50 - Hong Kong Island 2021 - 50km Team Of 4 50.50 K', 'Tahura Djuanda Trail Running Race 2021 - 42 Km 42.60 K', 'Mountain Mist 2021 50.00 K', 'Houffatrail 2021 - 25km 23.20 K', 'Houffatrail 2021 - 50km 52.90 K', 'Evil Trail 2021 - Evil Trail 2021 - 34km 33.20 K', 'Evil Trail 2021 - Evil Trail 2021 - 57km 56.10 K', 'Senba Coastal Cliff Trail Running Race 2021 - Senba Coastal Cliff 36.70 K', 'Zakouma Safari Trail 2021 - Ultra Zakouma Trail 152.40 K', 'Zakouma Safari Trail 2021 - Zakouma Marathon 38.10 K', 'Salomon Hammer Trail Winter 2021 - Salomon Winter 21 Km 21.50 K', 'Ultrahuachi 2022 - 80k 80.00 K', 'Gotrun Winter Trail 2021 - \"dubble\" 144 Km 144.20 K', 'Gotrun Winter Trail 2021 - \"enkle\" 72 Km 71.50 K', 'Gotrun Winter Trail 2021 - \"korte\" 35 Km 35.00 K', 'The Westwind Trail 2021 - Yun Lai 77.40 K', 'The Westwind Trail 2021 - Doi Thong 59.00 K', 'The Westwind Trail 2021 - Sightseeing 31.90 K', 'The Westwind Trail 2021 - Mae Ping 11.20 K', 'The Westwind Trail 2021 - The Journey 120.60 K', 'The Westwind Trail 2021 - Hnd Downhill 43.20 K', 'Tahura Djuanda Trail Running Race 2021 - Team Marathon Trail 42.00 K', 'Trail Cruz Del Sur 2021 - Utcs 50k 50.00 K', 'Trail Cruz Del Sur 2021 - Utcs 30k 30.00 K', 'Zima Partizanskaya 2021 2021 - Ut68 68.10 K', 'Arches Ultra 2021 - 50mi 75.00 K', 'Arches Ultra 2021 - 50km 45.10 K', 'Arches Ultra 2021 - Halfmarathon 21.00 K', 'Arches Ultra 2021 - 9km 9.30 K', 'South Mountains Marathons 2021 - 50k 50.40 K', 'South Mountains Marathons 2021 - Marathon 42.65 K', 'Trail D2b 2021 - Trail D2b - Découverte 11.60 K', 'Trail D2b 2021 - Moyenne Distance 23.60 K', 'Trail Cruz Del Sur 2021 - Utcs 20k 20.00 K', 'Trail Cruz Del Sur 2021 - Utcs 12k 12.00 K', 'Ronda Ghibellina Trail 2021 - 45km 45.10 K', 'Ronda Ghibellina Trail 2021 - Plus 70km 70.80 K', 'Val D’aran By Utmb® 2021 - Qalp 14.00 K', 'Le Bélier Blanc 2021 - Trail 14 Km 14.00 K', 'Schinder-Trail® Winterparadies 2021 68.10 K', 'Happy Chinese New Year Run 2021 - 50k 48.30 K', 'Happy Chinese New Year Run 2021 - 100k 100.20 K', 'La Mythik 2021 41.30 K', 'La Mythik 2021 - La Mythik Yole 23.00 K', 'Hoka One One Rocky Raccoon 2021 - 100 Mile 160.90 K', 'Hoka One One Rocky Raccoon 2021 - 100km 101.30 K', 'Ultra  Maraton El Salvador 2021 - Ultraes 50km 48.00 K', 'Ultra  Maraton El Salvador 2021 - Ultra Maratón El Salvador 80km 81.00 K', 'Ultra  Maraton El Salvador 2021 - Ultraes 100km. 104.10 K', 'Górski Zimowy Maraton Ślężański 2021 - Maraton 42.90 K', 'Ultra Desafio Passa Quatro - Mg 2021 - Ud 80 Km 78.10 K', 'Ultra Desafio Passa Quatro - Mg 2021 - Ud 120 Km 117.10 K', 'Ultra Desafio Passa Quatro - Mg 2021 - Ud 35 Km 37.00 K', 'Ultra Desafio Passa Quatro - Mg 2021 - Ud 15 Km 20.50 K', 'Ultra Desafio Passa Quatro - Mg 2021 - Ud 55 Km 58.70 K', 'Elephant Mountain Trail Runs 2021 - 50 Km 49.60 K', 'Elephant Mountain Trail Runs 2021 - 35 Km 34.50 K', 'Elephant Mountain Trail Runs 2021 - 22 Km 21.70 K', 'Elephant Mountain Trail Runs 2021 - 50 Mile 79.40 K', 'Drielandenpunt Trail 2021 - 28km 27.20 K', 'Trail Des Mouflons 2021 - Le Grand Mouflon 42.20 K', 'Trail Des Mouflons 2021 - Le Petit Mouflon 23.40 K', 'Trail Givré 2021 23.20 K', 'Otw - Virtually Together 2021 98.90 K', 'Zakouma Safari Trail 2021 - Zakouma Trail 89.80 K', 'Geoparktrail 2021 - Geoparktrail 30k 26.50 K', 'Tjörnarparen - Trail Ultra 2021 - 50 Miles 81.10 K', 'Tjörnarparen - Trail Ultra 2021 - 100 Miles 162.90 K', 'Tjörnarparen - Trail Ultra 2021 - 50k 51.20 K', 'Tjörnarparen - Trail Ultra 2021 - 100k 102.30 K', 'Tarawera Ultramarathon 2021 - 100 Miler 165.40 K', 'Tarawera Ultramarathon 2021 - 102 Km 103.00 K', 'Rudawy Zimowy Festiwal Biegowy 2021 - Dziesiątka 10.70 K', 'Rudawy Zimowy Festiwal Biegowy 2021 - Dwudziestka 20.80 K', 'Rudawy Zimowy Festiwal Biegowy 2021 - Czterdziestka 43.30 K', 'Rudawy Zimowy Festiwal Biegowy 2021 - Sześćdziesiątka 60.40 K', 'Black Canyon Ultras 2021 - 60k 60.20 K', 'Black Canyon Ultras 2021 - 100k 99.90 K', 'Buzet Winter Trail 2021 - Buzet Winter Trail Green 27.50 K', 'Deccan Ultra 2021 - Deccan Ultra 115km 111.70 K', 'Deccan Ultra 2021 - Deccan Ultra 80km 80.80 K', 'Deccan Ultra 2021 - Deccan Ultra 30km 31.80 K', 'Deccan Ultra 2021 - Deccan Ultra 55km 57.40 K', 'Hoka One One Rocky Raccoon 2021 - 50 Mile 81.00 K', 'Hoka One One Rocky Raccoon 2021 - 50k 50.00 K', 'Cny Grand 3 Tour 2021 2021 - Grand 3 - Solo 26.70 K', 'Cny Grand 3 Tour 2021 2021 - Grand 3 - Team 26.70 K', 'Cny Grand 3 Tour 2021 2021 - Grand 2 - Solo 20.10 K', 'Cny Grand 3 Tour 2021 2021 - Grand 2 - Team 20.20 K', 'Stanghede Trail 2021 - 10 Miles 16.20 K', 'Storstenshöjden 100 Miles 2021 162.00 K', 'Storstenshöjden 100 Miles 2021 - Storstenshöjden 50 Miles 84.10 K', 'Old Ghost Ultra 2021 82.50 K', 'Hardmoors 2021 - Hardwolds 80 124.30 K', 'Ultra Trail Del Aconcagua 2021 - 60k 60.10 K', 'Ultra Trail Del Aconcagua 2021 - 100k 102.40 K', 'Ultra Trail Del Aconcagua 2021 - 42k 42.50 K', \"Métabief Snow Trail 2021 - La Hard'méta 15.80 K\", 'Ultra-Trail® Unseen Koh Chang 2021 - 70 Km 65.00 K', 'Ultra-Trail® Unseen Koh Chang 2021 - 100km 99.20 K', 'Gorce Ultra-Trail Winter 2021 - Gorce Ultra-Trail Winter 24 Km 24.60 K', 'Gorce Ultra-Trail Winter 2021 - Gorce Ultra-Trail Winter 42 Km 43.20 K', 'Gorce Ultra-Trail Winter 2021 - Gorce Ultra-Trail Winter 10 Km 9.50 K', 'Gorce Ultra-Trail Winter 2021 - Gorce Ultra-Trail Winter 34 Km 33.90 K', 'Buzet Winter Trail 2021 - Buzet Winter Trail Blue 27.90 K', 'Ice Trail 2021 - Ice Trail 51k 50.30 K', 'Ice Trail 2021 - Ice Trail Medium 28k 28.00 K', 'Ice Trail 2021 - Ice Trail Short 11k 11.30 K', 'N.E. Traverse 2021 2021 - Ne Traverse - Solo 39.30 K', 'N.E. Traverse 2021 2021 - Ne Traverse - Team 39.30 K', 'Fearless Dragon Trail Race 2021 - 20km 21.80 K', \"Ultra Tour Des Côtes D'armor 2021 - 90 Km 90.10 K\", \"Ultra Tour Des Côtes D'armor 2021 - Ultra Tour Côtes D'armor 60 Km 59.70 K\", \"Ultra Tour Des Côtes D'armor 2021 - Utca 32 Km 32.10 K\", 'Ultra-Trail® Unseen Koh Chang 2021 - 34km 34.60 K', 'Sanremo Trail &amp; Ultra Trail 2021 - Trail 32k 32.60 K', 'Trans-Baikal Snow Trail 2021 - 21 Km / 980m+  21.20 K', 'Sydney Trail Series - Feb 2021 2021 - Manly Dam - 21km 21.00 K', 'Ice Valdaice 2021 - Ice Half Marathon 21.30 K', 'Ice Valdaice 2021 - Ice Marathon 42.70 K', 'Ice Valdaice 2021 - 10 Km Ice Valdaice 10.00 K', 'Transgrancanaria Hg 2021 - Transgrancanaria 360º 239.80 K', 'Victoria 162 2021 - 3-Day Race Virtual 165.90 K', 'Victoria 162 2021 - L57 Virtual 57.50 K', 'Victoria 162 2021 - 3-Day Challenge 161.90 K', 'Transgrancanaria Hg 2021 - Classic 129.10 K', 'Translantau 2021 - 100km 103.30 K', 'Four Feathers Ultramarathon 2021 - Four Feathers 100km 90.20 K', 'Four Feathers Ultramarathon 2021 - Four Feathers 50km 47.00 K', '27 Kangas Mountain 2021 - Kangas Mountain Original Trail 31.80 K', '27 Kangas Mountain 2021 - Kangas Mountain Maxi Trail 56.80 K', '27 Kangas Mountain 2021 - Kangas Mountain Speed Trail 12.90 K', 'Victoria 162 2021 - N80 Virtual 81.60 K', 'Victoria 162 2021 - V162 Virtual 166.70 K', 'Victoria 162 2021 - V162 Team 162.80 K', 'Transgrancanaria Hg 2021 - Advanced 63.10 K', 'Transgrancanaria Hg 2021 - Maratón 41.30 K', 'Transgrancanaria Hg 2021 - Starter 29.30 K', 'Transgrancanaria Hg 2021 - Promo 17.10 K', 'Ultra Trail De La Sibérie - Be 2021 - Ultra Trail De La Siberie 100k 100.00 K', 'Ultra Trail De La Sibérie - Be 2021 - Ultra Trail De La Siberie - 75 75.20 K', 'Ultra Trail De La Sibérie - Be 2021 - Ultra Trail De La Siberie - 57 57.70 K', 'Salomon Hammer Trail Winter 2021 - Salomon Winter 42 Km 43.00 K', 'Salomon Hammer Trail Winter 2021 - Salomon Winter 63 Km 64.70 K', 'Salomon Hammer Trail Winter 2021 - Salomon Winter 84 Km 86.30 K', 'Translantau 2021 - 50km 50.10 K', 'Translantau 2021 - 25km 23.90 K', 'Buzet Winter Trail 2021 - Buzet Winter Trail Yellow 29.30 K', 'The 12 Peaks 2021 - The 12 Peaks - 56km 56.50 K', 'Victoria 162 2021 - H25 Virtual 26.80 K', 'Victoria 162 2021 - H50 53.00 K', 'Phu Suan Sai Trail 2021 - 75 Km Phu Suan Sai Trail 75.90 K', 'Phu Suan Sai Trail 2021 - 25 Km Phu Suan Sai Trail 26.00 K', 'Phu Suan Sai Trail 2021 - 14 Km Phu Suan Sai Trail 15.20 K', 'Buffalo Sunriser 2021 - Buffulo Sunriser 60km 60.40 K', 'Buffalo Sunriser 2021 - Buffalo Sunriser 32km 33.00 K', 'Nikola-Lenivets Winter Wild Trail 2021 - 21 Km 21.60 K', 'Nikola-Lenivets Winter Wild Trail 2021 - 11 Km 10.60 K', 'Nikola-Lenivets Winter Wild Trail 2021 - 42 Km 42.60 K', 'Ultra Trail Cerro Tinajita 2021 49.70 K', '3summits 2021 10.10 K', '3summits 2021 - 5summits 19.00 K', '3summits 2021 - 7summits 26.30 K', 'Xrun Tajemnicze Kopce 2021 - Tajemnicze Kopce 13 Km 13.40 K', 'Xrun Tajemnicze Kopce 2021 - 21 Km 21.40 K', 'The 9 Dragons Ultra 2021 - 50 Km 57.00 K', '100 Millas® Sierras Del Bandolero 2021 - Cmsb - 100 Millas 157.30 K', 'Uttgn Sport Hg | Tarragona 2021 - Gran Trail Catalunya 169.80 K', '100 Millas® Sierras Del Bandolero 2021 - Cmsb - Bandolerita 81.00 K', 'Top Of The Great Wall 2021 - The Top Of The Great Wall 100.00 K', 'Top Of The Great Wall 2021 - The Top Of The Great Wall 200.00 K', 'Huemules Challenge 2021 54.00 K', 'Trail Des 3 Châteaux Le Creusot 2021 - Ultra Combes 64.20 K', '100 Millas® Sierras Del Bandolero 2021 - Cmsb - Maraton Bandolera 39.30 K', 'Siuslaw Dunes 2021 - 50k 50.00 K', 'Siuslaw Dunes 2021 - 25k 25.00 K', 'Uttgn Sport Hg | Tarragona 2021 - Ultra Trail Costa Daurada 86.10 K', 'La Saintélyon Just In...Time 2021 - Saintélyon 73.80 K', 'La Saintélyon Just In...Time 2021 - Saintésprint 18.80 K', 'La Saintélyon Just In...Time 2021 - Saintétic 10.00 K', 'Mesquite Canyon 2021 - 50 Miles 80.30 K', 'Mesquite Canyon 2021 - 50 Km 49.50 K', 'Mesquite Canyon 2021 - 30 Km 30.60 K', 'Mesquite Canyon 2021 - 1/2 Marathon 20.30 K', 'Škraping Tkon Otok Pašman 2021 2021 - Škraping Ultra Trail Race 45.00 K', 'Trail Acantilados Del Norte 2021 28.40 K', 'La Sportiva Trail Del Marchesato 2021 - Trail Del Marchesato 60k 61.90 K', 'La Sportiva Trail Del Marchesato 2021 - Trail Del Marchesato 38k 39.40 K', 'Top Of The Great Wall 2021 - The Top Of The Great Wall 25.00 K', 'Top Of The Great Wall 2021 - The Top Of The Great Wall 50.00 K', 'Wangchan50 2021 - Wangchan25 25.40 K', 'Wangchan50 2021 50.70 K', 'Trail Des 3 Châteaux Le Creusot 2021 - Maratrail 45.70 K', 'Uttgn Sport Hg | Tarragona 2021 - Mitja Trail Ciutat Tarragona 22.00 K', \"Uttgn Sport Hg | Tarragona 2021 - Mini Trail De L'anella 11.10 K\", 'Champa Ultra Race Petzl - Salming 2021 - 37km 37.00 K', 'Champa Ultra Race Petzl - Salming 2021 - 50km 48.10 K', 'Champa Ultra Race Petzl - Salming 2021 - 68km + Bonus 79.30 K', 'Senpereko Trail 2021 - Gotorlekuen Itzulia 42km 42.60 K', 'Senpereko Trail 2021 - Tontorrez Tontor 80km 80.00 K', 'Ultra Trail Des Vallées 2021 - Utdv 115k Solo 113.90 K', 'Senpereko Trail 2021 - Ibar Run Trail 12.00 K', 'Indomit Pedra Do Baú 2021 - 50 Km 48.40 K', 'Indomit Pedra Do Baú 2021 - 35 Km 35.60 K', 'Indomit Pedra Do Baú 2021 - 21 Km 20.80 K', 'Indomit Pedra Do Baú 2021 - 12 Km 12.00 K', 'Indomit Pedra Do Baú 2021 - 80 Km 79.20 K', 'Bel Monte Endurance Races 2021 - 50m 83.90 K', 'Bel Monte Endurance Races 2021 - 50k 55.30 K', 'Bel Monte Endurance Races 2021 - 25k 26.30 K', 'Ultra Trail Des Vallées 2021 - Utdv 115k Duo Relai 1 61.30 K', 'Ultra Trail Des Vallées 2021 - Utdv 115k Duo Relai 2 54.30 K', 'Ultra Trail Des Vallées 2021 - Tdv 30 K 29.10 K', 'Buzet Winter Trail 2021 - Buzet Winter Trail Orange 30.00 K', 'Buzet Winter Trail 2021 - Buzet Winter Trail Pink 27.50 K', 'Six Foot Track Marathon 2021 45.00 K', 'Trail Del Marganai 2021 - Trail Del Marganai 36 Km 36.90 K', 'Trail Del Marganai 2021 - Trail Del Marganai 58 Km 59.70 K', 'Trail Del Marganai 2021 - Trail Del Marganai 22 Km 21.80 K', 'Ultra Trail Des Vallées 2021 - Tdv 60k 60.60 K', 'Ultra Trail Des Vallées 2021 - Tdv 10k 10.00 K', 'Fourmidable 2021 - 50k 50.10 K', 'Zimowy Półmaraton Gór Stołowych 2021 - Winter Halfmarathon 21.00 K', 'Polärtic 2.0 2021 - Polärtic 14 Km 13.70 K', 'Le Dernier Homme Debout 2021 - 24 Boucles 178.80 K', 'Senpereko Trail 2021 - Senpereko Trail 21km 20.90 K', \"L'ard Trail Raidlight 2021 - L'ard Trail 50.60 K\", 'Cordillera Trail Nv-X Sport 2021 - 10 Km Cordillera Trail 9.60 K', 'Cordillera Trail Nv-X Sport 2021 - 21 Km Cordillera Trail 21.40 K', 'Endurancelife | Sussex 2021 - Ultra 55.30 K', 'Surf2firth 2021 - Extreme Legends 54.50 K', 'Surf2firth 2021 - Extreme Toughness 45.80 K', 'Gulag-100 2021 98.50 K', 'Aurora Trail 2021 - Beam (10 Km) 9.40 K', 'Aurora Trail 2021 - Blazing Radiance (30 Km) 30.20 K', 'Aurora Trail 2021 - Crown (42 Km) 42.00 K', 'Trencacims Paüls 2021 - Ultra Trail Trencacims 73.40 K', 'Trencacims Paüls 2021 - Ultramarató Trencacims 52.00 K', 'Basecamp Run Kilyos 2021 - T30 Kartepe 41.80 K', 'Basecamp Run Kilyos 2021 - T50 Uludag 69.70 K', 'Basecamp Run Kilyos 2021 - T65 Hasandagi 90.60 K', 'Héroes Contra Duchenne 2021 - Maratón Héroes Contra Duchenne 54.10 K', 'Héroes Contra Duchenne 2021 - Trail Heroes Contra Duchenne 26.90 K', 'Héroes Contra Duchenne 2021 - Ultra Héroes Contra Duchenne 82.80 K', 'Andes Series 2021 - Cerro El Cristo Trail 27.90 K', 'Lament Świętokrzyski 2021 - L37 37.30 K', 'Lament Świętokrzyski 2021 - L84 84.20 K', 'Basecamp Run Kilyos 2021 - T40 Kartalkaya 55.70 K', \"Duncan's Run 2021 - Duncan's Run 50 Km 52.70 K\", \"Duncan's Run 2021 - Duncan's Run 21km 23.00 K\", \"Duncan's Run 2021 - Duncan's Run 100km 102.10 K\", 'Shatin Twin Peaks 2021 2021 - Shatin Twin Peaks - Solo 22.40 K', 'Shatin Twin Peaks 2021 2021 - Shatin Twin Peaks - Team 22.90 K', 'Trail D2b 2021 - Marathon Des Plages 41.40 K', 'Zimowy Maraton Bieszczadzki 2021 - Zimb 43k 42.50 K', 'Zimowy Maraton Bieszczadzki 2021 - Zimb 20k 19.80 K', 'Zimowy Maraton Bieszczadzki 2021 - Zimb 10k 10.00 K', 'Mingyue Mountrain Ultra Ttrail 2021 - 55km 50.00 K', 'Mingyue Mountrain Ultra Ttrail 2021 - 32km 30.00 K', 'Urrao Trail 2021 42.80 K', 'Urrao Trail 2021 21.08 K', 'Trencacims Paüls 2021 - Marxa Trencacims Paüls 12.90 K', 'Trencacims Paüls 2021 - Mitja Marató Trencacims 23.00 K', 'Montserrat Skyrace 2021 25.00 K', 'Sydney Trail Series - Mar 2021 2021 - Manly Dam - 21km 21.00 K', 'Sydney Trail Series - Mar 2021 2021 - Manly Dam - 30km 21.00 K', 'Montserrat Skyrace 2021 - Montserrat Express 13.20 K', 'Ultra X Sri Lanka 2021 250.00 K', 'Gaoligong Ultra 2021 - Exp 16.00 K', '300 - O Desafio 2021 300.00 K', '300 - O Desafio 2021 - Desafio 150  150.00 K', 'Trail Trashed Ultra 2021 - Trail Trashed - 50k 49.90 K', 'Vuriloche Skyrace Patagonia 2021 - 34k Vuriloche Skyrace Tronador 34.00 K', 'Gaoligong Ultra 2021 - Mgu 165.00 K', 'Badger Mountain Challenge 2021 - Badger Mountain 100 Mile 158.60 K', 'Gaoligong Ultra 2021 - Tht 54.90 K', 'Gaoligong Ultra 2021 - Tcz 35.00 K', 'Addo Elephant Trail Run 2021 - 100 Mile 161.20 K', 'Ultratrail Des 2 Côtes 2021 - Ultra Trail Des 2 Côtes 102.40 K', 'Lantau 50 2021 - 27km Individual 27.20 K', 'Lantau 50 2021 - 50km Individual 55.40 K', 'Trail Trashed Ultra 2021 - Trail Trashed - 26.2m 42.10 K', 'Rose Of The Shires Ultra 54 2021 87.00 K', 'Vuriloche Skyrace Patagonia 2021 - 36k Vuriloche Trail Blest 36.00 K', 'Vuriloche Skyrace Patagonia 2021 - 45k Vuriloche Skyrace Blest 45.00 K', 'Badger Mountain Challenge 2021 - Badger Mountain 50 Km 59.80 K', 'Badger Mountain Challenge 2021 - Badger Mountain 50 Mile 79.20 K', 'Gaoligong Ultra 2021 - Rce 130.00 K', 'Navyfrog Trail Challenges 2021 - Navyfrog Trail Challenges 25k 25.30 K', 'Coast To Coast Night Trail Ultra 2021 - Coast To Coast Ultra 50k 49.90 K', 'Coast To Coast Night Trail Ultra 2021 - Coast To Coast Ultra 70k 69.40 K', 'Salomon Hong Kong Dynamic 100km 2021 - Virtual Solo 100km 103.00 K', 'Salomon Hong Kong Dynamic 100km 2021 - Virtual Solo 50km 49.00 K', 'Crown King Scramble 2021 - 50k 49.80 K', 'Iremel Yarish 2021 27.80 K', 'Vodno-Matka Trail Marathon 2021 - Vodno-Matka Trail Marathon 42k 42.00 K', 'Vodno-Matka Trail Marathon 2021 - Vodno Trail 26k 26.00 K', 'La Diagonale Des Yvelines 2021 - Trail 44.00 K', 'La Diagonale Des Yvelines 2021 - Trail Court 17.00 K', 'La Diagonale Des Yvelines 2021 - Trail Long 84.00 K', 'La Diagonale Des Yvelines 2021 - Trail Decouverte 12.00 K', 'La Diagonale Des Yvelines 2021 - Relais 1 Défi Trio 40.00 K', 'La Diagonale Des Yvelines 2021 - Relais 2 Défi Trio 28.00 K', 'La Diagonale Des Yvelines 2021 - Relais 3 Défi Trio 17.00 K', 'Tababaire Trail 2021 - Tababaire Trail 21km 20.00 K', 'Tababaire Trail 2021 - Tababaire Trail 11km 11.00 K', 'Addo Elephant Trail Run 2021 - 76 Km 76.60 K', 'Addo Elephant Trail Run 2021 - 44 Km 43.90 K', 'Garmin Ultra Race Gdańsk 2021 - Gur52km 52.80 K', 'Garmin Ultra Race Gdańsk 2021 - Gur27km 27.00 K', 'Garmin Ultra Race Gdańsk 2021 - Gur12km 12.30 K', 'Trail Trashed Ultra 2021 - Trail Trashed - 13.1m 21.00 K', 'Ultratrail Des 2 Côtes 2021 - Trail Des 3 Lacs 49.60 K', 'Promina Trail 2021 - Mali Točak 22.20 K', 'Promina Trail 2021 - Veliki Točak 32.30 K', 'Lpa Trail 2021 - Lpa Media 12.80 K', 'Lpa Trail 2021 - Lpa Larga 21.00 K', 'Lpa Trail 2021 - Lpa Corta 5.00 K', 'Jabali Trail Algimia De Almonacid 2021 - Modalidad Corta 18.00 K', 'Mt.Daluo Trail 2021 - 32k 32.00 K', 'Volcano Ultramarathon Extreme 2021 - Volcano Ultramarathon 243.90 K', 'Trail Des Tranchées 2021 - Circuit Vaillant 54.80 K', 'Trail Des Piqueurs 2021 - 52 Km 52.00 K', 'Trail Des Piqueurs 2021 - 25km 26.00 K', 'Trail Du Kreiz Breizh 2021 - Tkb 18 18.40 K', 'Trail Du Kreiz Breizh 2021 - Tkb 66 66.20 K', 'Trail Du Kreiz Breizh 2021 - Tkb 28 28.10 K', 'Trail Du Kreiz Breizh 2021 - Tkb 10 10.00 K', 'Navyfrog Trail Challenges 2021 - Navyfrog Trail Challenges 50k 50.20 K', 'Coast To Coast Night Trail Ultra 2021 - Coast To Coast Ultra 25k 25.73 K', '5 Cims 2.0 2021 - 5 Cims 53 Km 53.80 K', '5 Cims 2.0 2021 - 5 Cims 28 Km 25.60 K', '5 Cims 2.0 2021 - 5 Cims 17 Km 17.50 K', '5 Cims 2.0 2021 - 5 Cims 10 Km 11.30 K', 'Vibram Maremontana 2021 - Trail 60 Km 61.70 K', 'Xtrail Series Run Mataró 2021 - Xtrail Series Run Xtrem 25.50 K', 'Xtrail Series Run Mataró 2021 - Xtrail Series Run Trail 15.00 K', 'Xrun Pani Mogiła 2021 - Pani Mogiła 32 Km 32.90 K', 'Xrun Pani Mogiła 2021 - Pani Mogiła 18 Km 17.90 K', 'Volcano Ultramarathon Extreme 2021 - Volcano 100 Millas 160.00 K', 'Volcano Ultramarathon Extreme 2021 - Volcano Trailmarathon 35.90 K', 'Totem Run Virtual 2021 - Totem Run Virtual Race 57.60 K', 'Bhatti Lakes Ultra 2021 - 160 Km 160.00 K', 'Bhatti Lakes Ultra 2021 - 220 Km 221.70 K', 'Bhatti Lakes Ultra 2021 - 338kms 338.60 K', 'Akamas Trail Running Festival 2021 - Trail 60k 60.60 K', 'Akamas Trail Running Festival 2021 - 38k 38.00 K', 'Akamas Trail Running Festival 2021 - Akamas Blossom 24k 24.10 K', 'Manchester To Liverpool Ultra 2021 80.90 K', 'Bhatti Lakes Ultra 2021 - 100 Km 100.00 K', 'Bhatti Lakes Ultra 2021 - 80 Km 80.00 K', 'Fish &amp; Sheep 2021 2021 - Fish &amp; Sheep 50km 50.80 K', 'Fish &amp; Sheep 2021 2021 - Fish &amp; Sheep 15km 15.80 K', 'Alanya Ultra 2021 - Keykubat Mountain Run 27.30 K', 'Alanya Ultra 2021 - Taurus Mountain Marathon 48.40 K', 'Alanya Ultra 2021 - Merrell Alanya Ultra 73.90 K', 'Colorado Desert Trail 2021 - Colorado Desert Trail 42 Km 41.90 K', 'Welcome Ultra 2021 - Welcome Ultra (long) 62.76 K', 'Welcome Ultra 2021 - Welcome Ultra (short) 51.80 K', 'River Aire Ultra 2021 76.70 K', 'Hutsul Trail 2021 - Sokolyne Oko 52.20 K', 'Hutsul Trail 2021 - Vyzhenka 23.40 K', 'Snowdonia Trail Challenge 2021 - Snowdonia Trail Marathon 42.60 K', 'Trail Rocacorba 2021 - Express Rocacorba 20.00 K', \"Trail Des 2 Amants 2021 - Noc'tda - 17km 16.70 K\", 'Wuxi Trail Challenge  Spring 2021 - 50 Km 51.00 K', 'Wuxi Trail Challenge  Spring 2021 - 30 Km 31.70 K', 'Leśnik Wiosna 2021 - Półleśnik Wiosna 25.30 K', 'La Tulle Brive Nature 2021 81.60 K', 'Trail Des Reculees 2021 - Les Tufs 33.10 K', 'Trail Des Reculees 2021 - Les Laves 50 Km 50.00 K', \"Trail Des Reculees 2021 - L'ermitage 22.30 K\", 'Trail Des Reculees 2021 - La Diane 15.40 K', 'Trail Rocacorba 2021 - Marathon Rocacorba 38.00 K', 'Trail Rocacorba 2021 30.00 K', 'Trail Rocacorba 2021 - Marathon Teams Rocacorba 38.00 K', 'Trail Des Cagous 2021 - Trail Sfac 50km 50.00 K', \"Trail Des 2 Amants 2021 - Gran'tda - 55km 54.40 K\", \"Trail Des 2 Amants 2021 - Aventur'tda - 25km 23.70 K\", 'Winter Trail Vino Timorasso 2021 - Winter Trail Del Vino Derthona 48.60 K', 'Salamandra Ultra Trail 2021 - Sut100 109.60 K', 'Ultra Sierra Nevada 2021 - Ultra 97.40 K', 'Patagonia Run 2021 - 100 Miles 163.70 K', 'Jiangnan 100 Mile 2021 - 100mile 161.00 K', 'Salamandra Ultra Trail 2021 - Sut50 49.60 K', 'Salamandra Ultra Trail 2021 - Sut25 25.50 K', 'Easter Challenge 2021 - Easter Challenge -50km 48.90 K', 'Zion 2021 - Zion 100 160.80 K', 'Zion 2021 - Zion 100k 102.50 K', 'Zion 2021 - Zion 50k 47.80 K', 'Zela Ultra Marathon 2021 - Zela Ultra Skyrunning 57.70 K', 'Coastal Ultra 2021 - Coastal Ultra - 70km 71.40 K', \"The Oner - Flippin' Hell 2021 134.20 K\", 'Kielder Ultra 2021 - 83k 83.80 K', 'Kielder Ultra 2021 - Kielder Ultra 50k 51.20 K', 'Kielder Ultra 2021 - Kielder 32k 32.70 K', 'Ultra Sierra Nevada 2021 - Trail 62.00 K', 'Ultra Sierra Nevada 2021 - Maratón 40.00 K', 'Les Vosgirunners Trails Nature 2021 - Challenge Des Seigneurs 96.00 K', 'Les Vosgirunners Trails Nature 2021 - Défi Des Seigneurs 73.00 K', \"Les Vosgirunners Trails Nature 2021 - L'intégrale Des Seigneurs 116.40 K\", \"Les Vosgirunners Trails Nature 2021 - L'intégrale Des Fous 145.90 K\", 'Les Vosgirunners Trails Nature 2021 - Utra Trail Des Seigneurs 104.50 K', 'Ultramaraton Kierunek Ultra Hańcza Vol.4 2021 - Ultra Hańcza 67 Km 66.20 K', 'Ultramaraton Kierunek Ultra Hańcza Vol.4 2021 - Ultra Hańcza 100 Km 101.90 K', 'Ultramaraton Kierunek Ultra Hańcza Vol.4 2021 - Cisowa Trail 25 Km 22.90 K', 'Patagonia Run 2021 - Patagonia Run 10k 13.80 K', 'Patagonia Run 2021 - Patagonia Run 21k 22.80 K', 'Patagonia Run 2021 - Patagonia Run 70k 74.40 K', 'Ultra Montseny 2021 - St Pere De Vilamajor-Viladrau 41.70 K', 'Ultra Montseny 2021 75.10 K', '“阿甘赛事，乐跑北京” 北京三峰国际越野赛 Beijing 2021 - “阿甘赛事，乐跑北京”2021北京三峰国际越野赛-21公里 21.00 K', '“阿甘赛事，乐跑北京” 北京三峰国际越野赛 Beijing 2021 - “阿甘赛事，乐跑北京”2021北京三峰国际越野赛-42公里 42.00 K', 'Jiangnan 100 Mile 2021 - 110km 107.00 K', 'Jiangnan 100 Mile 2021 - 50km 48.50 K', 'Jiangnan 100 Mile 2021 - 50mile 79.90 K', \"The Oner - Flippin' Hell 2021 - The Oner Half - Flippin’ Hell 72.00 K\", 'Ultra Trail Jinan 2021 - 60km 59.40 K', 'Leśnik Wiosna 2021 43.50 K', 'Leśnik Wiosna 2021 - Speed Wiosna 2021 15.50 K', 'Trójmiejski Ultra Track 2021 - Tut21 21.02 K', 'Trójmiejski Ultra Track 2021 - Tut68 68.00 K', 'Trójmiejski Ultra Track 2021 - Tut42 45.01 K', 'Cxm Ruta Del Agua - El Gergal 2021 34.70 K', 'Waa Hk Ne45 2021 - Waa Ne30 29.60 K', 'Zela Ultra Marathon 2021 - Zela Skyrunning 41.70 K', 'Zela Ultra Marathon 2021 - Zela Skyrace 22.00 K', 'Trail Sainte-Victoire 2021 - Les Crêtes 60.00 K', 'Trail Sainte-Victoire 2021 - Le Cézanne 40.00 K', 'Entre Dunes Et Bouchots 2021 - Le Grand Tra-Hillion 42.10 K', \"Entre Dunes Et Bouchots 2021 - L'ul-Tra-Hillion 69.20 K\", 'Ultra Sierra Nevada 2021 - Media 25.30 K', 'Les Vosgirunners Trails Nature 2021 - Grand Défi Des Vosges 43.40 K', 'Les Vosgirunners Trails Nature 2021 - La Mac Vi 25.40 K', 'Dagestan Wild Trail 2021 - 117 Km (floating Eagle) 119.10 K', 'Dagestan Wild Trail 2021 - 21 Km (highland Peaks) 21.50 K', 'Dagestan Wild Trail 2021 - 52 Km (sun Of The Mountain) 52.20 K', 'Trail Del Patriarca 2021 26.10 K', 'Dam Good Run 2021 - 26km 28.00 K', 'Dam Good Run 2021 - 40km 41.80 K', 'Ultra Trail Jinan 2021 - 25km 27.00 K', 'Tbilisi Trail Cup 2021 2021 - Tbilisi Adventure Run 22.80 K', 'Utah100 2021 - 2021utxk Spring Race-30km 30.00 K', 'Utah100 2021 - 2021utxk Spring Race-25km 25.00 K', '7. Bieg Kreta 2021 - Hardcore 377 Km 376.70 K', 'Iznik Challenge 2021 - Iznik Challenge - 100 Mile 164.70 K', 'Iznik Challenge 2021 - Iznik Challenge - 100k 106.20 K', '7. Bieg Kreta 2021 - Śnieżnik-Ślęża 148 Km 135.00 K', 'Costa Brava Stage Run 2021 - Cbsr85k 86.80 K', 'Costa Brava Stage Run 2021 - Cbsr125k 124.90 K', 'Trail N Loue 2021 - Trail Des Guilloux 10.30 K', 'Sandnes Ultratrail 2021 - Sandnes Ultratrail 100  Miles 163.70 K', 'Northern Traverse 2021 292.10 K', 'Lakes Traverse 2021 93.70 K', 'Desafío Caseríos De Anaga 2021 - Dca 15k 15.00 K', 'Desafío Caseríos De Anaga 2021 - Dca 62k 63.00 K', 'Desafío Caseríos De Anaga 2021 - Dca 37k 37.00 K', 'Vulcano Ultra Trail Series Malalcahuello 2021 - 32k 32.60 K', 'Vulcano Ultra Trail Series Malalcahuello 2021 - 70k 68.80 K', 'Vulcano Ultra Trail Series Malalcahuello 2021 - 15k 15.10 K', 'Ktr Campos Do Jordão 2021 - 42k 41.20 K', 'Ktr Campos Do Jordão 2021 - 21k 21.40 K', 'Butcombe Trail Ultra 2021 - Butcombe Trail Ultra 50 81.50 K', 'Butcombe Trail Ultra 2021 - Butcombe Trail Ultra 56 91.30 K', 'Napa Valley Endurance Run 2021 - 50 Km 50.00 K', 'Napa Valley Endurance Run 2021 - 35k 33.80 K', 'Napa Valley Endurance Run 2021 - 21k 21.50 K', 'Les Courses Du Mont-Terrible 2021 - Ultra Trail Du Mont-Terrible 106.00 K', 'Les Courses Du Mont-Terrible 2021 - Trail De Calabri 70.30 K', \"Les Courses Du Mont-Terrible 2021 - Trail D'outremont 50.80 K\", 'Trail N Loue 2021 - Trail Des Sources 18.00 K', 'Trail N Loue 2021 - Un Tour En Terre De Loue 70.70 K', 'Centurion South Downs Way 50 2021 80.00 K', 'Hurtwood 50k 2021 50.00 K', 'Österlen Spring Trail 2021 - Simris Alg Ultra 60k 58.70 K', 'Loud Thunder 50 2021 - 50 Mile 85.30 K', 'Loud Thunder 50 2021 - 50 Kilometer 50.00 K', 'Gotrail Todasana - 40 Km 2021 40.00 K', 'Gotrail Todasana - 40 Km 2021 - Gotrail Todasana - 25 Km 25.00 K', 'Sandnes Ultratrail 2021 - Sandnes Ultratrail 50 Miles 82.20 K', 'Swcp Trail Running Challenge 2021 - Swcp Trail Marathon Day 1 45.00 K', 'Championnat De Maurice 2021 30.10 K', 'Ouachita Trail 2021 - 50 Mile 80.50 K', 'Petzl Trail Plus 2021 - Trail De Las Antenas 9.60 K', 'Petzl Trail Plus 2021 - Trail De La Virgen 20.00 K', 'Petzl Trail Plus 2021 - Trail De La Casa Del Árbol 49.00 K', 'Petzl Trail Plus 2021 - Trail Del Volcán  78.50 K', 'Great Wall International Trail Challenge Race 2021 - 100k 97.80 K', 'Great Wall International Trail Challenge Race 2021 - 20k 21.60 K', 'Great Wall International Trail Challenge Race 2021 - 50k 47.90 K', 'Marató Terres De Lleida 2021 43.00 K', 'Entrecortijos 2021 - Ec 15 14.60 K', 'Entrecortijos 2021 - Ec 26 26.50 K', 'Les Courses Du Mont-Terrible 2021 - Trail De Pietchiesson 35.60 K', 'Trail N Loue 2021 - Trail Du Moine 33.60 K', 'Österlen Spring Trail 2021 - Verkeån Trail 21km+ 21.70 K', 'Signes Trail Sud Sainte Baume 2021 - La Trace Des Montrieux 30.00 K', 'La Romagnatoise 2021 - La Ronde Des Plateaux 36.10 K', \"La Romagnatoise 2021 - L'assaut De Gergovie 22.00 K\", 'La Romagnatoise 2021 - Romagnatorix 12.10 K', 'Maratón De Montaña La Fragua 2021 - Mm La Fragua Run 42.30 K', 'Swcp Trail Running Challenge 2021 - Swcp Trail Marathon Day 2 45.00 K', 'Utah100 2021 - 2021utyx-50km 53.50 K', 'Thur Trail 2021 - Le Rosseberg 27.00 K', 'Zhongshan50 Trail Running Race 2021 - 50k 49.10 K', 'Dorset Ooser 2021 - Dorset Ooser Marathon 44.00 K', 'Run Larapinta Stage Race 2021 - Run Larapinta - Malbunka 136.00 K', 'Aktivitus Trailrace 2021 - Ultra-Trail® 169.20 K', 'Ultra-Trail® Drakensberg 2021 - Utd 160 171.60 K', 'Tutan Transmantiqueira Ut Agulhas Negras 2021 - Tutan 75k 75.60 K', 'Tutan Transmantiqueira Ut Agulhas Negras 2021 - Tutan 100k  100.00 K', '3xkopa 2021 - 3xkopa - Maraton 42.00 K', '3xkopa 2021 - 3xkopa - Półmaraton 19.00 K', '3xkopa 2021 - 3xkopa - Ultramaraton 62.00 K', 'Le Radicatrail 2021 - Le Grand Défi 94.10 K', 'Le Radicatrail 2021 - Le Radicassant 126.20 K', 'Le Radicatrail 2021 - Le Super Défi 189.60 K', 'Le Radicatrail 2021 - Le Crazy Défi 207.20 K', \"Le Radicatrail 2021 - Le P'tit Défi 52.50 K\", 'Vietnam Trail Marathon 2021 - 42km 42.00 K', 'Vietnam Trail Marathon 2021 - Ultra 70km 72.00 K', 'Vietnam Trail Marathon 2021 - 21km 21.00 K', '101 Peregrinos 2021 103.10 K', 'Aktivitus Trailrace 2021 - Ultra-Race 63.20 K', 'Ultra Do Gaúcho - Udg 2021 - 50k Ultra Do Gaúcho 50.00 K', 'Trans Aubrac 2021 - Trail Du Capuchadou 52.60 K', 'Trans Aubrac 2021 - Ultra 105 Km 106.80 K', 'Trans Aubrac 2021 - Trans Aubrac Relais 1 22.60 K', 'Trans Aubrac 2021 - Trans Aubrac Relais 2 30.90 K', 'Trans Aubrac 2021 - Trans Aubrac - Relais 3 23.20 K', 'Trans Aubrac 2021 - Trans Aubrac - Relais 4 29.50 K', 'Vertical Last One Standing 2021 - 15-Vertical Last One Standing 82.50 K', 'Vertical Last One Standing 2021 - 20-Vertical Last One Standing 109.90 K', 'Vertical Last One Standing 2021 - 25-Vertical Last One Standing 137.50 K', 'Vertical Last One Standing 2021 - 30-Vertical Last One Standing 165.00 K', 'Louzantrail 2021 - Ultra Louzantrail 44.20 K', 'Louzantrail 2021 - Mini 17.60 K', 'La Bouillonnante 2021 2021 - La Bouillonnante - 50km 51.00 K', 'La Bouillonnante 2021 2021 - La Bouillonnante - 30km 30.10 K', 'Vertical Last One Standing 2021 - 35-Vertical Last One Standing 192.50 K', 'Beacons Marathon And Ultra - A 2021 - Beacons Ultra 75.50 K', 'Tutan Transmantiqueira Ut Agulhas Negras 2021 - Tutan 42k 42.00 K', 'Ultra-Trail® Drakensberg 2021 - Utd 100 110.10 K', 'Ultra-Trail® Drakensberg 2021 - Gcu 62 62.30 K', 'Ultra-Trail® Drakensberg 2021 - Sdr 32 32.30 K', 'Duerocche Trail 2021 - Storica Duerocche 15.30 K', 'Duerocche Trail 2021 - Cross Country Duerocche 12.80 K', 'Sinister Night Runs 2021 - 9k 9.10 K', 'Sinister Night Runs 2021 - 6k 6.10 K', 'Sinister Night Runs 2021 - 18k 18.20 K', 'Sinister Night Runs 2021 - 27k 27.30 K', 'Sinister Night Runs 2021 - 54k 54.40 K', 'The Canyons Endurance Runs 2021 - 100 Km 95.70 K', 'Trail Gordón 2021 23.50 K', 'Trail Gordón 2021 - 2x Trail Gordón 47.10 K', 'Namib Race By Racingtheplanet 2021 - Namib Race 257.00 K', 'Feleacu Running Hills 2021 - Feleacu Running Hills Combo 26.40 K', 'Le Radicatrail 2021 - Le Trail Intense 63.60 K', 'Le Radicatrail 2021 - Le Trail Légendaire 35.30 K', 'Louzantrail 2021 - Louzantrail Longo 30.10 K', 'A La Conquete Des Avaloirs 2021 - Trail 50km 49.40 K', 'Olympus Trail - Rogkas 2021 - Rogkas 26.30 K', 'Beacons Marathon And Ultra - A 2021 - Beacons Trail Marathon 42.60 K', 'Sougliani Trail 2021 24.80 K', 'Sougliani Trail 2021 - Sougliani Path 12.00 K', 'Duerocche Trail 2021 - Ultra Trail Duerocche 50.20 K', 'Duerocche Trail 2021 - Trail 21 Km 20.80 K', 'Ishioka Trailrun Race 2021 - Super Long 45.40 K', 'Trail Du Laudon 2021 - Trail De La Bauche 23.16 K', 'Trail Du Laudon 2021 - Trail De La Cochette 34.60 K', 'Trail Du Laudon 2021 - Trail Des Charmettes 12.30 K', 'Kodzha Kaya 2021 - 42km 41.90 K', 'Kodzha Kaya 2021 - 75km 74.00 K', \"The South Downs Way Devil's Challenge 2021 151.90 K\", 'Ferriere Trail Festival 2021 - Tvgt, Three Valleys Gt, 101 Km 102.10 K', 'Dingneng Wang Trail Marathon 2021 - Marathon 41.50 K', 'Vinninge Ultra Trail 2021 - Vinninge Ultra 127 128.10 K', 'Wilsons Prom 100 2021 97.40 K', 'Trail Du Grand Ballon 2021 - 48km 47.60 K', 'Trail Du Grand Ballon 2021 - 70km 70.50 K', 'Isle Of Wight Challenge 2021 107.20 K', 'Isle Of Wight Challenge 2021 - Isle Of Wight - 1st Half 52.60 K', 'Travesia De Los Cerros 2021 - 8k 8.70 K', 'Travesia De Los Cerros 2021 - 12k 11.90 K', 'Travesia De Los Cerros 2021 - 21k 21.50 K', 'Travesia De Los Cerros 2021 - 42k 43.20 K', 'Travesia De Los Cerros 2021 - 60k 60.20 K', 'Ferriere Trail Festival 2021 - Ctr, Carevolo Trail Race, 31km 30.80 K', 'Ferriere Trail Festival 2021 - Fcr, Ferriere Classic Ring, 54 56.30 K', 'Tanz In Den Mai 2021 - Tanz In Den Mai - 12-13 Loops 66.00 K', 'Tanz In Den Mai 2021 - Tanz In Den Mai - 14-17 Loops 77.40 K', 'Tanz In Den Mai 2021 - Tanz In Den Mai - 18-21 Loops 99.60 K', 'Tanz In Den Mai 2021 - Tanz In Den Mai - 22-26 Loops 121.70 K', 'Tanz In Den Mai 2021 - Tanz In Den Mai - 27-33 Loops 149.40 K', 'Tanz In Den Mai 2021 - Tanz In Den Mai - 34+ Loops 188.10 K', 'East Devon Round 2021 100.00 K', 'Rutland Ultra 2021 119.20 K', 'North Downs Ridge 50k 2021 50.00 K', 'Xterra Malta Gozo Ultra Trail 2021 - 50k Trail 53.70 K', 'Porto Santo Nature Trail® 2021 2021 - Porto Santo Nature Trail  45.70 K', 'Porto Santo Nature Trail® 2021 2021 - Trail Do Porto Santo 22.70 K', 'Porto Santo Nature Trail® 2021 2021 - Mini Trail Do Porto Santo  7.90 K', 'One&amp;1 Run To Camp 2021 83.10 K', 'Ultra Scotland 2021 - Ultra Scotland 100 172.90 K', 'Ultra Scotland 2021 - Ultra Scotland 50 88.60 K', 'Farm Olea Backyard Ultra 2021 - T24 Loops 162.30 K', 'Farm Olea Backyard Ultra 2021 - T30 203.00 K', 'Trail Des Châteaux 2021 31.20 K', 'Trail Des Cisterciens 2021 - 65km 64.80 K', 'Trail Des Cisterciens 2021 - Ultra Cisterciens 100k 101.60 K', 'Yarikan100 2021 162.79 K', 'Iu - Istanbul Ultra 2021 - 101 K 102.60 K', 'Iu - Istanbul Ultra 2021 - 30 K 30.40 K', 'Iu - Istanbul Ultra 2021 - 60k 60.00 K', 'Mosor Grebbening 2021 - Sivonja 37.50 K', 'Mosor Grebbening 2021 - Tovar 17.00 K', 'Bó Trail 2021 39.40 K', 'Bó Trail 2021 150.40 K', 'Bó Trail 2021 188.40 K', '“阿甘赛事，乐跑北京”京西古道国际越野赛 Beijing 2021 - “阿甘赛事，乐跑北京”2021京西古道国际越野赛-28km 28.70 K', 'Ultra Trail Serra De Montsant 2021 - Half Trail Serra Montsant 57.40 K', 'Ultra Trail Serra De Montsant 2021 - Montsant Stage Race 82.00 K', '100 Miles Of Beskid Wyspowy 2021 160.90 K', '100 Miles Of Beskid Wyspowy 2021 - 40 Miles 68.49 K', 'Wilsons Prom 100 2021 - Wilsons Prom 60km 59.70 K', 'Trail Du Grand Ballon 2021 - 32km 32.00 K', 'Trail Du Grand Ballon 2021 - 22km 21.90 K', 'Isle Of Wight Challenge 2021 - Isle Of Wight -2nd Half 53.90 K', \"Tra'zille 2021 - Ultra Trail Du Minervois 82.20 K\", \"Tra'zille 2021 - Petit Baigneur 11.70 K\", \"Tra'zille 2021 - La Serre 25.10 K\", 'Eroica Nicolosi Etna 2021 - Trail Delle Lave Di Nicolosi 24.20 K', 'Trail Des Cisterciens 2021 - 21km 21.70 K', 'Trail Des Cisterciens 2021 - 36km 36.30 K', 'Sydney Trail Series - May 2021 2021 - Manly Dam - 21km 21.00 K', 'Bó Trail 2021 63.70 K', 'Bó Trail 2021 97.10 K', 'Ultra Trail Serra De Montsant 2021 - Trail Serra Montsant 24k 24.00 K', 'Ultra Trail Serra De Montsant 2021 - Trail Serra Montsant 10k 10.00 K', 'Utvv Slovenia 2021 - Utvv Slovenia - Emperor 160 Km 165.00 K', 'Buts Gasteiz Iruñea 2021 - Buts Gasteiz-Iruñea 131.90 K', 'Endurancelife | South Devon 2021 - Ultra 54.40 K', 'Utvv Slovenia 2021 - Utvv Slovenia - Gladiator 50 K 53.40 K', 'Utvv Slovenia 2021 - Utvv Slovenia-Centurion 100 K 114.70 K', 'Warneland 2021 - Warneland W50+ 53.10 K', 'Warneland 2021 - Warneland W100+ 101.20 K', 'Warneland 2021 - Warneland W100+ Couple 101.20 K', 'Trail Des Coursières 2021 - Ultra - 111 Km 111.10 K', 'Trail Des Coursières 2021 - 53 Km 53.70 K', 'Trail Des Coursières 2021 - 25km 24.50 K', 'Trail Des Coursières 2021 - 11km 11.40 K', 'Centurion Thames Path 100 2021 161.30 K', 'Snowdon Skyline 2021 - Snowdon Vk 5.60 K', 'Snowdon Skyline 2021 - Copper Trail 21.30 K', 'The Dales High Way 2021 - Dales High Way + High Cup Nick 166.00 K', 'The Dales High Way 2021 144.50 K', 'Ultra X 125 Scotland 2021 125.20 K', 'Jura Swiss Trail 2021 - Cabri 19k 20.40 K', 'Jura Swiss Trail 2021 - Chamois 55k 55.80 K', 'Jura Swiss Trail 2021 - Eterlou 35k 35.10 K', 'Chiltern Ridge Ultra Trail 2021 50.90 K', 'Corfu Mountain Trail 2021 - Ultra 110 Km 110.02 K', 'Corfu Mountain Trail 2021 - Rain Trail 40 Km 40.00 K', 'Buts Gasteiz Iruñea 2021 - Gasteiz-Iruñea Buts Txiki 77.40 K', 'Périgord Grand Trail 2021 - Ultra Du Périgord 87.20 K', 'Périgord Grand Trail 2021 - Trail Des Bastides  46.40 K', 'Course De La Résistance 2021 - Trail 30km 33.10 K', 'Quad Rock 2021 - 50mi 80.90 K', 'Quad Rock 2021 - 25mi 40.50 K', 'Chiemgau Trail Run 2021 - Trail Run 42k 42.00 K', 'Chiemgau Trail Run 2021 - Trail Run 21k 21.80 K', 'Chiemgau Trail Run 2021 - Trail Run 60k 61.00 K', 'Chiemgau Trail Run 2021 - Chiemgau Trail Run 10k 10.70 K', 'Quicksilver Endurance Runs 2021 - Quicksilver 50k 50.00 K', 'The Lap - Spring Forward 2021 75.90 K', 'Utvv Slovenia 2021 - Utvv Slovenia - Legionar 30 K 33.10 K', 'Snowdon Skyline 2021 - Snowdon Skyrace 36.40 K', 'Snowdon Skyline 2021 - Snowdon Skyrace (bad Weather) 32.20 K', 'Ultra X 50 Scotland 2021 50.30 K', 'Corfu Mountain Trail 2021 - Olive Tree Trail 20 Km 20.01 K', 'Corfu Mountain Trail 2021 - Quick Trail 10 Km 10.00 K', 'Trail Bem Viver 2021 - Trail Longo 22k 20.80 K', 'Trail Bem Viver 2021 - Ultra Trail 45k 45.50 K', 'Trail Du Moucherotte 2021 - Trail Du Moucherotte 40km 40.00 K', 'Trail Du Moucherotte 2021 - Trail Du Moucherotte 20km 20.00 K', 'Trail Du Moucherotte 2021 - Trail Du Moucherotte 11km 11.00 K', 'Vibram Trail Mottarone 2021 20.00 K', 'Trail Des Forts De Besançon 2021 - 53 Km 46.90 K', 'Trail Des Forts De Besançon 2021 - 28 Km 27.40 K', 'Trail Des Forts De Besançon 2021 - 19 Km 18.80 K', 'Xrun Złotopień 2021 - Złotopień 26 Km 26.80 K', 'Xrun Złotopień 2021 - Złotopień 16 Km 16.40 K', '3 Islands Trail Race Virtual Race 2021 - 2 Islands Trail Race Vr Solo 21.40 K', '3 Islands Trail Race Virtual Race 2021 - 3 Islands Trail Race Vr Pairs 32.40 K', '3 Islands Trail Race Virtual Race 2021 - 3 Islands Trail Race Vr Solo 32.70 K', '3 Islands Trail Race Virtual Race 2021 - 1 Islands Trail Race Vr Solo 11.10 K', '3 Islands Trail Race Virtual Race 2021 - 2 Islands Trail Race Vr Pairs 21.70 K', \"Volvic Volcanic Expérience 2021 - L'expérience Grande Traversée 224.00 K\", 'Danish Ultra 2021 - Fyn Ultra 2021 352.00 K', 'Volvic Volcanic Expérience 2021 - Ultra-Trail Terra Volcana 88.00 K', 'Volvic Volcanic Expérience 2021 - Trail Expérience Impluvium 43.00 K', 'Volvic Volcanic Expérience 2021 - Trail Expérience  Volcanique 25.00 K', 'Volvic Volcanic Expérience 2021 - Ultra Trail Expérience - Chaîne Des Puys - Faille De Limagne 118.00 K', 'Volvic Volcanic Expérience 2021 - Trail Expérience Pierre De Lave 15.00 K', 'Cruel Jewel 2021 - Cruel Jewel 100 178.10 K', 'Ultra-Trail® Australia 2021 - Uta22 21.60 K', 'Trail De Haute Provence 2021 - Citatrail 10.20 K', 'Sardinia Trail 2021 101.50 K', 'The Old Forest Hanmer 100 2021 - 50mile 80.47 K', 'Chianti Trail Ultra 2021 - Cmt Chianti Marathon Trail 42k 42.30 K', 'Chianti Trail Ultra 2021 - Cst Short Trail 15k 15.00 K', 'Chianti Trail Ultra 2021 - Cut Chianti Trail Ultra 73k 73.00 K', 'Absolute Biokovo Challenge 2021 - Extreme Challenge 44.45 K', 'Five Rivers Ultra 2021 167.10 K', 'Four Rivers Ultra 2021 114.10 K', 'Three Rivers Ultra 2021 82.10 K', 'Cruel Jewel 2021 - Cruel Jewel 50 95.10 K', 'Jurassic Coast Challenge 2021 - 100km Challenge 99.80 K', 'Jurassic Coast Challenge 2021 - Jurassic Coast -1st Half 60.30 K', 'Jurassic Coast Challenge 2021 - Jurassic Marathon 43.40 K', 'Chianti Trail Ultra 2021 - Cht Chianti Trail 20k 20.30 K', 'Ultra-Trail® Australia 2021 - Uta100 100.00 K', 'Ultra-Trail® Australia 2021 - Uta50 50.20 K', 'Thracian Ultra 50 2021 50.10 K', 'Thracian Ultra 50 2021 - Yagodina Cave Ultra 95 95.00 K', 'Trail De Haute Provence 2021 - Cap À Lure 81.50 K', 'Trail De Haute Provence 2021 - Marathon De Lure 44.60 K', 'Trail De Haute Provence 2021 - Les Bories 27.40 K', 'Trail De Haute Provence 2021 - Les Mourres 15.50 K', 'Trail De Haute Provence 2021 - Thp Nordic 15.50 K', 'Trail De Haute Provence 2021 - Ultra De Provence 150.30 K', 'Trail De Haute Provence 2021 - Ultra - Itinéraire Bis 01 103.90 K', 'Trail De Haute Provence 2021 - Ultra - Itinéraire Bis 02 135.90 K', 'Smith Rock Ascent 2021 - 50 Km 49.60 K', 'Le Porte Di Pietra 2021 73.60 K', 'Le Porte Di Pietra 2021 - Le Finestre Di Pietra 37.50 K', 'Tahtali Run To Sky 2021 - Berg Sky Race 59.00 K', 'Tahtali Run To Sky 2021 - Run To Sky 27.60 K', 'Tahtali Run To Sky 2021 - Ultra Sky 116.00 K', 'Garda Trentino Trail 2021 60.00 K', 'Garda Trentino Trail 2021 - Ledro Trail 42.00 K', 'Garda Trentino Trail 2021 - Tenno Trail 30.00 K', 'Garda Trentino Trail 2021 - Garda Trentino Run 11.00 K', 'Drewhome Beskidzki Topor 2021 - Toporek 25 Km 25.70 K', 'Drewhome Beskidzki Topor 2021 - Ultra 72 Km 73.50 K', 'Drewhome Beskidzki Topor 2021 - Topór 43 Km 43.20 K', 'Drewhome Beskidzki Topor 2021 - Toporna Setka 104 Km 105.90 K', 'Cloud Ultra 2021 - Cloud Ultra 73km 73.00 K', 'Cloud Ultra 2021 - Cloud Ultra 58km 58.00 K', 'Formentera All Round Trail 2021 74.00 K', 'Formentera All Round Trail 2021 - Half Round Trail 40.00 K', 'Absolute Biokovo Challenge 2021 - Sky Challenge 26.40 K', 'Absolute Biokovo Challenge 2021 - Vertical Challenge 5.10 K', 'Jurassic Coast Challenge 2021 - Jurassic Coast -2nd Half 39.40 K', \"Trail De L'ile Rouge Madagascar 2021 121.70 K\", 'Northants Ultra 2021 55.70 K', 'Trail De Chimay 2021 - 48km 48.60 K', 'Trail De Chimay 2021 - 27km 26.80 K', 'Trail De Haute Provence 2021 - Thp Solidaire 7.80 K', 'Trail So Bugey 2021 - 19km 19.30 K', 'Trail So Bugey 2021 - 33km 33.90 K', 'Trail So Bugey 2021 - 54km 54.20 K', 'Aude Trails Cathares 2021 - Trail Des Seigneurs 49km 48.70 K', 'Aude Trails Cathares 2021 - Trail De Queribus 20.80 K', 'Aude Trails Cathares 2021 - Trail Des Seigneurs 32km 32.83 K', 'Aude Trails Cathares 2021 - Trail Des Donjons 71.00 K', 'Trail Dei Monti Sicani 2021 24.90 K', 'Smith Rock Ascent 2021 - 15 Mile 23.70 K', 'Penna Trail Run 2021 33.00 K', 'Trail Du Domaine De Torf 2021 - Maratrail Du Domaine De Torf 40.50 K', 'Okushimanto Trailrace In Matubagawa 2021 - 36km 36.20 K', 'Jingxigudao 2021 - Beijing West Trail 2021 - 50km 51.00 K', 'Jingxigudao 2021 - Beijing West Trail 2021 - 25km 24.00 K', 'Trail Du Coureur Des Bois 2021 - Trail Du Coureur Des Bois 34km 34.00 K', 'Ultramaratona Caminhos De Caravaggio 2021 - U M C C 217km Solo 218.60 K', 'Ultra Trail Bosques Del Sur 2021 97.70 K', 'Ultra-Trail® Malopolska 2021 - Utm 170 171.80 K', 'Ultra-Trail® Malopolska 2021 - Utm 105 103.20 K', 'Ultra-Trail® Malopolska 2021 - Utm 240 246.60 K', 'West Macs Monster 2021 - 231km Sonder Monster 231.00 K', 'Ultra Boucle De La Sarra 2021 - Boskoop Talc 75.90 K', 'Ultra Boucle De La Sarra 2021 - Braeburn Talc 90.60 K', 'Ultra Boucle De La Sarra 2021 - Fuji Talc 111.80 K', 'Ultra Boucle De La Sarra 2021 - Golden Talc 141.30 K', 'Festiwal Biegowy Ultra Way 2021 - W Blasku Księżyca 100 Km+ 100.50 K', 'Emmtrc 2021 2021 - Mountain Running Championships 9.50 K', 'Grand Trail Des Lacs Et Chateaux (gtlc) 2021 - Gt160 165.30 K', 'Greenweez Maxi-Race 2021 - Maxi-Race 82.00 K', 'Greenweez Maxi-Race 2021 - Xl-Race 90.00 K', 'Greenweez Maxi-Race 2021 - Ultra-Race 108.00 K', 'Greenweez Maxi-Race 2021 - Femina Race 16.50 K', 'Greenweez Maxi-Race 2021 - Xxl-Race 115.00 K', 'Metsovo Ursa Trail 2021 - Ursa Trail 40 Km 41.30 K', 'Metsovo Ursa Trail 2021 - Ursa Trail 21km 21.70 K', 'Fiambala Desert Trail 2021 - Ultra Desert Trail 50 50.00 K', 'Fiambala Desert Trail 2021 - Desert Trail 35 35.00 K', 'Grand Trail Des Lacs Et Chateaux (gtlc) 2021 - Gt85 84.30 K', 'Grand Trail Des Lacs Et Chateaux (gtlc) 2021 - Gt42 42.80 K', 'Grand Trail Des Lacs Et Chateaux (gtlc) 2021 - Gt20 20.60 K', 'Grand Trail Des Lacs Et Chateaux (gtlc) 2021 - Gt16 15.90 K', 'Viking Ultra Iceland 2021 118.10 K', 'Nuts Karhunkierros 2021 - 55k 57.00 K', 'Nuts Karhunkierros 2021 - 83k 85.20 K', 'Nuts Karhunkierros 2021 - 34k 34.80 K', '2. Halden Mohikaner 2021 - 100km Mohikaner 100.70 K', '2. Halden Mohikaner 2021 - 143,75km Mohikaner 144.70 K', '2. Halden Mohikaner 2021 - 50km Mohikaner 50.30 K', '2. Halden Mohikaner 2021 - Mohikaner Volle Packung 207.00 K', '2. Halden Mohikaner 2021 - 168,75km Mohikaner 170.00 K', '2. Halden Mohikaner 2021 - 125km Mohikaner / 2021 125.00 K', 'Festiwal Biegu Rzeźnika 2021 - Bieg Rzeźnika 80k 82.70 K', 'Festiwal Biegu Rzeźnika 2021 - Bieg Rzeźnika 100k (hardcore) 107.70 K', 'Festiwal Biegu Rzeźnika 2021 - Bieg Rzeźnika Ultra 105k 107.70 K', 'Festiwal Biegu Rzeźnika 2021 - Rzeźniczek 28.00 K', 'Festiwal Biegu Rzeźnika 2021 - Bieg Rzeźnika Sky 47.60 K', 'Festiwal Biegu Rzeźnika 2021 - Dycha Na Jeleni Skok 11.00 K', 'Ultra Trail Causses Et Vallées Lot  Dordogne 2021 - Ultra Trail Val. Lot Dordogne 179.80 K', 'Ultra Trail Causses Et Vallées Lot  Dordogne 2021 - Ultra Trail Relais 1 Vld 41.90 K', 'Ultra Trail Causses Et Vallées Lot  Dordogne 2021 - Ultra Trail Relais 2 Vld 46.70 K', 'Ultra Trail Causses Et Vallées Lot  Dordogne 2021 - Ultra Trail Relais 3 Vld 47.50 K', 'Ultra Trail Causses Et Vallées Lot  Dordogne 2021 - Ultra Trail Relais 4 Vld 43.40 K', 'West Highland Way Challenge Race 2021 150.10 K', 'Zúmbadortrail 2021 - Maraton 43.10 K', 'Trail Des Pyramides Noires 2021 - Formule Ultra  112.70 K', 'Trail Des Pyramides Noires 2021 - Formule 55 Km 55.50 K', 'Trail Des Pyramides Noires 2021 - Tpn 35 35.80 K', 'Brecon Beacons Trail Challenge 2021 - Brecon Beacons Trail Marathon 43.10 K', 'Brecon Beacons Trail Challenge 2021 - Brecon Beacons Trail Ultra 52.20 K', 'Quartrail Des Alpages 2021 - 50k 52.40 K', 'Quartrail Des Alpages 2021 - 26k 26.60 K', 'Molde 7 Topper Ultra 2021 50.00 K', 'La Ferme Trail 2021 23.90 K', 'Kumagawa Rivaval Trail 2021 - Kumagawa Course 164.90 K', 'Kumagawa Rivaval Trail 2021 - Kawabegawa Course 99.10 K', 'Innsbruck Alpine Trailrun Festival 2021 - K85 79.20 K', 'Innsbruck Alpine Trailrun Festival 2021 - K110 108.00 K', 'Kandovan Skyrace 2021 - Kandovan Skyrace 46km Virtual 46.00 K', 'Kandovan Skyrace 2021 - Kandovan Skyrace  25km Virtual 25.00 K', 'Otso Trail Menorca Cami De Cavalls Cdc 2021 - Trekking Costa Sud 42.90 K', 'Otso Trail Menorca Cami De Cavalls Cdc 2021 - Trail Menorca Cami De Cavalls 184.90 K', 'Otso Trail Menorca Cami De Cavalls Cdc 2021 - Costa Nord 96.40 K', 'Otso Trail Menorca Cami De Cavalls Cdc 2021 - Trail Menorca Cdc - Teams 185.00 K', 'Ultra Trail Bosques Del Sur 2021 - Maratón Bosques Del Sur 50.40 K', 'Ultra Trail Bosques Del Sur 2021 - Media Maratón Bosques Del Sur 24.60 K', 'Ultra-Trail® Malopolska 2021 - Utm 64 61.30 K', 'Ultra-Trail® Malopolska 2021 - Utm 45 45.60 K', 'Ultra-Trail® Malopolska 2021 - Utm 35 36.40 K', 'West Macs Monster 2021 - 128km Ellery Monster 128.00 K', 'Grand Raid 73 2021 74.40 K', 'Grand Raid 73 2021 - Petit Savoyard 23.70 K', 'Torgon Portes Du Soleil 2021 - 31k Sky 31.20 K', 'Torgon Portes Du Soleil 2021 - 12 K 11.80 K', 'Torgon Portes Du Soleil 2021 - 20 K 19.50 K', 'Centurion North Downs Way 50 2021 81.50 K', 'Trail De La Valserine 2021 - Trail De La Valserine Boucle 1 13.30 K', 'Trail De La Valserine 2021 - Trail De La Valserine Boucle 2 27.50 K', 'Trail De La Valserine 2021 - Trail De La Valseine Boucle 3 55.40 K', 'Trail De La Valserine 2021 - Trail De La Valserine Boucle 4 63.80 K', 'Trail De La Valserine 2021 - Trail De La Valserine Boucle 5 75.40 K', 'Trail De La Valserine 2021 - Trail De La Valserine Boucle 6 87.30 K', 'Trail De La Valserine 2021 - Trail De La Valserine Boucle 7 105.50 K', 'Trail De La Valserine 2021 105.50 K', 'Festival De Trail Eec Engie 21 2021 - Utnc 133k 2021 134.20 K', 'Innsbruck Alpine Trailrun Festival 2021 - K42 42.70 K', 'Innsbruck Alpine Trailrun Festival 2021 - K65 61.40 K', 'Festival De Trail Eec Engie 21 2021 - Trail Endurance Shop Nc 2021 70.30 K', 'Eroica Nicolosi Etna 2021 50.30 K', 'Soria Moria Til Verdens Ende 2021 - Sande Til Verdens Ende 83.10 K', 'Soria Moria Til Verdens Ende 2021 168.60 K', 'Dağyenice Ultra Trail 2021 13.60 K', 'Dağyenice Ultra Trail 2021 - 32km 32.70 K', 'Dağyenice Ultra Trail 2021 - 60km 59.70 K', 'Adrenaline Night Runs 2021 - Adrenaline 50k 49.10 K', 'Adrenaline Night Runs 2021 - Adrenaline 25k 24.50 K', 'Trail Des Goyaves 2021 25.50 K', 'Otso Trail Menorca Cami De Cavalls Cdc 2021 - Costa Sud 83.70 K', 'Ultra X Spring Trail Series 2021 - Spring Trail Series 50k 49.90 K', 'Ultra X Spring Trail Series 2021 - Spring Trail Series 100k 100.00 K', 'Dalian 100 Ultra Endurance Race 2021 - 100km 106.40 K', 'Dalian 100 Ultra Endurance Race 2021 - 50km 51.20 K', 'Dalian 100 Ultra Endurance Race 2021 - 20km 24.10 K', 'Trail De Guerledan 2021 63.00 K', 'Jemez Mountain Trail Runs 2021 - Jmtr 50 K 50.00 K', 'Jemez Mountain Trail Runs 2021 - Jmtr 50 Mile 85.80 K', 'Desafío Ansilta 2021 - Marathon (50k) 49.20 K', 'Desafío Ansilta 2021 - Ultra Marathon (75k) 75.60 K', 'West Macs Monster 2021 - 65km Standley Monster 65.00 K', '18° Edición Yerba Buena A Tafí 2021 - 18° El Siambon A Tafi - 45k 43.00 K', '18° Edición Yerba Buena A Tafí 2021 - 18° Yerba Buena A Tafi - 70k 68.00 K', '18° Edición Yerba Buena A Tafí 2021 - 18° Yerba Buena A Tafi - 110k 107.00 K', '18° Edición Yerba Buena A Tafí 2021 - 25k - Tafí X Tafí - 2021 26.10 K', '18° Edición Yerba Buena A Tafí 2021 - 42k - Tafí X Tafí - 2021 39.20 K', '18° Edición Yerba Buena A Tafí 2021 - 55k - Tafí X Tafí - 2021 59.30 K', '18° Edición Yerba Buena A Tafí 2021 - 85k - Tafi X Tafi - 2021 91.60 K', 'Keswick Mountain Festival 2021 - Adidas Terrex 50km Trail Race 51.30 K', 'Innsbruck Alpine Trailrun Festival 2021 - K25 25.00 K', 'South Tsurugi Mountain Marathon 2021 - Fagus Mountain Marathon 16.60 K', 'Gran Raid 2021 - Gr25 25.30 K', 'Gran Raid 2021 - Gr50 52.10 K', '7 Cidades Ultra Trail 2021 - 7cut50 49.00 K', '7 Cidades Ultra Trail 2021 - 7cut30 32.60 K', 'Hoka Vesuvio Ultra Marathon 2021 - Vesuvio Ultra Marathon 46k 46.20 K', 'Hoka Vesuvio Ultra Marathon 2021 - Trail Del Vesuvio 23k 22.90 K', 'Υμηττοσ Marathon 2021 2021 - Ymittos Marathon 45.00 K', 'Trail Sacred Forests 2021 - 24km 24.20 K', 'Trail Sacred Forests 2021 - 50 Km 48.60 K', 'La Pastourelle 2021 - Trail Du Grand Cirque 51.09 K', 'Hvitasunnuhlaup Hauka (pentacoast Trail Race) 2021 - Hvítasunnhlaup Hauka 21.60 K', 'Fiambala Desert Trail 2021 - Endurance Stage Trail 200x5s 200.00 K', 'Fiambala Desert Trail 2021 - Ultra Stage Trail 100x3s 100.00 K', 'Bryce Canyon 2021 - Bryce Canyon 50 Mile 83.10 K', 'Bryce Canyon 2021 - Bryce Canyon 100 Mile 157.10 K', 'Bryce Canyon 2021 - Bryce Canyon 50 Km 53.00 K', 'Festiwal Biegowy Ultra Way 2021 - Poranek Na Plaży 160 Km+ 163.30 K', 'Nuts Karhunkierros 2021 - 166k 169.60 K', 'The Great Welsh Ultra 200k 2021 - Gwu 200km 206.00 K', 'Greenweez Maxi-Race 2021 - Maxi-Challenger 43.80 K', 'Greenweez Maxi-Race 2021 - Ultra-Challenger 70.20 K', 'Zúmbadortrail 2021 - Ultramaraton 85.70 K', 'Endurancelife | Northumberland 2021 - Ultra 52.19 K', 'Hardmoors 2021 - 110 Mi 124.30 K', 'Uttn 2021 - Uttn 127km 2021 127.00 K', 'Chester Ultra 50 2021 - Chester Ultra 100 167.00 K', 'Krížna Krížom Krážom 2021 - Sky Marathon 48.40 K', 'Krížna Krížom Krážom 2021 - Sky Race 22.50 K', 'London 2 Brighton Challenge 2021 - London 2 Brighton -1st Half 55.50 K', 'London 2 Brighton Challenge 2021 - London 2 Brighton - Full 100.90 K', 'Ecotrail Oslo 2021 - 80 Km 81.70 K', 'Ecotrail Oslo 2021 - 50km 48.40 K', \"Trail De L'archange Du Mont Saint-Michel 2021 - Trail De L'archange 53.00 K\", 'Bryce Canyon 2021 - Bryce Canyon 60k 60.60 K', 'Sierra Andina - Chavin Trail 2021 - Chavin Trail 45k 44.98 K', 'Sierra Andina - Chavin Trail 2021 - Chavin Trail 18k 17.20 K', 'Festiwal Biegowy Ultra Way 2021 - Rześki Ranek 50 Km+ 48.90 K', 'Trail De Sancerre 2021 - La Magnum 35.40 K', 'Bodom Trail 2021 - 21k 21.30 K', 'Bodom Trail 2021 - 12k 12.00 K', 'La Comblorane 2021 - M - 7km 7.20 K', 'Lake District Challenge 2021 - Lake District - 2nd Half 51.30 K', 'Dolomiti Extreme Trail 2021 - 22k 22.00 K', 'Dolomiti Extreme Trail 2021 - 11 K 11.00 K', 'Techni Trail Tiranges 2021 - Techni Trail 55km 55.20 K', 'Techni Trail Tiranges 2021 - Techni Trail Tiranges 14 14.60 K', 'Techni Trail Tiranges 2021 - Techni Trail Tiranges 25 25.20 K', \"Techni Trail Tiranges 2021 - Ultra Techni'trail Tiranges 82.50 K\", 'Riaño Trail Run 2021 - Riaño 1xtrail Run 22.70 K', 'Yl Extreme Cross-Country Race 2021 - Yulong Trail Challenge-75km 76.20 K', 'Yl Extreme Cross-Country Race 2021 - Yulong Trail Challenge-35km 37.05 K', 'Hochwechseltrail 2021 - Hochwechseltrail Halbmarathon 25.00 K', 'The Longest Day Trail 2021 - 27km 26.60 K', 'The Longest Day Trail 2021 - 50km 48.60 K', 'Utvm: Annule 2021 - Le Lievre Et La Tortue 54.90 K', 'Trails Des Millefonts 2021 - Marathon Des Millefonts 42.70 K', 'Trails Des Millefonts 2021 - Trail Des Lacs 22.40 K', \"Trails Des Millefonts 2021 - P'tit Trail Des Millefonts 16.60 K\", 'Chongli Trail Run Challenge 7th 2021 - 35km 36.30 K', 'Chongli Trail Run Challenge 7th 2021 - 50km 55.40 K', 'Chongli Trail Run Challenge 7th 2021 - 70km 71.50 K', 'Greensand Country Ultra Trail 2021 - 50km Ultra Trail 50.20 K', 'Trail Oasi Zegna 2021 - Trail Oasi Zegna 30k 30.90 K', 'Trail Oasi Zegna 2021 - Trail Oasi Zegna 16k 15.20 K', 'Ultra-Trail Phutubberk 2021 - Ptb75 76.60 K', 'Ultra-Trail Phutubberk 2021 - Ptb50 51.80 K', 'Ultra-Trail Phutubberk 2021 - Ptb30 33.50 K', \"Trail Du Saint Quentin 2021 - L'express Du Saint Quentin 16.40 K\", 'Trail Du Saint Quentin 2021 - La Mérovingienne 29.90 K', 'Nature Extrême Développement 2021 - Adriatique Albanie Ultra-Trail 117.50 K', 'Les Trails De La Factrice 2021 - La Roquebrune 16.50 K', 'Trail Degli Altipiani 2021 - Trail Degli Altipiani Corta 33.80 K', 'Trail Degli Altipiani 2021 - Trail Degli Altipiani Lunga 56.80 K', 'Sapporo★teinetrail 2021 - Expert 48.20 K', 'Sapporo★teinetrail 2021 - Long 32.40 K', 'La Comblorane 2021 - Xl - 38 Km 38.80 K', 'La Comblorane 2021 - L - 25 Km 25.00 K', 'Tatry Running Tour 2021 - Compressport Sky&amp;clouds Run 34.30 K', 'Tribe Relay Across Scotland 2021 - Relay Across Scotland - Leg 1 228.00 K', 'Tsunami 2021 - Tsunami 24 122.80 K', 'Tribe Relay Across Scotland 2021 - Relay Across Scotland - Leg 2 50.00 K', 'Tribe Relay Across Scotland 2021 - Relay Across Scotland - Leg 3 50.00 K', 'Tribe Relay Across Scotland 2021 - Relay Across Scotland - Leg 4 57.00 K', 'Ultra-Trail® Du Haut-Giffre 2021 - La Virée Des Lucioles 17.90 K', 'Ultra-Trail® Du Haut-Giffre 2021 - Ultra-Trail® Du Haut Giffre 96.20 K', 'Ultra-Trail® Du Haut-Giffre 2021 - Ultra Tour Des Lacs Aux Cimes 127.40 K', 'Ultra 01 2021 - Ultra 165km 165.00 K', 'Mt. Esja Ultra 2021 - Marathon 45.56 K', 'Mt. Esja Ultra 2021 - Ultra Ii 14.90 K', 'Mt. Esja Ultra 2021 - Steinn (the Rock) 3.13 K', 'Tsunami 2021 - Tsunami Ultra-Marathon 61.40 K', 'Trails De Bozel Mont-Jovet 2021 - Trail Bozelain 19.60 K', 'Skole Ultra Trail 2021 - Yavoryna 101k 101.90 K', 'Mozart 100® 2021 108.20 K', 'Mozart 100® 2021 - Mozart Ultra 77.50 K', 'Mozart 100® 2021 - Mozart Marathon 41.60 K', 'Mozart 100® 2021 - Mozart Light 31.20 K', 'Mozart 100® 2021 - Mozart Halfmarathon 20.80 K', 'Mozart 100® 2021 - Mozart City Trail 8.90 K', 'Les Drayes Du Vercors 2021 - La Lyrette 20.30 K', 'Les Drayes Du Vercors 2021 - La Vertaco 27.70 K', 'Les Drayes Du Vercors 2021 50.70 K', 'Ultra-Trail® Du Haut-Giffre 2021 - Tour Du Giffre 30.40 K', 'Ultra-Trail® Du Haut-Giffre 2021 - Trail Des Frahans 50.90 K', 'Old Cascadia 2021 - 50k 48.90 K', '51. Ebbser Koasamarsch 2021 - Koasa Marathon 42km 44.00 K', '51. Ebbser Koasamarsch 2021 - Koasa Classic Run 33km 33.00 K', '51. Ebbser Koasamarsch 2021 - Koasa Halbmarathon 21km 21.00 K', 'Race To The King 2021 - Rttk - 53.6 Miles 86.70 K', 'Ultra 01 2021 - Ultra 90km 90.00 K', 'Ultra 01 2021 - 65km 65.00 K', 'Ultra 01 2021 - 45 Km 45.00 K', 'Ultra Trail Gaspesia 100 2021 - 100 Miles 159.00 K', 'Ultra Trail Gaspesia 100 2021 - 106 Km 104.60 K', 'Ultra Trail Gaspesia 100 2021 - 53 Km 54.20 K', 'Mohican 100 Trail Run 2021 - Mohican 100 Mile Trail Run 158.90 K', 'Mohican 100 Trail Run 2021 - Mohican 50 Mile Trail Run 80.00 K', 'Mohican 100 Trail Run 2021 - Mohican Marathon 26 Mile Trail 42.00 K', 'Vučko Trail 2021 - 61 Km 61.20 K', 'Vučko Trail 2021 - 35 Km 36.00 K', 'Hypnosis Night Runs 2021 - Hypnosis 54k 55.02 K', 'Hypnosis Night Runs 2021 - Hypnosis 34k 34.60 K', 'Hypnosis Night Runs 2021 - Hypnosis 20k 20.40 K', \"L'utoc 2021 - L'utoc 110 Relais 109.80 K\", \"L'utoc 2021 - Les 10 Du Viaduc 11.40 K\", 'River Of No Return Endurance Runs 2021 - 108km 109.80 K', 'River Of No Return Endurance Runs 2021 - 32km 29.10 K', 'River Of No Return Endurance Runs 2021 - 55km 54.40 K', 'Ultra Trail De Cerveira 2021 50.00 K', 'Ultra Trail De Cerveira 2021 - Trail De Cerveira 22.00 K', 'Jurassic Coast 100 2021 - Jurassic Coast 100m 168.20 K', 'Jurassic Coast 100 2021 - Jurassic Coast 100k 97.40 K', 'Trail De La Vallée Des Lacs 2021 - Le Grand Trail 90.40 K', 'Podbrdo Trail Running Festival 2021 - 20. Alpine Marathon Gm4o 42km 41.20 K', 'Podbrdo Trail Running Festival 2021 - 6. Ultra Trailⓡ Puseljc 103km 104.00 K', 'Berga Trail 2021 - Ultra Ensija 60.78 K', 'Utlac - 40 Km 2021 - Utlac40 40.00 K', 'Trails De Bozel Mont-Jovet 2021 - Maratrail Du Mont-Jovet 40.30 K', 'Trails De Bozel Mont-Jovet 2021 - Trail Des Crêtes Du Mont Jovet 31.80 K', 'Gobi March  By Racingtheplanet 2021 - Gobi March 242.90 K', 'Skole Ultra Trail 2021 - Eastern Iceland 34k 34.50 K', 'Skole Ultra Trail 2021 - Dovbush Rocks 52k 52.80 K', 'Skole Ultra Trail 2021 - Dragon Mountain 20k 20.40 K', 'Sierra Andina - Churup Trail 2021 - Churup Trail 21k 21.40 K', 'Trail Des Ragondins 2021 - 31km 31.40 K', 'Trail Des Ragondins 2021 - 71km 71.60 K', 'Trail Des Ragondins 2021 - Trail Des Ragondins 15km 14.70 K', 'Ultra-Trail® Du Haut-Giffre 2021 - Au Fil Du Giffre 8.80 K', 'Ultra-Trail® Du Haut-Giffre 2021 - La Montée De Gers 17.80 K', 'Ultra Trail Gaspesia 100 2021 - G10 12.90 K', 'Ultra Trail Gaspesia 100 2021 - G25 24.80 K', 'Ultra Trail Gaspesia 100 2021 - G35 35.80 K', 'Entrelacs Run And Trail 3 2021 - La Foulée 9.00 K', 'Entrelacs Run And Trail 3 2021 - Le Trail Des 2 Cols 31.00 K', 'Entrelacs Run And Trail 3 2021 - Le Trail Des Hauts Du Lac 43.00 K', 'Entrelacs Run And Trail 3 2021 - Le Trail Perché 16.00 K', 'Mohrytsia Eco Trail 2021 - 10km 10.00 K', 'Mohrytsia Eco Trail 2021 - 2x5 Relay 10.00 K', 'Compass Club South Marathon 2021 42.20 K', 'Trail Della Pizzuta 2021 20.10 K', \"Trail Du Mont D'or 2021 - 53 Km 53.60 K\", \"L'utoc 2021 - Les 20 Du Viaduc 20.10 K\", 'Echigo Country Trail 2021 - Echigo Country Trail 2021*60km 61.40 K', 'Festival Outdoor De La Vallée Verte 2021 - Chambon Sancy Trail 40.40 K', 'Jurassic Coast 100 2021 - Jurassic Coast 50k 47.60 K', 'Trail De La Vallée Des Lacs 2021 -  La Géromée 18.50 K', 'Trail De La Vallée Des Lacs 2021 - Trail Court 31.40 K', 'Trail De La Vallée Des Lacs 2021 - Trail Long 55.80 K', 'Podbrdo Trail Running Festival 2021 - 6. Graparski Trimček - Gt 12km 11.80 K', 'Transcend Ultra 2021 - Transcend 60km Ultra 61.30 K', 'Mihara Hakuryuko Trail Run Race 2021 - 22km 24.10 K', 'Marathon Du Mont-Blanc 2021 - 90 Km Du Mont-Blanc 91.00 K', 'Marathon Du Mont-Blanc 2021 - Km Vertical 3.90 K', 'Trail 100 Andorra-Pyrenees 2021 - Ultra 125 K  Andorra-Pyrenees 125.20 K', \"L'ultra Marin Raid Golfe Du Morbihan 2021 - Grand Raid Golfe Du Morbihan 179.00 K\", \"L'ultra Marin Raid Golfe Du Morbihan 2021 - Raid Golfe Du Morbihan 99.70 K\", 'The Monster Ultra  2021 50.90 K', 'Cotswold  Challenge 2021 - Cotswold Challenge - Full 101.00 K', 'Cotswold  Challenge 2021 - Cotswold Challenge -1st Half 54.10 K', 'Marathon Du Mont-Blanc 2021 - 23 Km Du Mont-Blanc 24.40 K', 'Marathon Du Mont-Blanc 2021 - 10 Km Du Mont-Blanc 10.00 K', 'Marathon Du Mont-Blanc 2021 - Duo Étoilé 19.00 K', 'Hohe Veitsch Trailrun 2021 - Ultra-Alpinmarathon 54.00 K', 'Kaiserkrone 2021 - Kaiserkrone Marathon Trail 56.10 K', 'Kaiserkrone 2021 - Kaiserkrone Skyrace 24.70 K', 'Kaiserkrone 2021 - Kaiserkrone Speed Trail 20.50 K', 'Altai Ultra-Trail® 2021 - Aut Xl 128.50 K', 'Altai Ultra-Trail® 2021 - Aut75 81.00 K', 'Altai Ultra-Trail® 2021 - Aut S 47.40 K', 'Trail 100 Andorra-Pyrenees 2021 - Trail 55k Andorra-Pyrenees 57.00 K', 'Los Montes De Vitoria 2021 62.80 K', 'Losheimer Trailfest 2021 - Losheimer Trailfest - T11 11.00 K', 'Race To The Castle 2021 - Rttc - 100k 100.60 K', \"L'ultra Marin Raid Golfe Du Morbihan 2021 - Ronde Des Douaniers 36.30 K\", \"L'ultra Marin Raid Golfe Du Morbihan 2021 - Trail Golfe Du Morbihan 58.00 K\", 'Western States Endurance Run 2021 161.26 K', 'Festival Cavalls Del Vent 2021 - Cavalls Del Vent - Open 87.20 K', 'Festival Cavalls Del Vent 2021 - Cavalls Del Vent - Half 44.00 K', 'The Black Mountains Challenge 2021 - Black Mountains Trail Marathon 46.80 K', 'The Black Mountains Challenge 2021 - Black Mountains Trail Ultra 61.70 K', 'Bike24 Sachsen Trail 2021 - Ultrarun 74.30 K', 'Bike24 Sachsen Trail 2021 - Halftrail 35.30 K', 'Romeriksåsen På Langs 2021 50.10 K', 'Sinhagad Epic Trail 2021 - 42 Km 42.60 K', 'Sinhagad Epic Trail 2021 - 22km 22.60 K', 'Sinhagad Epic Trail 2021 - 32 Km 29.70 K', 'Supermaraton Gór Stolowych 2021 - Ultra - 54km 50.90 K', 'Traversée Des Dentelles De Montmirail 2021 - Défi Des Dentelles 41.60 K', 'Ultra Coahuila Garmin 2021 - 50k Ultra Coahuila 48.90 K', 'Ultra Coahuila Garmin 2021 - 100k Ultra Coahuila 99.10 K', 'Ultra Coahuila Garmin 2021 - 80k Ultra Coahuila 82.80 K', 'Cotswold  Challenge 2021 - Cotswold Challenge -2nd Half 47.60 K', 'Marathon Du Mont-Blanc 2021 - 42 Km 42.50 K', 'Marathon Du Mont-Blanc 2021 - Young Race Marathon 14.00 K', 'Ultramad Madagascar 2021 155.50 K', 'Altai Ultra-Trail® 2021 - Aut Xs 24.60 K', 'Trail 100 Andorra-Pyrenees 2021 - Trail 25 K Andorra-Pyrenees 24.50 K', 'Losheimer Trailfest 2021 - Losheimer Trailfest - T23 23.00 K', 'Losheimer Trailfest 2021 - Losheimer Trailfest - T45 46.00 K', 'Losheimer Trailfest 2021 - Losheimer Trailfest - T75 76.00 K', 'Round Lake Trail 2021 - 6 Km 5.60 K', 'Round Lake Trail 2021 - 16 Km 16.30 K', 'Round Lake Trail 2021 - 32 Km 32.00 K', 'Trail De La Grande Champagne 2021 52.00 K', 'Trail De La Grande Champagne 2021 25.50 K', 'Trail Des 3 Pics 2021 - Trail Des 3 Pics S 12.00 K', 'Trail Des 3 Pics 2021 - Trail Des 3 Pics L 34.30 K', 'Ultra Trail Cordillera Blanca 2021 - Vertical Kilometer 6.20 K', 'Serra Amarela Sky Marathon 2021 - Sky Marathon 48km 48.00 K', 'Serra Amarela Sky Marathon 2021 - Sky Race 30km 30.00 K', 'Bike24 Sachsen Trail 2021 - Quartertrail 20.00 K', 'Tbilisi Trail Cup 2021 2021 - Chilly Chili Run 20.30 K', 'Supermaraton Gór Stolowych 2021 - Light - Halfmarathon 23.80 K', 'Ultra Trail Cordillera Blanca 2021 - 50k 50.00 K', 'Ultra Trail Cordillera Blanca 2021 - 25k 25.00 K', 'Ultra Trail Cordillera Blanca 2021 - 12k 12.00 K', 'Ultra-Trail® Tai Mo Shan 2021 - Ttf 118.50 K', 'Ultra-Trail® Snowdonia 2021 - Uts 165 166.40 K', 'Transpenedagerês 2021 - Transpeneda-Gerês 105km 105.00 K', 'Dyfi Ultra 2021 80.00 K', 'Trail De La Fontaine Des Ânes 2021 - 86 Km 86.00 K', 'Swiss Canyon Trail 2021 - Swiss Canyon Trail K81 83.40 K', 'Swiss Canyon Trail 2021 - K51 52.80 K', 'Swiss Canyon Trail 2021 - Swiss Canyon Trail K31 32.30 K', 'Swiss Canyon Trail 2021 - Swiss Canyon Trail K111 115.00 K', 'The Arctic Triple Lofoten Ultra-Trail® 2021 - 50 Miles 82.00 K', 'The Arctic Triple Lofoten Ultra-Trail® 2021 - 24 Km 24.00 K', 'The Arctic Triple Lofoten Ultra-Trail® 2021 - 12 Km 12.00 K', 'The Arctic Triple Lofoten Ultra-Trail® 2021 - 48 Km 48.00 K', 'Tenerife Bluetrail 2021 - Trail 71.40 K', 'Tenerife Bluetrail 2021 - Maratón 42.40 K', 'Tenerife Bluetrail 2021 - Mediatrail 19.60 K', 'Tenerife Bluetrail 2021 - Trail Relevos (1º Corredor) 34.70 K', 'Tenerife Bluetrail 2021 - Trail Relevos (2º Corredor) 36.60 K', 'Hochkönigman 2021 - Speed Trail 32.60 K', 'Hochkönigman 2021 - Marathon Trail 49.90 K', 'Hochkönigman 2021 - Endurance Trail 85.40 K', 'Hochkönigman 2021 - Hochkönig Skyrace 32.60 K', 'Sawmill Relay 2021 - Sawmill Relay - 38.45m 61.90 K', 'Sawmill Relay 2021 - Sawmill Relay - 19.23m 31.00 K', 'Sawmill Relay 2021 - Sawmill Relay 3 Team - 19.23m 31.00 K', 'Grand Trail Du Saint-Jacques 2021 72.60 K', 'Grand Trail Du Saint-Jacques 2021 - Les Chibottes 15.30 K', 'Grand Trail Du Saint-Jacques 2021 - Maratrail Du Saint-Jacques 43.70 K', 'Grand Trail Du Saint-Jacques 2021 - Ultra Du Saint-Jacques 114.90 K', 'Scafell Sky Race 2021 - Scafell Sky Race 2021 37.10 K', 'Salomon Hengill Ultra-Trail © 2021 - 25k 24.40 K', 'Salomon Hengill Ultra-Trail © 2021 - 50k 53.00 K', 'Cairngorms Ultra 2021 61.80 K', 'Ultra-Trail® Snowdonia 2021 - Uts 100 101.90 K', 'Ultra-Trail® Snowdonia 2021 - Uts 50 51.40 K', 'Race To The Tower 2021 - Rttt - 52.4 Mile 84.90 K', 'May Etik Trail 2021 - Aux Ponts Des Rivières Trail 44.80 K', 'May Etik Trail 2021 - Au Goût De L’effort 26.40 K', 'May Etik Trail 2021 - L’appétit Trail 13.20 K', 'May Etik Trail 2021 - Le Trail D’eco Verte 7.30 K', 'The Yao Yai Trail 2021 - Tyyt105 105.00 K', 'The Yao Yai Trail 2021 - Tyyt75 75.00 K', 'U. Trail Lamer Winkel 2021 - König Vom Bayerwald 54.90 K', 'U. Trail Lamer Winkel 2021 - 25km 24.00 K', 'Nazim Hikmet Run 2021 25.40 K', 'Nazim Hikmet Run 2021 - Nazım Hikmet Run 8k 8.00 K', 'La Sagra Skyrace 2021 - La Sagra Skyrace 70k 70.90 K', 'Ohm Trail, Belgian Championship Trail &amp; Ultra Trail 2021 - Ohm Trail Original 35.00 K', 'Ohm Trail, Belgian Championship Trail &amp; Ultra Trail 2021 - Ohm Trail Xl 55.00 K', 'Ohm Trail, Belgian Championship Trail &amp; Ultra Trail 2021 - Ohm Trail Light 25.00 K', 'Ohm Trail, Belgian Championship Trail &amp; Ultra Trail 2021 - Ohm Trail Ultra 80.00 K', 'Pilatrail 2021 - Ultra Traversée Du Pilat 118.60 K', 'Pilatrail 2021 - Ronde De Véranne 9.00 K', 'Picos De Europa Travesera Integral 2021 - Traveserina 46k 46.00 K', 'Ultratrail Li Foj 2021 2021 - Ultra Trail Li Foj 100 100.00 K', 'Transpenedagerês 2021 - Transpeneda-Gerês 27km 27.00 K', 'Transpenedagerês 2021 - Transpeneda-Gerês 55km 55.00 K', 'Ultratrail Li Foj 2021 2021 - Ultra Trail Li Foj 50 53.40 K', 'Ultra Beast 2021 2021 - Ultra Beast  161km 161.20 K', 'Ultra Beast 2021 2021 - Ultra Beast 100kms 100.00 K', 'Ultra Beast 2021 2021 - Ultra Beast 50km 50.20 K', 'Ultra Beast 2021 2021 - Ultra Beast 75kms 75.10 K', 'Trail De La Fontaine Des Ânes 2021 - 10 Km 10.00 K', 'Trail De La Fontaine Des Ânes 2021 - 19 Km 19.00 K', 'Trail De La Fontaine Des Ânes 2021 - 38 Km 38.00 K', 'Medvednica Trail 2021 - Gorščica 14.70 K', 'Medvednica Trail 2021 - Plazur 31.20 K', 'Medvednica Trail 2021 - Kameni Svati 60.10 K', 'Gt7 Da Mare Alla Vetta 2021 - Gt7 Dal Mare Alla Vetta  36.00 K', 'Trail Beaume Drobie 2021 - Trail Beaume Drobie 51 Km 51.30 K', 'Trail Beaume Drobie 2021 - Trail Beaume Drobie 32 Km 31.90 K', 'Trail Beaume Drobie 2021 - Trail Beaume Drobie 20 Km 20.00 K', 'Trail De La Fontaine Des Ânes 2021 - 60 Km Solo 60.00 K', 'Trail De La Fontaine Des Ânes 2021 - 60 Km Relais 1 30.30 K', 'Trail De La Fontaine Des Ânes 2021 - 60 Km Relais 2 29.44 K', 'The Yao Yai Trail 2021 - Tyyt55 55.00 K', 'The Yao Yai Trail 2021 - Tyyt35 35.00 K', 'The Yao Yai Trail 2021 - Tyyt15 15.00 K', 'The Yao Yai Trail 2021 - Tyyt6 6.00 K', 'Beaver Trail 2021 - Beaver Trail  Elite 41.00 K', 'Beaver Trail 2021 - Beaver Trail  Intense 63.90 K', 'The 12th  Fuji Oshino Kougen Trail Race 2021 - Fuji Oshino Kougen Trail Race 34.60 K', 'The 12th  Fuji Oshino Kougen Trail Race 2021 - 22km 21.60 K', 'The 12th  Fuji Oshino Kougen Trail Race 2021 - 13km 13.30 K', 'Genarps If Trail 2021 - Gift - 20k 19.90 K', 'Genarps If Trail 2021 - Gift - 30k 30.00 K', 'Genarps If Trail 2021 - Gift - 10k 10.00 K', 'Pilatrail 2021 - Le Tour Des Crêts 42.40 K', 'Zegama-Aizkorri Mendi Maratoia 2021 42.30 K', 'Ultratrail Li Foj 2021 2021 - Trail Li Foj 23 24.80 K', 'Turmalina Ultra Run 2021 - Turmalina Ultra Run 50k 51.60 K', 'Turmalina Ultra Run 2021 - Turmalina Ultra Run 35 Km 37.00 K', 'Turmalina Ultra Run 2021 - Turmalina Ultra Run 20 Km 20.00 K', 'Ultra X World Championships 2021 250.00 K', 'Iberian Wolf Trophy 2021 - Arada Skyrace 26.50 K', 'Iberian Wolf Trophy 2021 131.10 K', 'Trail Du Grand Sénonais 2021 - Le Brennus 129.10 K', 'Dolomiti Extreme Trail 2021 - 103k 100.50 K', 'Riaño Trail Run 2021 - Riaño 3xtrail Run 88.80 K', 'Hochwechseltrail 2021 - Awesome X Speed Trail 10.00 K', 'Rinjani 100 2021 - 117.7 Km 117.70 K', 'Ultrabericus Trail 2021 - Trail Integrale 64.50 K', 'Ultrabericus Trail 2021 - Urban 21.20 K', 'Uttn 2021 - Uttn Chardon 45km 2021 44.90 K', 'Uttn 2021 - Uttn Mirabelle 31km 2021 31.60 K', 'Uttn 2021 - Uttn Roi Stanislas 78km 2021 77.40 K', 'London 2 Brighton Challenge 2021 - London 2 Brighton - 2nd Half 45.30 K', 'South Downs 100 K 2021 - South Downs 100k 100.00 K', 'The South West Traverse 2021 - The South West Traverse Solo 72.10 K', 'Wangchan50 2021 - Nongyai25 24.70 K', 'Greenweez Maxi-Race 2021 - Marathon Race 39.00 K', 'Greenweez Maxi-Race 2021 - Short-Race 16.50 K', 'Greenweez Maxi-Race 2021 - Marathon-Expérience 45.00 K', 'Metsovo Ursa Trail 2021 - Ursa Trail 11km 11.20 K', 'Trail Du Barrage 2021 - 30km 31.10 K', 'Trail Du Barrage 2021 - 22km 21.80 K', 'Ultra Tour Du Môle 2021 35.60 K', 'Ultra Tour Du Môle 2021 - Ultra Verticale Du Môle 6.00 K', 'Blizko Trail 2021 - Blizko 54k 54.40 K', 'Blizko Trail 2021 - Blizko 13k 13.00 K', 'Blizko Trail 2021 - Blizko 27k 27.20 K', 'Blizko Trail 2021 - Blizko Relay, Stage 1 13.60 K', 'Blizko Trail 2021 - Blizko Relay, Stage 2 13.60 K', 'Blizko Trail 2021 - Blizko Relay, Stage 3 13.60 K', 'Globallimits Bhutan - The Last Secret - 2021 202.20 K', 'Ultra Trail Causses Et Vallées Lot  Dordogne 2021 - Ultra Trail Causses Du Quercy 91.10 K', 'Emmtrc 2021 2021 - Trail Running Championships 45.00 K', 'Trail Dello Zingaro 2021 - Trail Della Ficarella 16.40 K', 'Trail Dello Zingaro 2021 33.10 K', 'Brecon Beacons Trail Challenge 2021 - Brecon Beacons Trail Marathon 43.10 K', 'Brecon Beacons Trail Challenge 2021 - Brecon Beacons Trail Ultra 52.20 K', 'Tbilisi Trail Cup 2021 2021 - Lisi Trail Race 18.60 K', 'Nagi Peaks Tough Trail Challenge 2021 - Challenge 58.10 K', 'Nagi Peaks Tough Trail Challenge 2021 - Middle 31.80 K', 'Skyline Trail Sugadaira 2021 - Sky Full 43.20 K', 'Skyline Trail Sugadaira 2021 - Sky Half 22.40 K', 'Ultra Warrior Nainital 2021 2021 - 50 Km - Naina Peak Trail 50.00 K', 'Ultra Warrior Nainital 2021 2021 - 30 Km - Blood Trail 30.00 K', 'The Great Mawla Ghaati Ultra21 2021 - 10km - Mawla 10.00 K', 'The Great Mawla Ghaati Ultra21 2021 - 75km - Mawla 75.00 K', '3 Islands Trail Race Virtual Race 2021 - 3 Islands Trail Race Relay 31.80 K', '3 Islands Trail Race Virtual Race 2021 - 3 Islands Trail Race Triple 31.70 K', '3 Islands Trail Race Virtual Race 2021 - 2 Islands Trail Race Relays 21.00 K', 'Stumptown Trail Runs 2021 - 50k 48.20 K', 'Stumilak 2021 179.40 K', 'Stumilak 2021 - Stumilak 100k 103.70 K', 'Stumilak 2021 - Stumilak 50  79.00 K', 'Transpenedagerês 2021 - Tpg 165k Race Of The 4 Castles 165.00 K', 'The Arctic Triple Lofoten Ultra-Trail® 2021 - 100 Miles 165.00 K', 'Tenerife Bluetrail 2021 - Ultra 105.60 K', 'Salomon Hengill Ultra-Trail © 2021 - 100k 106.80 K', 'Rinjani 100 2021 - 75 Km 75.00 K', 'Rinjani 100 2021 - Rinjani Peak 36 Km 36.00 K', 'Glyndwr 100 Race/ Relay 2021 - The Glyndwr 100 Mile Challenge 163.30 K', 'Glyndwr 100 Race/ Relay 2021 - The Glyndwr 100 Mile Relay 163.30 K', 'Trail Du Grand Sénonais 2021 - La Sénonaise 58.90 K', \"Trail Du Grand Sénonais 2021 - La L'yonne 34.30 K\", 'Trail Du Grand Sénonais 2021 - Le Petit Sénon 18.90 K', \"Trail Du Grand Sénonais 2021 - La Sens'as 12.60 K\", 'Crazy Owl 50 2021 53.70 K', 'Crazy Owl 50 2021 - Crazy Owl 50 - 21k 20.90 K', 'Iberian Wolf Trophy 2021 - Trilhos São Barnabé 55.00 K', 'Lake District Challenge 2021 - Lake  District  - Full 100.40 K', 'Lake District Challenge 2021 - Lake District - 1st Half 49.10 K', 'Full Sunset 2021 132.80 K', 'Full Sunset 2021 - Half Sunset 61.00 K', 'Dolomiti Extreme Trail 2021 - 55k 55.00 K', 'Dolomiti Extreme Trail 2021 - 72k 73.20 K', \"Esclapa L'oeil Trail - La Grande Coursasse 2021 - La Grande Coursasse En Solo 64.10 K\", \"Ultra Serra Sky Marathon D'abruzzo 2021 - Ultra Sky Marathon D'abruzzo 96.00 K\", 'Riaño Trail Run 2021 - Riaño 2xtrail Run 59.70 K', 'Doppiaw Ultra 2021 - Skyw30 30.90 K', 'Doppiaw Ultra 2021 - Trailw70 70.80 K', 'Endurancelife | Classic Quarter 2021 - Classic Quarter 70.80 K', 'Nøsen Hundreds Ultramarathon 2021 101.90 K', 'A Bridge Too Far 2021 58.70 K', 'A Bridge Too Far 2021 - A Bridge Too Far (short) 51.90 K', 'Hochwechseltrail 2021 - Hochwechseltrail Marathon 44.90 K', 'Hochwechseltrail 2021 - Hochwechseltrail Ultra 78.60 K', 'Ultramaraton Babia Góra 2021 - Ultramaraton 6xbabia Góra 100.90 K', 'Ultramaraton Babia Góra 2021 - Ultramaraton 3xbabia Góra 60.10 K', 'Ultramaraton Babia Góra 2021 - Ultramaraton 4xbabia Góra 70.00 K', 'Ultramaraton Babia Góra 2021 - 2xbabia Góra Skyrace® 20.00 K', 'Ultramaraton Babia Góra 2021 - Ultramaraton 5xbabia Góra 91.90 K', 'Ultramaraton Babia Góra 2021 - Babia Góra Race 9.00 K', 'Centurion South Downs Way 100 2021 151.00 K', 'Utpma 2021 - Ultra Trail Puy Mary Aurillac 108.40 K', 'Utpma 2021 - Grand Trail De La Jordanne 51.90 K', \"Utpma 2021 - Trail D'aurillac 23.50 K\", 'Rinjani 100 2021 - Sembalun Rim 27km 27.00 K', \"Montan'aspe 2021 2021 - Le Défi De L'ourdinse 35.10 K\", \"Montan'aspe 2021 2021 - La Course De Soudious 8.70 K\", \"Montan'aspe 2021 2021 - La Ronde De Bergout 15.70 K\", \"Wy'east Wonder 2021 - 50k 47.10 K\", \"Wy'east Wonder 2021 - 50m 77.40 K\", 'Endurancelife | Exmoor 2021 - Ultra 52.50 K', 'Picos De Europa Travesera Integral 2021 - Travesera Picos De Europa 74.00 K', 'Pels Camins Dels Matxos 2021 64.00 K', 'Golden Gate Dirty 30 2021 - Golden Gate Dirty 30 50k 52.00 K', 'Les Trails De La Factrice 2021 - La Roquebrunette 8.50 K', 'Trail De Sancerre 2021 - La Fillette 15.10 K', 'Ultra-Trail® Tai Mo Shan 2021 - Utmt 167.60 K', 'Ultra-Trail® Tai Mo Shan 2021 - Ytf 50.60 K', 'Ultra-Trail® Tai Mo Shan 2021 - Utmt - Team Of 2 167.60 K', 'Ultra-Trail® Tai Mo Shan 2021 - Utmt - Team Of 4 167.60 K', 'Oslo Bergen Trail 2021 515.00 K', 'Uludagultratrail 2021 - Uput 100.00 K', 'Uludagultratrail 2021 - Ua 66.00 K', 'Uludagultratrail 2021 - U30 30.00 K', 'Uludagultratrail 2021 - 16k 16.00 K', 'Uludagultratrail 2021 - 6k 6.00 K', 'Xrun Festiwal Biegów Górskich 2021 - Bieg Czterech Wysp 38 Km 38.80 K', 'Chester Ultra 50 2021 83.69 K', 'Kyrgyzstan Trail Run 2021 - Kyrgyzstan Trail Run 100k 100.00 K', 'Kyrgyzstan Trail Run 2021 - Kyrgyzstan Trail Run 100k Team 100.00 K', 'Kyrgyzstan Trail Run 2021 - Kyrgyzstan Trail Run 63k 63.00 K', 'Kyrgyzstan Trail Run 2021 - Kyrgyzstan Trail Run 63k Team 63.00 K', 'Kyrgyzstan Trail Run 2021 - Kyrgyzstan Trail Run 24k 24.00 K', 'Peak District Challenge 2021 - Peak District -1st Half 48.00 K', 'Peak District Challenge 2021 - Peak District Challenge -100km 100.70 K', 'Salomon Serpent Trail 2021 - Salomon Serpent Trail 100k 100.40 K', 'Salomon Serpent Trail 2021 - Salomon Serpent Trail 50k 49.10 K', 'Salewa Olympus Mythical Trail 2021 - Olympus Mythical Trail 101.60 K', 'Kainuu Trail Hossa National Park (fin) 2021 - Kainuu Trail 10 K Huosius 10.10 K', 'Kainuu Trail Hossa National Park (fin) 2021 - Kainuu Trail 21 K Jatkonvaara 21.00 K', 'Kainuu Trail Hossa National Park (fin) 2021 - Kainuu Trail 38 K Kokalmus 38.40 K', 'Kainuu Trail Hossa National Park (fin) 2021 - Kainuu Trail 55 K Värikallio 54.90 K', 'Kainuu Trail Hossa National Park (fin) 2021 - Kainuu Trail 78 K Julma-Ölkky 77.90 K', 'Trail Verbier St Bernard 2021 - X-Alpine 111.00 K', 'Trail Verbier St Bernard 2021 - Liddes Verbier 32.70 K', 'Trail Verbier St Bernard 2021 - X-Traversée 74.50 K', 'Trail Verbier St Bernard 2021 - Verbier Marathon 44.50 K', 'Trail Verbier St Bernard 2021 - Verbier Marathon 4000 44.00 K', 'La Casadéenne 2021 - La Casadéenne 19km 19.70 K', 'La Casadéenne 2021 - La Casadéenne 29km 29.00 K', 'La Casadéenne 2021 - La Casadéenne 43km 44.10 K', 'The High Life 2021 - The High Life (long) 105.90 K', 'The High Life 2021 - The High Life (extra Long) 133.30 K', 'The High Life 2021 - The High Life (short) 55.40 K', 'The High Life 2021 - The High Life (medium) 81.80 K', 'Hranisava Ultra Trail 2021 - Super Saiyan Blue 41.00 K', 'Hranisava Ultra Trail 2021 - Super Saiyan Red 21.00 K', 'Hranisava Ultra Trail 2021 - Super Saiyan Yellow 13.00 K', 'Bancastato Morobbia Trail 2021 - Trail Del Lupo 33km 2500d+ 32.90 K', 'Arkhyzxrunalpindustriatrail 2021 - Stage 125 124.80 K', 'Arkhyzxrunalpindustriatrail 2021 - Sofia 70 70.00 K', 'Québec Mega Trail (qmt) 2021 - Qmt 25 25.90 K', 'Québec Mega Trail (qmt) 2021 - Qmt 110 110.60 K', 'Québec Mega Trail (qmt) 2021 - Qmt 50 52.40 K', 'Québec Mega Trail (qmt) 2021 - Qmt 80 81.60 K', 'Austria Backyard Ultra 2021 - 13 Loops 87.00 K', 'Austria Backyard Ultra 2021 - 15 Loops 100.40 K', 'Austria Backyard Ultra 2021 - 19 Loops 127.20 K', 'Austria Backyard Ultra 2021 - 24 Loops 160.70 K', 'Austria Backyard Ultra 2021 - 30 Loops 200.80 K', 'Austria Backyard Ultra 2021 - 37+ Loops 247.70 K', 'Sky Erciyes 2021 - Erciyes Trail Run 24.90 K', 'Sky Erciyes 2021 - Ultra Sky Trail 60k 63.90 K', 'Warewolf Marathon 2021 42.20 K', 'Ultra Trail Chic-Chocs 2021 - La Grande Traversée 113.00 K', 'Ultra Trail Chic-Chocs 2021 - Le Demi Marathon Des Altitudes 23.40 K', 'Ultra Trail Chic-Chocs 2021 - Le Marathon Du Mont-Albert 44.80 K', 'Ultra Trail Chic-Chocs 2021 - Ultra Marathon La Traversée 61.70 K', 'Great Glen Ultra 2021 115.00 K', 'Ecotrail Paris Ile-De-France® 2021 - Trail 80km 80.10 K', 'Ecotrail Paris Ile-De-France® 2021 - Trail 45km 46.20 K', 'Ecotrail Paris Ile-De-France® 2021 - Trail 30 Km 31.00 K', \"La Montagn'hard 2021 - La Moins'hard 72.20 K\", \"La Montagn'hard 2021 - La Mini'hard 25.70 K\", \"La Montagn'hard 2021 109.30 K\", \"La Montagn'hard 2021 - La Mi'hard 52.60 K\", 'Dodo Trail 2021 - Xtreme Dodo Trail 50.00 K', 'Xrun Festiwal Biegów Górskich 2021 - Wyspiańska Połówka 22 Km 22.50 K', 'Xrun Festiwal Biegów Górskich 2021 - Ultra Wyspa 60 Km 59.40 K', 'Xrun Festiwal Biegów Górskich 2021 - Mega Ultra Wyspa 90 Km 90.90 K', 'Pico Duarte Express 2021 - Pico Duarte Express - 46 Km 46.00 K', 'Peak District Challenge 2021 - Peak District -2nd Half 51.60 K', 'La Tulle Brive Nature 2021 - La Tulle Brive Nature - Trail Moyen 28.10 K', 'Tour Des Glaciers De La Vanoise 2021 - Tgv 73.10 K', 'Tour Des Glaciers De La Vanoise 2021 - Pralo Vu Du Ciel 30.00 K', 'Tour Des Glaciers De La Vanoise 2021 - Tav 16.20 K', \"Trail Des Bauges 2021 - Le P'tit Chéran 10.00 K\", 'Trail Des Bauges 2021 - Trail Des Bauges Expert 48.00 K', 'Trail Des Passerelles Du Monteynard 2021 - Le Petit Train 28km 27.50 K', 'Arkhyzxrunalpindustriatrail 2021 - Kyafar 55 54.80 K', 'Arkhyzxrunalpindustriatrail 2021 - Fedoseeva 25 24.90 K', 'Arkhyzxrunalpindustriatrail 2021 - Abishira 40 40.00 K', 'Arkhyzxrunalpindustriatrail 2021 - Romantik 12 12.00 K', 'Trail Du Cro - Sur La Route Des Forts 2021 - Trail Du Cro - Dei Forti 47.40 K', 'Trail Du Cro - Sur La Route Des Forts 2021 - Half - Trail Du Cro  25.50 K', \"Gran Trail Dell'etna 2021 - Gran Trail Dell’etna 59.00 K\", \"Gran Trail Dell'etna 2021 - Trail Della Galvarina 18.70 K\", 'Trail Drome 2021 - Trail Drôme 38 Km 38.00 K', 'Trail Drome 2021 - Trail Drôme 23 Km 23.00 K', 'Trail Du Schnepf 2021 - Trail Du Schnepf 19km 19.30 K', 'Xrun Festiwal Biegów Górskich 2021 - Bieg Na Górę Mogił 7 Km 6.90 K', 'Ultrachampsaur 2021 56.10 K', 'Ultrachampsaur 2021 - Les Balcons De Rouanne 29.40 K', 'La Tulle Brive Nature 2021 - Tulle Brive Nature 38.00 K', 'Restonica Trail 2021 - Ultra-Trail® Di Corsica 107.70 K', 'Val D’aran By Utmb® 2021 - Cdh 104.60 K', 'Val D’aran By Utmb® 2021 - Vda 162.90 K', \"St Cuthbert's Way Ultra 2021 - Saint Cuthbert's Way 100k 105.40 K\", \"Le Trail De France 2021 - L'intégrale En Solo 374.30 K\", \"Le Trail De France 2021 - L'intégrale - Equipe De 3 Ou 4 363.70 K\", 'Le Trail De France 2021 - Etape 1 - Trail De France 50.70 K', 'Schinder-Trail Grauer Kopf 2021 - Grauer Kopf Extended 125.00 K', 'Elephant Trail Race 2021 2021 - Ultra Elite 200km 203.70 K', 'Elephant Trail Race 2021 2021 - 160 Km (100 Mile) 163.20 K', 'Restonica Trail 2021 - Giru Di Tumbone 16.40 K', 'Nuts Ylläs Pallas 2021 - 66k 66.00 K', 'Nuts Ylläs Pallas 2021 - 160k 165.00 K', 'High Trail Vanoise 2021 - Trail Des 5 Vals - Solo 95.30 K', 'High Trail Vanoise 2021 - Trail Des 5 Vals - Duo 95.30 K', 'Gran Trail Courmayeur 2021 - Gtc 100 Km 103.10 K', 'Devon Coast To Coast 2021 - Devon Coast To Coast (4 Days) 175.99 K', 'Siskiyou Out Back Trail Run 2021 - 100k 98.50 K', 'Siskiyou Out Back Trail Run 2021 - 50m 79.40 K', 'Val D’aran By Utmb® 2021 - Pda 54.90 K', 'Val D’aran By Utmb® 2021 - Sky Baqueira Beret 15.00 K', 'The Wuu2k 2021 - 62km 62.00 K', \"St Cuthbert's Way Ultra 2021 - Saint Cuthbert's Way Ultra 45m 75.00 K\", 'Le Trail De France 2021 - Etape 2 - Trail De France 82.60 K', 'Schinder-Trail Grauer Kopf 2021 - Die Halbe Portion 34.10 K', 'Schinder-Trail Grauer Kopf 2021 71.80 K', 'Elephant Trail Race 2021 2021 - 50 Km 51.80 K', 'Elephant Trail Race 2021 2021 - 100 Km (67 Mile) 108.80 K', 'Restonica Trail 2021 66.80 K', 'Restonica Trail 2021 - Tavignanu Trail 32.50 K', 'Silverheels 100-Mile Endurance Run 2021 - 100 Mile 165.76 K', 'Gaelforce Mountain Run 2021 - 22km 21.36 K', 'Grand Trail Stevenson 2021 - Gts 106 Km 105.40 K', 'Nuts Ylläs Pallas 2021 - 100k 98.50 K', 'Nuts Ylläs Pallas 2021 - 37k 37.10 K', 'Brisbane Trail Ultra 2021 - Brisbane Trail Ultra 100 Mile 160.90 K', 'Brisbane Trail Ultra 2021 - Brisbane Trail Ultra 30km 31.20 K', 'Brisbane Trail Ultra 2021 - Brisbane Trail Ultra 110 Km 116.70 K', 'Brisbane Trail Ultra 2021 - Brisbane Trail Ultra 60 Km 62.30 K', 'High Trail Vanoise 2021 - Htv Duo 72.20 K', 'High Trail Vanoise 2021 - Trail Des 6 Cols Duo 43.20 K', 'High Trail Vanoise 2021 - Trail Des 6 Cols  43.70 K', 'High Trail Vanoise 2021 - Htv 68.70 K', 'Wendover Woods Night 50km 2021 49.30 K', 'Brisbane Trail Ultra 2021 - Brisbane Trail Ultra 10km 10.30 K', 'Caut - Curnis Auta Trail 2021 81.30 K', 'Trail Des Passerelles Du Monteynard 2021 - Trail De Côte Rouge 25km 25.00 K', 'Race To The Stones 2021 - Rtts - 100k 100.00 K', 'Sinister 7 Ultra 2021 - Sinister 7 Ultra 100-Miler 160.70 K', 'Sinister 7 Ultra 2021 - Sinister 7 Ultra 50-Miler 82.50 K', \"Grand Trail De La Vallée D'ossau 2021 - Solo 72.40 K\", \"Grand Trail De La Vallée D'ossau 2021 - Relais 1 36.50 K\", \"Grand Trail De La Vallée D'ossau 2021 - Relais 2 36.50 K\", 'Mt Hood 50 2021 - 50 Miles 76.30 K', 'Hello Balaton Trail 2021 - Hello Badacsony Trail 53.30 K', 'Hello Balaton Trail 2021 - Hello Kőtenger Trail 18.80 K', 'Hello Balaton Trail 2021 - Hello Csobánc Trail 10.70 K', 'Gran Trail Courmayeur 2021 - Gtc 55 Km 52.30 K', 'Gran Trail Courmayeur 2021 - Gtc 30 Km 27.70 K', 'Xtremeidfjord 2021 - Dynafit Hardangerjøkulen Ultra 95.00 K', 'Ortler Sky Trails 2021 - Ortler Sky Marathon 43.40 K', 'Ortler Sky Trails 2021 - Stelvio Ultra Trail 85.90 K', 'Ortler Sky Trails 2021 - Ortler Glacier Trail 30.70 K', 'Xtremeidfjord 2021 - Hardangerjøkulen Ultra 34k 34.50 K', 'Trail Du Pays Welche 2021 - 52k 52.40 K', \"Trail Du Pays Welche 2021 - Balcons D'orbey 26.00 K\", 'Dyrfjallahlaup 2021 - Dyrfjallahlaup Coros 11.80 K', 'Faethon Olympus Marathon 2021 - F.O.M. Trail 13.70 K', 'K42 Italia 2021 - Ksprint 3.00 K', 'But Val Formazza 2021 - Bettelmatt Sky Race 35 Km 37.20 K', 'But Val Formazza 2021 - Bettelmatt Trail 52 Km 56.20 K', 'Siskiyou Out Back Trail Run 2021 - 50k 48.10 K', 'Tricity Trail 2021 - Maraton+ 49.10 K', 'Tricity Trail 2021 - 80+ 83.30 K', 'Tricity Trail 2021 - Polmaraton 21.40 K', 'Chiltern Challenge 2021 50.00 K', 'Le Trail De France 2021 - Etape 3 - Trail De France 72.00 K', 'Elephant Trail Race 2021 2021 - 25 Km 25.80 K', 'Last Call 50-Mile Endurance Run 2021 - 50 Mile 85.20 K', 'Grand Trail Stevenson 2021 - Gts 73 - Bougès &amp; Mont Lozère 72.60 K', 'High Trail Vanoise 2021 - Balcons De Val 19.70 K', 'Brisbane Trail Ultra 2021 - Brisbane Trail Ultra 20km 20.90 K', 'Trail Des Passerelles Du Monteynard 2021 - Maratrail Des Passerelles 42km 43.10 K', 'Trail Des Passerelles Du Monteynard 2021 - La Grande Course 65km 64.70 K', 'Mt Hood 50 2021 - 50 Km 46.20 K', 'Faethon Olympus Marathon 2021 42.20 K', 'Faethon Olympus Marathon 2021 - Rupicapra 19.80 K', 'K42 Italia 2021 45.10 K', 'Le Trail De France 2021 - Etape 4 - Trail De France 79.80 K', 'Nuts Ylläs Pallas 2021 - 320k 327.30 K', 'Le Trail De France 2021 - Etape 5 - Trail De France 78.40 K', 'Le Trail De France 2021 - Etape 6 - Trail De France 10.80 K', 'Trail Du Lou 2021 - Trail Du Lou - Trail Bêta Xxs 13.00 K', 'Trail Du Lou 2021 - Trail Du Lou - Trail Alpha Xs 23.00 K', \"Il Était Une Fois Dans L'est 2021 - L'oblique Des Daubots 243.10 K\", 'Ultra Tour Des 4 Massifs 2021 - Ut4m 160 Challenge 171.00 K', 'Ultra Tour Des 4 Massifs 2021 - Ut4m 40 Vercors 37.30 K', 'Ultra Tour Des 4 Massifs 2021 - Ut4m20 Vercors 19.40 K', 'Off Trail Mercantour Ubaye 2021 200.00 K', 'Ultra Tour Des 4 Massifs 2021 - Ut4m 80 Challenge 78.10 K', 'Valmalenco Ultradistance Trail 2021 - 100 Miglia Del Bernina 150.69 K', 'Lower Silesian Mountain Runs Festival 2021 - 7 Summit Run - 240 Km 236.60 K', 'Lower Silesian Mountain Runs Festival 2021 - Super Trail 130 Km 130.30 K', 'Xingotrailrun 2021 51.20 K', 'Tryavna Ultra 2021 - 141km 142.80 K', 'Ultra Tour Des 4 Massifs 2021 - Ut4m 160 Xtrem 169.80 K', 'Ultra Tour Des 4 Massifs 2021 - Ut4m 40 Taillefer 47.50 K', 'Ultra Tour Des 4 Massifs 2021 - Ut4m 20 Taillefer 22.00 K', 'Swedish Alpine Ultra® 2021 - Swedish Alpine Ultra Double 19 210.70 K', 'Valmalenco Ultradistance Trail 2021 87.90 K', 'Dolomites Skyrace 2021 - Dolomyths Run Skyrace 22.00 K', 'Lower Silesian Mountain Runs Festival 2021 - K B L - 110 Km 105.30 K', 'Lower Silesian Mountain Runs Festival 2021 - Golden Mountains Trail 32.60 K', 'Yorkshire Challenge 2021 - Yorkshire Challenge -100km 101.50 K', 'Yorkshire Challenge 2021 - Yorkshire Challenge -1st Half 49.20 K', 'Engadin Ultra Trail 2021 - Et23 22.70 K', 'Engadin Ultra Trail 2021 - Eut53 53.60 K', 'Engadin Ultra Trail 2021 - Eut102 101.90 K', 'Monterosa Est Himalayan Trail 2021 - Epic 60k 60.10 K', 'Monterosa Est Himalayan Trail 2021 - Challenge 22k 22.00 K', 'Monterosa Est Himalayan Trail 2021 - Sky 38k 39.50 K', 'Monterosa Est Himalayan Trail 2021 - Ultra 105k 105.00 K', 'Maratona Dos Vinhedos 2021 - 42k Maratona Vale Dos Vinhedos 42.00 K', 'Maratona Dos Vinhedos 2021 - 22k Vale Dos Vinhedos 22.00 K', 'Eiger Ultra-Trail® 2021 - E51 52.40 K', 'Eiger Ultra-Trail® 2021 - E51 Couples 52.40 K', 'Eiger Ultra-Trail® 2021 - E101 99.90 K', 'Eiger Ultra-Trail® 2021 - E35 36.80 K', 'Eiger Ultra-Trail® 2021 - E16 16.80 K', 'Trail Des Mélèzes Du Mercantour 2021 - 10km 10.00 K', 'Tahoe Rim Trail Endurance Runs 100m/50m/55k 2021 - 100 Mile 161.10 K', 'Tahoe Rim Trail Endurance Runs 100m/50m/55k 2021 - 55 Km 54.80 K', 'Tahoe Rim Trail Endurance Runs 100m/50m/55k 2021 - 50 Mile 81.30 K', 'Night Wave Of Longchi 2021 - 50km 49.00 K', 'Night Wave Of Longchi 2021 - 35km 35.00 K', 'Gruyère Trail Charmey (gtc) 2021 - Gtc_54 54.60 K', 'Gruyère Trail Charmey (gtc) 2021 - Gtc_24 24.30 K', 'Tryavna Ultra 2021 - 76km 76.30 K', 'Tryavna Ultra 2021 - 42km 41.60 K', 'Tryavna Ultra 2021 - 100km 98.70 K', 'Gruyère Trail Charmey (gtc) 2021 - Gtc_11 11.10 K', \"Il Était Une Fois Dans L'est 2021 - Les Balcons Du Léman 92.90 K\", 'Oisans Trail Tour 2021 - Ultra Trail - 85km 84.90 K', 'Oisans Trail Tour 2021 - Trail Tour - 41km 40.10 K', 'Oisans Trail Tour 2021 - Trail Court - 22km 22.00 K', 'Ultra Tour Des 4 Massifs 2021 - Ut4m 100 Master 96.80 K', 'Ultra Tour Des 4 Massifs 2021 - Ut4m 40 Belledonne 46.00 K', 'Utgs 2021 - Pt 10.20 K', 'Swedish Alpine Ultra® 2021 106.20 K', 'Transqilian Run 2021 - 100 Km 106.30 K', 'Transqilian Run 2021 - 50km 54.00 K', 'Dolomyths Run Sellaronda Ultra 2021 - Ultra 60.90 K', 'Lower Silesian Mountain Runs Festival 2021 - Zloty Maraton 45 Km 44.90 K', 'Lower Silesian Mountain Runs Festival 2021 - Ultra 68 Km 69.10 K', 'Lower Silesian Mountain Runs Festival 2021 - Zloty Polmaraton 21.00 K', 'Sanbe Trail 2021 - Sanbe Trail &amp; Vertical Contest 31.00 K', 'Laugavegur Ultra Marathon 2021 54.00 K', 'Yorkshire Challenge 2021 - Yorkshire Challenge- 2nd Half 50.20 K', 'Rzd Golden Ring Ultra Trail 100 2021 - T100 107.92 K', 'Rzd Golden Ring Ultra Trail 100 2021 - T30 34.60 K', 'Rzd Golden Ring Ultra Trail 100 2021 - T50 52.30 K', 'Rzd Golden Ring Ultra Trail 100 2021 - T80 80.80 K', 'Trail Des Mélèzes Du Mercantour 2021 - 25km 25.00 K', 'Trail Des Mélèzes Du Mercantour 2021 - 50km 50.00 K', 'Globallimits São Tomé 2021 - The Hemisphere Crossing 199.50 K', 'Ultra Tour Des 4 Massifs 2021 - Ut4m 40 Chartreuse 41.10 K', 'Ultra Trail Pululahua Ecuador 2021 - K-Vertical Ultra Trail Pululah 5.20 K', 'Columbia Trail Masters 2021 2021 - Columbia Trail Masters - 50k 50.60 K', 'Columbia Trail Masters 2021 2021 - Columbia Trail Masters - 26k 26.00 K', 'Utgs 2021 62.50 K', 'Utgs 2021 - Trs 25.70 K', 'Royal Race Gran Paradiso 2021 - Royal Ultra Sky Marathon 55.90 K', 'La 6000d La Course Des Géants 2021 - La 6 Découverte 11.00 K', 'La 6000d La Course Des Géants 2021 - La 6d Verticale 5.00 K', 'Buts Iruñea-Donostia 2021 - Iruñea-Donostia Buts 119.10 K', 'Terres Monviso 2021 - 100 Miglia Monviso 167.30 K', 'Ultra Trail Pululahua Ecuador 2021 - 170km Ultra Trail  Pulululahul 172.00 K', 'Trail Du Tour Des Fiz 2021 - Duo Des Fiz 24.50 K', 'La 6000d La Course Des Géants 2021 - La 6000d 67.40 K', 'La 6000d La Course Des Géants 2021 - La 6d Lacs 28.20 K', 'La 6000d La Course Des Géants 2021 - En Relais À 2 Montée 33.10 K', 'La 6000d La Course Des Géants 2021 - La 6000d En Relais À 2 Descente 34.30 K', 'South West Coast To Coast 2021 - South West   -102km 102.40 K', 'South West Coast To Coast 2021 - South West Coast  -1st Half 54.00 K', 'La 6000d La Course Des Géants 2021 - 6 D Marathon 42.30 K', 'Vars Mountain Trail 2021 - Le Col De Vars 13.00 K', 'Vars Mountain Trail 2021 - Kv-Kl 1.00 K', 'Swissalpine Davos 2021 - K68 68.00 K', 'Montreux Trail Festival 2021 - Mxalps 70.20 K', 'Montreux Trail Festival 2021 - Mxsky 29.90 K', \"Montreux Trail Festival 2021 - Freddie's Night 14.30 K\", 'Montreux Trail Festival 2021 - Mxfamily 29.90 K', 'Montreux Trail Festival 2021 - Mxtreme 110.50 K', 'Elkhorn Crest 2021 - 50m 86.30 K', 'Elkhorn Crest 2021 - 50k 48.50 K', 'The Guzzler Ultra 2021 - The Glass Half Full 51.50 K', 'The Guzzler Ultra 2021 104.20 K', 'The Gax 100 Miles 2021 162.30 K', 'Buts Iruñea-Donostia 2021 - Iruñea-Donostia Buts Txiki 70.90 K', 'Terres Monviso 2021 - Tour Monviso Trail 48.20 K', 'Blefjells Beste 2021 - Half Marathon 20.80 K', 'Blefjells Beste 2021 56.20 K', 'Beacons Way Ultra 2021 166.50 K', 'Burning River Endurance Run 2021 - Burning River 100 Mile 163.70 K', 'Burning River Endurance Run 2021 - Burning River Back 50 Mile 82.10 K', 'Burning River Endurance Run 2021 - Burning River 50 Mile 80.00 K', 'Stunner Night Runs 2021 - Stunner 50k 49.00 K', 'Stunner Night Runs 2021 - Stunner 25k 24.50 K', 'Trail Et Cross Du Vélan 2021 - 21 Km 22.30 K', 'Trail Et Cross Du Vélan 2021 - 15 Km 15.00 K', 'La Thuile Trail - Memorial Edo Camardella 2021 - La Thuile Trail - 25km 26.30 K', 'La Thuile Trail - Memorial Edo Camardella 2021 - La Thuile Ultra Trail - 60km 57.80 K', 'Jahorina Ultra-Trail® 2021 - Ultra Trail 100.00 K', 'Jahorina Ultra-Trail® 2021 - Jahorina Maxi Trail 43.00 K', 'International Orobie Sky Raid 2021 - International Orobie Skyraid 54.40 K', 'Trail Du Tour Des Fiz 2021 - Balcon Des Fiz  15.40 K', 'South West Coast To Coast 2021 - South West Coast - 2nd Half 48.20 K', 'Vars Mountain Trail 2021 - Boucle De Peynier 24.20 K', 'Vars Mountain Trail 2021 - Le Tour Des Crêtes 43.70 K', 'Vars Mountain Trail 2021 - Le Tour Des Villages 3.60 K', 'Swissalpine Davos 2021 - K43 42.90 K', 'The Guzzler Ultra 2021 - The Big Sipper 21.40 K', 'Jahorina Ultra-Trail® 2021 - Mini Trail 24.00 K', 'Trail Du Tour Des Fiz 2021 - Tour Des 8 Refuges  64.50 K', 'Trail Du Tour Des Fiz 2021 - Tour Des 5 Refuges 31.30 K', 'Giir Di Mont 2021 21.00 K', 'Chiemgauer 100 2021 - 100 Mile 160.93 K', 'Chiemgauer 100 2021 - 141 Km 141.00 K', 'Bucovina Ultra Rocks® 2021 - Beast 180 180.00 K', 'La Course Du Bois 2021 - La Course Du Bois / 2 Pts Itra 75.70 K', 'La Course Du Bois 2021 - La Course Du Bois / 3 Pts Itra 99.90 K', 'Grossglockner Ultra-Trail® 2021 - Ggut 110 110.00 K', 'Grossglockner Ultra-Trail® 2021 - Weissee Gletscherwelt Trail 35.60 K', 'Grossglockner Ultra-Trail® 2021 - Ggut 110 I 2 Part 1 47.50 K', 'Kozara Ultra Trail 2021 112.00 K', 'Wispertaunusmarathon 2021 44.40 K', 'The Round Reading Ultra 50km 2021 - 50 Km 50.80 K', 'Chiemgauer 100 2021 - 80 Km 80.00 K', 'Chiemgauer 100 2021 - 100 Km 100.00 K', 'Meråker Mountain Challenge 2021 62.40 K', 'Bucovina Ultra Rocks® 2021 - Ultra Rocks 110k 110.00 K', 'Bucovina Ultra Rocks® 2021 - 4 Summits 88k 88.00 K', \"Bucovina Ultra Rocks® 2021 - Lady's Rocks 48k 48.00 K\", 'Bucovina Ultra Rocks® 2021 - Rocky 33k 33.00 K', 'Bucovina Ultra Rocks® 2021 - Rumble Rock 15k 15.00 K', 'Marathon Du Grand Ballon 2021 - 80km 80.20 K', 'Marathon Du Grand Ballon 2021 - 42km 42.10 K', 'Marathon Du Grand Ballon 2021 - 26km 26.20 K', 'Trail Volodalen Du Lac De Vouglans 2021 - Tour Du Regardoir 38.00 K', 'Trail Volodalen Du Lac De Vouglans 2021 - Tour Du Lac 63.60 K', 'Súlur Vertical 2021 - Sulur V 28 28.80 K', 'Súlur Vertical 2021 - Sulur V 55 55.40 K', 'Súlur Vertical 2021 - Sulur V 18 18.70 K', 'Canadian Death Race 2021 - Canadian Death Race Solo 117.80 K', 'Canadian Death Race 2021 - Canadian Death Race Near Death Marathon 44.10 K', 'Never Summer 100k 2021 103.30 K', 'Mmk Wild Trail 2021 - Hard 125 Km 125.20 K', 'Vestfold Historic Ultra Trail 2021 - Vhut 147km 147.00 K', 'Vestfold Historic Ultra Trail 2021 - Vhut 87km 87.30 K', 'La Course Du Bois 2021 - La Course Du Bois / 0 Pts Itra 57.00 K', 'La Course Du Bois 2021 - La Course Du Bois / 1 Pts Itra 60.50 K', 'Megève Nature Trail 2021 - La Dooble - 8km 7.30 K', 'Megève Nature Trail 2021 - La Dooble - 16km 15.50 K', \"Megève Nature Trail 2021 - L'aiguille - 43 Km 43.30 K\", 'Grossglockner Ultra-Trail® 2021 - Grossglockner Trail 57.20 K', 'Grossglockner Ultra-Trail® 2021 - Osttirol Trail 83.60 K', 'Grossglockner Ultra-Trail® 2021 - Ggut 110 I 2 Part 2 60.50 K', 'Megève Nature Trail 2021 - La Dooble Cime - 46 Km 44.50 K', 'Ultra London 2021 - Ultra London 55 55.40 K', 'Ultra London 2021 - Ultra London 27.5 28.60 K', 'Tushars Mountain Runs 2021 - 70km 70.00 K', 'Tushars Mountain Runs 2021 - 100km 100.00 K', 'Tushars Mountain Runs 2021 - Half Marathon 21.08 K', 'Tushars Mountain Runs 2021 - Marathon 42.16 K', 'Kozara Ultra Trail 2021 - Marathon 37.20 K', 'Kozara Ultra Trail 2021 - Trail 22.00 K', 'Edf Cenis Tour 2021 - Trail Noir 82.20 K', 'Edf Cenis Tour 2021 - Trail Rouge 59.30 K', 'Edf Cenis Tour 2021 - Trail Bleu 35.00 K', 'Edf Cenis Tour 2021 - Trail Vert 20.70 K', 'Edf Cenis Tour 2021 - Trail Jaune 12.40 K', 'Edf Cenis Tour 2021 - Trail Noir Relais 82.20 K', 'Pantelleria Trail 2021 - Gelfiser Trail 21 Km 21.20 K', 'Pantelleria Trail 2021 - Pantelleria Trail 50 Km 49.60 K', 'Mmk Wild Trail 2021 - Medium 61 Km 61.10 K', 'Mmk Wild Trail 2021 - Short 30 Km 29.70 K', 'Mmk Wild Trail 2021 - Fun 11 Km 11.50 K', 'Vestfold Historic Ultra Trail 2021 - Vhut 50km 50.60 K', 'Megève Nature Trail 2021 - La Cime - 30km 29.00 K', 'Salomon Baba-Kamzík 2021 - Kbk53 53.00 K', 'Salomon Baba-Kamzík 2021 - Bk26 26.00 K', 'Salomon Baba-Kamzík 2021 - Ksk15 15.00 K', 'Kozara Ultra Trail 2021 - 10 K 11.00 K', 'Kat100 2021 - Kat100 Ekiden Trail 1 Relay 91.50 K', 'Kat100 2021 - Kat100miles 173.90 K', 'Kat100 2021 - Kat100 Endurance Trail 91.50 K', 'Beacons 50 &amp; Beacons 100 2021 - Beacons 100 164.80 K', 'Kat100 2021 - Kat100 Ekiden Trail 2 Relay 82.70 K', 'Iznik Ultra 2021 - 160 K 166.30 K', 'Trans Scania 2021 234.20 K', 'Skyrunfest 2021 81.00 K', 'Pitz Alpine Glacier Trail 2021 - Pitz 90 88.50 K', 'Pitz Alpine Glacier Trail 2021 - Pitz 106 104.70 K', 'Pitz Alpine Glacier Trail 2021 - Pitz 60 - Mittelberglesee 63.10 K', 'Silverton Ultra Dirty 2021 - 100-Mile 163.70 K', 'Beacons 50 &amp; Beacons 100 2021 - Beacons 50 86.30 K', 'Kat100 2021 - Kat100 Marathon Trail 61.90 K', 'Kat100 2021 - Kat100 Speed Trail 24.20 K', 'Iznik Ultra 2021 - 90 K 88.80 K', 'Iznik Ultra 2021 - 55 K 57.20 K', 'Iznik Ultra 2021 - 35k 36.80 K', 'Round The Rock 2021 73.50 K', 'Bèrghem Ultra 130k 2021 137.10 K', 'Sierra Andina Mountain Trail 2021 - Huascarán 90k 2-Day Stage Run 86.70 K', 'The Rat 2021 - The Plague (64 Miles) 98.70 K', 'Centurion North Downs Way 100 2021 165.20 K', 'Val Tho Summit Games 2021 - Vt Speed 3200 4.50 K', 'Sheep Mountain Endurance Run 2021 - 50-Mile 83.60 K', 'Sheep Mountain Endurance Run 2021 - 50k 50.90 K', 'Trail Des Hauts Forts 2021 50.60 K', \"Trail Des Hauts Forts 2021 - Trail Des Mines D'or 22.90 K\", 'Trail Des Hauts Forts 2021 - Relais Des Contrebandiers - Partie 2 22.60 K', 'Trail Des Hauts Forts 2021 - Relais Des Contrebandiers - Partie 1 30.50 K', 'Trail Des Hauts Forts 2021 - Trail Du Fornet 39.30 K', 'Pitz Alpine Glacier Trail 2021 - Pitz 45 - Rifflsee 42.40 K', 'Pitz Alpine Glacier Trail 2021 - Pitz 45 - Glacier 42.50 K', 'Pitz Alpine Glacier Trail 2021 - Pitz 15 15.40 K', 'Pitz Alpine Glacier Trail 2021 - Pitz 30 26.90 K', 'Volcanic 50 2021 - 50k 52.20 K', 'Meribel Trail 2021 - 10km 10.80 K', 'Meribel Trail 2021 - Kv De Meribel 2.70 K', 'Chudy Wawrzyniec 2021 - 80km 82.40 K', 'Chudy Wawrzyniec 2021 - 50km 51.70 K', 'Silverton Ultra Dirty 2021 - 100k 95.80 K', 'Silverton Ultra Dirty 2021 - 60k 58.90 K', 'Stranda Fjord Trail Race 2021 - Stranda Fjord Trail Race 48k 49.20 K', 'Stranda Fjord Trail Race 2021 - Stranda Fjord Trail Race 100k 98.90 K', 'Sierre-Zinal 2021 31.30 K', 'Bunketorp Backyard Ultra Trail 2021 - Bbut -  12 Loops 81.80 K', 'Bunketorp Backyard Ultra Trail 2021 - Bbut - 15 Loops 102.30 K', 'Bunketorp Backyard Ultra Trail 2021 - Bbut - 19 Loops 129.60 K', 'Bunketorp Backyard Ultra Trail 2021 - Bbut - 24 Loops 163.70 K', 'Bunketorp Backyard Ultra Trail 2021 - Bbut - 29 Loops 197.90 K', 'Bunketorp Backyard Ultra Trail 2021 - Bbut - 35 Loops 238.80 K', 'Făgăraș Rocks! 2021 - Berivoi Race 20.00 K', 'Făgăraș Rocks! 2021 - Hermeneasa Race 2 35.00 K', 'Făgăraș Rocks! 2021 - Brătila Skyrace 6 47.80 K', 'Făgăraș Rocks! 2021 - Dara Ultra Skyrace 16 70.80 K', 'Bumm Hegyvidék Terepmaraton 2021 - Halfmarathon - 21,1 Km 21.10 K', 'Bumm Hegyvidék Terepmaraton 2021 - Marathon 42,2 Km 42.20 K', 'Iznik Ultra 2021 - 25k 25.00 K', 'Sierra Andina Mountain Trail 2021 - Pisco 30k 30.00 K', 'Sierra Andina Mountain Trail 2021 - Llanganuco Lakes 13k 11.40 K', 'Sierra Andina Mountain Trail 2021 - Huascarán 45k 42.90 K', 'Mongolia Trail Run 2021 176.90 K', 'Val Tho Summit Games 2021 - Vt Trail Pursuit 42 Km 42.60 K', 'Val Tho Summit Games 2021 - Vt Trail Pursuit 10 Km 10.00 K', 'Val Tho Summit Games 2021 - Vt Trail Pursuit 20 Km 19.80 K', 'Meribel Trail 2021 - 25 Km 23.50 K', 'Meribel Trail 2021 - 50 Km 50.00 K', 'Volcanic 50 2021 - 25k 24.00 K', 'Chudy Wawrzyniec 2021 - Mala Rycerzowa 20.80 K', 'Chudy Wawrzyniec 2021 - Parszywa Bendoszka 59.40 K', 'Ubaye Trail Salomon 2021 - Parcours Elite 42.00 K', 'Ubaye Trail Salomon 2021 - Parcours Découverte 22.00 K', 'Ubaye Trail Salomon 2021 - Parcours Open 12.00 K', 'Ultra Race Romania 2021 259.00 K', 'New Event 2021 - New Race 18.60 K', 'Mt. Ashland Hillclimb Run 2021 21.40 K', 'Supertrail Du Barlatay 2021 - Ultra Trail Du Barlatay 103.20 K', 'Supertrail Du Barlatay 2021 - Ultra Trail Du Barlatay Team 103.20 K', 'The Crossing Of Dartmoor 2021 58.90 K', 'Swiss Alps 100 2021 - 100km 101.30 K', 'Swiss Alps 100 2021 - 50km 50.20 K', 'Stour Valley Path 100km Ultra Run 2021 - Stour Valley Path 100km Ultra 101.50 K', 'Stour Valley Path 100km Ultra Run 2021 - Stour Valley Path 50km Ultra 48.10 K', 'Malidak Race 2021 - Malidak Race - Half Hard 26.10 K', 'Malidak Race 2021 - Hard 40.30 K', 'Malidak Race 2021 - Malidak Race - Short Hard 5.00 K', 'Malidak Race 2021 - Ultra Hard 101.10 K', 'Malidak Race 2021 - Ultra Light 74.30 K', 'Salomon Rondane 100 2021 163.80 K', 'Salomon Rondane 100 2021 - Salomon Rondane 50 85.90 K', 'Nuts Pyhä 2021 - Tunturimaraton 42.90 K', 'Nuts Pyhä 2021 - Tunturipuolikas 22.30 K', 'Nuts Pyhä 2021 - Tunturikymppi 11.00 K', 'Supertrail Du Barlatay 2021 - Trail Du Barlatay 49.40 K', 'Supertrail Du Barlatay 2021 - Trail Découverte 24.40 K', 'Supertrail Du Barlatay 2021 - Trail Du Barlatay Team 49.40 K', 'Supertrail Du Barlatay 2021 - Trail Découverte Team 24.40 K', 'Ultra Trail Des Sources 2021 160.10 K', 'Ultra Trail Des Sources 2021 - Ultra Trail Des Sources 80k 79.30 K', 'Ultra Great Britain 2021 353.60 K', 'Castle Peak 100k 2021 107.50 K', 'Madrisa Trail 2021 - T24 24.00 K', 'Madrisa Trail 2021 - Madrisa Trail T54 55.38 K', 'Enter Gauja Trail 2021 - Enter Gauja Trail East (84km) 83.70 K', 'Aladaglar Sky Trail 2021 - Karasay Sky Marathon 33.90 K', 'Vertigo Night Runs 2021 - Vertigo 52k 51.16 K', 'Vertigo Night Runs 2021 - Vertigo 31k 30.20 K', 'Endure Trail 2021 - Endure Trail 60 Km 58.70 K', 'Endure Trail 2021 - 60 Km Sunset To Sunrise 58.70 K', 'Scenic Rim Ultra 2021 - Scenic Rim Ultra 105km 105.00 K', 'Scenic Rim Ultra 2021 - Scenic Rim Ultra 65km 65.00 K', 'Swiss Alps 100 2021 - 160km 159.90 K', 'Racingtheplanet 2021 - Racingtheplanet Georgia 245.70 K', 'Scafell Pike Trail Marathon 2021 - 42 Km 44.90 K', 'Valday Ultra Trail 2021 - Vut 105k 105.00 K', 'Valday Ultra Trail 2021 - Vut 15k 14.40 K', 'Valday Ultra Trail 2021 - Vut 30k 29.70 K', 'Valday Ultra Trail 2021 - Vut 55k 56.90 K', 'Santa Maria Trail 2021 - Smat32 32.70 K', 'Endure Trail 2021 - Endure Trail 30 Km 29.30 K', 'Grand Raid Des Pyrénées 2021 - Ultra Tour 220 219.50 K', 'Grand Raid Des Pyrénées 2021 - Tour Du Moudang 63.00 K', 'Le Belier 2021 - Super Belier 84.00 K', 'Persenk Ultra 2021 164.00 K', 'Persenk Ultra 2021 - Wild Boar Ultra 112.10 K', \"Le Belier 2021 - 15 Km - L'agneau 15.00 K\", 'Cairns Portdouglas Trail Ultra 2021 - Cptu40 40.00 K', 'Cairns Portdouglas Trail Ultra 2021 - Cptu20 18.30 K', 'Cairns Portdouglas Trail Ultra 2021 - Cptu10 11.10 K', \"Échappée Belle 2021 - L'intégrale 149.00 K\", \"Échappée Belle 2021 - L'intégrale Duo 147.80 K\", 'Grand Raid Des Pyrénées 2021 - Tour Des Cirques 120.00 K', 'Grand Raid Des Pyrénées 2021 - Tour Du Nouvielle 41.80 K', 'Grand Raid Des Pyrénées 2021 - Ultra Tour 160 157.40 K', 'Runfire Salt Lake Ultra 2021 - 100 Mile 160.93 K', 'Hardmoors 2021 - 55 Mi 89.00 K', 'Le Belier 2021 - 27 Km - Le Bélier 27.00 K', 'Trail Des Volcans 2021 - Tdv 101 Km 101.00 K', 'Trail Des Volcans 2021 - Tdv 51 - Dômes &amp; Combrailles 51.00 K', 'Caucasus Ultra Trail (cut) 2021 - Su300 373.60 K', 'Caucasus Ultra Trail (cut) 2021 - 100 Kilometers To The Bezengi 104.30 K', 'Persenk Ultra 2021 - Orehovo Ultra 50.90 K', 'Persenk Ultra 2021 - Orehovo Run 30.00 K', 'Caucasus Ultra Trail (cut) 2021 - Shauat 46.10 K', 'Caucasus Ultra Trail (cut) 2021 - Shadjatmaz 11.40 K', 'Pelister Unique Trail Marathon 2021 - Pelister Trail 20k 20.00 K', 'Pelister Unique Trail Marathon 2021 - Pelister Ultra 50k 50.00 K', 'Pelister Unique Trail Marathon 2021 - Pelister Ultra Xtr 100k 104.00 K', 'Caucasus Ultra Trail (cut) 2021 - 100 Miles Of Caucasus 168.30 K', 'Black Spur Ultra 2021 - Black Spur Ultra 108k 108.50 K', 'Black Spur Ultra 2021 - Black Spur Ultra 54k 54.20 K', 'Écolo Trail De L’izoard 2021 - K80 81.00 K', 'Écolo Trail De L’izoard 2021 - K25 27.00 K', 'Écolo Trail De L’izoard 2021 - K10 10.00 K', 'Trail Della Luna 2021 28.90 K', 'Waldo 100k 2021 100.20 K', 'Cairns Portdouglas Trail Ultra 2021 - Cptu120 118.80 K', 'Échappée Belle 2021 - Traversée Nord 86.50 K', 'Échappée Belle 2021 - Parcours Des Crêtes 57.10 K', 'Grand Raid Des Pyrénées 2021 - Tour Des Lacs 79.50 K', 'Grand Raid Des Pyrénées 2021 - Tour De La Gela 42.30 K', 'Endure Trail 2021 - 120 Km 118.00 K', 'Runfire Salt Lake Ultra 2021 - 20k 20.00 K', 'Runfire Salt Lake Ultra 2021 - 80k 80.00 K', 'Runfire Salt Lake Ultra 2021 - 40k 40.00 K', 'Mošovce Trail 2021 - Drienok 25 25.00 K', 'Mošovce Trail 2021 - Mošovské Aleje 7 7.50 K', 'Mošovce Trail 2021 - Jelenec 12 12.20 K', 'Le Belier 2021 - Marathon 42.00 K', 'Tour De La Grande Casse 2021 - Semi De La Vanoise 19.80 K', 'Tour De La Grande Casse 2021 - Maratrail De La Vanoise 42.40 K', 'Tour De La Grande Casse 2021 65.90 K', 'Suva Trail 2021 44.30 K', 'Trail Des Volcans 2021 - Tdv 50 - Monts Dore 50.00 K', 'Les Crêtes Vosgiennes 2021 33.40 K', 'Bottlebutt Bash Trail Run 2021 2021 - Half Marathon 21.50 K', 'Bottlebutt Bash Trail Run 2021 2021 - Marathon 43.10 K', 'Südtirol Ultra Skyrace 2021 - Ultra Skyrace 123.10 K', 'Vietnam Mountain Marathon 2021 - Ultra 100km 101.60 K', 'Beskidy Ultra - Trail® 2021 - But 100 102.60 K', 'Beskidy Ultra - Trail® 2021 - But 50  48.20 K', 'Beskidy Ultra - Trail® 2021 - But 75  74.90 K', 'Beskidy Ultra - Trail® 2021 - But 30 31.00 K', 'Pohorje Ultra-Trail® 2021 - Pohorje Ultra-Trail® - 115k 114.20 K', 'Südtirol Ultra Skyrace 2021 - Sky Marathon 42.50 K', 'Südtirol Ultra Skyrace 2021 - Skyrace 69.00 K', 'Südtirol Ultra Skyrace 2021 - Sky Trail 26.10 K', 'Salming Idre Fjällmaraton 2021 - 45 Km - Renens Stig 46.00 K', 'Salming Idre Fjällmaraton 2021 - 84 Km - Järvens Stig 84.90 K', 'Metsovo Ursa Trail 2021 - Ultra Ursa Trail 100km 96.70 K', 'Nendaz Trail 2021 - Petit Parcours 31.60 K', 'Nendaz Trail 2021 - Grand Parcours 71.00 K', 'Nendaz Trail 2021 - Adotrail Et Parcours Découverte 16.40 K', 'Quarry Ultra Track 2021 - 40k Quarry Ultra 40.00 K', 'Quarry Ultra Track 2021 - 20k Quarry Ultra 19.70 K', 'Quarry Ultra Track 2021 - 10k Quarry Ultra 11.30 K', 'Quarry Ultra Track 2021 - 60k Quarry Ultra 60.50 K', 'Oregon Cascades 100 2021 161.80 K', '10. Rag Hartfüssler Trail 2021 - Rag Hartfüssler Trail - 14km 12.70 K', 'Vietnam Mountain Marathon 2021 - Ultra 70km 66.90 K', 'Vietnam Mountain Marathon 2021 - 42km 42.90 K', 'Vietnam Mountain Marathon 2021 - 21km 20.70 K', 'Nut 50k 2021 - 50k 52.10 K', 'Grep Grenlandslopet 2021 - Grep Grenlandsløpet 47.40 K', 'North Ultra 2021 54.30 K', 'Nut 50k 2021 - 17 Mile 27.20 K', 'La Chute Du Diable 9e Edition 2021 - 50 Km : Le Trou Du Diable 50.00 K', 'La Chute Du Diable 9e Edition 2021 - 80 Km - Le Diable Au Corps 81.50 K', 'Pohorje Ultra-Trail® 2021 - Pohorje Ultra-Trail® - 17k 16.80 K', 'Pohorje Ultra-Trail® 2021 - Pohorje Ultra-Trail® - 35k 36.80 K', 'Pohorje Ultra-Trail® 2021 - Pohorje Ultra-Trail® - 70k 70.50 K', 'Trail De La Sonnette 2021 8.00 K', 'Trail De La Sonnette 2021 15.00 K', 'Trail De La Sonnette 2021 27.00 K', 'The Grand Tour Of Skiddaw 2021 75.00 K', '10. Rag Hartfüssler Trail 2021 - Rag Hartfüssler Trail - 58km 59.00 K', '10. Rag Hartfüssler Trail 2021 - Rag Hartfüssler Trail - 30km 31.40 K', 'Pyrenees Stage Run 2021 239.90 K', 'Swisspeaks Trail 2021 - 360 366.00 K', 'Swisspeaks Trail 2021 - 360 Duo 366.00 K', 'Ugresha-Trail 2021 - Ugresha 70k 69.80 K', 'Ugresha-Trail 2021 - Ugresha 30k 31.10 K', 'Ugresha-Trail 2021 - Ugresha 17k 18.00 K', 'Ugresha-Trail 2021 - Ugresha 50k 50.10 K', 'Ugresha-Trail 2021 - Blitz 6.70 K', 'Ugresha-Trail 2021 - Blitz Relay, Stage 1 7.00 K', 'Ugresha-Trail 2021 - Blitz Relay, Stage 2 7.00 K', 'Ugresha-Trail 2021 - Blitz Relay, Stage 3 7.00 K', 'Ultra Tour Monte Rosa 2021 - Stage Race 172.70 K', 'Ultra Tour Monte Rosa 2021 - Ultra Tour 170 Km 171.00 K', 'Swisspeaks Trail 2021 - 170 170.80 K', \"Ring O' Fire 2021 209.90 K\", 'Yaboty Ultra Maraton 2021 - Int. Ultra Trail Yaboty 71k 71.00 K', 'Yaboty Ultra Maraton 2021 - Int. Marathon Yaboty 42k 42.00 K', 'Yaboty Ultra Maraton 2021 - Ultra Jungle Trail Yaboty 50k 50.00 K', 'Ultra Tour Monte Rosa 2021 - Utmr 3 Passes 100 Km 97.40 K', 'Swisspeaks Trail 2021 - 100k 100.30 K', 'Peak District Ultras 2021 - Millstone 100 166.90 K', 'South Coast Challenge 2021 99.00 K', 'South Coast Challenge 2021 - South Coast -1st Half 54.40 K', 'Ribnca Trail 2021 - Ribn´ca Trail 41.10 K', 'Yaboty Ultra Maraton 2021 - Jungle Trail Yaboty 35k 35.00 K', 'Ultra Tour Monte Rosa 2021 - Grächen Berglauf 25.00 K', 'La Sportiva Andorra Trail 2021 - Trail 1-2 62.90 K', 'La Sportiva Andorra Trail 2021 - La Sportiva Andorra Trail 1 32.10 K', 'Swisspeaks Trail 2021 - Marathon 43.90 K', 'Peak District Ultras 2021 - Limestone 50 83.10 K', 'Peak District Ultras 2021 - Peveril 33 56.20 K', 'Snowdon Ultra 2021 - Snowdon Ultra 100 173.40 K', 'Snowdon Ultra 2021 76.00 K', 'Ultra Trail Haut-Koenigsbourg ® 2021 - Uthk 109 Km 107.60 K', 'Trail Des 600 Boitheux 2021 - 68km 68.10 K', 'Trail 2 Heaven 2021 - 50k 50.90 K', 'Trail 2 Heaven 2021 - 26k 26.60 K', 'Trail 2 Heaven 2021 - Trail&amp;walk 2 Heaven - 17k 17.60 K', 'Ultra-Trail® Harricana Du Canada 2021 - 65k 62.60 K', 'Ultra-Trail® Harricana Du Canada 2021 - 125k 125.10 K', 'Desafío Urbión 2021 - Ii Desafío Urbión Open 12.00 K', 'Lake Sonoma 50 2021 77.10 K', 'Maverick Adidas Terrex  X Peaks 50km 2021 - Maverick Adidas Terrex X Peaks 54.00 K', 'South Coast Challenge 2021 - South Coast -2nd Half 44.60 K', 'La Sportiva Andorra Trail 2021 - La Sportiva Andorra Trail 2 30.70 K', 'Swisspeaks Trail 2021 - Semi-Mara 21.80 K', 'Ultra Trail Haut-Koenigsbourg ® 2021 - Thk 56 Km 56.50 K', 'Ultra Trail Haut-Koenigsbourg ® 2021 - Thk 25 Km 25.00 K', 'Alpina Sierra De Gador 2021 29.00 K', 'Ultra-Trail Khao Eto 2021 2021 - 23 Km. 23.00 K', 'Penacova Trail Do Centro 2021 - Penacova Trail Do Centro 43km 42.70 K', 'Ultra-Trail Khao Eto 2021 2021 - 58 Km. 60.80 K', 'Ultra-Trail Khao Eto 2021 2021 - 33 Km. 34.90 K', 'Desafío Urbión 2021 - Vii Desafío Urbión 37.20 K', 'Pirin Extreme &amp; Pirin Ultra 2021 - Pirin Ultra 160km 159.30 K', 'Finlayson Arm 2021 - 100k 104.00 K', 'Finlayson Arm 2021 - The Double 130.80 K', 'Torx 2021 - Tor450 Tor Des Glaciers 456.50 K', 'Vdg Trail Short 2021 - Vdg Trail Ultra 120.00 K', '100 Miles Of Istria 2021 - Red 167.50 K', '100 Miles Of Istria 2021 - Blue 127.70 K', 'Ktr Ultra Serra Da Canastra 2021 - Ktr Canastra 50k 51.70 K', 'Ktr Ultra Serra Da Canastra 2021 - Ktr Canastra 100k 104.00 K', 'Thames Path Challenge 2021 99.40 K', 'Thames Path Challenge 2021 - Thames Path - 1st Half 49.80 K', 'Att Nova Petrópolis 2021 - Trajeto Longo 30.00 K', 'Att Nova Petrópolis 2021 - Trajeto Médio 20.40 K', 'Att Nova Petrópolis 2021 - Trajeto Curto 8.50 K', 'Att Nova Petrópolis 2021 - Ultramaratona 47.00 K', 'Freaky Creeky 50 &amp; 100 Km 2021 - Freaky Creeky 100km 102.20 K', 'The Great North Walk Ultras 2021 - 100 Kilometres 101.80 K', 'The Great North Walk Ultras 2021 - 100 Miles 162.50 K', 'The Great North Walk Ultras 2021 - 50 Miles 80.30 K', 'The Great North Walk Ultras 2021 - 50 Kilometres 50.40 K', 'The Great North Walk Ultras 2021 - 25 Kilometres 26.10 K', 'Eden Valley Ultra Trail 2021 - 50km Ultra Trail 50.40 K', 'Ultra Trail Du Vercors 2021 - Expé-Trail 46.00 K', 'Ultra Trail Du Vercors 2021 - Ultra Trail Du Vercors - Solo 85.00 K', 'Ultra Trail Du Vercors 2021 - Ultra Trail Du Vercors Relais 85.00 K', 'Pirin Extreme &amp; Pirin Ultra 2021 - Pirin Ultra 66km 67.60 K', 'Pirin Extreme &amp; Pirin Ultra 2021 - Pirin Extreme 38k 38.30 K', 'Innsbruck Alpine Trailrun Festival 2021 - K15 13.20 K', 'Südthüringentrail 2021 - Heldentrail 65.40 K', 'Südthüringentrail 2021 - Riesentrail 47.90 K', 'Black Squirrel Trail Half Marathon 2021 21.24 K', \"Trail Côte D'opale 2021 - 24 Km 24.40 K\", \"Trail Côte D'opale 2021 - Challenge 110 Km 109.40 K\", 'Dolomiti Di Brenta Trail 2021 - 64k 64.60 K', 'Dolomiti Di Brenta Trail 2021 - 45k 45.00 K', 'Impérial Trail De Fontainebleau 2021 - Impératrice 12.00 K', 'Vdg Trail Short 2021 - Vdg Trailultra Medium 61.40 K', 'Vdg Trail Short 2021 39.70 K']\n"
     ]
    }
   ],
   "source": [
    "# Find the race names\n",
    "racesList = re.findall(r'(?<=<h5 data-v-f3c4ac1c=\"\" class=\"itra-green\">)(.*?)(?=</h5>)', get_source)\n",
    "print(len(racesList))\n",
    "print(racesList)"
   ]
  },
  {
   "cell_type": "code",
   "execution_count": 34,
   "metadata": {},
   "outputs": [
    {
     "name": "stdout",
     "output_type": "stream",
     "text": [
      "2100\n",
      "['https://itra.run/race/13893', 'https://itra.run/race/13895', 'https://itra.run/race/13897', 'https://itra.run/race/13899', 'https://itra.run/race/23623', 'https://itra.run/race/25353', 'https://itra.run/race/25355', 'https://itra.run/race/25357', 'https://itra.run/race/2642', 'https://itra.run/race/23465', 'https://itra.run/race/25359', 'https://itra.run/race/822', 'https://itra.run/race/9497', 'https://itra.run/race/9423', 'https://itra.run/race/26317', 'https://itra.run/race/931', 'https://itra.run/race/1781', 'https://itra.run/race/26747', 'https://itra.run/race/5963', 'https://itra.run/race/1628', 'https://itra.run/race/17069', 'https://itra.run/race/4050', 'https://itra.run/race/4049', 'https://itra.run/race/10747', 'https://itra.run/race/24893', 'https://itra.run/race/2740', 'https://itra.run/race/1285', 'https://itra.run/race/27887', 'https://itra.run/race/27888', 'https://itra.run/race/27906', 'https://itra.run/race/27907', 'https://itra.run/race/28044', 'https://itra.run/race/4705', 'https://itra.run/race/24319', 'https://itra.run/race/27958', 'https://itra.run/race/20771', 'https://itra.run/race/21075', 'https://itra.run/race/6375', 'https://itra.run/race/17893', 'https://itra.run/race/14519', 'https://itra.run/race/5595', 'https://itra.run/race/14521', 'https://itra.run/race/20773', 'https://itra.run/race/20775', 'https://itra.run/race/25925', 'https://itra.run/race/25953', 'https://itra.run/race/906', 'https://itra.run/race/23761', 'https://itra.run/race/23763', 'https://itra.run/race/24321', 'https://itra.run/race/3104', 'https://itra.run/race/28038', 'https://itra.run/race/2639', 'https://itra.run/race/2647', 'https://itra.run/race/2648', 'https://itra.run/race/23467', 'https://itra.run/race/28249', 'https://itra.run/race/23381', 'https://itra.run/race/19839', 'https://itra.run/race/19841', 'https://itra.run/race/385', 'https://itra.run/race/21453', 'https://itra.run/race/22003', 'https://itra.run/race/22023', 'https://itra.run/race/20075', 'https://itra.run/race/20077', 'https://itra.run/race/20079', 'https://itra.run/race/8495', 'https://itra.run/race/1050', 'https://itra.run/race/14725', 'https://itra.run/race/14727', 'https://itra.run/race/21167', 'https://itra.run/race/21169', 'https://itra.run/race/5989', 'https://itra.run/race/25195', 'https://itra.run/race/25197', 'https://itra.run/race/4584', 'https://itra.run/race/21867', 'https://itra.run/race/27362', 'https://itra.run/race/27363', 'https://itra.run/race/27364', 'https://itra.run/race/27334', 'https://itra.run/race/27335', 'https://itra.run/race/27336', 'https://itra.run/race/27337', 'https://itra.run/race/27521', 'https://itra.run/race/27537', 'https://itra.run/race/27996', 'https://itra.run/race/28030', 'https://itra.run/race/28031', 'https://itra.run/race/28330', 'https://itra.run/race/18103', 'https://itra.run/race/18105', 'https://itra.run/race/18111', 'https://itra.run/race/18113', 'https://itra.run/race/19837', 'https://itra.run/race/23825', 'https://itra.run/race/14633', 'https://itra.run/race/14637', 'https://itra.run/race/28032', 'https://itra.run/race/28033', 'https://itra.run/race/1386', 'https://itra.run/race/10967', 'https://itra.run/race/26047', 'https://itra.run/race/21849', 'https://itra.run/race/15081', 'https://itra.run/race/22019', 'https://itra.run/race/17501', 'https://itra.run/race/16849', 'https://itra.run/race/22731', 'https://itra.run/race/302', 'https://itra.run/race/20657', 'https://itra.run/race/15061', 'https://itra.run/race/9347', 'https://itra.run/race/21629', 'https://itra.run/race/17541', 'https://itra.run/race/4485', 'https://itra.run/race/4250', 'https://itra.run/race/16329', 'https://itra.run/race/16331', 'https://itra.run/race/24329', 'https://itra.run/race/3507', 'https://itra.run/race/5017', 'https://itra.run/race/5018', 'https://itra.run/race/25065', 'https://itra.run/race/22025', 'https://itra.run/race/17587', 'https://itra.run/race/22199', 'https://itra.run/race/1956', 'https://itra.run/race/27731', 'https://itra.run/race/25199', 'https://itra.run/race/12255', 'https://itra.run/race/11215', 'https://itra.run/race/11213', 'https://itra.run/race/6629', 'https://itra.run/race/6631', 'https://itra.run/race/11949', 'https://itra.run/race/895', 'https://itra.run/race/27586', 'https://itra.run/race/27587', 'https://itra.run/race/27588', 'https://itra.run/race/27589', 'https://itra.run/race/4984', 'https://itra.run/race/3297', 'https://itra.run/race/27973', 'https://itra.run/race/23099', 'https://itra.run/race/23105', 'https://itra.run/race/23101', 'https://itra.run/race/23103', 'https://itra.run/race/1804', 'https://itra.run/race/8111', 'https://itra.run/race/26145', 'https://itra.run/race/26147', 'https://itra.run/race/26149', 'https://itra.run/race/26151', 'https://itra.run/race/28414', 'https://itra.run/race/27948', 'https://itra.run/race/28245', 'https://itra.run/race/5931', 'https://itra.run/race/12479', 'https://itra.run/race/7697', 'https://itra.run/race/6989', 'https://itra.run/race/14967', 'https://itra.run/race/27530', 'https://itra.run/race/4953', 'https://itra.run/race/12047', 'https://itra.run/race/23425', 'https://itra.run/race/23427', 'https://itra.run/race/24133', 'https://itra.run/race/27758', 'https://itra.run/race/27974', 'https://itra.run/race/28494', 'https://itra.run/race/28495', 'https://itra.run/race/28496', 'https://itra.run/race/26233', 'https://itra.run/race/26307', 'https://itra.run/race/26321', 'https://itra.run/race/16175', 'https://itra.run/race/16177', 'https://itra.run/race/27136', 'https://itra.run/race/4955', 'https://itra.run/race/24527', 'https://itra.run/race/18451', 'https://itra.run/race/28555', 'https://itra.run/race/15909', 'https://itra.run/race/15911', 'https://itra.run/race/22747', 'https://itra.run/race/8117', 'https://itra.run/race/11071', 'https://itra.run/race/11073', 'https://itra.run/race/18825', 'https://itra.run/race/425', 'https://itra.run/race/1673', 'https://itra.run/race/25547', 'https://itra.run/race/25549', 'https://itra.run/race/25737', 'https://itra.run/race/25739', 'https://itra.run/race/25741', 'https://itra.run/race/11075', 'https://itra.run/race/11067', 'https://itra.run/race/18823', 'https://itra.run/race/1631', 'https://itra.run/race/1857', 'https://itra.run/race/2665', 'https://itra.run/race/3565', 'https://itra.run/race/27135', 'https://itra.run/race/27301', 'https://itra.run/race/27302', 'https://itra.run/race/4585', 'https://itra.run/race/4586', 'https://itra.run/race/1887', 'https://itra.run/race/1326', 'https://itra.run/race/6789', 'https://itra.run/race/27975', 'https://itra.run/race/26575', 'https://itra.run/race/14367', 'https://itra.run/race/11077', 'https://itra.run/race/27800', 'https://itra.run/race/27801', 'https://itra.run/race/27802', 'https://itra.run/race/27904', 'https://itra.run/race/27905', 'https://itra.run/race/11541', 'https://itra.run/race/11543', 'https://itra.run/race/11545', 'https://itra.run/race/28436', 'https://itra.run/race/23945', 'https://itra.run/race/28461', 'https://itra.run/race/28462', 'https://itra.run/race/28754', 'https://itra.run/race/28755', 'https://itra.run/race/5877', 'https://itra.run/race/1388', 'https://itra.run/race/27909', 'https://itra.run/race/3163', 'https://itra.run/race/26895', 'https://itra.run/race/26921', 'https://itra.run/race/27089', 'https://itra.run/race/22649', 'https://itra.run/race/27732', 'https://itra.run/race/25587', 'https://itra.run/race/25727', 'https://itra.run/race/27908', 'https://itra.run/race/27926', 'https://itra.run/race/28054', 'https://itra.run/race/28055', 'https://itra.run/race/1893', 'https://itra.run/race/1894', 'https://itra.run/race/5099', 'https://itra.run/race/23469', 'https://itra.run/race/28359', 'https://itra.run/race/16447', 'https://itra.run/race/22569', 'https://itra.run/race/4966', 'https://itra.run/race/26917', 'https://itra.run/race/26919', 'https://itra.run/race/24769', 'https://itra.run/race/24889', 'https://itra.run/race/22647', 'https://itra.run/race/27910', 'https://itra.run/race/27911', 'https://itra.run/race/22771', 'https://itra.run/race/22773', 'https://itra.run/race/22775', 'https://itra.run/race/13641', 'https://itra.run/race/26333', 'https://itra.run/race/26667', 'https://itra.run/race/26939', 'https://itra.run/race/3520', 'https://itra.run/race/13365', 'https://itra.run/race/18985', 'https://itra.run/race/18987', 'https://itra.run/race/23641', 'https://itra.run/race/619', 'https://itra.run/race/620', 'https://itra.run/race/7425', 'https://itra.run/race/27552', 'https://itra.run/race/27553', 'https://itra.run/race/27761', 'https://itra.run/race/27972', 'https://itra.run/race/27976', 'https://itra.run/race/1990', 'https://itra.run/race/4943', 'https://itra.run/race/4944', 'https://itra.run/race/7491', 'https://itra.run/race/28380', 'https://itra.run/race/28391', 'https://itra.run/race/5068', 'https://itra.run/race/7591', 'https://itra.run/race/28697', 'https://itra.run/race/16489', 'https://itra.run/race/2696', 'https://itra.run/race/4748', 'https://itra.run/race/17897', 'https://itra.run/race/17899', 'https://itra.run/race/1669', 'https://itra.run/race/20529', 'https://itra.run/race/21045', 'https://itra.run/race/25191', 'https://itra.run/race/18931', 'https://itra.run/race/18933', 'https://itra.run/race/18935', 'https://itra.run/race/22975', 'https://itra.run/race/2346', 'https://itra.run/race/28097', 'https://itra.run/race/28098', 'https://itra.run/race/28100', 'https://itra.run/race/17269', 'https://itra.run/race/13195', 'https://itra.run/race/14219', 'https://itra.run/race/28253', 'https://itra.run/race/21151', 'https://itra.run/race/21153', 'https://itra.run/race/28696', 'https://itra.run/race/2956', 'https://itra.run/race/12461', 'https://itra.run/race/17463', 'https://itra.run/race/26083', 'https://itra.run/race/26085', 'https://itra.run/race/14635', 'https://itra.run/race/4545', 'https://itra.run/race/15939', 'https://itra.run/race/15981', 'https://itra.run/race/27821', 'https://itra.run/race/27822', 'https://itra.run/race/27912', 'https://itra.run/race/27918', 'https://itra.run/race/12023', 'https://itra.run/race/12027', 'https://itra.run/race/3803', 'https://itra.run/race/28556', 'https://itra.run/race/28557', 'https://itra.run/race/28700', 'https://itra.run/race/18995', 'https://itra.run/race/27925', 'https://itra.run/race/10575', 'https://itra.run/race/16049', 'https://itra.run/race/24249', 'https://itra.run/race/27387', 'https://itra.run/race/27823', 'https://itra.run/race/1368', 'https://itra.run/race/27923', 'https://itra.run/race/27924', 'https://itra.run/race/4285', 'https://itra.run/race/28587', 'https://itra.run/race/15361', 'https://itra.run/race/2355', 'https://itra.run/race/24253', 'https://itra.run/race/16851', 'https://itra.run/race/27388', 'https://itra.run/race/27389', 'https://itra.run/race/1736', 'https://itra.run/race/3622', 'https://itra.run/race/27922', 'https://itra.run/race/13485', 'https://itra.run/race/22383', 'https://itra.run/race/22385', 'https://itra.run/race/28028', 'https://itra.run/race/28029', 'https://itra.run/race/2379', 'https://itra.run/race/18831', 'https://itra.run/race/17383', 'https://itra.run/race/17385', 'https://itra.run/race/19107', 'https://itra.run/race/19109', 'https://itra.run/race/19111', 'https://itra.run/race/23605', 'https://itra.run/race/25013', 'https://itra.run/race/25015', 'https://itra.run/race/25017', 'https://itra.run/race/28402', 'https://itra.run/race/28403', 'https://itra.run/race/4', 'https://itra.run/race/2678', 'https://itra.run/race/28512', 'https://itra.run/race/28513', 'https://itra.run/race/28514', 'https://itra.run/race/28538', 'https://itra.run/race/28588', 'https://itra.run/race/18475', 'https://itra.run/race/18477', 'https://itra.run/race/7269', 'https://itra.run/race/7267', 'https://itra.run/race/23463', 'https://itra.run/race/23585', 'https://itra.run/race/27155', 'https://itra.run/race/21655', 'https://itra.run/race/4410', 'https://itra.run/race/890', 'https://itra.run/race/8835', 'https://itra.run/race/4820', 'https://itra.run/race/4821', 'https://itra.run/race/4823', 'https://itra.run/race/11765', 'https://itra.run/race/13155', 'https://itra.run/race/22537', 'https://itra.run/race/28596', 'https://itra.run/race/28597', 'https://itra.run/race/28598', 'https://itra.run/race/28599', 'https://itra.run/race/4484', 'https://itra.run/race/28678', 'https://itra.run/race/28698', 'https://itra.run/race/28756', 'https://itra.run/race/28757', 'https://itra.run/race/23917', 'https://itra.run/race/24469', 'https://itra.run/race/4057', 'https://itra.run/race/1578', 'https://itra.run/race/2380', 'https://itra.run/race/23307', 'https://itra.run/race/12037', 'https://itra.run/race/16151', 'https://itra.run/race/22575', 'https://itra.run/race/16517', 'https://itra.run/race/2742', 'https://itra.run/race/2744', 'https://itra.run/race/28288', 'https://itra.run/race/28290', 'https://itra.run/race/11669', 'https://itra.run/race/11671', 'https://itra.run/race/20453', 'https://itra.run/race/24525', 'https://itra.run/race/10937', 'https://itra.run/race/10939', 'https://itra.run/race/24997', 'https://itra.run/race/7839', 'https://itra.run/race/28173', 'https://itra.run/race/28185', 'https://itra.run/race/4346', 'https://itra.run/race/16451', 'https://itra.run/race/12477', 'https://itra.run/race/12475', 'https://itra.run/race/12285', 'https://itra.run/race/19237', 'https://itra.run/race/22789', 'https://itra.run/race/22791', 'https://itra.run/race/22939', 'https://itra.run/race/22941', 'https://itra.run/race/4762', 'https://itra.run/race/4347', 'https://itra.run/race/10801', 'https://itra.run/race/28316', 'https://itra.run/race/6173', 'https://itra.run/race/6175', 'https://itra.run/race/27997', 'https://itra.run/race/2172', 'https://itra.run/race/2804', 'https://itra.run/race/10343', 'https://itra.run/race/12131', 'https://itra.run/race/2244', 'https://itra.run/race/4703', 'https://itra.run/race/26405', 'https://itra.run/race/26603', 'https://itra.run/race/26613', 'https://itra.run/race/26617', 'https://itra.run/race/18343', 'https://itra.run/race/26715', 'https://itra.run/race/3091', 'https://itra.run/race/3003', 'https://itra.run/race/3148', 'https://itra.run/race/27551', 'https://itra.run/race/2870', 'https://itra.run/race/5037', 'https://itra.run/race/1215', 'https://itra.run/race/1255', 'https://itra.run/race/2395', 'https://itra.run/race/16143', 'https://itra.run/race/15959', 'https://itra.run/race/19131', 'https://itra.run/race/22891', 'https://itra.run/race/27783', 'https://itra.run/race/6665', 'https://itra.run/race/2741', 'https://itra.run/race/3051', 'https://itra.run/race/15885', 'https://itra.run/race/22521', 'https://itra.run/race/28323', 'https://itra.run/race/28324', 'https://itra.run/race/12129', 'https://itra.run/race/12133', 'https://itra.run/race/12135', 'https://itra.run/race/28487', 'https://itra.run/race/18953', 'https://itra.run/race/5144', 'https://itra.run/race/28778', 'https://itra.run/race/5529', 'https://itra.run/race/4444', 'https://itra.run/race/15753', 'https://itra.run/race/9801', 'https://itra.run/race/23047', 'https://itra.run/race/18345', 'https://itra.run/race/18347', 'https://itra.run/race/388', 'https://itra.run/race/1921', 'https://itra.run/race/14865', 'https://itra.run/race/22379', 'https://itra.run/race/27736', 'https://itra.run/race/404', 'https://itra.run/race/3221', 'https://itra.run/race/17303', 'https://itra.run/race/17305', 'https://itra.run/race/17307', 'https://itra.run/race/24167', 'https://itra.run/race/23683', 'https://itra.run/race/23685', 'https://itra.run/race/18983', 'https://itra.run/race/28516', 'https://itra.run/race/28744', 'https://itra.run/race/28746', 'https://itra.run/race/19329', 'https://itra.run/race/28620', 'https://itra.run/race/28638', 'https://itra.run/race/17511', 'https://itra.run/race/11233', 'https://itra.run/race/11235', 'https://itra.run/race/23153', 'https://itra.run/race/27901', 'https://itra.run/race/4135', 'https://itra.run/race/8033', 'https://itra.run/race/17923', 'https://itra.run/race/17925', 'https://itra.run/race/17927', 'https://itra.run/race/6309', 'https://itra.run/race/4027', 'https://itra.run/race/10115', 'https://itra.run/race/8101', 'https://itra.run/race/8043', 'https://itra.run/race/11291', 'https://itra.run/race/15535', 'https://itra.run/race/13691', 'https://itra.run/race/18041', 'https://itra.run/race/27308', 'https://itra.run/race/27339', 'https://itra.run/race/27340', 'https://itra.run/race/27342', 'https://itra.run/race/11457', 'https://itra.run/race/11463', 'https://itra.run/race/1617', 'https://itra.run/race/24861', 'https://itra.run/race/10495', 'https://itra.run/race/27789', 'https://itra.run/race/27791', 'https://itra.run/race/27895', 'https://itra.run/race/27899', 'https://itra.run/race/27902', 'https://itra.run/race/28197', 'https://itra.run/race/12265', 'https://itra.run/race/3757', 'https://itra.run/race/13537', 'https://itra.run/race/16999', 'https://itra.run/race/17001', 'https://itra.run/race/17003', 'https://itra.run/race/14841', 'https://itra.run/race/14843', 'https://itra.run/race/14845', 'https://itra.run/race/9395', 'https://itra.run/race/4387', 'https://itra.run/race/4388', 'https://itra.run/race/27341', 'https://itra.run/race/11459', 'https://itra.run/race/3769', 'https://itra.run/race/28040', 'https://itra.run/race/28057', 'https://itra.run/race/28058', 'https://itra.run/race/28061', 'https://itra.run/race/28172', 'https://itra.run/race/28203', 'https://itra.run/race/28225', 'https://itra.run/race/25061', 'https://itra.run/race/28571', 'https://itra.run/race/28706', 'https://itra.run/race/17299', 'https://itra.run/race/8883', 'https://itra.run/race/13487', 'https://itra.run/race/12105', 'https://itra.run/race/12107', 'https://itra.run/race/24161', 'https://itra.run/race/24163', 'https://itra.run/race/24165', 'https://itra.run/race/3337', 'https://itra.run/race/16535', 'https://itra.run/race/16537', 'https://itra.run/race/16539', 'https://itra.run/race/16127', 'https://itra.run/race/16207', 'https://itra.run/race/16209', 'https://itra.run/race/26611', 'https://itra.run/race/802', 'https://itra.run/race/12147', 'https://itra.run/race/27393', 'https://itra.run/race/3697', 'https://itra.run/race/387', 'https://itra.run/race/7787', 'https://itra.run/race/7789', 'https://itra.run/race/7791', 'https://itra.run/race/7793', 'https://itra.run/race/27683', 'https://itra.run/race/27684', 'https://itra.run/race/27685', 'https://itra.run/race/27686', 'https://itra.run/race/11925', 'https://itra.run/race/11929', 'https://itra.run/race/27759', 'https://itra.run/race/27760', 'https://itra.run/race/27775', 'https://itra.run/race/27792', 'https://itra.run/race/28126', 'https://itra.run/race/6439', 'https://itra.run/race/6443', 'https://itra.run/race/6445', 'https://itra.run/race/23525', 'https://itra.run/race/23527', 'https://itra.run/race/24635', 'https://itra.run/race/25645', 'https://itra.run/race/28187', 'https://itra.run/race/28189', 'https://itra.run/race/28191', 'https://itra.run/race/3753', 'https://itra.run/race/12573', 'https://itra.run/race/20651', 'https://itra.run/race/14731', 'https://itra.run/race/22691', 'https://itra.run/race/3338', 'https://itra.run/race/4087', 'https://itra.run/race/11927', 'https://itra.run/race/23799', 'https://itra.run/race/7929', 'https://itra.run/race/27793', 'https://itra.run/race/18201', 'https://itra.run/race/18263', 'https://itra.run/race/2765', 'https://itra.run/race/11403', 'https://itra.run/race/13479', 'https://itra.run/race/13887', 'https://itra.run/race/13889', 'https://itra.run/race/13891', 'https://itra.run/race/12239', 'https://itra.run/race/12241', 'https://itra.run/race/8173', 'https://itra.run/race/27132', 'https://itra.run/race/17503', 'https://itra.run/race/25883', 'https://itra.run/race/12345', 'https://itra.run/race/12941', 'https://itra.run/race/12943', 'https://itra.run/race/3026', 'https://itra.run/race/21997', 'https://itra.run/race/20015', 'https://itra.run/race/20017', 'https://itra.run/race/20053', 'https://itra.run/race/20819', 'https://itra.run/race/20821', 'https://itra.run/race/16937', 'https://itra.run/race/27130', 'https://itra.run/race/27365', 'https://itra.run/race/27366', 'https://itra.run/race/27370', 'https://itra.run/race/27373', 'https://itra.run/race/27374', 'https://itra.run/race/27375', 'https://itra.run/race/20197', 'https://itra.run/race/25891', 'https://itra.run/race/24859', 'https://itra.run/race/10209', 'https://itra.run/race/23563', 'https://itra.run/race/23565', 'https://itra.run/race/23567', 'https://itra.run/race/16717', 'https://itra.run/race/20427', 'https://itra.run/race/20429', 'https://itra.run/race/28084', 'https://itra.run/race/28085', 'https://itra.run/race/14255', 'https://itra.run/race/11129', 'https://itra.run/race/15341', 'https://itra.run/race/28299', 'https://itra.run/race/18221', 'https://itra.run/race/18223', 'https://itra.run/race/18225', 'https://itra.run/race/18479', 'https://itra.run/race/18481', 'https://itra.run/race/28732', 'https://itra.run/race/28735', 'https://itra.run/race/28736', 'https://itra.run/race/28775', 'https://itra.run/race/3941', 'https://itra.run/race/28817', 'https://itra.run/race/17591', 'https://itra.run/race/17595', 'https://itra.run/race/24093', 'https://itra.run/race/12939', 'https://itra.run/race/19761', 'https://itra.run/race/21999', 'https://itra.run/race/27532', 'https://itra.run/race/27533', 'https://itra.run/race/27534', 'https://itra.run/race/23705', 'https://itra.run/race/11125', 'https://itra.run/race/11127', 'https://itra.run/race/28558', 'https://itra.run/race/28733', 'https://itra.run/race/28734', 'https://itra.run/race/4707', 'https://itra.run/race/27563', 'https://itra.run/race/17203', 'https://itra.run/race/7013', 'https://itra.run/race/1667', 'https://itra.run/race/4021', 'https://itra.run/race/4022', 'https://itra.run/race/11847', 'https://itra.run/race/11849', 'https://itra.run/race/20213', 'https://itra.run/race/114', 'https://itra.run/race/527', 'https://itra.run/race/4901', 'https://itra.run/race/9971', 'https://itra.run/race/1026', 'https://itra.run/race/27516', 'https://itra.run/race/27518', 'https://itra.run/race/21769', 'https://itra.run/race/21771', 'https://itra.run/race/27699', 'https://itra.run/race/17217', 'https://itra.run/race/17219', 'https://itra.run/race/17221', 'https://itra.run/race/22097', 'https://itra.run/race/4422', 'https://itra.run/race/4423', 'https://itra.run/race/27900', 'https://itra.run/race/15209', 'https://itra.run/race/15211', 'https://itra.run/race/12849', 'https://itra.run/race/1393', 'https://itra.run/race/2210', 'https://itra.run/race/26029', 'https://itra.run/race/26031', 'https://itra.run/race/26033', 'https://itra.run/race/26035', 'https://itra.run/race/28394', 'https://itra.run/race/19577', 'https://itra.run/race/10559', 'https://itra.run/race/19169', 'https://itra.run/race/27519', 'https://itra.run/race/27700', 'https://itra.run/race/4421', 'https://itra.run/race/15657', 'https://itra.run/race/25303', 'https://itra.run/race/25305', 'https://itra.run/race/28174', 'https://itra.run/race/28176', 'https://itra.run/race/28177', 'https://itra.run/race/28500', 'https://itra.run/race/711', 'https://itra.run/race/1973', 'https://itra.run/race/3995', 'https://itra.run/race/28786', 'https://itra.run/race/28787', 'https://itra.run/race/19485', 'https://itra.run/race/19487', 'https://itra.run/race/19491', 'https://itra.run/race/19941', 'https://itra.run/race/19483', 'https://itra.run/race/16333', 'https://itra.run/race/27262', 'https://itra.run/race/26543', 'https://itra.run/race/10789', 'https://itra.run/race/10791', 'https://itra.run/race/15549', 'https://itra.run/race/15645', 'https://itra.run/race/3422', 'https://itra.run/race/6289', 'https://itra.run/race/18061', 'https://itra.run/race/12149', 'https://itra.run/race/20779', 'https://itra.run/race/9511', 'https://itra.run/race/9513', 'https://itra.run/race/9509', 'https://itra.run/race/26633', 'https://itra.run/race/26699', 'https://itra.run/race/26705', 'https://itra.run/race/26707', 'https://itra.run/race/2921', 'https://itra.run/race/14177', 'https://itra.run/race/21989', 'https://itra.run/race/26877', 'https://itra.run/race/27167', 'https://itra.run/race/1030', 'https://itra.run/race/1723', 'https://itra.run/race/25001', 'https://itra.run/race/27692', 'https://itra.run/race/2510', 'https://itra.run/race/2511', 'https://itra.run/race/4442', 'https://itra.run/race/5527', 'https://itra.run/race/18055', 'https://itra.run/race/19755', 'https://itra.run/race/21641', 'https://itra.run/race/21643', 'https://itra.run/race/2899', 'https://itra.run/race/181', 'https://itra.run/race/12879', 'https://itra.run/race/8651', 'https://itra.run/race/6123', 'https://itra.run/race/28108', 'https://itra.run/race/28201', 'https://itra.run/race/28206', 'https://itra.run/race/28207', 'https://itra.run/race/28208', 'https://itra.run/race/8037', 'https://itra.run/race/4473', 'https://itra.run/race/4474', 'https://itra.run/race/11275', 'https://itra.run/race/28617', 'https://itra.run/race/28619', 'https://itra.run/race/7389', 'https://itra.run/race/22107', 'https://itra.run/race/23697', 'https://itra.run/race/23699', 'https://itra.run/race/21991', 'https://itra.run/race/14049', 'https://itra.run/race/3150', 'https://itra.run/race/10447', 'https://itra.run/race/27571', 'https://itra.run/race/18063', 'https://itra.run/race/20085', 'https://itra.run/race/16053', 'https://itra.run/race/22087', 'https://itra.run/race/1759', 'https://itra.run/race/11179', 'https://itra.run/race/12387', 'https://itra.run/race/17671', 'https://itra.run/race/6761', 'https://itra.run/race/28152', 'https://itra.run/race/17947', 'https://itra.run/race/22661', 'https://itra.run/race/7741', 'https://itra.run/race/28667', 'https://itra.run/race/28668', 'https://itra.run/race/18921', 'https://itra.run/race/21377', 'https://itra.run/race/2656', 'https://itra.run/race/7585', 'https://itra.run/race/7587', 'https://itra.run/race/17455', 'https://itra.run/race/19639', 'https://itra.run/race/15743', 'https://itra.run/race/21343', 'https://itra.run/race/21345', 'https://itra.run/race/21347', 'https://itra.run/race/22353', 'https://itra.run/race/27297', 'https://itra.run/race/27347', 'https://itra.run/race/952', 'https://itra.run/race/2311', 'https://itra.run/race/6491', 'https://itra.run/race/4512', 'https://itra.run/race/7237', 'https://itra.run/race/3098', 'https://itra.run/race/4768', 'https://itra.run/race/27379', 'https://itra.run/race/27380', 'https://itra.run/race/27426', 'https://itra.run/race/27427', 'https://itra.run/race/27428', 'https://itra.run/race/27429', 'https://itra.run/race/23941', 'https://itra.run/race/2412', 'https://itra.run/race/2820', 'https://itra.run/race/4390', 'https://itra.run/race/22493', 'https://itra.run/race/22495', 'https://itra.run/race/22497', 'https://itra.run/race/22499', 'https://itra.run/race/22559', 'https://itra.run/race/22797', 'https://itra.run/race/549', 'https://itra.run/race/4460', 'https://itra.run/race/3739', 'https://itra.run/race/5439', 'https://itra.run/race/11469', 'https://itra.run/race/18385', 'https://itra.run/race/12273', 'https://itra.run/race/12337', 'https://itra.run/race/12339', 'https://itra.run/race/12341', 'https://itra.run/race/12343', 'https://itra.run/race/2654', 'https://itra.run/race/3594', 'https://itra.run/race/2334', 'https://itra.run/race/12947', 'https://itra.run/race/23217', 'https://itra.run/race/28209', 'https://itra.run/race/28210', 'https://itra.run/race/12203', 'https://itra.run/race/17603', 'https://itra.run/race/18677', 'https://itra.run/race/12389', 'https://itra.run/race/28509', 'https://itra.run/race/28510', 'https://itra.run/race/4215', 'https://itra.run/race/22541', 'https://itra.run/race/14811', 'https://itra.run/race/20497', 'https://itra.run/race/7183', 'https://itra.run/race/3431', 'https://itra.run/race/3432', 'https://itra.run/race/22233', 'https://itra.run/race/8549', 'https://itra.run/race/11293', 'https://itra.run/race/7589', 'https://itra.run/race/7761', 'https://itra.run/race/11209', 'https://itra.run/race/20127', 'https://itra.run/race/23147', 'https://itra.run/race/23149', 'https://itra.run/race/7383', 'https://itra.run/race/7385', 'https://itra.run/race/20187', 'https://itra.run/race/1025', 'https://itra.run/race/27838', 'https://itra.run/race/27839', 'https://itra.run/race/27840', 'https://itra.run/race/27841', 'https://itra.run/race/27842', 'https://itra.run/race/27843', 'https://itra.run/race/27844', 'https://itra.run/race/27846', 'https://itra.run/race/27891', 'https://itra.run/race/4242', 'https://itra.run/race/4212', 'https://itra.run/race/27937', 'https://itra.run/race/23703', 'https://itra.run/race/7449', 'https://itra.run/race/7145', 'https://itra.run/race/24037', 'https://itra.run/race/24039', 'https://itra.run/race/24041', 'https://itra.run/race/28247', 'https://itra.run/race/28248', 'https://itra.run/race/12263', 'https://itra.run/race/3433', 'https://itra.run/race/28589', 'https://itra.run/race/28590', 'https://itra.run/race/1876', 'https://itra.run/race/1877', 'https://itra.run/race/18417', 'https://itra.run/race/84', 'https://itra.run/race/1999', 'https://itra.run/race/4339', 'https://itra.run/race/13925', 'https://itra.run/race/8957', 'https://itra.run/race/19641', 'https://itra.run/race/27059', 'https://itra.run/race/27060', 'https://itra.run/race/27061', 'https://itra.run/race/27062', 'https://itra.run/race/27063', 'https://itra.run/race/27064', 'https://itra.run/race/27065', 'https://itra.run/race/22387', 'https://itra.run/race/4213', 'https://itra.run/race/26961', 'https://itra.run/race/28230', 'https://itra.run/race/28231', 'https://itra.run/race/28282', 'https://itra.run/race/28283', 'https://itra.run/race/16183', 'https://itra.run/race/16371', 'https://itra.run/race/28565', 'https://itra.run/race/8203', 'https://itra.run/race/8205', 'https://itra.run/race/3811', 'https://itra.run/race/28162', 'https://itra.run/race/27377', 'https://itra.run/race/27378', 'https://itra.run/race/4648', 'https://itra.run/race/2049', 'https://itra.run/race/4649', 'https://itra.run/race/22349', 'https://itra.run/race/2410', 'https://itra.run/race/27641', 'https://itra.run/race/27763', 'https://itra.run/race/27764', 'https://itra.run/race/8201', 'https://itra.run/race/1668', 'https://itra.run/race/472', 'https://itra.run/race/20743', 'https://itra.run/race/16515', 'https://itra.run/race/24237', 'https://itra.run/race/24239', 'https://itra.run/race/26413', 'https://itra.run/race/26417', 'https://itra.run/race/3410', 'https://itra.run/race/15603', 'https://itra.run/race/24699', 'https://itra.run/race/20981', 'https://itra.run/race/25101', 'https://itra.run/race/25153', 'https://itra.run/race/22351', 'https://itra.run/race/24311', 'https://itra.run/race/8805', 'https://itra.run/race/28611', 'https://itra.run/race/13227', 'https://itra.run/race/26411', 'https://itra.run/race/10429', 'https://itra.run/race/20675', 'https://itra.run/race/395', 'https://itra.run/race/16415', 'https://itra.run/race/2838', 'https://itra.run/race/3167', 'https://itra.run/race/22735', 'https://itra.run/race/27282', 'https://itra.run/race/27288', 'https://itra.run/race/27538', 'https://itra.run/race/22029', 'https://itra.run/race/22031', 'https://itra.run/race/27633', 'https://itra.run/race/27750', 'https://itra.run/race/27753', 'https://itra.run/race/27754', 'https://itra.run/race/12439', 'https://itra.run/race/12519', 'https://itra.run/race/27889', 'https://itra.run/race/28196', 'https://itra.run/race/4379', 'https://itra.run/race/25329', 'https://itra.run/race/28467', 'https://itra.run/race/28468', 'https://itra.run/race/28469', 'https://itra.run/race/18191', 'https://itra.run/race/18195', 'https://itra.run/race/28503', 'https://itra.run/race/28531', 'https://itra.run/race/18837', 'https://itra.run/race/18797', 'https://itra.run/race/24925', 'https://itra.run/race/28713', 'https://itra.run/race/13225', 'https://itra.run/race/13221', 'https://itra.run/race/12653', 'https://itra.run/race/27045', 'https://itra.run/race/16933', 'https://itra.run/race/27188', 'https://itra.run/race/27189', 'https://itra.run/race/27190', 'https://itra.run/race/22175', 'https://itra.run/race/1652', 'https://itra.run/race/22179', 'https://itra.run/race/24685', 'https://itra.run/race/3630', 'https://itra.run/race/14095', 'https://itra.run/race/23299', 'https://itra.run/race/16935', 'https://itra.run/race/9953', 'https://itra.run/race/15267', 'https://itra.run/race/1604', 'https://itra.run/race/1682', 'https://itra.run/race/8817', 'https://itra.run/race/8815', 'https://itra.run/race/12703', 'https://itra.run/race/27503', 'https://itra.run/race/17171', 'https://itra.run/race/17167', 'https://itra.run/race/17169', 'https://itra.run/race/3823', 'https://itra.run/race/22177', 'https://itra.run/race/27770', 'https://itra.run/race/10865', 'https://itra.run/race/10867', 'https://itra.run/race/10869', 'https://itra.run/race/4179', 'https://itra.run/race/24687', 'https://itra.run/race/25857', 'https://itra.run/race/25859', 'https://itra.run/race/7969', 'https://itra.run/race/7971', 'https://itra.run/race/7989', 'https://itra.run/race/325', 'https://itra.run/race/28095', 'https://itra.run/race/28101', 'https://itra.run/race/6547', 'https://itra.run/race/6549', 'https://itra.run/race/28259', 'https://itra.run/race/28276', 'https://itra.run/race/28277', 'https://itra.run/race/28364', 'https://itra.run/race/28367', 'https://itra.run/race/2997', 'https://itra.run/race/2999', 'https://itra.run/race/2998', 'https://itra.run/race/7387', 'https://itra.run/race/7415', 'https://itra.run/race/10283', 'https://itra.run/race/16411', 'https://itra.run/race/136', 'https://itra.run/race/2100', 'https://itra.run/race/3236', 'https://itra.run/race/28707', 'https://itra.run/race/27315', 'https://itra.run/race/9951', 'https://itra.run/race/3562', 'https://itra.run/race/538', 'https://itra.run/race/15265', 'https://itra.run/race/15261', 'https://itra.run/race/15263', 'https://itra.run/race/27511', 'https://itra.run/race/22965', 'https://itra.run/race/22967', 'https://itra.run/race/27591', 'https://itra.run/race/22171', 'https://itra.run/race/22173', 'https://itra.run/race/8017', 'https://itra.run/race/8019', 'https://itra.run/race/23175', 'https://itra.run/race/20799', 'https://itra.run/race/20801', 'https://itra.run/race/20803', 'https://itra.run/race/20805', 'https://itra.run/race/28133', 'https://itra.run/race/28134', 'https://itra.run/race/28135', 'https://itra.run/race/5071', 'https://itra.run/race/2038', 'https://itra.run/race/28366', 'https://itra.run/race/28404', 'https://itra.run/race/22531', 'https://itra.run/race/11955', 'https://itra.run/race/11861', 'https://itra.run/race/2083', 'https://itra.run/race/2893', 'https://itra.run/race/4335', 'https://itra.run/race/28762', 'https://itra.run/race/5575', 'https://itra.run/race/1646', 'https://itra.run/race/7543', 'https://itra.run/race/27471', 'https://itra.run/race/98', 'https://itra.run/race/99', 'https://itra.run/race/25559', 'https://itra.run/race/26419', 'https://itra.run/race/26421', 'https://itra.run/race/1513', 'https://itra.run/race/7539', 'https://itra.run/race/7541', 'https://itra.run/race/496', 'https://itra.run/race/22487', 'https://itra.run/race/22489', 'https://itra.run/race/22491', 'https://itra.run/race/22195', 'https://itra.run/race/22197', 'https://itra.run/race/22203', 'https://itra.run/race/27492', 'https://itra.run/race/27596', 'https://itra.run/race/27651', 'https://itra.run/race/27878', 'https://itra.run/race/2926', 'https://itra.run/race/1553', 'https://itra.run/race/327', 'https://itra.run/race/43', 'https://itra.run/race/17457', 'https://itra.run/race/28213', 'https://itra.run/race/28214', 'https://itra.run/race/4417', 'https://itra.run/race/12841', 'https://itra.run/race/13369', 'https://itra.run/race/18907', 'https://itra.run/race/18909', 'https://itra.run/race/23905', 'https://itra.run/race/3718', 'https://itra.run/race/26729', 'https://itra.run/race/3695', 'https://itra.run/race/3693', 'https://itra.run/race/17641', 'https://itra.run/race/26423', 'https://itra.run/race/432', 'https://itra.run/race/7545', 'https://itra.run/race/14051', 'https://itra.run/race/22205', 'https://itra.run/race/27494', 'https://itra.run/race/27652', 'https://itra.run/race/27653', 'https://itra.run/race/27654', 'https://itra.run/race/27675', 'https://itra.run/race/27676', 'https://itra.run/race/27677', 'https://itra.run/race/25125', 'https://itra.run/race/25127', 'https://itra.run/race/17895', 'https://itra.run/race/27921', 'https://itra.run/race/28116', 'https://itra.run/race/14353', 'https://itra.run/race/17579', 'https://itra.run/race/12843', 'https://itra.run/race/28518', 'https://itra.run/race/7045', 'https://itra.run/race/12279', 'https://itra.run/race/12281', 'https://itra.run/race/12283', 'https://itra.run/race/5253', 'https://itra.run/race/12783', 'https://itra.run/race/18433', 'https://itra.run/race/24425', 'https://itra.run/race/22525', 'https://itra.run/race/11199', 'https://itra.run/race/11201', 'https://itra.run/race/11203', 'https://itra.run/race/11139', 'https://itra.run/race/4880', 'https://itra.run/race/5059', 'https://itra.run/race/11679', 'https://itra.run/race/15983', 'https://itra.run/race/945', 'https://itra.run/race/6081', 'https://itra.run/race/1953', 'https://itra.run/race/22799', 'https://itra.run/race/22801', 'https://itra.run/race/4247', 'https://itra.run/race/4248', 'https://itra.run/race/4249', 'https://itra.run/race/13673', 'https://itra.run/race/23497', 'https://itra.run/race/24357', 'https://itra.run/race/24359', 'https://itra.run/race/1231', 'https://itra.run/race/4001', 'https://itra.run/race/4004', 'https://itra.run/race/4510', 'https://itra.run/race/27416', 'https://itra.run/race/9551', 'https://itra.run/race/2286', 'https://itra.run/race/27448', 'https://itra.run/race/12785', 'https://itra.run/race/21619', 'https://itra.run/race/7293', 'https://itra.run/race/12165', 'https://itra.run/race/12173', 'https://itra.run/race/17469', 'https://itra.run/race/17471', 'https://itra.run/race/27940', 'https://itra.run/race/27941', 'https://itra.run/race/3536', 'https://itra.run/race/15073', 'https://itra.run/race/28074', 'https://itra.run/race/28075', 'https://itra.run/race/28092', 'https://itra.run/race/5097', 'https://itra.run/race/5098', 'https://itra.run/race/5102', 'https://itra.run/race/25115', 'https://itra.run/race/28215', 'https://itra.run/race/28218', 'https://itra.run/race/3137', 'https://itra.run/race/28328', 'https://itra.run/race/18429', 'https://itra.run/race/18431', 'https://itra.run/race/28357', 'https://itra.run/race/19177', 'https://itra.run/race/19179', 'https://itra.run/race/19181', 'https://itra.run/race/19183', 'https://itra.run/race/21547', 'https://itra.run/race/6737', 'https://itra.run/race/6735', 'https://itra.run/race/24789', 'https://itra.run/race/24791', 'https://itra.run/race/24977', 'https://itra.run/race/22969', 'https://itra.run/race/14729', 'https://itra.run/race/14333', 'https://itra.run/race/14483', 'https://itra.run/race/27469', 'https://itra.run/race/27470', 'https://itra.run/race/27564', 'https://itra.run/race/27942', 'https://itra.run/race/27943', 'https://itra.run/race/27944', 'https://itra.run/race/27945', 'https://itra.run/race/15951', 'https://itra.run/race/20847', 'https://itra.run/race/16267', 'https://itra.run/race/25573', 'https://itra.run/race/25575', 'https://itra.run/race/5258', 'https://itra.run/race/18419', 'https://itra.run/race/28159', 'https://itra.run/race/28216', 'https://itra.run/race/919', 'https://itra.run/race/28358', 'https://itra.run/race/14893', 'https://itra.run/race/14857', 'https://itra.run/race/21695', 'https://itra.run/race/27043', 'https://itra.run/race/21835', 'https://itra.run/race/21837', 'https://itra.run/race/18379', 'https://itra.run/race/4166', 'https://itra.run/race/10061', 'https://itra.run/race/27540', 'https://itra.run/race/5095', 'https://itra.run/race/1031', 'https://itra.run/race/8061', 'https://itra.run/race/21511', 'https://itra.run/race/21513', 'https://itra.run/race/25893', 'https://itra.run/race/26415', 'https://itra.run/race/26579', 'https://itra.run/race/27290', 'https://itra.run/race/27352', 'https://itra.run/race/1523', 'https://itra.run/race/4404', 'https://itra.run/race/21559', 'https://itra.run/race/19823', 'https://itra.run/race/27569', 'https://itra.run/race/27570', 'https://itra.run/race/4712', 'https://itra.run/race/20099', 'https://itra.run/race/17451', 'https://itra.run/race/17447', 'https://itra.run/race/17449', 'https://itra.run/race/27834', 'https://itra.run/race/27835', 'https://itra.run/race/27836', 'https://itra.run/race/9841', 'https://itra.run/race/12297', 'https://itra.run/race/28070', 'https://itra.run/race/12333', 'https://itra.run/race/12335', 'https://itra.run/race/28211', 'https://itra.run/race/28212', 'https://itra.run/race/28517', 'https://itra.run/race/13379', 'https://itra.run/race/13381', 'https://itra.run/race/2145', 'https://itra.run/race/27410', 'https://itra.run/race/18971', 'https://itra.run/race/24241', 'https://itra.run/race/28720', 'https://itra.run/race/28723', 'https://itra.run/race/19489', 'https://itra.run/race/19493', 'https://itra.run/race/19943', 'https://itra.run/race/11259', 'https://itra.run/race/5135', 'https://itra.run/race/12199', 'https://itra.run/race/12201', 'https://itra.run/race/27122', 'https://itra.run/race/4878', 'https://itra.run/race/946', 'https://itra.run/race/9553', 'https://itra.run/race/4799', 'https://itra.run/race/4800', 'https://itra.run/race/28278', 'https://itra.run/race/28279', 'https://itra.run/race/18381', 'https://itra.run/race/18383', 'https://itra.run/race/18391', 'https://itra.run/race/18393', 'https://itra.run/race/11615', 'https://itra.run/race/19809', 'https://itra.run/race/21839', 'https://itra.run/race/26407', 'https://itra.run/race/26409', 'https://itra.run/race/24219', 'https://itra.run/race/24221', 'https://itra.run/race/4165', 'https://itra.run/race/20673', 'https://itra.run/race/381', 'https://itra.run/race/22221', 'https://itra.run/race/22733', 'https://itra.run/race/21679', 'https://itra.run/race/21681', 'https://itra.run/race/536', 'https://itra.run/race/27450', 'https://itra.run/race/10973', 'https://itra.run/race/10975', 'https://itra.run/race/24887', 'https://itra.run/race/27539', 'https://itra.run/race/2791', 'https://itra.run/race/2792', 'https://itra.run/race/3831', 'https://itra.run/race/3730', 'https://itra.run/race/3832', 'https://itra.run/race/8821', 'https://itra.run/race/842', 'https://itra.run/race/1276', 'https://itra.run/race/3314', 'https://itra.run/race/4509', 'https://itra.run/race/4802', 'https://itra.run/race/28013', 'https://itra.run/race/28015', 'https://itra.run/race/28016', 'https://itra.run/race/11743', 'https://itra.run/race/11745', 'https://itra.run/race/1205', 'https://itra.run/race/54', 'https://itra.run/race/614', 'https://itra.run/race/2843', 'https://itra.run/race/28532', 'https://itra.run/race/24313', 'https://itra.run/race/5252', 'https://itra.run/race/5254', 'https://itra.run/race/26831', 'https://itra.run/race/26833', 'https://itra.run/race/27998', 'https://itra.run/race/17441', 'https://itra.run/race/17443', 'https://itra.run/race/17445', 'https://itra.run/race/23741', 'https://itra.run/race/23743', 'https://itra.run/race/28790', 'https://itra.run/race/16513', 'https://itra.run/race/26037', 'https://itra.run/race/26039', 'https://itra.run/race/26041', 'https://itra.run/race/26043', 'https://itra.run/race/26045', 'https://itra.run/race/22033', 'https://itra.run/race/17127', 'https://itra.run/race/24847', 'https://itra.run/race/24849', 'https://itra.run/race/1287', 'https://itra.run/race/23505', 'https://itra.run/race/23507', 'https://itra.run/race/23509', 'https://itra.run/race/23511', 'https://itra.run/race/23513', 'https://itra.run/race/669', 'https://itra.run/race/2968', 'https://itra.run/race/10439', 'https://itra.run/race/10441', 'https://itra.run/race/27406', 'https://itra.run/race/27575', 'https://itra.run/race/27577', 'https://itra.run/race/27578', 'https://itra.run/race/11107', 'https://itra.run/race/11109', 'https://itra.run/race/11021', 'https://itra.run/race/11023', 'https://itra.run/race/27803', 'https://itra.run/race/27804', 'https://itra.run/race/27805', 'https://itra.run/race/27871', 'https://itra.run/race/27932', 'https://itra.run/race/27933', 'https://itra.run/race/13295', 'https://itra.run/race/13341', 'https://itra.run/race/13293', 'https://itra.run/race/16995', 'https://itra.run/race/28164', 'https://itra.run/race/28165', 'https://itra.run/race/28166', 'https://itra.run/race/28167', 'https://itra.run/race/28168', 'https://itra.run/race/28169', 'https://itra.run/race/9245', 'https://itra.run/race/4284', 'https://itra.run/race/25889', 'https://itra.run/race/17131', 'https://itra.run/race/17139', 'https://itra.run/race/17141', 'https://itra.run/race/22247', 'https://itra.run/race/4019', 'https://itra.run/race/407', 'https://itra.run/race/1867', 'https://itra.run/race/1905', 'https://itra.run/race/644', 'https://itra.run/race/728', 'https://itra.run/race/21561', 'https://itra.run/race/21279', 'https://itra.run/race/28737', 'https://itra.run/race/28789', 'https://itra.run/race/28791', 'https://itra.run/race/28792', 'https://itra.run/race/10567', 'https://itra.run/race/22035', 'https://itra.run/race/3801', 'https://itra.run/race/27317', 'https://itra.run/race/27318', 'https://itra.run/race/27319', 'https://itra.run/race/23613', 'https://itra.run/race/23615', 'https://itra.run/race/27825', 'https://itra.run/race/27934', 'https://itra.run/race/27957', 'https://itra.run/race/27960', 'https://itra.run/race/27961', 'https://itra.run/race/3542', 'https://itra.run/race/3543', 'https://itra.run/race/22973', 'https://itra.run/race/28232', 'https://itra.run/race/1938', 'https://itra.run/race/1939', 'https://itra.run/race/28564', 'https://itra.run/race/28788', 'https://itra.run/race/601', 'https://itra.run/race/23569', 'https://itra.run/race/28827', 'https://itra.run/race/2091', 'https://itra.run/race/21259', 'https://itra.run/race/21263', 'https://itra.run/race/3335', 'https://itra.run/race/27166', 'https://itra.run/race/27168', 'https://itra.run/race/27169', 'https://itra.run/race/15811', 'https://itra.run/race/19791', 'https://itra.run/race/12993', 'https://itra.run/race/10273', 'https://itra.run/race/2409', 'https://itra.run/race/15681', 'https://itra.run/race/24805', 'https://itra.run/race/25051', 'https://itra.run/race/2122', 'https://itra.run/race/25179', 'https://itra.run/race/16891', 'https://itra.run/race/1704', 'https://itra.run/race/21261', 'https://itra.run/race/25437', 'https://itra.run/race/9913', 'https://itra.run/race/7225', 'https://itra.run/race/27170', 'https://itra.run/race/14939', 'https://itra.run/race/15809', 'https://itra.run/race/12673', 'https://itra.run/race/12651', 'https://itra.run/race/720', 'https://itra.run/race/1511', 'https://itra.run/race/3572', 'https://itra.run/race/10781', 'https://itra.run/race/3252', 'https://itra.run/race/15679', 'https://itra.run/race/15683', 'https://itra.run/race/16739', 'https://itra.run/race/16741', 'https://itra.run/race/14929', 'https://itra.run/race/15985', 'https://itra.run/race/18991', 'https://itra.run/race/15125', 'https://itra.run/race/4171', 'https://itra.run/race/4173', 'https://itra.run/race/20555', 'https://itra.run/race/27678', 'https://itra.run/race/27788', 'https://itra.run/race/23995', 'https://itra.run/race/1775', 'https://itra.run/race/867', 'https://itra.run/race/22865', 'https://itra.run/race/2593', 'https://itra.run/race/3479', 'https://itra.run/race/3480', 'https://itra.run/race/492', 'https://itra.run/race/28049', 'https://itra.run/race/28051', 'https://itra.run/race/28052', 'https://itra.run/race/2123', 'https://itra.run/race/4256', 'https://itra.run/race/19781', 'https://itra.run/race/17755', 'https://itra.run/race/17757', 'https://itra.run/race/23897', 'https://itra.run/race/28138', 'https://itra.run/race/488', 'https://itra.run/race/3936', 'https://itra.run/race/28419', 'https://itra.run/race/28481', 'https://itra.run/race/13301', 'https://itra.run/race/13071', 'https://itra.run/race/13073', 'https://itra.run/race/1706', 'https://itra.run/race/8049', 'https://itra.run/race/3647', 'https://itra.run/race/23249', 'https://itra.run/race/2958', 'https://itra.run/race/27173', 'https://itra.run/race/15697', 'https://itra.run/race/11217', 'https://itra.run/race/10387', 'https://itra.run/race/4172', 'https://itra.run/race/27679', 'https://itra.run/race/7977', 'https://itra.run/race/27824', 'https://itra.run/race/3937', 'https://itra.run/race/16465', 'https://itra.run/race/16473', 'https://itra.run/race/13231', 'https://itra.run/race/27174', 'https://itra.run/race/27504', 'https://itra.run/race/27175', 'https://itra.run/race/27176', 'https://itra.run/race/27666', 'https://itra.run/race/27665', 'https://itra.run/race/27930', 'https://itra.run/race/4303', 'https://itra.run/race/4327', 'https://itra.run/race/11065', 'https://itra.run/race/28120', 'https://itra.run/race/28140', 'https://itra.run/race/28422', 'https://itra.run/race/1833', 'https://itra.run/race/2721', 'https://itra.run/race/21673', 'https://itra.run/race/3596', 'https://itra.run/race/1779', 'https://itra.run/race/4319', 'https://itra.run/race/24373', 'https://itra.run/race/16877', 'https://itra.run/race/28421', 'https://itra.run/race/1512', 'https://itra.run/race/2718', 'https://itra.run/race/23533', 'https://itra.run/race/26393', 'https://itra.run/race/26395', 'https://itra.run/race/23011', 'https://itra.run/race/23013', 'https://itra.run/race/26609', 'https://itra.run/race/14021', 'https://itra.run/race/14649', 'https://itra.run/race/17797', 'https://itra.run/race/27074', 'https://itra.run/race/27209', 'https://itra.run/race/27210', 'https://itra.run/race/1568', 'https://itra.run/race/9885', 'https://itra.run/race/3970', 'https://itra.run/race/4051', 'https://itra.run/race/6256', 'https://itra.run/race/22273', 'https://itra.run/race/545', 'https://itra.run/race/544', 'https://itra.run/race/331', 'https://itra.run/race/27714', 'https://itra.run/race/27715', 'https://itra.run/race/10353', 'https://itra.run/race/11707', 'https://itra.run/race/4371', 'https://itra.run/race/20179', 'https://itra.run/race/24891', 'https://itra.run/race/27919', 'https://itra.run/race/27931', 'https://itra.run/race/9485', 'https://itra.run/race/13049', 'https://itra.run/race/22613', 'https://itra.run/race/1780', 'https://itra.run/race/23577', 'https://itra.run/race/28295', 'https://itra.run/race/2281', 'https://itra.run/race/5130', 'https://itra.run/race/5131', 'https://itra.run/race/1492', 'https://itra.run/race/3751', 'https://itra.run/race/3797', 'https://itra.run/race/5353', 'https://itra.run/race/27311', 'https://itra.run/race/175', 'https://itra.run/race/26397', 'https://itra.run/race/3804', 'https://itra.run/race/3808', 'https://itra.run/race/3809', 'https://itra.run/race/21337', 'https://itra.run/race/22275', 'https://itra.run/race/22277', 'https://itra.run/race/27879', 'https://itra.run/race/4325', 'https://itra.run/race/20327', 'https://itra.run/race/28130', 'https://itra.run/race/28131', 'https://itra.run/race/28293', 'https://itra.run/race/28294', 'https://itra.run/race/482', 'https://itra.run/race/4872', 'https://itra.run/race/4873', 'https://itra.run/race/27959', 'https://itra.run/race/27986', 'https://itra.run/race/20321', 'https://itra.run/race/23811', 'https://itra.run/race/117', 'https://itra.run/race/4871', 'https://itra.run/race/11587', 'https://itra.run/race/11589', 'https://itra.run/race/22051', 'https://itra.run/race/22053', 'https://itra.run/race/26863', 'https://itra.run/race/11583', 'https://itra.run/race/11595', 'https://itra.run/race/22001', 'https://itra.run/race/6771', 'https://itra.run/race/6777', 'https://itra.run/race/10107', 'https://itra.run/race/10667', 'https://itra.run/race/21653', 'https://itra.run/race/7215', 'https://itra.run/race/23219', 'https://itra.run/race/16707', 'https://itra.run/race/16461', 'https://itra.run/race/205', 'https://itra.run/race/27953', 'https://itra.run/race/27985', 'https://itra.run/race/17157', 'https://itra.run/race/7021', 'https://itra.run/race/16677', 'https://itra.run/race/332', 'https://itra.run/race/6201', 'https://itra.run/race/4046', 'https://itra.run/race/28300', 'https://itra.run/race/28301', 'https://itra.run/race/15231', 'https://itra.run/race/15483', 'https://itra.run/race/28471', 'https://itra.run/race/28472', 'https://itra.run/race/26445', 'https://itra.run/race/26447', 'https://itra.run/race/28784', 'https://itra.run/race/2971', 'https://itra.run/race/22055', 'https://itra.run/race/11229', 'https://itra.run/race/11135', 'https://itra.run/race/11597', 'https://itra.run/race/11193', 'https://itra.run/race/22377', 'https://itra.run/race/18489', 'https://itra.run/race/648', 'https://itra.run/race/743', 'https://itra.run/race/1496', 'https://itra.run/race/8', 'https://itra.run/race/27113', 'https://itra.run/race/28409', 'https://itra.run/race/28416', 'https://itra.run/race/28417', 'https://itra.run/race/2961', 'https://itra.run/race/22299', 'https://itra.run/race/22301', 'https://itra.run/race/13651', 'https://itra.run/race/26777', 'https://itra.run/race/8215', 'https://itra.run/race/366', 'https://itra.run/race/1502', 'https://itra.run/race/16985', 'https://itra.run/race/24605', 'https://itra.run/race/24825', 'https://itra.run/race/24827', 'https://itra.run/race/24829', 'https://itra.run/race/24831', 'https://itra.run/race/27572', 'https://itra.run/race/27573', 'https://itra.run/race/27574', 'https://itra.run/race/19733', 'https://itra.run/race/19735', 'https://itra.run/race/10183', 'https://itra.run/race/24903', 'https://itra.run/race/24905', 'https://itra.run/race/26', 'https://itra.run/race/11355', 'https://itra.run/race/6469', 'https://itra.run/race/28331', 'https://itra.run/race/23727', 'https://itra.run/race/24911', 'https://itra.run/race/28346', 'https://itra.run/race/28415', 'https://itra.run/race/26263', 'https://itra.run/race/26283', 'https://itra.run/race/28430', 'https://itra.run/race/22245', 'https://itra.run/race/22297', 'https://itra.run/race/22303', 'https://itra.run/race/28526', 'https://itra.run/race/24661', 'https://itra.run/race/28675', 'https://itra.run/race/14229', 'https://itra.run/race/14203', 'https://itra.run/race/14233', 'https://itra.run/race/14231', 'https://itra.run/race/13649', 'https://itra.run/race/13303', 'https://itra.run/race/2354', 'https://itra.run/race/1414', 'https://itra.run/race/4321', 'https://itra.run/race/13207', 'https://itra.run/race/13205', 'https://itra.run/race/24961', 'https://itra.run/race/1318', 'https://itra.run/race/4731', 'https://itra.run/race/28332', 'https://itra.run/race/28333', 'https://itra.run/race/28334', 'https://itra.run/race/24913', 'https://itra.run/race/26271', 'https://itra.run/race/24077', 'https://itra.run/race/24283', 'https://itra.run/race/24285', 'https://itra.run/race/18107', 'https://itra.run/race/18367', 'https://itra.run/race/15763', 'https://itra.run/race/20267', 'https://itra.run/race/7913', 'https://itra.run/race/18369', 'https://itra.run/race/1360', 'https://itra.run/race/759', 'https://itra.run/race/6433', 'https://itra.run/race/6437', 'https://itra.run/race/6435', 'https://itra.run/race/16453', 'https://itra.run/race/28296', 'https://itra.run/race/14143', 'https://itra.run/race/15759', 'https://itra.run/race/15761', 'https://itra.run/race/1361', 'https://itra.run/race/1620', 'https://itra.run/race/11805', 'https://itra.run/race/872', 'https://itra.run/race/27105', 'https://itra.run/race/12709', 'https://itra.run/race/2703', 'https://itra.run/race/1024', 'https://itra.run/race/12349', 'https://itra.run/race/3560', 'https://itra.run/race/11211', 'https://itra.run/race/647', 'https://itra.run/race/2229', 'https://itra.run/race/5417', 'https://itra.run/race/13755', 'https://itra.run/race/13793', 'https://itra.run/race/3531', 'https://itra.run/race/4268', 'https://itra.run/race/4209', 'https://itra.run/race/4210', 'https://itra.run/race/2377', 'https://itra.run/race/26975', 'https://itra.run/race/26977', 'https://itra.run/race/1488', 'https://itra.run/race/1489', 'https://itra.run/race/18629', 'https://itra.run/race/18631', 'https://itra.run/race/18945', 'https://itra.run/race/21483', 'https://itra.run/race/1501', 'https://itra.run/race/25243', 'https://itra.run/race/25245', 'https://itra.run/race/25247', 'https://itra.run/race/25249', 'https://itra.run/race/25251', 'https://itra.run/race/25255', 'https://itra.run/race/28801', 'https://itra.run/race/28802', 'https://itra.run/race/28803', 'https://itra.run/race/28804', 'https://itra.run/race/24491', 'https://itra.run/race/24493', 'https://itra.run/race/4424', 'https://itra.run/race/9663', 'https://itra.run/race/9667', 'https://itra.run/race/25429', 'https://itra.run/race/24553', 'https://itra.run/race/12355', 'https://itra.run/race/27733', 'https://itra.run/race/27734', 'https://itra.run/race/6723', 'https://itra.run/race/6721', 'https://itra.run/race/28153', 'https://itra.run/race/17891', 'https://itra.run/race/28180', 'https://itra.run/race/518', 'https://itra.run/race/14083', 'https://itra.run/race/26567', 'https://itra.run/race/27139', 'https://itra.run/race/25805', 'https://itra.run/race/2212', 'https://itra.run/race/1464', 'https://itra.run/race/6525', 'https://itra.run/race/19379', 'https://itra.run/race/11837', 'https://itra.run/race/16083', 'https://itra.run/race/1808', 'https://itra.run/race/10669', 'https://itra.run/race/18721', 'https://itra.run/race/18723', 'https://itra.run/race/18725', 'https://itra.run/race/22239', 'https://itra.run/race/27585', 'https://itra.run/race/23625', 'https://itra.run/race/23627', 'https://itra.run/race/27696', 'https://itra.run/race/27697', 'https://itra.run/race/27698', 'https://itra.run/race/1465', 'https://itra.run/race/4345', 'https://itra.run/race/6527', 'https://itra.run/race/6529', 'https://itra.run/race/22761', 'https://itra.run/race/27860', 'https://itra.run/race/18557', 'https://itra.run/race/3631', 'https://itra.run/race/23595', 'https://itra.run/race/23597', 'https://itra.run/race/28268', 'https://itra.run/race/24591', 'https://itra.run/race/28193', 'https://itra.run/race/28246', 'https://itra.run/race/19175', 'https://itra.run/race/23927', 'https://itra.run/race/27701', 'https://itra.run/race/28838', 'https://itra.run/race/7203', 'https://itra.run/race/23925', 'https://itra.run/race/4469', 'https://itra.run/race/17027', 'https://itra.run/race/17029', 'https://itra.run/race/17031', 'https://itra.run/race/17033', 'https://itra.run/race/28584', 'https://itra.run/race/19173', 'https://itra.run/race/28545', 'https://itra.run/race/28546', 'https://itra.run/race/24121', 'https://itra.run/race/2031', 'https://itra.run/race/4668', 'https://itra.run/race/28195', 'https://itra.run/race/28376', 'https://itra.run/race/28377', 'https://itra.run/race/28378', 'https://itra.run/race/1788', 'https://itra.run/race/7311', 'https://itra.run/race/2570', 'https://itra.run/race/10615', 'https://itra.run/race/1305', 'https://itra.run/race/9341', 'https://itra.run/race/915', 'https://itra.run/race/2223', 'https://itra.run/race/6621', 'https://itra.run/race/27488', 'https://itra.run/race/27655', 'https://itra.run/race/27664', 'https://itra.run/race/2783', 'https://itra.run/race/27691', 'https://itra.run/race/27749', 'https://itra.run/race/27751', 'https://itra.run/race/27855', 'https://itra.run/race/27856', 'https://itra.run/race/27858', 'https://itra.run/race/27898', 'https://itra.run/race/4368', 'https://itra.run/race/4369', 'https://itra.run/race/27987', 'https://itra.run/race/27990', 'https://itra.run/race/27992', 'https://itra.run/race/10297', 'https://itra.run/race/493', 'https://itra.run/race/28371', 'https://itra.run/race/2667', 'https://itra.run/race/3380', 'https://itra.run/race/399', 'https://itra.run/race/21587', 'https://itra.run/race/19171', 'https://itra.run/race/9337', 'https://itra.run/race/9339', 'https://itra.run/race/9335', 'https://itra.run/race/26465', 'https://itra.run/race/26467', 'https://itra.run/race/27228', 'https://itra.run/race/4253', 'https://itra.run/race/22743', 'https://itra.run/race/26569', 'https://itra.run/race/27316', 'https://itra.run/race/27487', 'https://itra.run/race/27489', 'https://itra.run/race/2224', 'https://itra.run/race/22065', 'https://itra.run/race/22067', 'https://itra.run/race/1795', 'https://itra.run/race/4557', 'https://itra.run/race/3694', 'https://itra.run/race/1945', 'https://itra.run/race/1946', 'https://itra.run/race/8381', 'https://itra.run/race/20789', 'https://itra.run/race/4850', 'https://itra.run/race/2636', 'https://itra.run/race/10757', 'https://itra.run/race/13015', 'https://itra.run/race/22729', 'https://itra.run/race/27402', 'https://itra.run/race/3865', 'https://itra.run/race/3866', 'https://itra.run/race/4840', 'https://itra.run/race/12813', 'https://itra.run/race/12815', 'https://itra.run/race/12817', 'https://itra.run/race/17021', 'https://itra.run/race/24787', 'https://itra.run/race/27799', 'https://itra.run/race/2239', 'https://itra.run/race/2581', 'https://itra.run/race/24681', 'https://itra.run/race/4825', 'https://itra.run/race/22915', 'https://itra.run/race/28188', 'https://itra.run/race/28223', 'https://itra.run/race/1743', 'https://itra.run/race/2532', 'https://itra.run/race/17543', 'https://itra.run/race/17545', 'https://itra.run/race/20791', 'https://itra.run/race/28566', 'https://itra.run/race/28567', 'https://itra.run/race/28568', 'https://itra.run/race/2052', 'https://itra.run/race/1776', 'https://itra.run/race/16293', 'https://itra.run/race/6258', 'https://itra.run/race/10947', 'https://itra.run/race/27405', 'https://itra.run/race/23251', 'https://itra.run/race/23253', 'https://itra.run/race/23255', 'https://itra.run/race/23259', 'https://itra.run/race/27706', 'https://itra.run/race/27831', 'https://itra.run/race/27832', 'https://itra.run/race/27833', 'https://itra.run/race/24147', 'https://itra.run/race/4455', 'https://itra.run/race/5609', 'https://itra.run/race/1180', 'https://itra.run/race/27381', 'https://itra.run/race/27382', 'https://itra.run/race/27383', 'https://itra.run/race/12481', 'https://itra.run/race/10949', 'https://itra.run/race/24497', 'https://itra.run/race/5115', 'https://itra.run/race/21981', 'https://itra.run/race/27264', 'https://itra.run/race/27385', 'https://itra.run/race/27091', 'https://itra.run/race/19627', 'https://itra.run/race/24145', 'https://itra.run/race/5607', 'https://itra.run/race/24495', 'https://itra.run/race/24499', 'https://itra.run/race/19643', 'https://itra.run/race/19645', 'https://itra.run/race/2534', 'https://itra.run/race/5671', 'https://itra.run/race/3411', 'https://itra.run/race/7937', 'https://itra.run/race/12127', 'https://itra.run/race/1629', 'https://itra.run/race/3412', 'https://itra.run/race/19859', 'https://itra.run/race/1341', 'https://itra.run/race/25399', 'https://itra.run/race/21983', 'https://itra.run/race/24143', 'https://itra.run/race/18779', 'https://itra.run/race/1177', 'https://itra.run/race/3023', 'https://itra.run/race/4948', 'https://itra.run/race/28256', 'https://itra.run/race/18583', 'https://itra.run/race/28498', 'https://itra.run/race/28499', 'https://itra.run/race/20087', 'https://itra.run/race/5661', 'https://itra.run/race/7861', 'https://itra.run/race/23293', 'https://itra.run/race/28148', 'https://itra.run/race/19647', 'https://itra.run/race/1572', 'https://itra.run/race/1573', 'https://itra.run/race/25987', 'https://itra.run/race/25989', 'https://itra.run/race/3984', 'https://itra.run/race/21977', 'https://itra.run/race/21235', 'https://itra.run/race/23519', 'https://itra.run/race/23521', 'https://itra.run/race/23523', 'https://itra.run/race/18243', 'https://itra.run/race/17', 'https://itra.run/race/18', 'https://itra.run/race/19243', 'https://itra.run/race/19245', 'https://itra.run/race/27786', 'https://itra.run/race/26583', 'https://itra.run/race/14625', 'https://itra.run/race/27893', 'https://itra.run/race/27894', 'https://itra.run/race/5659', 'https://itra.run/race/19331', 'https://itra.run/race/4214', 'https://itra.run/race/8383', 'https://itra.run/race/8385', 'https://itra.run/race/12053', 'https://itra.run/race/28063', 'https://itra.run/race/28067', 'https://itra.run/race/4626', 'https://itra.run/race/7629', 'https://itra.run/race/25771', 'https://itra.run/race/19715', 'https://itra.run/race/25709']\n"
     ]
    }
   ],
   "source": [
    "# Find the mouse over link pointing to the race site\n",
    "links = [a['href'] for a in soup.find_all('a',\"card ontop\", href=True)]\n",
    "print(len(links))\n",
    "print(links)"
   ]
  },
  {
   "cell_type": "code",
   "execution_count": 35,
   "metadata": {},
   "outputs": [
    {
     "name": "stdout",
     "output_type": "stream",
     "text": [
      "2100\n",
      "2100\n",
      "2100\n",
      "2100\n"
     ]
    }
   ],
   "source": [
    "# Scraping the data for distance, elevation gain and loss\n",
    "myList = re.findall(r'(?<=<span class=\"icon-text-grey icon-bold\">)(.*?)(?=</span>)', get_source)\n",
    "#print(myList)\n",
    "#len(myList)\n",
    "\n",
    "# Find the race distance\n",
    "distancesList = myList[0::3]\n",
    "print(len(distancesList))\n",
    "\n",
    "# Find the race elevation gain\n",
    "gainList = myList[1::3]\n",
    "print(len(gainList))\n",
    "\n",
    "# Find the race elevation loss\n",
    "lossList = myList[2::3]\n",
    "print(len(lossList))\n",
    "\n",
    "# Find the race date\n",
    "datesList = re.findall(r'(?<=<span data-v-f3c4ac1c=\"\" class=\"itra-grey\" style=\"margin-top: 0.2rem; margin-left: 0.2rem; margin-right: 2rem; font-size: 80%;\">)(.*?)(?=</span>)', get_source)\n",
    "#print(datesList)\n",
    "print(len(datesList))\n",
    "\n",
    "# Loop\n",
    "# Visit race page in Itra\n",
    "# Scraping www, place, topology, number of participants"
   ]
  },
  {
   "cell_type": "code",
   "execution_count": 137,
   "metadata": {},
   "outputs": [
    {
     "name": "stdout",
     "output_type": "stream",
     "text": [
      "['300', '300', '380', '380', '220', '340', '300', '240', '200', '300', '280', '310', '250', '240', '230', '280', '160', '210', '220', '240', '230', '140', '350', '190', '220', '210', '220', '360', '280', '230', '310', '300', '320', '260', '330', '300', '260', '280', '290', '280', '400', '320', '390', '210', '390', '370', '270', '210', '190', '330', '290', '340', '270', '250', '250', '90', '320', '260', '360', '370', '360', '260', '170', '270', '230', '320', '330', '130', '120', '370', '310', '190', '290', '160', '380', '310', '200', '300', '240', '210', '180', '330', '240', '340', '260', '260', '210', '340', '360', '450', '390', '430', '350', '200', '280', '310', '390', '360', '270', '360', '300', '10', '260', '210', '210', '430', '490', '310', '190', '260', '300', '140', '360', '350', '310', '340', '380', '260', '240', '280', '390', '260', '370', '350', '290', '360', '310', '310', '260', '260', '330', '350', '340', '240', '330', '200', '200', '210', '250', '290', '190', '250', '310', '330', '330', '270', '360', '330', '230', '230', '130', '220', '120', '160', '280', '160', '430', '230', '220', '370', '480', '270', '180', '300', '340', '400', '330', '260', '180', '290', '330', '360', '430', '460', '310', '270', '270', '290', '320', '150', '130', '370', '310', '200', '160', '240', '340', '280', '340', '300', '200', '290', '490', '100', '320', '220', '350', '310', '210', '280', '260', '370', '220', '200', '330', '180', '270', '330', '180', '240', '200', '370', '240', '380', '370', '360', '310', '410', '400', '410', '310', '280', '310', '310', '330', '280', '300', '180', '350', '270', '540', '120', '270', '310', '290', '400', '240', '250', '270', '240', '300', '170', '360', '180', '250', '360', '390', '330', '270', '230', '370', '390', '210', '440', '160', '340', '250', '260', '300', '270', '340', '250', '270', '260', '360', '360', '250', '260', '270', '310', '310', '380', '190', '170', '290', '360', '180', '300', '370', '250', '340', '370', '450', '130', '310', '280', '250', '350', '390', '390', '270', '250', '330', '360', '320', '300', '380', '130', '360', '540', '250', '380', '400', '310', '300', '410', '340', '170', '300', '290', '370', '270', '390', '320', '350', '360', '290', '480', '250', '280', '220', '260', '440', '260', '190', '350', '330', '370', '390', '310', '290', '190', '330', '360', '410', '420', '350', '250', '210', '260', '170', '340', '340', '360', '420', '270', '350', '380', '380', '330', '220', '400', '290', '420', '180', '110', '230', '430', '410', '420', '420', '380', '320', '380', '300', '240', '360', '290', '290', '280', '270', '460', '480', '550', '580', '440', '350', '590', '310', '420', '210', '210', '270', '410', '340', '310', '300', '290', '430', '190', '170', '190', '280', '270', '280', '220', '320', '190', '210', '270', '370', '330', '490', '520', '380', '290', '390', '490', '220', '290', '170', '420', '370', '220', '320', '330', '380', '420', '250', '300', '280', '300', '280', '410', '280', '280', '220', '230', '360', '380', '330', '360', '340', '310', '210', '350', '340', '190', '210', '90', '290', '40', '140', '310', '230', '220', '230', '280', '410', '250', '320', '330', '220', '150', '310', '170', '180', '220', '320', '270', '430', '320', '240', '300', '220', '480', '180', '180', '320', '400', '250', '100', '290', '160', '440', '310', '210', '110', '370', '200', '400', '380', '390', '360', '580', '340', '240', '300', '380', '530', '380', '340', '340', '250', '380', '380', '380', '360', '400', '320', '320', '160', '170', '360', '350', '240', '290', '290', '300', '330', '420', '360', '300', '360', '160', '360', '410', '290', '350', '330', '300', '240', '280', '290', '170', '350', '410', '380', '270', '430', '290', '420', '160', '350', '30', '60', '160', '190', '230', '280', '370', '360', '270', '410', '210', '390', '310', '230', '110', '340', '370', '230', '130', '180', '280', '180', '160', '250', '240', '330', '110', '450', '350', '340', '400', '600', '400', '240', '380', '340', '340', '340', '260', '290', '350', '260', '230', '360', '140', '410', '190', '530', '230', '320', '250', '260', '210', '240', '240', '240', '30', '420', '430', '410', '390', '250', '410', '200', '330', '180', '370', '390', '380', '350', '300', '370', '520', '310', '370', '520', '320', '310', '350', '260', '330', '320', '200', '370', '390', '380', '650', '270', '270', '310', '350', '380', '260', '300', '370', '180', '160', '300', '140', '240', '320', '270', '400', '230', '230', '350', '330', '320', '320', '210', '520', '200', '170', '310', '240', '440', '320', '290', '390', '370', '450', '480', '280', '270', '360', '230', '320', '360', '270', '390', '340', '380', '260', '370', '250', '520', '450', '90', '90', '100', '250', '410', '440', '570', '320', '310', '370', '240', '440', '330', '150', '110', '80', '290', '370', '350', '410', '350', '310', '370', '290', '160', '290', '400', '370', '410', '310', '280', '390', '320', '330', '450', '420', '220', '320', '280', '160', '320', '350', '340', '520', '290', '340', '430', '300', '120', '240', '320', '360', '280', '310', '390', '260', '390', '390', '330', '260', '260', '380', '380', '110', '170', '170', '320', '160', '370', '170', '160', '170', '260', '340', '390', '240', '270', '240', '400', '90', '210', '270', '220', '230', '300', '360', '330', '100', '240', '250', '320', '410', '380', '330', '270', '270', '190', '170', '370', '510', '260', '400', '330', '240', '210', '370', '160', '350', '220', '350', '410', '270', '260', '330', '450', '420', '300', '280', '320', '390', '420', '340', '180', '160', '180', '330', '390', '240', '200', '230', '210', '440', '310', '320', '290', '430', '330', '270', '420', '220', '350', '260', '260', '390', '290', '290', '390', '350', '340', '310', '410', '380', '270', '300', '280', '310', '170', '370', '270', '250', '270', '190', '400', '250', '280', '270', '410', '390', '410', '330', '190', '200', '240', '270', '370', '240', '320', '380', '370', '270', '320', '350', '340', '340', '220', '270', '320', '250', '270', '170', '450', '260', '330', '340', '350', '170', '360', '290', '470', '220', '350', '260', '280', '330', '400', '420', '320', '270', '180', '160', '250', '370', '360', '410', '390', '340', '320', '410', '300', '250', '410', '420', '310', '270', '350', '310', '360', '340', '320', '280', '170', '290', '350', '390', '230', '360', '200', '430', '390', '380', '260', '290', '260', '300', '400', '240', '400', '360', '290', '310', '350', '360', '100', '260', '380', '370', '350', '300', '220', '140', '300', '400', '130', '340', '360', '310', '300', '330', '370', '250', '420', '170', '310', '340', '230', '180', '290', '180', '380', '260', '360', '210', '480', '480', '400', '350', '400', '250', '250', '300', '240', '370', '300', '420', '210', '140', '80', '40', '290', '160', '290', '160', '370', '310', '370', '350', '370', '310', '240', '130', '390', '30', '290', '420', '190', '200', '260', '370', '320', '300', '390', '290', '340', '180', '330', '200', '220', '280', '340', '340', '370', '310', '390', '360', '320', '390', '310', '330', '390', '180', '280', '100', '140', '380', '450', '260', '360', '410', '320', '410', '470', '320', '190', '380', '360', '240', '300', '230', '100', '360', '430', '370', '230', '340', '370', '420', '300', '350', '310', '260', '380', '400', '290', '470', '380', '150', '330', '280', '370', '310', '190', '210', '390', '450', '140', '140', '440', '320', '380', '300', '340', '270', '310', '360', '360', '250', '230', '390', '220', '210', '170', '140', '270', '360', '300', '230', '110', '390', '280', '310', '410', '270', '410', '410', '280', '250', '240', '280', '310', '350', '350', '350', '310', '360', '380', '160', '380', '370', '370', '190', '180', '340', '280', '240', '330', '380', '300', '300', '450', '400', '400', '350', '290', '420', '320', '270', '330', '390', '300', '220', '230', '380', '360', '290', '220', '220', '170', '370', '340', '610', '590', '550', '500', '420', '470', '210', '310', '360', '280', '220', '170', '340', '240', '350', '230', '330', '160', '120', '130', '130', '270', '330', '380', '240', '260', '270', '410', '360', '300', '320', '340', '260', '290', '380', '290', '220', '210', '190', '160', '320', '360', '230', '250', '230', '200', '420', '430', '330', '380', '380', '400', '330', '200', '290', '300', '420', '150', '350', '260', '280', '280', '300', '350', '300', '300', '320', '290', '670', '290', '280', '280', '380', '280', '310', '340', '450', '270', '340', '330', '220', '340', '210', '260', '150', '190', '290', '250', '250', '300', '340', '350', '390', '290', '380', '220', '240', '300', '280', '270', '300', '350', '220', '340', '400', '430', '10', '10', '350', '430', '370', '370', '330', '330', '280', '360', '300', '480', '160', '380', '380', '240', '320', '160', '290', '270', '200', '290', '340', '190', '300', '260', '270', '370', '190', '320', '270', '360', '220', '250', '250', '350', '420', '270', '340', '200', '150', '380', '180', '390', '280', '210', '310', '220', '350', '410', '220', '220', '340', '360', '290', '280', '200', '440', '440', '400', '999', '300', '300', '380', '380', '220', '340', '300', '240', '200', '300', '280', '310', '250', '240', '230', '280', '160', '210', '220', '240', '230', '140', '350', '190', '220', '210', '220', '360', '280', '230', '310', '300', '320', '260', '330', '300', '260', '280', '290', '280', '400', '320', '390', '370', '270', '210', '190', '330', '290', '340', '270', '250', '250', '90', '320', '260', '360', '370', '360', '260', '170', '270', '230', '320', '330', '130', '120', '370', '310', '190', '290', '160', '380', '310', '200', '300', '240', '210', '180', '330', '240', '340', '260', '260', '210', '340', '360', '450', '390', '430', '350', '200', '280', '310', '390', '360', '270', '360', '300', '10', '260', '210', '310', '190', '260', '300', '140', '360', '350', '310', '340', '380', '260', '240', '280', '390', '260', '370', '350', '290', '360', '310', '310', '260', '260', '330', '350', '340', '240', '330', '200', '200', '210', '250', '290', '190', '250', '310', '330', '330', '270', '360', '330', '230', '230', '130', '220', '120', '160', '280', '160', '430', '230', '220', '370', '480', '270', '180', '300', '340', '400', '330', '260', '180', '290', '330', '360', '430', '460', '310', '270', '270', '290', '320', '150', '130', '370', '310', '200', '160', '240', '340', '280', '340', '300', '200', '290', '490', '100', '320', '220', '350', '310', '210', '280', '260', '370', '220', '200', '330', '180', '270', '330', '180', '240', '200', '370', '240', '380', '370', '360', '310', '410', '400', '410', '310', '280', '310', '310', '330', '280', '300', '180', '350', '270', '540', '120', '270', '310', '290', '400', '240', '250', '270', '240', '300', '170', '360', '180', '250', '360', '390', '330', '270', '230', '370', '390', '210', '440', '160', '340', '250', '260', '300', '270', '340', '250', '270', '260', '360', '360', '250', '260', '270', '310', '310', '380', '190', '170', '290', '360', '180', '300', '370', '250', '340', '370', '450', '130', '310', '280', '250', '350', '390', '390', '270', '250', '330', '360', '320', '300', '380', '130', '360', '540', '250', '380', '400', '310', '410', '340', '170', '300', '290', '370', '270', '390', '320', '350', '360', '290', '480', '250', '280', '220', '260', '440', '260', '190', '350', '330', '370', '390', '310', '290', '190', '330', '360', '410', '420', '350', '250', '210', '260', '340', '340', '360', '420', '270', '350', '380', '380', '330', '400', '290', '420', '180', '110', '230', '430', '410', '420', '420', '380', '320', '380', '300', '240', '360', '290', '290', '280', '270', '460', '480', '550', '580', '440', '350', '590', '310', '420', '210', '210', '270', '410', '340', '310', '300', '290', '430', '190', '170', '190', '280', '270', '280', '220', '320', '190', '210', '270', '370', '330', '490', '520', '380', '290', '390', '490', '220', '290', '170', '420', '370', '220', '320', '330', '380', '420', '250', '300', '280', '300', '280', '410', '280', '280', '220', '330', '360', '340', '310', '210', '350', '340', '190', '210', '90', '290', '40', '140', '310', '230', '220', '230', '280', '410', '250', '320', '330', '220', '150', '310', '170', '180', '220', '320', '270', '430', '320', '240', '300', '220', '480', '180', '180', '320', '400', '250', '100', '290', '160', '440', '310', '210', '110', '370', '200', '400', '380', '390', '360', '580', '340', '240', '300', '380', '530', '340', '340', '250', '380', '380', '380', '360', '400', '320', '160', '170', '360', '350', '240', '290', '290', '300', '330', '420', '360', '300', '360', '160', '360', '410', '290', '350', '330', '300', '240', '280', '290', '170', '350', '410', '380', '270', '430', '290', '420', '160', '350', '30', '60', '160', '190', '230', '280', '370', '360', '270', '410', '210', '390', '310', '230', '110', '340', '370', '230', '130', '180', '280', '180', '160', '250', '240', '330', '110', '450', '350', '340', '400', '600', '400', '240', '380', '340', '340', '340', '260', '230', '360', '140', '410', '190', '530', '230', '320', '250', '260', '210', '240', '240', '240', '30', '420', '430', '410', '390', '410', '200', '330', '180', '370', '390', '380', '350', '300', '370', '520', '310', '370', '520', '320', '310', '350', '260', '330', '320', '200', '370', '390', '380', '650', '270', '270', '310', '350', '380', '260', '300', '370', '180', '160', '300', '140', '240', '320', '270', '400', '230', '230', '350', '330', '320', '320', '210', '520', '200', '170', '310', '240', '440', '320', '290', '390', '370', '450', '480', '280', '270', '360', '230', '320', '360', '270', '390', '340', '260', '370', '250', '450', '250', '410', '440', '570', '320', '310', '370', '240', '440', '330', '150', '110', '80', '290', '370', '350', '410', '350', '310', '370', '290', '160', '290', '400', '370', '410', '310', '280', '390', '320', '330', '450', '420', '220', '320', '280', '160', '320', '350', '340', '520', '290', '340', '430', '300', '120', '240', '320', '360', '280', '310', '390', '260', '390', '390', '330', '260', '260', '380', '380', '110', '170', '170', '320', '160', '370', '170', '160', '170', '260', '340', '390', '240', '270', '240', '400', '90', '210', '270', '220', '230', '300', '360', '330', '100', '240', '250', '320', '410', '380', '330', '270', '270', '190', '170', '370', '510', '260', '400', '330', '240', '210', '370', '160', '350', '220', '350', '410', '270', '260', '330', '450', '420', '300', '280', '320', '390', '420', '340', '180', '160', '180', '330', '390', '240', '200', '230', '210', '440', '310', '320', '290', '430', '330', '270', '420', '220', '350', '260', '260', '390', '290', '290', '390', '350', '340', '310', '410', '380', '270', '300', '280', '310', '170', '370', '270', '250', '270', '190', '400', '250', '280', '270', '410', '390', '410', '330', '190', '200', '240', '270', '370', '240', '320', '380', '370', '270', '320', '350', '340', '340', '220', '270', '320', '250', '270', '170', '450', '260', '330', '340', '350', '170', '360', '290', '470', '220', '350', '260', '280', '330', '400', '420', '320', '270', '180', '160', '250', '370', '360', '410', '390', '340', '320', '410', '300', '250', '410', '420', '310', '270', '350', '310', '360', '340', '320', '280', '170', '290', '350', '390', '230', '360', '200', '430', '390', '380', '260', '290', '260', '300', '400', '240', '400', '360', '290', '310', '350', '360', '100', '260', '380', '370', '350', '300', '220', '140', '300', '400', '130', '340', '360', '310', '300', '330', '370', '250', '420', '170', '310', '340', '230', '180', '290', '180', '380', '260', '360', '210', '480', '480', '400', '350', '400', '250', '250', '300', '240', '370', '300', '420', '210', '140', '80', '40', '290', '160', '290', '160', '370', '310', '370', '350', '370', '310', '240', '130', '390', '30', '290', '420', '190', '200', '260', '370', '320', '300', '390', '290', '340', '180', '330', '200', '220', '280', '340', '340', '370', '310', '390', '360', '320', '390', '310', '330', '390', '180', '280', '100', '140', '380', '450', '260', '410', '320', '410', '470', '320', '190', '380', '360', '240', '300', '230', '100', '360', '430', '370', '230', '340', '370', '420', '300', '350', '310', '260', '380', '400', '290', '470', '380', '150', '330', '280', '370', '310', '190', '210', '390', '450', '140', '140', '440', '320', '380', '300', '340', '270', '310', '360', '250', '230', '390', '220', '210', '170', '140', '270', '360', '300', '230', '110', '390', '280', '310', '410', '270', '410', '410', '280', '250', '240', '280', '310', '350', '350', '350', '310', '360', '380', '160', '380', '370', '370', '190', '180', '340', '280', '240', '330', '380', '300', '300', '450', '400', '400', '350', '290', '420', '320', '270', '330', '390', '300', '220', '230', '380', '360', '290', '220', '220', '170', '370', '340', '610', '590', '550', '500', '420', '470', '210', '310', '360', '280', '220', '170', '340', '240', '350', '230', '330', '160', '120', '130', '130', '270', '330', '380', '240', '260', '270', '410', '360', '300', '320', '340', '260', '290', '380', '290', '220', '210', '190', '160', '320', '360', '230', '250', '230', '200', '420', '430', '330', '380', '380', '400', '330', '200', '290', '300', '420', '150', '350', '260', '280', '280', '300', '350', '300', '300', '320', '290', '670', '290', '280', '280', '380', '280', '310', '340', '450', '270', '340', '330', '220', '340', '210', '260', '150', '190', '290', '250', '250', '300', '340', '350', '390', '290', '380', '220', '240', '300', '280', '270', '300', '350', '220', '340', '400', '430', '10', '10', '350', '430', '370', '370', '330', '330', '280', '360', '300', '480', '160', '380', '380', '240', '160', '290', '270', '340', '190', '300', '260', '270', '370', '190', '320', '270', '360', '220', '250', '250', '350', '420', '270', '340', '200', '150', '380', '180', '390', '280', '210', '310', '220', '350', '410', '220', '220', '340', '360', '290', '280', '200', '440', '440', '400']\n"
     ]
    },
    {
     "data": {
      "text/plain": [
       "2566"
      ]
     },
     "execution_count": 137,
     "metadata": {},
     "output_type": "execute_result"
    }
   ],
   "source": [
    "# Find the number of finishers of the race\n",
    "#<span class=\"icon-finisher icon-bold\">370</span>\n",
    "finishersList = re.findall(r'(?<=<span class=\"icon-finisher icon-bold\">)(.*?)(?=</span>)', get_source)\n",
    "print(finishersList)\n",
    "len(finishersList)"
   ]
  },
  {
   "cell_type": "code",
   "execution_count": 136,
   "metadata": {},
   "outputs": [
    {
     "data": {
      "text/html": [
       "<div>\n",
       "<style scoped>\n",
       "    .dataframe tbody tr th:only-of-type {\n",
       "        vertical-align: middle;\n",
       "    }\n",
       "\n",
       "    .dataframe tbody tr th {\n",
       "        vertical-align: top;\n",
       "    }\n",
       "\n",
       "    .dataframe thead th {\n",
       "        text-align: right;\n",
       "    }\n",
       "</style>\n",
       "<table border=\"1\" class=\"dataframe\">\n",
       "  <thead>\n",
       "    <tr style=\"text-align: right;\">\n",
       "      <th></th>\n",
       "      <th>Name</th>\n",
       "      <th>Link</th>\n",
       "      <th>Distance</th>\n",
       "      <th>Gain</th>\n",
       "      <th>Loss</th>\n",
       "      <th>Date</th>\n",
       "    </tr>\n",
       "  </thead>\n",
       "  <tbody>\n",
       "    <tr>\n",
       "      <th>0</th>\n",
       "      <td>New Year Ne Mountain Race 2021 2021 - Challeng...</td>\n",
       "      <td>https://itra.run/race/13893</td>\n",
       "      <td>23.60 km</td>\n",
       "      <td>+1570m</td>\n",
       "      <td>-1570m</td>\n",
       "      <td>01/01/2021</td>\n",
       "    </tr>\n",
       "    <tr>\n",
       "      <th>1</th>\n",
       "      <td>New Year Ne Mountain Race 2021 2021 - Challeng...</td>\n",
       "      <td>https://itra.run/race/13895</td>\n",
       "      <td>23.60 km</td>\n",
       "      <td>+1570m</td>\n",
       "      <td>-1570m</td>\n",
       "      <td>01/01/2021</td>\n",
       "    </tr>\n",
       "    <tr>\n",
       "      <th>2</th>\n",
       "      <td>New Year Ne Mountain Race 2021 2021 - Elite - ...</td>\n",
       "      <td>https://itra.run/race/13897</td>\n",
       "      <td>36.80 km</td>\n",
       "      <td>+2430m</td>\n",
       "      <td>-2430m</td>\n",
       "      <td>01/01/2021</td>\n",
       "    </tr>\n",
       "    <tr>\n",
       "      <th>3</th>\n",
       "      <td>New Year Ne Mountain Race 2021 2021 - Elite - ...</td>\n",
       "      <td>https://itra.run/race/13899</td>\n",
       "      <td>36.80 km</td>\n",
       "      <td>+2430m</td>\n",
       "      <td>-2430m</td>\n",
       "      <td>01/01/2021</td>\n",
       "    </tr>\n",
       "    <tr>\n",
       "      <th>4</th>\n",
       "      <td>Wuxi New Year Blessing Ultra Trail 2021 - Wuxi...</td>\n",
       "      <td>https://itra.run/race/23623</td>\n",
       "      <td>24.30 km</td>\n",
       "      <td>+1470m</td>\n",
       "      <td>-1480m</td>\n",
       "      <td>01/01/2021</td>\n",
       "    </tr>\n",
       "    <tr>\n",
       "      <th>...</th>\n",
       "      <td>...</td>\n",
       "      <td>...</td>\n",
       "      <td>...</td>\n",
       "      <td>...</td>\n",
       "      <td>...</td>\n",
       "      <td>...</td>\n",
       "    </tr>\n",
       "    <tr>\n",
       "      <th>2035</th>\n",
       "      <td>K-Way Skyrun 2021 - K-Way Skyrun 38km 37.30 K</td>\n",
       "      <td>https://itra.run/race/16943</td>\n",
       "      <td>37.30 km</td>\n",
       "      <td>+1350m</td>\n",
       "      <td>-1330m</td>\n",
       "      <td>20/11/2021</td>\n",
       "    </tr>\n",
       "    <tr>\n",
       "      <th>2036</th>\n",
       "      <td>Best Of San Diego 100 Miler 2021 - 50 Miler 80...</td>\n",
       "      <td>https://itra.run/race/17375</td>\n",
       "      <td>80.90 km</td>\n",
       "      <td>+1230m</td>\n",
       "      <td>-1110m</td>\n",
       "      <td>20/11/2021</td>\n",
       "    </tr>\n",
       "    <tr>\n",
       "      <th>2037</th>\n",
       "      <td>Best Of San Diego 100 Miler 2021 - 100 Miler 1...</td>\n",
       "      <td>https://itra.run/race/17647</td>\n",
       "      <td>161.10 km</td>\n",
       "      <td>+2480m</td>\n",
       "      <td>-2480m</td>\n",
       "      <td>20/11/2021</td>\n",
       "    </tr>\n",
       "    <tr>\n",
       "      <th>2038</th>\n",
       "      <td>Panda Trail By Utmb® 2021 - Mpt 103.80 K</td>\n",
       "      <td>https://itra.run/race/23021</td>\n",
       "      <td>103.80 km</td>\n",
       "      <td>+6760m</td>\n",
       "      <td>-6770m</td>\n",
       "      <td>20/11/2021</td>\n",
       "    </tr>\n",
       "    <tr>\n",
       "      <th>2039</th>\n",
       "      <td>Panda Trail By Utmb® 2021 - Kpt 50.90 K</td>\n",
       "      <td>https://itra.run/race/24003</td>\n",
       "      <td>50.90 km</td>\n",
       "      <td>+3450m</td>\n",
       "      <td>-3630m</td>\n",
       "      <td>20/11/2021</td>\n",
       "    </tr>\n",
       "  </tbody>\n",
       "</table>\n",
       "<p>2040 rows × 6 columns</p>\n",
       "</div>"
      ],
      "text/plain": [
       "                                                   Name  \\\n",
       "0     New Year Ne Mountain Race 2021 2021 - Challeng...   \n",
       "1     New Year Ne Mountain Race 2021 2021 - Challeng...   \n",
       "2     New Year Ne Mountain Race 2021 2021 - Elite - ...   \n",
       "3     New Year Ne Mountain Race 2021 2021 - Elite - ...   \n",
       "4     Wuxi New Year Blessing Ultra Trail 2021 - Wuxi...   \n",
       "...                                                 ...   \n",
       "2035      K-Way Skyrun 2021 - K-Way Skyrun 38km 37.30 K   \n",
       "2036  Best Of San Diego 100 Miler 2021 - 50 Miler 80...   \n",
       "2037  Best Of San Diego 100 Miler 2021 - 100 Miler 1...   \n",
       "2038           Panda Trail By Utmb® 2021 - Mpt 103.80 K   \n",
       "2039            Panda Trail By Utmb® 2021 - Kpt 50.90 K   \n",
       "\n",
       "                             Link   Distance    Gain    Loss         Date  \n",
       "0     https://itra.run/race/13893   23.60 km  +1570m  -1570m   01/01/2021  \n",
       "1     https://itra.run/race/13895   23.60 km  +1570m  -1570m   01/01/2021  \n",
       "2     https://itra.run/race/13897   36.80 km  +2430m  -2430m   01/01/2021  \n",
       "3     https://itra.run/race/13899   36.80 km  +2430m  -2430m   01/01/2021  \n",
       "4     https://itra.run/race/23623   24.30 km  +1470m  -1480m   01/01/2021  \n",
       "...                           ...        ...     ...     ...          ...  \n",
       "2035  https://itra.run/race/16943   37.30 km  +1350m  -1330m   20/11/2021  \n",
       "2036  https://itra.run/race/17375   80.90 km  +1230m  -1110m   20/11/2021  \n",
       "2037  https://itra.run/race/17647  161.10 km  +2480m  -2480m   20/11/2021  \n",
       "2038  https://itra.run/race/23021  103.80 km  +6760m  -6770m   20/11/2021  \n",
       "2039  https://itra.run/race/24003   50.90 km  +3450m  -3630m   20/11/2021  \n",
       "\n",
       "[2040 rows x 6 columns]"
      ]
     },
     "execution_count": 136,
     "metadata": {},
     "output_type": "execute_result"
    }
   ],
   "source": [
    "# Assign data to tuples: # get the list of tuples from two lists and merge them by using zip(). \n",
    "list_of_tuples = list(zip(racesList, links, distancesList, gainList, lossList, datesList)) \n",
    "# Converting lists of tuples into pandas Dataframe. \n",
    "df = pd.DataFrame(list_of_tuples, columns = ['Name', 'Link', 'Distance', 'Gain', 'Loss', 'Date'])\n",
    "df\n",
    "\n"
   ]
  },
  {
   "cell_type": "code",
   "execution_count": null,
   "metadata": {},
   "outputs": [],
   "source": [
    "# CAL DESAR LES DADES EN UN FORMAT ADIENT: JSON? CSV directament ja que l'enunciat de la PRACTICA requereix CSV\n",
    "\n",
    "# Convert results to json and save the file\n",
    "with open('result.json', 'w') as fp:\n",
    "    json.dump(sample, fp)"
   ]
  },
  {
   "cell_type": "code",
   "execution_count": 230,
   "metadata": {},
   "outputs": [
    {
     "name": "stdout",
     "output_type": "stream",
     "text": [
      "['Distance', 'Dénivelé positif', 'Dénivelé négatif', 'Date et heure de départ', 'Lieu de départ', \"Lieu d'arrivée\", 'Ravitallements', 'Temps maximum', 'Participation', 'Topologie', 'Nombre de participants', 'Challenge', 'Championnat', 'Distance', 'Dénivelé positif', 'Dénivelé négatif', 'Date et heure de départ', 'Lieu de départ', \"Lieu d'arrivée\", 'Ravitallements', 'Temps maximum', 'Participation', 'Topologie', 'Nombre de participants', 'Challenge', 'Championnat']\n",
      "['23.60km (15miles)', '1570m', '1570m', ' 01/01/2021 09:15:00', 'Tai Mei Tuk', 'Tai Mei Tuk', '1', '6 heures    ', 'solo', '85% sentiers / 5% pistes / 10% routes', '400', 'N/A', 'N/A', '23.60km (15miles)', '1570m', '1570m', ' 01/01/2021 09:15:00', 'Tai Mei Tuk', 'Tai Mei Tuk', '1', '6 heures    ', 'solo', '85% sentiers / 5% pistes / 10% routes', '400', 'N/A', 'N/A']\n",
      "[('Distance', '23.60km (15miles)'), ('Dénivelé positif', '1570m'), ('Dénivelé négatif', '1570m'), ('Date et heure de départ', ' 01/01/2021 09:15:00'), ('Lieu de départ', 'Tai Mei Tuk'), (\"Lieu d'arrivée\", 'Tai Mei Tuk'), ('Ravitallements', '1'), ('Temps maximum', '6 heures    '), ('Participation', 'solo'), ('Topologie', '85% sentiers / 5% pistes / 10% routes'), ('Nombre de participants', '400'), ('Challenge', 'N/A'), ('Championnat', 'N/A'), ('Distance', '23.60km (15miles)'), ('Dénivelé positif', '1570m'), ('Dénivelé négatif', '1570m'), ('Date et heure de départ', ' 01/01/2021 09:15:00'), ('Lieu de départ', 'Tai Mei Tuk'), (\"Lieu d'arrivée\", 'Tai Mei Tuk'), ('Ravitallements', '1'), ('Temps maximum', '6 heures    '), ('Participation', 'solo'), ('Topologie', '85% sentiers / 5% pistes / 10% routes'), ('Nombre de participants', '400'), ('Challenge', 'N/A'), ('Championnat', 'N/A')]\n"
     ]
    }
   ],
   "source": [
    "\n",
    "\n",
    "\n",
    "\n",
    "\n",
    "print(iList)\n",
    "print(iiList)\n",
    "print(iiList_of_tuples)"
   ]
  },
  {
   "cell_type": "code",
   "execution_count": 256,
   "metadata": {},
   "outputs": [
    {
     "name": "stderr",
     "output_type": "stream",
     "text": [
      "\r",
      "  0%|          | 0/2040 [00:00<?, ?it/s]"
     ]
    },
    {
     "name": "stdout",
     "output_type": "stream",
     "text": [
      "https://itra.run/race/13893\n"
     ]
    },
    {
     "name": "stderr",
     "output_type": "stream",
     "text": [
      "\r",
      "  0%|          | 1/2040 [00:43<24:37:41, 43.48s/it]"
     ]
    },
    {
     "name": "stdout",
     "output_type": "stream",
     "text": [
      "1\n",
      "['http://xterace.com/NE-Mountain-Race-2021/']\n",
      "[('Distance', '23.60km (15miles)'), ('Elevation gain', '1570m'), ('Elevation loss', '1570m'), ('Start time', ' 01/01/2021 09:15:00'), ('Start location', 'Tai Mei Tuk'), ('Finish location', 'Tai Mei Tuk'), ('Aid station', '1'), ('Time limit', '6 hours    '), ('Participation', 'solo'), ('Topology', '85% Paths / 5% Tracks / 10% Roads'), ('Number of participants', '400'), ('Challenge', 'N/A'), ('Championship', 'N/A')]\n",
      "\n",
      "                                        Hok Tau, Hong Kong, China\n",
      "https://itra.run/race/13895\n"
     ]
    },
    {
     "name": "stderr",
     "output_type": "stream",
     "text": [
      "\r",
      "  0%|          | 2/2040 [01:20<22:32:39, 39.82s/it]"
     ]
    },
    {
     "name": "stdout",
     "output_type": "stream",
     "text": [
      "1\n",
      "['http://xterace.com/NE-Mountain-Race-2021/']\n",
      "[('Distance', '23.60km (15miles)'), ('Elevation gain', '1570m'), ('Elevation loss', '1570m'), ('Start time', ' 01/01/2021 09:15:00'), ('Start location', 'Tai Mei Tuk'), ('Finish location', 'Tai Mei Tuk'), ('Aid station', '1'), ('Time limit', '6 hours    '), ('Participation', 'team'), ('Topology', '85% Paths / 5% Tracks / 10% Roads'), ('Number of participants', '200'), ('Challenge', 'N/A'), ('Championship', 'N/A')]\n",
      "\n",
      "                                        Hok Tau, Hong Kong, China\n",
      "https://itra.run/race/13897\n"
     ]
    },
    {
     "name": "stderr",
     "output_type": "stream",
     "text": [
      "\r",
      "  0%|          | 3/2040 [01:59<22:21:46, 39.52s/it]"
     ]
    },
    {
     "name": "stdout",
     "output_type": "stream",
     "text": [
      "1\n",
      "['http://xterace.com/NE-Mountain-Race-2021/']\n",
      "[('Distance', '36.80km (23miles)'), ('Elevation gain', '2430m'), ('Elevation loss', '2430m'), ('Start time', ' 01/01/2021 09:00:00'), ('Start location', 'Tai Mei Tuk'), ('Finish location', 'Tai Mei Tuk'), ('Aid station', '3'), ('Time limit', '8 hours    '), ('Participation', 'solo'), ('Topology', '80% Paths / 5% Tracks / 15% Roads'), ('Number of participants', '400'), ('Challenge', 'N/A'), ('Championship', 'N/A')]\n",
      "\n",
      "                                        Hok Tau, Hong Kong, China\n",
      "https://itra.run/race/13899\n"
     ]
    },
    {
     "name": "stderr",
     "output_type": "stream",
     "text": [
      "\r",
      "  0%|          | 4/2040 [02:31<20:38:45, 36.51s/it]"
     ]
    },
    {
     "name": "stdout",
     "output_type": "stream",
     "text": [
      "1\n",
      "['http://xterace.com/NE-Mountain-Race-2021/']\n",
      "[('Distance', '36.80km (23miles)'), ('Elevation gain', '2430m'), ('Elevation loss', '2430m'), ('Start time', ' 01/01/2021 09:00:00'), ('Start location', 'Tai Mei Tuk'), ('Finish location', 'Tai Mei Tuk'), ('Aid station', '3'), ('Time limit', '8 hours    '), ('Participation', 'team'), ('Topology', '80% Paths / 5% Tracks / 15% Roads'), ('Number of participants', '200'), ('Challenge', 'N/A'), ('Championship', 'N/A')]\n",
      "\n",
      "                                        Hok Tau, Hong Kong, China\n",
      "https://itra.run/race/23623\n"
     ]
    },
    {
     "name": "stderr",
     "output_type": "stream",
     "text": [
      "\r",
      "  0%|          | 5/2040 [03:06<20:21:36, 36.02s/it]"
     ]
    },
    {
     "name": "stdout",
     "output_type": "stream",
     "text": [
      "1\n",
      "['https://mp.weixin.qq.com/mp/profile_ext?action=home&__biz=MzIyNjE4Nzg2MQ==&scene=124#wechat_redirect']\n",
      "[('Distance', '24.30km (15miles)'), ('Elevation gain', '1470m'), ('Elevation loss', '1480m'), ('Start time', ' 01/01/2021 07:30:00'), ('Start location', 'hui shan'), ('Finish location', 'hui shan'), ('Aid station', '3'), ('Time limit', '8 hours    '), ('Participation', 'solo'), ('Topology', '40% Paths / 40% Tracks / 20% Roads'), ('Number of participants', '300'), ('Challenge', 'N/A'), ('Championship', 'N/A')]\n",
      "\n",
      "                                        mingdu building, China\n",
      "https://itra.run/race/25353\n"
     ]
    },
    {
     "name": "stderr",
     "output_type": "stream",
     "text": [
      "\r",
      "  0%|          | 6/2040 [03:39<19:35:24, 34.67s/it]"
     ]
    },
    {
     "name": "stdout",
     "output_type": "stream",
     "text": [
      "0\n",
      "[]\n",
      "[('Distance', '101.60km (63miles)'), ('Elevation gain', '6690m'), ('Elevation loss', '6690m'), ('Start time', ' 02/01/2021 04:00:00'), ('Start location', '556南投縣信義鄉開信巷7之2號'), ('Finish location', '556南投縣信義鄉開信巷7之2號'), ('Aid station', '6'), ('Time limit', '32 hours    '), ('Participation', 'solo'), ('Topology', '38% Paths / 45% Tracks / 17% Roads'), ('Number of participants', '50'), ('Challenge', 'N/A'), ('Championship', 'N/A')]\n",
      "\n",
      "                                        南投縣, Taiwan\n",
      "https://itra.run/race/25355\n"
     ]
    },
    {
     "name": "stderr",
     "output_type": "stream",
     "text": [
      "\r",
      "  0%|          | 7/2040 [04:14<19:40:20, 34.84s/it]"
     ]
    },
    {
     "name": "stdout",
     "output_type": "stream",
     "text": [
      "0\n",
      "[]\n",
      "[('Distance', '82.90km (52miles)'), ('Elevation gain', '5480m'), ('Elevation loss', '5480m'), ('Start time', ' 02/01/2021 04:00:00'), ('Start location', '556南投縣信義鄉開信巷7之2號'), ('Finish location', '556南投縣信義鄉開信巷7之2號'), ('Aid station', '5'), ('Time limit', '28 hours    '), ('Participation', 'solo'), ('Topology', '45% Paths / 35% Tracks / 20% Roads'), ('Number of participants', '50'), ('Challenge', 'N/A'), ('Championship', 'N/A')]\n",
      "\n",
      "                                        南投縣, Taiwan\n",
      "https://itra.run/race/25357\n"
     ]
    },
    {
     "name": "stderr",
     "output_type": "stream",
     "text": [
      "\r",
      "  0%|          | 8/2040 [04:47<19:19:46, 34.25s/it]"
     ]
    },
    {
     "name": "stdout",
     "output_type": "stream",
     "text": [
      "0\n",
      "[]\n",
      "[('Distance', '47.90km (30miles)'), ('Elevation gain', '3300m'), ('Elevation loss', '3300m'), ('Start time', ' 02/01/2021 04:00:00'), ('Start location', '556南投縣信義鄉開信巷7之2號'), ('Finish location', '556南投縣信義鄉開信巷7之2號'), ('Aid station', '4'), ('Time limit', '18 hours    '), ('Participation', 'solo'), ('Topology', '40% Paths / 40% Tracks / 20% Roads'), ('Number of participants', '50'), ('Challenge', 'N/A'), ('Championship', 'N/A')]\n",
      "\n",
      "                                        南投縣, Taiwan\n",
      "https://itra.run/race/27721\n"
     ]
    },
    {
     "name": "stderr",
     "output_type": "stream",
     "text": [
      "\r",
      "  0%|          | 9/2040 [05:19<19:00:56, 33.71s/it]"
     ]
    },
    {
     "name": "stdout",
     "output_type": "stream",
     "text": [
      "1\n",
      "['http://wuxiyuyue.com']\n",
      "[('Distance', '33.20km (21miles)'), ('Elevation gain', '930m'), ('Elevation loss', '930m'), ('Start time', ' 02/01/2021 09:00:00'), ('Start location', 'wuxi'), ('Finish location', 'wuxi'), ('Aid station', '2'), ('Time limit', '9 hours    '), ('Participation', 'solo'), ('Topology', '83% Paths / 6% Tracks / 11% Roads'), ('Number of participants', '100'), ('Challenge', 'N/A'), ('Championship', 'N/A')]\n",
      "\n",
      "                                        wuxi, China\n",
      "https://itra.run/race/2642\n"
     ]
    },
    {
     "name": "stderr",
     "output_type": "stream",
     "text": [
      "\r",
      "  0%|          | 10/2040 [06:01<20:29:09, 36.33s/it]"
     ]
    },
    {
     "name": "stdout",
     "output_type": "stream",
     "text": [
      "1\n",
      "['http://www.aravaiparunning.com/avr/san-tan-scramble/']\n",
      "[('Distance', '50.10km (31miles)'), ('Elevation gain', '1070m'), ('Elevation loss', '1070m'), ('Start time', ' 02/01/2021 07:00:00'), ('Start location', 'Queen Creek'), ('Finish location', 'Queen Creek'), ('Aid station', '5'), ('Time limit', '9 hours    '), ('Participation', 'solo'), ('Topology', '100% Paths / 0% Tracks / 0% Roads'), ('Number of participants', '80'), ('Challenge', 'N/A'), ('Championship', 'N/A')]\n",
      "\n",
      "                                        Queen Creek, United States\n",
      "https://itra.run/race/23465\n"
     ]
    },
    {
     "name": "stderr",
     "output_type": "stream",
     "text": [
      "\r",
      "  1%|          | 11/2040 [06:36<20:09:13, 35.76s/it]"
     ]
    },
    {
     "name": "stdout",
     "output_type": "stream",
     "text": [
      "1\n",
      "['http://www.aravaiparunning.com/avr/san-tan-scramble/']\n",
      "[('Distance', '26.00km (16miles)'), ('Elevation gain', '579m'), ('Elevation loss', '579m'), ('Start time', ' 02/01/2021 07:15:00'), ('Start location', 'Queen Creek'), ('Finish location', 'Queen Creek'), ('Aid station', '4'), ('Time limit', '5 hours    '), ('Participation', 'solo'), ('Topology', '100% Paths / 0% Tracks / 0% Roads'), ('Number of participants', '200'), ('Challenge', 'N/A'), ('Championship', 'N/A')]\n",
      "\n",
      "                                        Queen Creek, United States\n",
      "https://itra.run/race/25359\n"
     ]
    },
    {
     "name": "stderr",
     "output_type": "stream",
     "text": [
      "\r",
      "  1%|          | 12/2040 [07:09<19:37:00, 34.82s/it]"
     ]
    },
    {
     "name": "stdout",
     "output_type": "stream",
     "text": [
      "0\n",
      "[]\n",
      "[('Distance', '39.30km (24miles)'), ('Elevation gain', '2630m'), ('Elevation loss', '2630m'), ('Start time', ' 03/01/2021 04:00:00'), ('Start location', '556南投縣信義鄉開信巷7之2號'), ('Finish location', '556南投縣信義鄉開信巷7之2號'), ('Aid station', '2'), ('Time limit', '12 hours    '), ('Participation', 'solo'), ('Topology', '20% Paths / 60% Tracks / 20% Roads'), ('Number of participants', '50'), ('Challenge', 'N/A'), ('Championship', 'N/A')]\n",
      "\n",
      "                                        南投縣, Taiwan\n",
      "https://itra.run/race/822\n"
     ]
    },
    {
     "name": "stderr",
     "output_type": "stream",
     "text": [
      "\r",
      "  1%|          | 13/2040 [07:41<19:08:53, 34.01s/it]"
     ]
    },
    {
     "name": "stdout",
     "output_type": "stream",
     "text": [
      "1\n",
      "['http://gobeyondultra.co.uk/events/country_to_capital_2021']\n",
      "[('Distance', '69.60km (43miles)'), ('Elevation gain', '620m'), ('Elevation loss', '730m'), ('Start time', ' 09/01/2021 08:45:00'), ('Start location', 'Wendover'), ('Finish location', 'Paddington, London'), ('Aid station', '5'), ('Time limit', '11 hours    '), ('Participation', 'solo'), ('Topology', '90% Paths / 5% Tracks / 5% Roads'), ('Number of participants', '400'), ('Challenge', 'N/A'), ('Championship', 'N/A')]\n",
      "\n",
      "                                        Wendover, United Kingdom\n",
      "https://itra.run/race/9497\n"
     ]
    },
    {
     "name": "stderr",
     "output_type": "stream",
     "text": [
      "\r",
      "  1%|          | 14/2040 [08:14<19:05:56, 33.94s/it]"
     ]
    },
    {
     "name": "stdout",
     "output_type": "stream",
     "text": [
      "1\n",
      "['http://vagamonultrail.in']\n",
      "[('Distance', '60.00km (37miles)'), ('Elevation gain', '1550m'), ('Elevation loss', '1700m'), ('Start time', ' 09/01/2021 06:30:00'), ('Start location', 'Vagamon'), ('Finish location', 'Vagamon'), ('Aid station', '10'), ('Time limit', '12 hours    '), ('Participation', 'solo'), ('Topology', '40% Paths / 40% Tracks / 20% Roads'), ('Number of participants', '150'), ('Challenge', 'N/A'), ('Championship', 'N/A')]\n",
      "\n",
      "                                        Vagamon, India\n",
      "https://itra.run/race/9423\n"
     ]
    },
    {
     "name": "stderr",
     "output_type": "stream",
     "text": [
      "\r",
      "  1%|          | 15/2040 [08:47<18:55:24, 33.64s/it]"
     ]
    },
    {
     "name": "stdout",
     "output_type": "stream",
     "text": [
      "1\n",
      "['http://vagamonultrail.in']\n",
      "[('Distance', '90.10km (56miles)'), ('Elevation gain', '2460m'), ('Elevation loss', '2460m'), ('Start time', ' 09/01/2021 05:00:00'), ('Start location', 'Vagamon, Kerala'), ('Finish location', 'Vagamon, Kerala'), ('Aid station', '16'), ('Time limit', '18 hours    '), ('Participation', 'solo'), ('Topology', '40% Paths / 40% Tracks / 20% Roads'), ('Number of participants', '100'), ('Challenge', 'N/A'), ('Championship', 'N/A')]\n",
      "\n",
      "                                        Vagamon, India\n",
      "https://itra.run/race/26317\n"
     ]
    },
    {
     "name": "stderr",
     "output_type": "stream",
     "text": [
      "\r",
      "  1%|          | 16/2040 [09:20<18:46:48, 33.40s/it]"
     ]
    },
    {
     "name": "stdout",
     "output_type": "stream",
     "text": [
      "1\n",
      "['http://www.s1trail.com']\n",
      "[('Distance', '79.70km (50miles)'), ('Elevation gain', '2520m'), ('Elevation loss', '2440m'), ('Start time', ' 09/01/2021 22:00:00'), ('Start location', 'Barcola'), ('Finish location', 'Visogliano'), ('Aid station', '6'), ('Time limit', '21 hours    '), ('Participation', 'solo'), ('Topology', '15% Paths / 76% Tracks / 9% Roads'), ('Number of participants', '80'), ('Challenge', 'N/A'), ('Championship', 'N/A')]\n",
      "\n",
      "                                        TRIESTE, Italy\n",
      "https://itra.run/race/931\n"
     ]
    },
    {
     "name": "stderr",
     "output_type": "stream",
     "text": [
      "\r",
      "  1%|          | 17/2040 [09:53<18:40:00, 33.22s/it]"
     ]
    },
    {
     "name": "stdout",
     "output_type": "stream",
     "text": [
      "1\n",
      "['https://www.tejastrails.com/#/bandera/']\n",
      "[('Distance', '99.50km (62miles)'), ('Elevation gain', '1720m'), ('Elevation loss', '1710m'), ('Start time', ' 09/01/2021 00:00:00'), ('Start location', 'Bandera, TX'), ('Finish location', 'Bandera, TX'), ('Aid station', '8'), ('Time limit', '24 hours    '), ('Participation', 'solo'), ('Topology', '100% Paths / 0% Tracks / 0% Roads'), ('Number of participants', '500'), ('Challenge', 'N/A'), ('Championship', 'N/A')]\n",
      "\n",
      "                                        Bandera, United States\n",
      "https://itra.run/race/1781\n"
     ]
    },
    {
     "name": "stderr",
     "output_type": "stream",
     "text": [
      "\r",
      "  1%|          | 18/2040 [10:31<19:28:42, 34.68s/it]"
     ]
    },
    {
     "name": "stdout",
     "output_type": "stream",
     "text": [
      "1\n",
      "['https://www.tejastrails.com/#/bandera/']\n",
      "[('Distance', '50.40km (31miles)'), ('Elevation gain', '1260m'), ('Elevation loss', '1280m'), ('Start time', ' 09/01/2021 00:00:00'), ('Start location', 'Bandera'), ('Finish location', 'Bandera'), ('Aid station', '6'), ('Time limit', '12 hours    '), ('Participation', 'solo'), ('Topology', '100% Paths / 0% Tracks / 0% Roads'), ('Number of participants', '500'), ('Challenge', 'N/A'), ('Championship', 'N/A')]\n",
      "\n",
      "                                        Bandera, United States\n",
      "https://itra.run/race/26747\n"
     ]
    },
    {
     "name": "stderr",
     "output_type": "stream",
     "text": [
      "\r",
      "  1%|          | 19/2040 [11:10<20:14:47, 36.06s/it]"
     ]
    },
    {
     "name": "stdout",
     "output_type": "stream",
     "text": [
      "1\n",
      "['http://www.s1trail.com']\n",
      "[('Distance', '121.10km (75miles)'), ('Elevation gain', '3500m'), ('Elevation loss', '3370m'), ('Start time', ' 09/01/2021 22:30:00'), ('Start location', 'BORA VILLAGE'), ('Finish location', 'BORA VILLAGE'), ('Aid station', '12'), ('Time limit', '18 hours    '), ('Participation', 'solo'), ('Topology', '10% Paths / 32% Tracks / 58% Roads'), ('Number of participants', '50'), ('Challenge', 'N/A'), ('Championship', 'N/A')]\n",
      "\n",
      "                                        TRIESTE, Italy\n",
      "https://itra.run/race/26749\n"
     ]
    },
    {
     "name": "stderr",
     "output_type": "stream",
     "text": [
      "\r",
      "  1%|          | 20/2040 [11:47<20:19:49, 36.23s/it]"
     ]
    },
    {
     "name": "stdout",
     "output_type": "stream",
     "text": [
      "1\n",
      "['http://www.s1trail.com']\n",
      "[('Distance', '95.50km (59miles)'), ('Elevation gain', '3010m'), ('Elevation loss', '2870m'), ('Start time', ' 09/01/2021 22:30:00'), ('Start location', 'Bora Village'), ('Finish location', 'Bora Village'), ('Aid station', '9'), ('Time limit', '17 hours 30 minutes  '), ('Participation', 'solo'), ('Topology', '12% Paths / 33% Tracks / 55% Roads'), ('Number of participants', '50'), ('Challenge', 'N/A'), ('Championship', 'N/A')]\n",
      "\n",
      "                                        TRIESTE, Italy\n",
      "https://itra.run/race/26969\n"
     ]
    },
    {
     "name": "stderr",
     "output_type": "stream",
     "text": [
      "\r",
      "  1%|          | 21/2040 [12:30<21:28:47, 38.30s/it]"
     ]
    },
    {
     "name": "stdout",
     "output_type": "stream",
     "text": [
      "0\n",
      "[]\n",
      "[('Distance', '78.80km (49miles)'), ('Elevation gain', '5410m'), ('Elevation loss', '5420m'), ('Start time', ' 09/01/2021 11:00:00'), ('Start location', 'TAYALMUSEUM · Civilization Museum'), ('Finish location', 'TAYALMUSEUM · Civilization Museum'), ('Aid station', '5'), ('Time limit', '26 hours    '), ('Participation', 'solo'), ('Topology', '85% Paths / 8% Tracks / 7% Roads'), ('Number of participants', '40'), ('Challenge', 'N/A'), ('Championship', 'N/A')]\n",
      "\n",
      "                                        Miaoli, Taiwan\n",
      "https://itra.run/race/26971\n"
     ]
    },
    {
     "name": "stderr",
     "output_type": "stream",
     "text": [
      "\r",
      "  1%|          | 22/2040 [13:08<21:24:11, 38.18s/it]"
     ]
    },
    {
     "name": "stdout",
     "output_type": "stream",
     "text": [
      "0\n",
      "[]\n",
      "[('Distance', '93.80km (58miles)'), ('Elevation gain', '6690m'), ('Elevation loss', '6690m'), ('Start time', ' 09/01/2021 11:00:00'), ('Start location', 'TAYALMUSEUM · Civilization Museum'), ('Finish location', 'TAYALMUSEUM · Civilization Museum'), ('Aid station', '7'), ('Time limit', '31 hours    '), ('Participation', 'solo'), ('Topology', '73% Paths / 13% Tracks / 14% Roads'), ('Number of participants', '40'), ('Challenge', 'N/A'), ('Championship', 'N/A')]\n",
      "\n",
      "                                        Miaoli, Taiwan\n",
      "https://itra.run/race/5963\n"
     ]
    },
    {
     "name": "stderr",
     "output_type": "stream",
     "text": [
      "\r",
      "  1%|          | 23/2040 [13:48<21:38:52, 38.64s/it]"
     ]
    },
    {
     "name": "stdout",
     "output_type": "stream",
     "text": [
      "3\n",
      "['thespinerace', 'http://www.thespinerace.com', 'thespinerace']\n",
      "[('Distance', '174.10km (108miles)'), ('Elevation gain', '4790m'), ('Elevation loss', '4780m'), ('Start time', ' 09/01/2021 11:00:00'), ('Start location', 'Edale'), ('Finish location', 'Hawes'), ('Aid station', '4'), ('Time limit', '60 hours    '), ('Participation', 'solo'), ('Topology', '10% Paths / 85% Tracks / 5% Roads'), ('Number of participants', '30'), ('Challenge', 'N/A'), ('Championship', 'N/A')]\n",
      "\n",
      "                                        Edale, United Kingdom\n",
      "https://itra.run/race/1628\n"
     ]
    },
    {
     "name": "stderr",
     "output_type": "stream",
     "text": [
      "\r",
      "  1%|          | 24/2040 [14:26<21:29:45, 38.39s/it]"
     ]
    },
    {
     "name": "stdout",
     "output_type": "stream",
     "text": [
      "3\n",
      "['thespinerace', 'http://www.thespinerace.com', 'thespinerace']\n",
      "[('Distance', '174.10km (108miles)'), ('Elevation gain', '4790m'), ('Elevation loss', '4780m'), ('Start time', ' 09/01/2021 08:00:00'), ('Start location', 'Edale'), ('Finish location', 'Hawes, Yorkshire Dales'), ('Aid station', '4'), ('Time limit', '     '), ('Participation', 'solo'), ('Topology', '10% Paths / 85% Tracks / 5% Roads'), ('Number of participants', '125'), ('Challenge', 'N/A'), ('Championship', 'N/A')]\n",
      "\n",
      "                                        Edale, United Kingdom\n",
      "https://itra.run/race/17069\n"
     ]
    },
    {
     "name": "stderr",
     "output_type": "stream",
     "text": [
      "\r",
      "  1%|          | 25/2040 [15:07<22:04:15, 39.43s/it]"
     ]
    },
    {
     "name": "stdout",
     "output_type": "stream",
     "text": [
      "1\n",
      "['http://www.wilderness.ee']\n",
      "[('Distance', '102.00km (63miles)'), ('Elevation gain', '1240m'), ('Elevation loss', '1180m'), ('Start time', ' 09/01/2021 12:00:00'), ('Start location', 'Viitna'), ('Finish location', 'Viitna'), ('Aid station', '3'), ('Time limit', '24 hours    '), ('Participation', 'solo'), ('Topology', '47% Paths / 47% Tracks / 6% Roads'), ('Number of participants', '150'), ('Challenge', 'N/A'), ('Championship', 'N/A')]\n",
      "\n",
      "                                        Tallinn, Estonia\n",
      "https://itra.run/race/4050\n"
     ]
    },
    {
     "name": "stderr",
     "output_type": "stream",
     "text": [
      "\r",
      "  1%|▏         | 26/2040 [15:44<21:39:29, 38.71s/it]"
     ]
    },
    {
     "name": "stdout",
     "output_type": "stream",
     "text": [
      "1\n",
      "['http://www.s1trail.com']\n",
      "[('Distance', '22.10km (14miles)'), ('Elevation gain', '530m'), ('Elevation loss', '760m'), ('Start time', ' 10/01/2021 11:30:00'), ('Start location', 'Opicina'), ('Finish location', 'sistiana'), ('Aid station', '1'), ('Time limit', '8 hours    '), ('Participation', 'solo'), ('Topology', '45% Paths / 50% Tracks / 5% Roads'), ('Challenge', 'N/A'), ('Championship', 'N/A'), ('Distance', '22.10km (14miles)')]\n",
      "\n",
      "                                        TRIESTE, Italy\n",
      "https://itra.run/race/4049\n"
     ]
    },
    {
     "name": "stderr",
     "output_type": "stream",
     "text": [
      "\r",
      "  1%|▏         | 27/2040 [16:22<21:27:03, 38.36s/it]"
     ]
    },
    {
     "name": "stdout",
     "output_type": "stream",
     "text": [
      "1\n",
      "['http://www.s1trail.com']\n",
      "[('Distance', '57.30km (36miles)'), ('Elevation gain', '2380m'), ('Elevation loss', '2640m'), ('Start time', ' 10/01/2021 07:30:00'), ('Start location', 'Pesek'), ('Finish location', 'Sistiana'), ('Aid station', '8'), ('Time limit', '12 hours    '), ('Participation', 'solo'), ('Topology', '35% Paths / 60% Tracks / 5% Roads'), ('Number of participants', '360'), ('Challenge', 'N/A'), ('Championship', 'N/A')]\n",
      "\n",
      "                                        TRIESTE, Italy\n",
      "https://itra.run/race/10747\n"
     ]
    },
    {
     "name": "stderr",
     "output_type": "stream",
     "text": [
      "\r",
      "  1%|▏         | 28/2040 [17:00<21:26:09, 38.35s/it]"
     ]
    },
    {
     "name": "stdout",
     "output_type": "stream",
     "text": [
      "1\n",
      "['http://www.s1trail.com']\n",
      "[('Distance', '15.90km (10miles)'), ('Elevation gain', '490m'), ('Elevation loss', '490m'), ('Start time', ' 10/01/2021 12:00:00'), ('Start location', 'Bora Viallage'), ('Finish location', 'Bora Viallage'), ('Aid station', '1'), ('Time limit', '4 hours 21 minutes  '), ('Participation', 'solo'), ('Topology', '0% Paths / 50% Tracks / 50% Roads'), ('Number of participants', '200'), ('Challenge', 'N/A'), ('Championship', 'N/A')]\n",
      "\n",
      "                                        TRIESTE, Italy\n",
      "https://itra.run/race/24893\n"
     ]
    },
    {
     "name": "stderr",
     "output_type": "stream",
     "text": [
      "\r",
      "  1%|▏         | 29/2040 [17:37<21:10:13, 37.90s/it]"
     ]
    },
    {
     "name": "stdout",
     "output_type": "stream",
     "text": [
      "1\n",
      "['http://www.s1trail.com']\n",
      "[('Distance', '41.80km (26miles)'), ('Elevation gain', '990m'), ('Elevation loss', '940m'), ('Start time', ' 10/01/2021 00:00:00'), ('Start location', 'Trieste'), ('Finish location', 'Sistiana'), ('Aid station', '6'), ('Time limit', '10 hours 11 minutes  '), ('Participation', 'solo'), ('Topology', '16% Paths / 4% Tracks / 80% Roads'), ('Number of participants', '500'), ('Challenge', 'N/A'), ('Championship', 'N/A')]\n",
      "\n",
      "                                        TRIESTE, Italy\n",
      "https://itra.run/race/26965\n"
     ]
    },
    {
     "name": "stderr",
     "output_type": "stream",
     "text": [
      "\r",
      "  1%|▏         | 30/2040 [18:12<20:39:46, 37.01s/it]"
     ]
    },
    {
     "name": "stdout",
     "output_type": "stream",
     "text": [
      "0\n",
      "[]\n",
      "[('Distance', '26.50km (16miles)'), ('Elevation gain', '2140m'), ('Elevation loss', '2090m'), ('Start time', ' 10/01/2021 09:00:00'), ('Start location', 'TAYALMUSEUM · Civilization Museum'), ('Finish location', 'TAYALMUSEUM · Civilization Museum'), ('Aid station', '2'), ('Time limit', '9 hours 30 minutes  '), ('Participation', 'solo'), ('Topology', '72% Paths / 9% Tracks / 19% Roads'), ('Number of participants', '150'), ('Challenge', 'N/A'), ('Championship', 'N/A')]\n",
      "\n",
      "                                        Miaoli, Taiwan\n",
      "https://itra.run/race/26967\n"
     ]
    },
    {
     "name": "stderr",
     "output_type": "stream",
     "text": [
      "\r",
      "  2%|▏         | 31/2040 [18:46<20:10:29, 36.15s/it]"
     ]
    },
    {
     "name": "stdout",
     "output_type": "stream",
     "text": [
      "0\n",
      "[]\n",
      "[('Distance', '46.90km (29miles)'), ('Elevation gain', '3050m'), ('Elevation loss', '3050m'), ('Start time', ' 10/01/2021 04:00:00'), ('Start location', 'TAYALMUSEUM · Civilization Museum'), ('Finish location', 'TAYALMUSEUM · Civilization Museum'), ('Aid station', '3'), ('Time limit', '14 hours 30 minutes  '), ('Participation', 'solo'), ('Topology', '69% Paths / 16% Tracks / 15% Roads'), ('Number of participants', '100'), ('Challenge', 'N/A'), ('Championship', 'N/A')]\n",
      "\n",
      "                                        Miaoli, Taiwan\n",
      "https://itra.run/race/2740\n"
     ]
    },
    {
     "name": "stderr",
     "output_type": "stream",
     "text": [
      "\r",
      "  2%|▏         | 32/2040 [19:25<20:35:59, 36.93s/it]"
     ]
    },
    {
     "name": "stdout",
     "output_type": "stream",
     "text": [
      "1\n",
      "['https://www.traildescoursieres.fr']\n",
      "[('Distance', '24.00km (15miles)'), ('Elevation gain', '1000m'), ('Elevation loss', '1000m'), ('Start time', ' 10/01/2021 09:00:00'), ('Start location', 'Saint-Martin-en-Haut'), ('Finish location', 'Saint-Martin-en-Haut'), ('Aid station', '0'), ('Time limit', '4 hours    '), ('Participation', 'solo'), ('Topology', '80% Paths / 18% Tracks / 2% Roads'), ('Number of participants', '800'), ('Challenge', 'N/A'), ('Championship', 'N/A')]\n",
      "\n",
      "                                        Saint Martin en Haut, France\n",
      "https://itra.run/race/1285\n"
     ]
    },
    {
     "name": "stderr",
     "output_type": "stream",
     "text": [
      "\r",
      "  2%|▏         | 33/2040 [19:58<19:56:16, 35.76s/it]"
     ]
    },
    {
     "name": "stdout",
     "output_type": "stream",
     "text": [
      "3\n",
      "['thespinerace', 'http://www.thespinerace.com', 'thespinerace']\n",
      "[('Distance', '420.30km (261miles)'), ('Elevation gain', '10700m'), ('Elevation loss', '10810m'), ('Start time', ' 10/01/2021 08:00:00'), ('Start location', 'Edale'), ('Finish location', 'Kirk Yetholm'), ('Aid station', '12'), ('Time limit', '168 hours    '), ('Participation', 'solo'), ('Topology', '15% Paths / 75% Tracks / 10% Roads'), ('Number of participants', '160'), ('Challenge', 'N/A'), ('Championship', 'N/A')]\n",
      "\n",
      "                                        Edale, United Kingdom\n",
      "https://itra.run/race/27887\n"
     ]
    },
    {
     "name": "stderr",
     "output_type": "stream",
     "text": [
      "\r",
      "  2%|▏         | 34/2040 [20:40<20:59:39, 37.68s/it]"
     ]
    },
    {
     "name": "stdout",
     "output_type": "stream",
     "text": [
      "1\n",
      "['https://trailrunning.msk.ru/']\n",
      "[('Distance', '22.90km (14miles)'), ('Elevation gain', '250m'), ('Elevation loss', '250m'), ('Start time', ' 10/01/2021 00:00:00'), ('Start location', 'Pushkino'), ('Finish location', 'Pushkino'), ('Aid station', '1'), ('Time limit', '     '), ('Participation', 'solo'), ('Topology', '72% Paths / 23% Tracks / 5% Roads'), ('Number of participants', '200'), ('Challenge', 'N/A'), ('Championship', 'Неоткрытые Края')]\n",
      "\n",
      "                                        Moscow, Russia\n",
      "https://itra.run/race/27888\n"
     ]
    },
    {
     "name": "stderr",
     "output_type": "stream",
     "text": [
      "\r",
      "  2%|▏         | 35/2040 [21:15<20:26:04, 36.69s/it]"
     ]
    },
    {
     "name": "stdout",
     "output_type": "stream",
     "text": [
      "1\n",
      "['https://trailrunning.msk.ru/']\n",
      "[('Distance', '12.30km (8miles)'), ('Elevation gain', '173m'), ('Elevation loss', '173m'), ('Start time', ' 10/01/2021 12:15:00'), ('Start location', 'Pushkino'), ('Finish location', 'Pushkino'), ('Aid station', '0'), ('Time limit', '     '), ('Participation', 'solo'), ('Topology', '73% Paths / 22% Tracks / 5% Roads'), ('Number of participants', '200'), ('Challenge', 'N/A'), ('Championship', 'Неоткрытые Края')]\n",
      "\n",
      "                                        Moscow, Russia\n",
      "https://itra.run/race/27906\n"
     ]
    },
    {
     "name": "stderr",
     "output_type": "stream",
     "text": [
      "\r",
      "  2%|▏         | 36/2040 [21:49<20:05:22, 36.09s/it]"
     ]
    },
    {
     "name": "stdout",
     "output_type": "stream",
     "text": [
      "1\n",
      "['https://']\n",
      "[('Distance', '22.26km (14miles)'), ('Elevation gain', '1073m'), ('Elevation loss', '1073m'), ('Start time', ' 10/01/2021 07:30:00'), ('Start location', 'Xiamen'), ('Finish location', 'Xiamen'), ('Aid station', '2'), ('Time limit', '6 hours    '), ('Participation', 'solo'), ('Topology', '35% Paths / 40% Tracks / 25% Roads'), ('Number of participants', '300'), ('Challenge', 'N/A'), ('Championship', 'N/A')]\n",
      "\n",
      "                                        Xiamen, China\n",
      "https://itra.run/race/27907\n"
     ]
    },
    {
     "name": "stderr",
     "output_type": "stream",
     "text": [
      "\r",
      "  2%|▏         | 37/2040 [22:23<19:37:46, 35.28s/it]"
     ]
    },
    {
     "name": "stdout",
     "output_type": "stream",
     "text": [
      "1\n",
      "['https://']\n",
      "[('Distance', '49.94km (31miles)'), ('Elevation gain', '3118m'), ('Elevation loss', '3118m'), ('Start time', ' 10/01/2021 07:30:00'), ('Start location', 'xiamen'), ('Finish location', 'xiamen'), ('Aid station', '5'), ('Time limit', '13 hours    '), ('Participation', 'solo'), ('Topology', '45% Paths / 35% Tracks / 20% Roads'), ('Number of participants', '300'), ('Challenge', 'N/A'), ('Championship', 'N/A')]\n",
      "\n",
      "                                        Xiamen, China\n",
      "https://itra.run/race/28044\n"
     ]
    },
    {
     "name": "stderr",
     "output_type": "stream",
     "text": [
      "\r",
      "  2%|▏         | 38/2040 [22:56<19:19:16, 34.74s/it]"
     ]
    },
    {
     "name": "stdout",
     "output_type": "stream",
     "text": [
      "1\n",
      "['https://']\n",
      "[('Distance', '50.70km (32miles)'), ('Elevation gain', '2500m'), ('Elevation loss', '2480m'), ('Start time', ' 10/01/2021 07:30:00'), ('Start location', '厦门'), ('Finish location', '厦门'), ('Aid station', '5'), ('Time limit', '13 hours    '), ('Participation', 'solo'), ('Topology', '45% Paths / 35% Tracks / 20% Roads'), ('Number of participants', '300'), ('Challenge', 'N/A'), ('Championship', 'N/A')]\n",
      "\n",
      "                                        Xiamen, China\n",
      "https://itra.run/race/24319\n"
     ]
    },
    {
     "name": "stderr",
     "output_type": "stream",
     "text": [
      "\r",
      "  2%|▏         | 39/2040 [23:31<19:15:47, 34.66s/it]"
     ]
    },
    {
     "name": "stdout",
     "output_type": "stream",
     "text": [
      "1\n",
      "['http://thaitrektrail.com']\n",
      "[('Distance', '104.50km (65miles)'), ('Elevation gain', '5230m'), ('Elevation loss', '5230m'), ('Start time', ' 14/01/2021 04:00:00'), ('Start location', 'Phayao'), ('Finish location', 'Phayao'), ('Aid station', '10'), ('Time limit', '30 hours 9 minutes  '), ('Participation', 'solo'), ('Topology', '50% Paths / 35% Tracks / 15% Roads'), ('Number of participants', '150'), ('Challenge', 'N/A'), ('Championship', 'N/A')]\n",
      "\n",
      "                                        Muang, Thailand\n",
      "https://itra.run/race/27956\n"
     ]
    },
    {
     "name": "stderr",
     "output_type": "stream",
     "text": [
      "\r",
      "  2%|▏         | 40/2040 [24:04<19:00:01, 34.20s/it]"
     ]
    },
    {
     "name": "stdout",
     "output_type": "stream",
     "text": [
      "1\n",
      "['http://www.sandsjobackatrail.se']\n",
      "[('Distance', '30.10km (19miles)'), ('Elevation gain', '810m'), ('Elevation loss', '770m'), ('Start time', ' 14/01/2021 18:00:00'), ('Start location', 'Kållered'), ('Finish location', 'Göteborg'), ('Aid station', '0'), ('Time limit', '6 hours    '), ('Participation', 'solo'), ('Topology', '60% Paths / 25% Tracks / 15% Roads'), ('Number of participants', '100'), ('Challenge', 'N/A'), ('Championship', 'N/A')]\n",
      "\n",
      "                                        Åsa, Sweden\n",
      "https://itra.run/race/27958\n"
     ]
    },
    {
     "name": "stderr",
     "output_type": "stream",
     "text": [
      "\r",
      "  2%|▏         | 41/2040 [24:39<19:06:05, 34.40s/it]"
     ]
    },
    {
     "name": "stdout",
     "output_type": "stream",
     "text": [
      "1\n",
      "['http://www.sandsjobackatrail.se']\n",
      "[('Distance', '180.00km (112miles)'), ('Elevation gain', '4620m'), ('Elevation loss', '4490m'), ('Start time', ' 14/01/2021 18:00:00'), ('Start location', 'Kållered'), ('Finish location', 'Göteborg'), ('Aid station', '0'), ('Time limit', '36 hours    '), ('Participation', 'solo'), ('Topology', '65% Paths / 20% Tracks / 15% Roads'), ('Number of participants', '100'), ('Challenge', 'N/A'), ('Championship', 'N/A')]\n",
      "\n",
      "                                        Åsa, Sweden\n",
      "https://itra.run/race/20771\n"
     ]
    },
    {
     "name": "stderr",
     "output_type": "stream",
     "text": [
      "\r",
      "  2%|▏         | 42/2040 [25:12<18:55:28, 34.10s/it]"
     ]
    },
    {
     "name": "stdout",
     "output_type": "stream",
     "text": [
      "1\n",
      "['https://stjamesmountainsports.co.nz/races/the-james/the-great-southern-alps-miler/']\n",
      "[('Distance', '160.30km (100miles)'), ('Elevation gain', '3180m'), ('Elevation loss', '3300m'), ('Start time', ' 15/01/2021 07:00:00'), ('Start location', 'Hanmer Springs'), ('Finish location', ''), ('Aid station', '</div>'), ('Time limit', '8'), ('Participation', '38 hours 30 minutes  '), ('Topology', 'solo'), ('Number of participants', '0% Paths / 99% Tracks / 1% Roads'), ('Challenge', '1'), ('Championship', 'N/A')]\n",
      "\n",
      "                                        Hanmer Springs, New Zealand\n",
      "https://itra.run/race/21075\n"
     ]
    },
    {
     "name": "stderr",
     "output_type": "stream",
     "text": [
      "\r",
      "  2%|▏         | 43/2040 [25:46<18:54:58, 34.10s/it]"
     ]
    },
    {
     "name": "stdout",
     "output_type": "stream",
     "text": [
      "2\n",
      "['Hong Kong 100 Ultra Marathon', 'http://www.hk100-ultra.com']\n",
      "[('Distance', '56.00km (35miles)'), ('Elevation gain', '1980m'), ('Elevation loss', '1980m'), ('Start time', ' 15/01/2021 08:00:00'), ('Start location', 'Pak Tam Chung'), ('Finish location', 'Pak Tam Chung'), ('Aid station', '4'), ('Time limit', '14 hours    '), ('Participation', 'solo'), ('Topology', '30% Paths / 50% Tracks / 20% Roads'), ('Number of participants', '500'), ('Challenge', 'N/A'), ('Championship', 'N/A')]\n",
      "\n",
      "                                        Hong Kong, Hong Kong, China\n",
      "https://itra.run/race/6375\n"
     ]
    },
    {
     "name": "stderr",
     "output_type": "stream",
     "text": [
      "\r",
      "  2%|▏         | 44/2040 [26:21<18:58:27, 34.22s/it]"
     ]
    },
    {
     "name": "stdout",
     "output_type": "stream",
     "text": [
      "1\n",
      "['http://www.sandsjobackatrail.se']\n",
      "[('Distance', '57.70km (36miles)'), ('Elevation gain', '1460m'), ('Elevation loss', '1410m'), ('Start time', ' 15/01/2021 08:00:00'), ('Start location', 'Kungsbacka'), ('Finish location', 'Göteborg'), ('Aid station', '0'), ('Time limit', '12 hours    '), ('Participation', 'solo'), ('Topology', '65% Paths / 20% Tracks / 15% Roads'), ('Number of participants', '100'), ('Challenge', 'N/A'), ('Championship', 'N/A')]\n",
      "\n",
      "                                        Åsa, Sweden\n",
      "https://itra.run/race/17893\n"
     ]
    },
    {
     "name": "stderr",
     "output_type": "stream",
     "text": [
      "\r",
      "  2%|▏         | 45/2040 [26:54<18:47:55, 33.92s/it]"
     ]
    },
    {
     "name": "stdout",
     "output_type": "stream",
     "text": [
      "1\n",
      "['http://punkpanther.co.uk/christmas-cracker-handicap/']\n",
      "[('Distance', '56.20km (35miles)'), ('Elevation gain', '1030m'), ('Elevation loss', '1030m'), ('Start time', ' 16/01/2021 06:00:00'), ('Start location', 'Pool-in-Wharfedale'), ('Finish location', ''), ('Aid station', '</div>'), ('Time limit', '5'), ('Participation', '10 hours    '), ('Topology', 'solo'), ('Number of participants', '60% Paths / 30% Tracks / 10% Roads'), ('Challenge', '100'), ('Championship', 'N/A')]\n",
      "\n",
      "                                        Pool-in-Wharfedale, United Kingdom\n",
      "https://itra.run/race/14519\n"
     ]
    },
    {
     "name": "stderr",
     "output_type": "stream",
     "text": [
      "\r",
      "  2%|▏         | 46/2040 [27:26<18:34:47, 33.54s/it]"
     ]
    },
    {
     "name": "stdout",
     "output_type": "stream",
     "text": [
      "1\n",
      "['http://uton.lineafinal.com']\n",
      "[('Distance', '71.30km (44miles)'), ('Elevation gain', '4480m'), ('Elevation loss', '4650m'), ('Start time', ' 16/01/2021 06:00:00'), ('Start location', 'Santiago'), ('Finish location', 'Santiago'), ('Aid station', '9'), ('Time limit', '24 hours    '), ('Participation', 'solo'), ('Topology', '20% Paths / 55% Tracks / 25% Roads'), ('Number of participants', '300'), ('Challenge', 'N/A'), ('Championship', 'N/A')]\n",
      "\n",
      "                                        Santiago, Mexico\n",
      "https://itra.run/race/5595\n"
     ]
    },
    {
     "name": "stderr",
     "output_type": "stream",
     "text": [
      "\r",
      "  2%|▏         | 47/2040 [28:00<18:32:39, 33.50s/it]"
     ]
    },
    {
     "name": "stdout",
     "output_type": "stream",
     "text": [
      "1\n",
      "['http://uton.lineafinal.com']\n",
      "[('Distance', '97.30km (60miles)'), ('Elevation gain', '6040m'), ('Elevation loss', '6040m'), ('Start time', ' 16/01/2021 05:00:00'), ('Start location', 'Santiago'), ('Finish location', 'Santiago'), ('Aid station', '10'), ('Time limit', '25 hours    '), ('Participation', 'solo'), ('Topology', '75% Paths / 5% Tracks / 20% Roads'), ('Number of participants', '300'), ('Challenge', 'N/A'), ('Championship', 'N/A')]\n",
      "\n",
      "                                        Santiago, Mexico\n",
      "https://itra.run/race/14521\n"
     ]
    },
    {
     "name": "stderr",
     "output_type": "stream",
     "text": [
      "\r",
      "  2%|▏         | 48/2040 [28:34<18:35:35, 33.60s/it]"
     ]
    },
    {
     "name": "stdout",
     "output_type": "stream",
     "text": [
      "1\n",
      "['http://uton.lineafinal.com']\n",
      "[('Distance', '48.40km (30miles)'), ('Elevation gain', '2670m'), ('Elevation loss', '2670m'), ('Start time', ' 16/01/2021 05:00:00'), ('Start location', 'Santiago'), ('Finish location', 'Santiago'), ('Aid station', '5'), ('Time limit', '12 hours    '), ('Participation', 'solo'), ('Topology', '25% Paths / 5% Tracks / 70% Roads'), ('Number of participants', '400'), ('Challenge', 'N/A'), ('Championship', 'N/A')]\n",
      "\n",
      "                                        Santiago, Mexico\n",
      "https://itra.run/race/20773\n"
     ]
    },
    {
     "name": "stderr",
     "output_type": "stream",
     "text": [
      "\r",
      "  2%|▏         | 49/2040 [29:07<18:34:40, 33.59s/it]"
     ]
    },
    {
     "name": "stdout",
     "output_type": "stream",
     "text": [
      "1\n",
      "['https://stjamesmountainsports.co.nz/races/the-james/']\n",
      "[('Distance', '100.00km (62miles)'), ('Elevation gain', '2377m'), ('Elevation loss', '2502m'), ('Start time', ' 16/01/2021 05:00:00'), ('Start location', 'Fowlers Camp, Tophouse Rd, Hanmer Springs'), ('Finish location', 'St James Homestead, Tophouse Rd, Hanmer Springs'), ('Aid station', '7'), ('Time limit', '16 hours 30 minutes  '), ('Participation', 'solo'), ('Topology', '0% Paths / 99% Tracks / 1% Roads'), ('Challenge', 'N/A'), ('Championship', 'N/A'), ('Distance', '100.00km (62miles)')]\n",
      "\n",
      "                                        Hanmer Springs, New Zealand\n",
      "https://itra.run/race/20775\n"
     ]
    },
    {
     "name": "stderr",
     "output_type": "stream",
     "text": [
      "\r",
      "  2%|▏         | 50/2040 [29:50<20:04:25, 36.31s/it]"
     ]
    },
    {
     "name": "stdout",
     "output_type": "stream",
     "text": [
      "1\n",
      "['https://stjamesmountainsports.co.nz/races/the-james/']\n",
      "[('Distance', '50.00km (31miles)'), ('Elevation gain', '1461m'), ('Elevation loss', '1579m'), ('Start time', ' 16/01/2021 07:00:00'), ('Start location', 'Fowlers Camp, Tophouse Rd, Hanmer Springs'), ('Finish location', 'St James Homestead, Tophouse Rd, Hanmer Springs'), ('Aid station', '3'), ('Time limit', '14 hours    '), ('Participation', 'solo'), ('Challenge', 'N/A'), ('Championship', 'N/A'), ('Distance', '50.00km (31miles)'), ('Elevation gain', '1461m')]\n",
      "\n",
      "                                        Hanmer Springs, New Zealand\n",
      "https://itra.run/race/25925\n"
     ]
    },
    {
     "name": "stderr",
     "output_type": "stream",
     "text": [
      "\r",
      "  2%|▎         | 51/2040 [30:24<19:37:09, 35.51s/it]"
     ]
    },
    {
     "name": "stdout",
     "output_type": "stream",
     "text": [
      "1\n",
      "['http://uton.lineafinal.com']\n",
      "[('Distance', '21.10km (13miles)'), ('Elevation gain', '1340m'), ('Elevation loss', '1340m'), ('Start time', ' 16/01/2021 05:00:00'), ('Start location', 'Santiago'), ('Finish location', 'Santiago'), ('Aid station', '1'), ('Time limit', '4 hours    '), ('Participation', 'solo'), ('Topology', '64% Paths / 0% Tracks / 36% Roads'), ('Number of participants', '300'), ('Challenge', 'N/A'), ('Championship', 'N/A')]\n",
      "\n",
      "                                        Santiago, Mexico\n",
      "https://itra.run/race/25953\n"
     ]
    },
    {
     "name": "stderr",
     "output_type": "stream",
     "text": [
      "\r",
      "  3%|▎         | 52/2040 [30:57<19:20:26, 35.02s/it]"
     ]
    },
    {
     "name": "stdout",
     "output_type": "stream",
     "text": [
      "1\n",
      "['http://uton.lineafinal.com']\n",
      "[('Distance', '30.10km (19miles)'), ('Elevation gain', '1720m'), ('Elevation loss', '1720m'), ('Start time', ' 16/01/2021 08:00:00'), ('Start location', 'Santiago'), ('Finish location', 'Santiago'), ('Aid station', '3'), ('Time limit', '6 hours    '), ('Participation', 'solo'), ('Topology', '44% Paths / 28% Tracks / 28% Roads'), ('Number of participants', '500'), ('Challenge', 'N/A'), ('Championship', 'N/A')]\n",
      "\n",
      "                                        Santiago, Mexico\n",
      "https://itra.run/race/906\n"
     ]
    },
    {
     "name": "stderr",
     "output_type": "stream",
     "text": [
      "\r",
      "  3%|▎         | 53/2040 [42:52<131:54:12, 238.98s/it]"
     ]
    },
    {
     "name": "stdout",
     "output_type": "stream",
     "text": [
      "2\n",
      "['Hong Kong 100 Ultra Marathon', 'http://www.hk100-ultra.com']\n",
      "[('Distance', '103.00km (64miles)'), ('Elevation gain', '5180m'), ('Elevation loss', '4720m'), ('Start time', ' 16/01/2021 00:00:00'), ('Start location', 'Pak Tam Chung'), ('Finish location', 'Tai Mo Shan'), ('Aid station', '9'), ('Time limit', '     '), ('Participation', 'solo'), ('Topology', '40% Paths / 40% Tracks / 20% Roads'), ('Number of participants', '1800'), ('Challenge', 'N/A'), ('Championship', 'N/A')]\n",
      "\n",
      "                                        Hong Kong, Hong Kong, China\n",
      "https://itra.run/race/23761\n"
     ]
    },
    {
     "name": "stderr",
     "output_type": "stream",
     "text": [
      "\r",
      "  3%|▎         | 54/2040 [43:35<99:21:13, 180.10s/it] "
     ]
    },
    {
     "name": "stdout",
     "output_type": "stream",
     "text": [
      "1\n",
      "['http://thaitrektrail.com']\n",
      "[('Distance', '65.60km (41miles)'), ('Elevation gain', '2570m'), ('Elevation loss', '2570m'), ('Start time', ' 16/01/2021 05:00:00'), ('Start location', 'Fak Khwan Wittayakhom School'), ('Finish location', 'Fak Khwan Wittayakhom School'), ('Aid station', '5'), ('Time limit', '17 hours    '), ('Participation', 'solo'), ('Topology', '45% Paths / 45% Tracks / 10% Roads'), ('Number of participants', '500'), ('Challenge', 'N/A'), ('Championship', 'N/A')]\n",
      "\n",
      "                                        Muang, Thailand\n",
      "https://itra.run/race/23763\n"
     ]
    },
    {
     "name": "stderr",
     "output_type": "stream",
     "text": [
      "\r",
      "  3%|▎         | 55/2040 [44:14<75:58:11, 137.78s/it]"
     ]
    },
    {
     "name": "stdout",
     "output_type": "stream",
     "text": [
      "1\n",
      "['http://thaitrektrail.com']\n",
      "[('Distance', '37.60km (23miles)'), ('Elevation gain', '1390m'), ('Elevation loss', '1390m'), ('Start time', ' 16/01/2021 06:00:00'), ('Start location', 'Fak Khwan Wittayakhom School'), ('Finish location', 'Fak Khwan Wittayakhom School'), ('Aid station', '2'), ('Time limit', '11 hours    '), ('Participation', 'solo'), ('Topology', '45% Paths / 45% Tracks / 10% Roads'), ('Number of participants', '700'), ('Challenge', 'N/A'), ('Championship', 'N/A')]\n",
      "\n",
      "                                        Muang, Thailand\n",
      "https://itra.run/race/24321\n"
     ]
    },
    {
     "name": "stderr",
     "output_type": "stream",
     "text": [
      "\r",
      "  3%|▎         | 56/2040 [44:50<59:08:23, 107.31s/it]"
     ]
    },
    {
     "name": "stdout",
     "output_type": "stream",
     "text": [
      "1\n",
      "['http://thaitrektrail.com']\n",
      "[('Distance', '28.50km (18miles)'), ('Elevation gain', '1100m'), ('Elevation loss', '1100m'), ('Start time', ' 16/01/2021 05:30:00'), ('Start location', 'Fak Khwan Wittayakhom School'), ('Finish location', 'Fak Khwan Wittayakhom School'), ('Aid station', '3'), ('Time limit', '9 hours    '), ('Participation', 'solo'), ('Topology', '40% Paths / 30% Tracks / 30% Roads'), ('Number of participants', '200'), ('Challenge', 'N/A'), ('Championship', 'N/A')]\n",
      "\n",
      "                                        Muang, Thailand\n",
      "https://itra.run/race/3104\n"
     ]
    },
    {
     "name": "stderr",
     "output_type": "stream",
     "text": [
      "\r",
      "  3%|▎         | 57/2040 [45:32<48:12:29, 87.52s/it] "
     ]
    },
    {
     "name": "stdout",
     "output_type": "stream",
     "text": [
      "1\n",
      "['http://www.sandsjobackatrail.se']\n",
      "[('Distance', '92.20km (57miles)'), ('Elevation gain', '2350m'), ('Elevation loss', '2310m'), ('Start time', ' 16/01/2021 06:00:00'), ('Start location', 'Tjolöholm'), ('Finish location', 'Göteborg'), ('Aid station', '0'), ('Time limit', '18 hours    '), ('Participation', 'solo'), ('Topology', '65% Paths / 20% Tracks / 15% Roads'), ('Number of participants', '100'), ('Challenge', 'N/A'), ('Championship', 'N/A')]\n",
      "\n",
      "                                        Åsa, Sweden\n",
      "https://itra.run/race/28038\n"
     ]
    },
    {
     "name": "stderr",
     "output_type": "stream",
     "text": [
      "\r",
      "  3%|▎         | 58/2040 [46:08<39:46:41, 72.25s/it]"
     ]
    },
    {
     "name": "stdout",
     "output_type": "stream",
     "text": [
      "1\n",
      "['https://www.sportstiming.dk/event/8008']\n",
      "[('Distance', '102.00km (63miles)'), ('Elevation gain', '1430m'), ('Elevation loss', '1430m'), ('Start time', ' 16/01/2021 07:00:00'), ('Start location', 'Bagsværd'), ('Finish location', 'Bagsværd'), ('Aid station', '0'), ('Time limit', '20 hours    '), ('Participation', 'solo'), ('Topology', '50% Paths / 45% Tracks / 5% Roads'), ('Number of participants', '20'), ('Challenge', 'N/A'), ('Championship', 'N/A')]\n",
      "\n",
      "                                        Bagsværd, Denmark\n",
      "https://itra.run/race/2639\n"
     ]
    },
    {
     "name": "stderr",
     "output_type": "stream",
     "text": [
      "\r",
      "  3%|▎         | 59/2040 [46:51<34:55:07, 63.46s/it]"
     ]
    },
    {
     "name": "stdout",
     "output_type": "stream",
     "text": [
      "1\n",
      "['http://www.aravaiparunning.com/avr/coldwater-rumble/']\n",
      "[('Distance', '161.80km (101miles)'), ('Elevation gain', '2660m'), ('Elevation loss', '2670m'), ('Start time', ' 16/01/2021 07:00:00'), ('Start location', 'Goodyear'), ('Finish location', 'Goodyear'), ('Aid station', '16'), ('Time limit', '32 hours    '), ('Participation', 'solo'), ('Topology', '100% Paths / 0% Tracks / 0% Roads'), ('Number of participants', '600'), ('Challenge', 'N/A'), ('Championship', 'N/A')]\n",
      "\n",
      "                                        Goodyear, United States\n",
      "https://itra.run/race/2647\n"
     ]
    },
    {
     "name": "stderr",
     "output_type": "stream",
     "text": [
      "\r",
      "  3%|▎         | 60/2040 [47:28<30:27:48, 55.39s/it]"
     ]
    },
    {
     "name": "stdout",
     "output_type": "stream",
     "text": [
      "1\n",
      "['http://www.aravaiparunning.com/avr/coldwater-rumble/']\n",
      "[('Distance', '84.80km (53miles)'), ('Elevation gain', '1490m'), ('Elevation loss', '1490m'), ('Start time', ' 16/01/2021 08:00:00'), ('Start location', 'Goodyear'), ('Finish location', 'Goodyear'), ('Aid station', '7'), ('Time limit', '18 hours    '), ('Participation', 'solo'), ('Topology', '100% Paths / 0% Tracks / 0% Roads'), ('Number of participants', '600'), ('Challenge', 'N/A'), ('Championship', 'N/A')]\n",
      "\n",
      "                                        Goodyear, United States\n",
      "https://itra.run/race/2648\n"
     ]
    },
    {
     "name": "stderr",
     "output_type": "stream",
     "text": [
      "\r",
      "  3%|▎         | 61/2040 [48:04<27:19:52, 49.72s/it]"
     ]
    },
    {
     "name": "stdout",
     "output_type": "stream",
     "text": [
      "1\n",
      "['http://www.aravaiparunning.com/avr/coldwater-rumble/']\n",
      "[('Distance', '52.50km (33miles)'), ('Elevation gain', '960m'), ('Elevation loss', '960m'), ('Start time', ' 16/01/2021 08:00:00'), ('Start location', 'Goodyear'), ('Finish location', 'Goodyear'), ('Aid station', '3'), ('Time limit', '11 hours    '), ('Participation', 'solo'), ('Topology', '100% Paths / 0% Tracks / 0% Roads'), ('Number of participants', '600'), ('Challenge', 'N/A'), ('Championship', 'N/A')]\n",
      "\n",
      "                                        Goodyear, United States\n",
      "https://itra.run/race/23467\n"
     ]
    },
    {
     "name": "stderr",
     "output_type": "stream",
     "text": [
      "\r",
      "  3%|▎         | 62/2040 [48:51<26:45:45, 48.71s/it]"
     ]
    },
    {
     "name": "stdout",
     "output_type": "stream",
     "text": [
      "1\n",
      "['http://www.aravaiparunning.com/avr/coldwater-rumble/']\n",
      "[('Distance', '32.30km (20miles)'), ('Elevation gain', '540m'), ('Elevation loss', '540m'), ('Start time', ' 16/01/2021 07:45:00'), ('Start location', 'Goodyear'), ('Finish location', 'Goodyear'), ('Aid station', '3'), ('Time limit', '6 hours    '), ('Participation', 'solo'), ('Topology', '100% Paths / 0% Tracks / 0% Roads'), ('Number of participants', '600'), ('Challenge', 'N/A'), ('Championship', 'N/A')]\n",
      "\n",
      "                                        Goodyear, United States\n",
      "https://itra.run/race/28249\n"
     ]
    },
    {
     "name": "stderr",
     "output_type": "stream",
     "text": [
      "\r",
      "  3%|▎         | 63/2040 [49:33<25:40:38, 46.76s/it]"
     ]
    },
    {
     "name": "stdout",
     "output_type": "stream",
     "text": [
      "1\n",
      "['https://inscripciones.chronorace.es/inscripcion/fenix-bike-trail/?lang=es']\n",
      "[('Distance', '24.70km (15miles)'), ('Elevation gain', '1637m'), ('Elevation loss', '1637m'), ('Start time', ' 16/01/2021 09:00:00'), ('Start location', 'El Garañón, Tejeda'), ('Finish location', 'El Garañón, Tejeda'), ('Aid station', '3'), ('Time limit', '6 hours    '), ('Participation', 'solo'), ('Topology', '90% Paths / 0% Tracks / 10% Roads'), ('Number of participants', '150'), ('Challenge', 'N/A'), ('Championship', 'N/A')]\n",
      "\n",
      "                                        Tejeda, Spain\n",
      "https://itra.run/race/28250\n"
     ]
    },
    {
     "name": "stderr",
     "output_type": "stream",
     "text": [
      "\r",
      "  3%|▎         | 64/2040 [50:11<24:17:57, 44.27s/it]"
     ]
    },
    {
     "name": "stdout",
     "output_type": "stream",
     "text": [
      "1\n",
      "['https://inscripciones.chronorace.es/inscripcion/fenix-bike-trail/?lang=es']\n",
      "[('Distance', '12.30km (8miles)'), ('Elevation gain', '919m'), ('Elevation loss', '919m'), ('Start time', ' 16/01/2021 09:15:00'), ('Start location', 'El Garañón, Tejeda'), ('Finish location', 'El Garañón, Tejeda'), ('Aid station', '2'), ('Time limit', '4 hours    '), ('Participation', 'solo'), ('Topology', '95% Paths / 5% Tracks / 0% Roads'), ('Number of participants', '150'), ('Challenge', 'N/A'), ('Championship', 'N/A')]\n",
      "\n",
      "                                        Tejeda, Spain\n",
      "https://itra.run/race/4254\n"
     ]
    },
    {
     "name": "stderr",
     "output_type": "stream",
     "text": [
      "\r",
      "  3%|▎         | 65/2040 [50:51<23:31:01, 42.87s/it]"
     ]
    },
    {
     "name": "stdout",
     "output_type": "stream",
     "text": [
      "1\n",
      "['http://www.actionasiaevents.com']\n",
      "[('Distance', '23.90km (15miles)'), ('Elevation gain', '1610m'), ('Elevation loss', '1610m'), ('Start time', ' 17/01/2021 07:00:00'), ('Start location', 'Lantau'), ('Finish location', 'Lantau'), ('Aid station', '3'), ('Time limit', '     '), ('Participation', 'solo'), ('Topology', '0% Paths / 70% Tracks / 30% Roads'), ('Number of participants', '1000'), ('Challenge', 'N/A'), ('Championship', 'N/A')]\n",
      "\n",
      "                                        Lantau 2 Peaks, Hong Kong, China\n",
      "https://itra.run/race/19839\n"
     ]
    },
    {
     "name": "stderr",
     "output_type": "stream",
     "text": [
      "\r",
      "  3%|▎         | 66/2040 [51:24<21:58:20, 40.07s/it]"
     ]
    },
    {
     "name": "stdout",
     "output_type": "stream",
     "text": [
      "1\n",
      "['http://www.actionasiaevents.com']\n",
      "[('Distance', '23.90km (15miles)'), ('Elevation gain', '1610m'), ('Elevation loss', '1610m'), ('Start time', ' 17/01/2021 07:00:00'), ('Start location', 'Lantau'), ('Finish location', 'Lantau'), ('Aid station', '3'), ('Time limit', '     '), ('Participation', 'team'), ('Number of participants', '1000'), ('Challenge', 'N/A'), ('Championship', 'N/A'), ('Distance', '23.90km (15miles)')]\n",
      "\n",
      "                                        Lantau 2 Peaks, Hong Kong, China\n",
      "https://itra.run/race/19841\n"
     ]
    },
    {
     "name": "stderr",
     "output_type": "stream",
     "text": [
      "\r",
      "  3%|▎         | 67/2040 [51:59<21:02:14, 38.39s/it]"
     ]
    },
    {
     "name": "stdout",
     "output_type": "stream",
     "text": [
      "1\n",
      "['http://www.actionasiaevents.com']\n",
      "[('Distance', '23.90km (15miles)'), ('Elevation gain', '1610m'), ('Elevation loss', '1610m'), ('Start time', ' 17/01/2021 07:00:00'), ('Start location', 'Lantau'), ('Finish location', 'Lantau'), ('Aid station', '3'), ('Time limit', '     '), ('Participation', 'team'), ('Topology', '0% Paths / 70% Tracks / 30% Roads'), ('Number of participants', '1000'), ('Challenge', 'N/A'), ('Championship', 'N/A')]\n",
      "\n",
      "                                        Lantau 2 Peaks, Hong Kong, China\n",
      "https://itra.run/race/19937\n"
     ]
    },
    {
     "name": "stderr",
     "output_type": "stream",
     "text": [
      "\r",
      "  3%|▎         | 68/2040 [52:45<22:20:11, 40.78s/it]"
     ]
    },
    {
     "name": "stdout",
     "output_type": "stream",
     "text": [
      "1\n",
      "['http://www.actionasiaevents.com']\n",
      "[('Distance', '15.00km (9miles)'), ('Elevation gain', '640m'), ('Elevation loss', '640m'), ('Start time', ' 17/01/2021 07:00:00'), ('Start location', 'Lantau'), ('Finish location', 'Lantau'), ('Aid station', '3'), ('Time limit', '     '), ('Participation', 'solo'), ('Topology', '0% Paths / 70% Tracks / 30% Roads'), ('Number of participants', '1000'), ('Challenge', 'N/A'), ('Championship', 'N/A')]\n",
      "\n",
      "                                        Lantau 2 Peaks, Hong Kong, China\n",
      "https://itra.run/race/21453\n"
     ]
    },
    {
     "name": "stderr",
     "output_type": "stream",
     "text": [
      "\r",
      "  3%|▎         | 69/2040 [53:27<22:24:34, 40.93s/it]"
     ]
    },
    {
     "name": "stdout",
     "output_type": "stream",
     "text": [
      "1\n",
      "['https://www.superace-sport.com/']\n",
      "[('Distance', '103.50km (64miles)'), ('Elevation gain', '5300m'), ('Elevation loss', '5290m'), ('Start time', ' 21/01/2021 06:00:00'), ('Start location', 'chiyi'), ('Finish location', 'chiyi'), ('Aid station', '8'), ('Time limit', '48 hours    '), ('Participation', 'solo'), ('Topology', '24% Paths / 44% Tracks / 32% Roads'), ('Number of participants', '50'), ('Challenge', 'N/A'), ('Championship', 'N/A')]\n",
      "\n",
      "                                        Chiayi City, Taiwan\n",
      "https://itra.run/race/4705\n"
     ]
    },
    {
     "name": "stderr",
     "output_type": "stream",
     "text": [
      "\r",
      "  3%|▎         | 70/2040 [54:06<22:08:12, 40.45s/it]"
     ]
    },
    {
     "name": "stdout",
     "output_type": "stream",
     "text": [
      "1\n",
      "['https://www.tejastrails.com/#/bandera/']\n",
      "[('Distance', '25.00km (16miles)'), ('Elevation gain', '750m'), ('Elevation loss', '750m'), ('Start time', ' 10/01/2021 08:00:00'), ('Start location', 'Bandera'), ('Finish location', 'Bandera'), ('Aid station', '4'), ('Time limit', '     '), ('Participation', 'solo'), ('Topology', '100% Paths / 0% Tracks / 0% Roads'), ('Number of participants', '500'), ('Challenge', 'N/A'), ('Championship', 'N/A')]\n",
      "\n",
      "                                        Bandera, United States\n",
      "https://itra.run/race/27939\n"
     ]
    },
    {
     "name": "stderr",
     "output_type": "stream",
     "text": [
      "\r",
      "  3%|▎         | 71/2040 [54:43<21:38:10, 39.56s/it]"
     ]
    },
    {
     "name": "stdout",
     "output_type": "stream",
     "text": [
      "1\n",
      "['https://www.lunartrailchallenge.com']\n",
      "[('Distance', '60.50km (38miles)'), ('Elevation gain', '2620m'), ('Elevation loss', '2640m'), ('Start time', ' 22/01/2021 19:00:00'), ('Start location', 'Tai Lam Tunnel Bus Interchange'), ('Finish location', 'Cheung Sha Wan'), ('Aid station', '2'), ('Time limit', '14 hours    '), ('Participation', 'solo'), ('Topology', '60% Paths / 0% Tracks / 40% Roads'), ('Number of participants', '250'), ('Challenge', 'N/A'), ('Championship', 'N/A')]\n",
      "\n",
      "                                        Hong Kong, Hong Kong, China\n",
      "https://itra.run/race/22003\n"
     ]
    },
    {
     "name": "stderr",
     "output_type": "stream",
     "text": [
      "\r",
      "  4%|▎         | 72/2040 [55:19<21:03:22, 38.52s/it]"
     ]
    },
    {
     "name": "stdout",
     "output_type": "stream",
     "text": [
      "1\n",
      "['http://www.force12events.com']\n",
      "[('Distance', '63.70km (40miles)'), ('Elevation gain', '810m'), ('Elevation loss', '760m'), ('Start time', ' 23/01/2021 08:30:00'), ('Start location', 'Droitwich Spa'), ('Finish location', 'Broadway'), ('Aid station', '3'), ('Time limit', '12 hours    '), ('Participation', 'solo'), ('Topology', '52% Paths / 40% Tracks / 8% Roads'), ('Challenge', 'N/A'), ('Championship', 'N/A'), ('Distance', '63.70km (40miles)')]\n",
      "\n",
      "                                        Brecon, United Kingdom\n",
      "https://itra.run/race/22023\n"
     ]
    },
    {
     "name": "stderr",
     "output_type": "stream",
     "text": [
      "\r",
      "  4%|▎         | 73/2040 [56:01<21:29:43, 39.34s/it]"
     ]
    },
    {
     "name": "stdout",
     "output_type": "stream",
     "text": [
      "1\n",
      "['https://www.larssie.com/index.php?route=common/home&tracking_marketing=5d778568f27c']\n",
      "[('Distance', '20.00km (12miles)'), ('Elevation gain', '630m'), ('Elevation loss', '640m'), ('Start time', ' 23/01/2021 16:30:00'), ('Start location', 'Houffalize'), ('Finish location', 'Houffalize'), ('Aid station', '1'), ('Time limit', '     '), ('Participation', 'solo'), ('Topology', '95% Paths / 3% Tracks / 2% Roads'), ('Number of participants', '250'), ('Challenge', 'N/A'), ('Championship', 'N/A')]\n",
      "\n",
      "                                        Houffalize, Belgium\n",
      "https://itra.run/race/20075\n"
     ]
    },
    {
     "name": "stderr",
     "output_type": "stream",
     "text": [
      "\r",
      "  4%|▎         | 74/2040 [56:39<21:21:26, 39.11s/it]"
     ]
    },
    {
     "name": "stdout",
     "output_type": "stream",
     "text": [
      "1\n",
      "['http://www.actionasiaevents.com/our-events/upcoming-events/2019-hk50-hong-kong-island/event-info.html#content']\n",
      "[('Distance', '50.70km (32miles)'), ('Elevation gain', '2190m'), ('Elevation loss', '2380m'), ('Start time', ' 23/01/2021 07:00:00'), ('Start location', 'hong kong island'), ('Finish location', 'hong kong island'), ('Aid station', '4'), ('Time limit', '10 hours    '), ('Participation', 'solo'), ('Topology', '20% Paths / 65% Tracks / 15% Roads'), ('Number of participants', '500'), ('Challenge', 'N/A'), ('Championship', 'N/A')]\n",
      "\n",
      "                                        Hong Kong, Hong Kong, China\n",
      "https://itra.run/race/20077\n"
     ]
    },
    {
     "name": "stderr",
     "output_type": "stream",
     "text": [
      "\r",
      "  4%|▎         | 75/2040 [57:15<20:51:00, 38.20s/it]"
     ]
    },
    {
     "name": "stdout",
     "output_type": "stream",
     "text": [
      "1\n",
      "['http://www.actionasiaevents.com/our-events/upcoming-events/2019-hk50-hong-kong-island/event-info.html#content']\n",
      "[('Distance', '50.70km (32miles)'), ('Elevation gain', '2220m'), ('Elevation loss', '2400m'), ('Start time', ' 23/01/2021 07:00:00'), ('Start location', 'hong kong island'), ('Finish location', 'hong kong island'), ('Aid station', '4'), ('Time limit', '10 hours    '), ('Participation', 'team'), ('Topology', '25% Paths / 60% Tracks / 15% Roads'), ('Number of participants', '500'), ('Challenge', 'N/A'), ('Championship', 'N/A')]\n",
      "\n",
      "                                        Hong Kong, Hong Kong, China\n",
      "https://itra.run/race/20079\n"
     ]
    },
    {
     "name": "stderr",
     "output_type": "stream",
     "text": [
      "\r",
      "  4%|▎         | 76/2040 [57:52<20:31:03, 37.61s/it]"
     ]
    },
    {
     "name": "stdout",
     "output_type": "stream",
     "text": [
      "1\n",
      "['http://www.actionasiaevents.com/our-events/upcoming-events/2019-hk50-hong-kong-island/event-info.html#content']\n",
      "[('Distance', '50.50km (31miles)'), ('Elevation gain', '2190m'), ('Elevation loss', '2380m'), ('Start time', ' 23/01/2021 07:00:00'), ('Start location', 'Hong Kong Island'), ('Finish location', 'Hong Kong Island'), ('Aid station', '4'), ('Time limit', '10 hours    '), ('Participation', 'team'), ('Topology', '25% Paths / 60% Tracks / 15% Roads'), ('Number of participants', '500'), ('Challenge', 'N/A'), ('Championship', 'N/A')]\n",
      "\n",
      "                                        Hong Kong, Hong Kong, China\n",
      "https://itra.run/race/27205\n"
     ]
    },
    {
     "name": "stderr",
     "output_type": "stream",
     "text": [
      "\r",
      "  4%|▍         | 77/2040 [58:33<21:06:44, 38.72s/it]"
     ]
    },
    {
     "name": "stdout",
     "output_type": "stream",
     "text": [
      "1\n",
      "['https://www.youmovin.com.br/organizador/le_eventos']\n",
      "[('Distance', '53.00km (33miles)'), ('Elevation gain', '300m'), ('Elevation loss', '300m'), ('Start time', ' 23/01/2021 06:30:00'), ('Start location', 'Tramandaí'), ('Finish location', 'Palmares do Sul'), ('Aid station', '3'), ('Time limit', '12 hours    '), ('Participation', 'solo'), ('Topology', '30% Paths / 70% Tracks / 0% Roads'), ('Number of participants', '200'), ('Challenge', 'Circuito ULTRAS T&amp;M 2021'), ('Championship', 'N/A')]\n",
      "\n",
      "                                        Palmares do Sul, Brazil\n",
      "https://itra.run/race/21867\n"
     ]
    },
    {
     "name": "stderr",
     "output_type": "stream",
     "text": [
      "\r",
      "  4%|▍         | 78/2040 [59:08<20:34:32, 37.75s/it]"
     ]
    },
    {
     "name": "stdout",
     "output_type": "stream",
     "text": [
      "1\n",
      "['https://boletopolis.com/es/evento/11093/funcion/38688']\n",
      "[('Distance', '78.60km (49miles)'), ('Elevation gain', '3520m'), ('Elevation loss', '3520m'), ('Start time', ' 23/01/2021 05:00:00'), ('Start location', 'Huauchinango '), ('Finish location', 'Huauchinango'), ('Aid station', '6'), ('Time limit', '14 hours    '), ('Participation', 'solo'), ('Topology', '65% Paths / 20% Tracks / 15% Roads'), ('Number of participants', '100'), ('Challenge', 'N/A'), ('Championship', 'N/A')]\n",
      "\n",
      "                                        Huauchinango, Mexico\n",
      "https://itra.run/race/21869\n"
     ]
    },
    {
     "name": "stderr",
     "output_type": "stream",
     "text": [
      "\r",
      "  4%|▍         | 79/2040 [59:44<20:13:48, 37.14s/it]"
     ]
    },
    {
     "name": "stdout",
     "output_type": "stream",
     "text": [
      "1\n",
      "['https://boletopolis.com/es/evento/11093/funcion/38688']\n",
      "[('Distance', '54.90km (34miles)'), ('Elevation gain', '2820m'), ('Elevation loss', '2810m'), ('Start time', ' 23/01/2021 07:00:00'), ('Start location', 'Huauchinango'), ('Finish location', 'Huauchinango'), ('Aid station', '4'), ('Time limit', '10 hours    '), ('Participation', 'solo'), ('Topology', '70% Paths / 20% Tracks / 10% Roads'), ('Number of participants', '100'), ('Challenge', 'N/A'), ('Championship', 'N/A')]\n",
      "\n",
      "                                        Huauchinango, Mexico\n",
      "https://itra.run/race/8495\n"
     ]
    },
    {
     "name": "stderr",
     "output_type": "stream",
     "text": [
      "\r",
      "  4%|▍         | 80/2040 [1:00:19<19:51:55, 36.49s/it]"
     ]
    },
    {
     "name": "stdout",
     "output_type": "stream",
     "text": [
      "1\n",
      "['http://www.trailrun-tahura.com']\n",
      "[('Distance', '42.60km (26miles)'), ('Elevation gain', '1510m'), ('Elevation loss', '1510m'), ('Start time', ' 23/01/2021 06:00:00'), ('Start location', 'Bandung'), ('Finish location', 'Bandung'), ('Aid station', '3'), ('Time limit', '10 hours    '), ('Participation', 'solo'), ('Topology', '35% Paths / 60% Tracks / 5% Roads'), ('Number of participants', '150'), ('Challenge', 'Asia Trail Master Series'), ('Championship', 'N/A')]\n",
      "\n",
      "                                        Bandung, Indonesia\n",
      "https://itra.run/race/1050\n"
     ]
    },
    {
     "name": "stderr",
     "output_type": "stream",
     "text": [
      "\r",
      "  4%|▍         | 81/2040 [1:01:09<22:03:56, 40.55s/it]"
     ]
    },
    {
     "name": "stdout",
     "output_type": "stream",
     "text": [
      "1\n",
      "['http://www.huntsvilletrackclub.org/HTC_Races/MM11/index.html']\n",
      "[('Distance', '50.00km (31miles)'), ('Elevation gain', '1300m'), ('Elevation loss', '1300m'), ('Start time', ' 23/01/2021 00:00:00'), ('Start location', ''), ('Finish location', '</div>'), ('Aid station', ''), ('Time limit', '</div>'), ('Participation', '0'), ('Challenge', '     '), ('Championship', 'solo'), ('Distance', 'N/A'), ('Elevation gain', 'N/A')]\n",
      "\n",
      "                                        , United States\n",
      "https://itra.run/race/14725\n"
     ]
    },
    {
     "name": "stderr",
     "output_type": "stream",
     "text": [
      "\r",
      "  4%|▍         | 82/2040 [1:01:54<22:44:23, 41.81s/it]"
     ]
    },
    {
     "name": "stdout",
     "output_type": "stream",
     "text": [
      "1\n",
      "['https://www.larssie.com/index.php?route=common/home&tracking_marketing=5d778568f27c']\n",
      "[('Distance', '23.20km (14miles)'), ('Elevation gain', '830m'), ('Elevation loss', '830m'), ('Start time', ' 24/01/2021 10:00:00'), ('Start location', 'Houffalize'), ('Finish location', 'Houffalize'), ('Aid station', '1'), ('Time limit', '7 hours    '), ('Participation', 'solo'), ('Topology', '95% Paths / 3% Tracks / 2% Roads'), ('Number of participants', '500'), ('Challenge', 'N/A'), ('Championship', 'N/A')]\n",
      "\n",
      "                                        Houffalize, Belgium\n",
      "https://itra.run/race/14727\n"
     ]
    },
    {
     "name": "stderr",
     "output_type": "stream",
     "text": [
      "\r",
      "  4%|▍         | 83/2040 [1:02:31<22:00:18, 40.48s/it]"
     ]
    },
    {
     "name": "stdout",
     "output_type": "stream",
     "text": [
      "1\n",
      "['https://www.larssie.com/index.php?route=common/home&tracking_marketing=5d778568f27c']\n",
      "[('Distance', '52.90km (33miles)'), ('Elevation gain', '1790m'), ('Elevation loss', '1790m'), ('Start time', ' 24/01/2021 07:00:00'), ('Start location', 'Houffalize'), ('Finish location', 'Houffalize'), ('Aid station', '3'), ('Time limit', '10 hours    '), ('Participation', 'solo'), ('Topology', '95% Paths / 3% Tracks / 2% Roads'), ('Number of participants', '300'), ('Challenge', 'N/A'), ('Championship', 'N/A')]\n",
      "\n",
      "                                        Houffalize, Belgium\n",
      "https://itra.run/race/21167\n"
     ]
    },
    {
     "name": "stderr",
     "output_type": "stream",
     "text": [
      "\r",
      "  4%|▍         | 84/2040 [1:03:05<20:50:35, 38.36s/it]"
     ]
    },
    {
     "name": "stdout",
     "output_type": "stream",
     "text": [
      "1\n",
      "['https://www.teelakow.com']\n",
      "[('Distance', '33.20km (21miles)'), ('Elevation gain', '1070m'), ('Elevation loss', '1070m'), ('Start time', ' 24/01/2021 06:00:00'), ('Start location', 'Phu Hin Rong Kla National Park'), ('Finish location', 'Phu Hin Rong Kla National Park'), ('Aid station', '4'), ('Time limit', '8 hours    '), ('Participation', 'solo'), ('Topology', '50% Paths / 40% Tracks / 10% Roads'), ('Number of participants', '800'), ('Challenge', 'N/A'), ('Championship', 'N/A')]\n",
      "\n",
      "                                        Phu Hin Rong Kla National Park, Thailand\n",
      "https://itra.run/race/21169\n"
     ]
    },
    {
     "name": "stderr",
     "output_type": "stream",
     "text": [
      "\r",
      "  4%|▍         | 85/2040 [1:03:40<20:22:03, 37.51s/it]"
     ]
    },
    {
     "name": "stdout",
     "output_type": "stream",
     "text": [
      "1\n",
      "['https://www.teelakow.com']\n",
      "[('Distance', '56.10km (35miles)'), ('Elevation gain', '2210m'), ('Elevation loss', '2210m'), ('Start time', ' 24/01/2021 04:00:00'), ('Start location', 'Phu Hin Rong Kla National Park'), ('Finish location', 'Phu Hin Rong Kla National Park'), ('Aid station', '7'), ('Time limit', '12 hours    '), ('Participation', 'solo'), ('Topology', '50% Paths / 40% Tracks / 10% Roads'), ('Number of participants', '500'), ('Challenge', 'N/A'), ('Championship', 'N/A')]\n",
      "\n",
      "                                        Phu Hin Rong Kla National Park, Thailand\n",
      "https://itra.run/race/3709\n"
     ]
    },
    {
     "name": "stderr",
     "output_type": "stream",
     "text": [
      "\r",
      "  4%|▍         | 86/2040 [1:04:12<19:30:29, 35.94s/it]"
     ]
    },
    {
     "name": "stdout",
     "output_type": "stream",
     "text": [
      "1\n",
      "['http://fivestationstrail.com/genaro-trail/']\n",
      "[('Distance', '47.10km (29miles)'), ('Elevation gain', '1530m'), ('Elevation loss', '1430m'), ('Start time', ' 14/02/2021 09:00:00'), ('Start location', 'El Berrueco'), ('Finish location', 'El Berrueco'), ('Aid station', '3'), ('Time limit', '8 hours    '), ('Participation', 'solo'), ('Topology', '80% Paths / 15% Tracks / 5% Roads'), ('Number of participants', '400'), ('Challenge', 'Si'), ('Championship', 'Circuito FIVE STATIONS TRAIL')]\n",
      "\n",
      "                                        EL BERRUECO, Spain\n",
      "https://itra.run/race/5989\n"
     ]
    },
    {
     "name": "stderr",
     "output_type": "stream",
     "text": [
      "\r",
      "  4%|▍         | 87/2040 [1:04:44<18:51:22, 34.76s/it]"
     ]
    },
    {
     "name": "stdout",
     "output_type": "stream",
     "text": [
      "1\n",
      "['https://www.outdoor-sports.info/senba-coastal-cliff']\n",
      "[('Distance', '36.70km (23miles)'), ('Elevation gain', '2360m'), ('Elevation loss', '2360m'), ('Start time', ' 24/01/2021 08:00:00'), ('Start location', 'Hiwasa'), ('Finish location', 'Hiwasa'), ('Aid station', '3'), ('Time limit', '     '), ('Participation', 'solo'), ('Topology', '80% Paths / 0% Tracks / 20% Roads'), ('Number of participants', '300'), ('Challenge', 'N/A'), ('Championship', 'N/A')]\n",
      "\n",
      "                                        Kaifugun, Minamicho, Japan\n",
      "https://itra.run/race/25195\n"
     ]
    },
    {
     "name": "stderr",
     "output_type": "stream",
     "text": [
      "\r",
      "  4%|▍         | 88/2040 [1:05:18<18:34:53, 34.27s/it]"
     ]
    },
    {
     "name": "stdout",
     "output_type": "stream",
     "text": [
      "2\n",
      "['LeTregEnnediTrail', 'http://www.le-treg.com/zakouma-accueil-en']\n",
      "[('Distance', '152.40km (95miles)'), ('Elevation gain', '300m'), ('Elevation loss', '300m'), ('Start time', ' 27/01/2021 07:00:00'), ('Start location', 'Zakouma'), ('Finish location', 'Zakouma'), ('Aid station', '5'), ('Time limit', '60 hours    '), ('Participation', 'solo'), ('Topology', '20% Paths / 80% Tracks / 0% Roads'), ('Number of participants', '50'), ('Challenge', 'N/A'), ('Championship', 'N/A')]\n",
      "\n",
      "                                        ZAKOUMA, Chad\n",
      "https://itra.run/race/25197\n"
     ]
    },
    {
     "name": "stderr",
     "output_type": "stream",
     "text": [
      "\r",
      "  4%|▍         | 89/2040 [1:05:53<18:46:13, 34.64s/it]"
     ]
    },
    {
     "name": "stdout",
     "output_type": "stream",
     "text": [
      "2\n",
      "['LeTregEnnediTrail', 'http://www.le-treg.com/zakouma-accueil-en']\n",
      "[('Distance', '38.10km (24miles)'), ('Elevation gain', '90m'), ('Elevation loss', '100m'), ('Start time', ' 27/01/2021 07:00:00'), ('Start location', 'Zakouma'), ('Finish location', 'Zakouma'), ('Aid station', '1'), ('Time limit', '12 hours    '), ('Participation', 'solo'), ('Topology', '20% Paths / 80% Tracks / 0% Roads'), ('Number of participants', '50'), ('Challenge', 'N/A'), ('Championship', 'N/A')]\n",
      "\n",
      "                                        ZAKOUMA, Chad\n",
      "https://itra.run/race/2705\n"
     ]
    },
    {
     "name": "stderr",
     "output_type": "stream",
     "text": [
      "\r",
      "  4%|▍         | 90/2040 [1:06:28<18:49:36, 34.76s/it]"
     ]
    },
    {
     "name": "stdout",
     "output_type": "stream",
     "text": [
      "1\n",
      "['http://mudcrew.co.uk/event/arc-attrition/']\n",
      "[('Distance', '165.70km (103miles)'), ('Elevation gain', '5280m'), ('Elevation loss', '5190m'), ('Start time', ' 28/01/2022 12:00:00'), ('Start location', 'Coverack'), ('Finish location', 'Porthtowan'), ('Aid station', '4'), ('Time limit', '38 hours    '), ('Participation', 'solo'), ('Topology', '80% Paths / 10% Tracks / 10% Roads'), ('Number of participants', '298'), ('Challenge', 'N/A'), ('Championship', 'N/A')]\n",
      "\n",
      "                                        , United Kingdom\n",
      "https://itra.run/race/12555\n"
     ]
    },
    {
     "name": "stderr",
     "output_type": "stream",
     "text": [
      "\r",
      "  4%|▍         | 91/2040 [1:07:04<18:57:54, 35.03s/it]"
     ]
    },
    {
     "name": "stdout",
     "output_type": "stream",
     "text": [
      "1\n",
      "['http://mudcrew.co.uk/event/arc-attrition/']\n",
      "[('Distance', '82.10km (51miles)'), ('Elevation gain', '2570m'), ('Elevation loss', '2500m'), ('Start time', ' 29/01/2022 06:00:00'), ('Start location', 'Porthcurno'), ('Finish location', 'Porthtowan'), ('Aid station', '1'), ('Time limit', '18 hours    '), ('Participation', 'solo'), ('Topology', '90% Paths / 0% Tracks / 10% Roads'), ('Number of participants', '150'), ('Challenge', 'N/A'), ('Championship', 'N/A')]\n",
      "\n",
      "                                        , United Kingdom\n",
      "https://itra.run/race/16207\n"
     ]
    },
    {
     "name": "stderr",
     "output_type": "stream",
     "text": [
      "\r",
      "  5%|▍         | 92/2040 [1:07:38<18:49:02, 34.78s/it]"
     ]
    },
    {
     "name": "stdout",
     "output_type": "stream",
     "text": [
      "1\n",
      "['https://vietnamtrailseries.com/trail-marathon/']\n",
      "[('Distance', '42.00km (26miles)'), ('Elevation gain', '1900m'), ('Elevation loss', '1703m'), ('Start time', ' 30/01/2021 07:30:00'), ('Start location', 'Moc Chau, Son La'), ('Finish location', 'Moc Chau, Son La'), ('Aid station', '4'), ('Time limit', '15 hours    '), ('Participation', 'solo'), ('Topology', '10% Paths / 80% Tracks / 10% Roads'), ('Number of participants', '1000'), ('Challenge', 'N/A'), ('Championship', 'N/A')]\n",
      "\n",
      "                                        Moc Chau, Vietnam\n",
      "https://itra.run/race/16209\n"
     ]
    },
    {
     "name": "stderr",
     "output_type": "stream",
     "text": [
      "\r",
      "  5%|▍         | 93/2040 [1:08:17<19:26:36, 35.95s/it]"
     ]
    },
    {
     "name": "stdout",
     "output_type": "stream",
     "text": [
      "1\n",
      "['https://vietnamtrailseries.com/trail-marathon/']\n",
      "[('Distance', '72.00km (45miles)'), ('Elevation gain', '3100m'), ('Elevation loss', '3117m'), ('Start time', ' 30/01/2021 04:00:00'), ('Start location', 'Moc Chau, Son La'), ('Finish location', 'Moc Chau, Son La'), ('Aid station', '7'), ('Time limit', '18 hours    '), ('Participation', 'solo'), ('Topology', '10% Paths / 80% Tracks / 10% Roads'), ('Number of participants', '300'), ('Challenge', 'N/A'), ('Championship', 'N/A')]\n",
      "\n",
      "                                        Moc Chau, Vietnam\n",
      "https://itra.run/race/26611\n"
     ]
    },
    {
     "name": "stderr",
     "output_type": "stream",
     "text": [
      "\r",
      "  5%|▍         | 94/2040 [1:08:58<20:21:25, 37.66s/it]"
     ]
    },
    {
     "name": "stdout",
     "output_type": "stream",
     "text": [
      "1\n",
      "['https://vietnamtrailseries.com/trail-marathon/']\n",
      "[('Distance', '21.00km (13miles)'), ('Elevation gain', '850m'), ('Elevation loss', '670m'), ('Start time', ' 30/01/2021 08:30:00'), ('Start location', 'Moc Chau, Son La'), ('Finish location', 'Moc Chau, Son La'), ('Aid station', '2'), ('Time limit', '8 hours    '), ('Participation', 'solo'), ('Topology', '10% Paths / 80% Tracks / 10% Roads'), ('Number of participants', '1000'), ('Challenge', 'N/A'), ('Championship', 'N/A')]\n",
      "\n",
      "                                        Moc Chau, Vietnam\n",
      "https://itra.run/race/27362\n"
     ]
    },
    {
     "name": "stderr",
     "output_type": "stream",
     "text": [
      "\r",
      "  5%|▍         | 95/2040 [1:09:35<20:14:57, 37.48s/it]"
     ]
    },
    {
     "name": "stdout",
     "output_type": "stream",
     "text": [
      "1\n",
      "['https://runraisers.com/']\n",
      "[('Distance', '144.20km (90miles)'), ('Elevation gain', '940m'), ('Elevation loss', '940m'), ('Start time', ' 15/01/2022 00:30:00'), ('Start location', 'Ljugarn'), ('Finish location', 'Ljugarn'), ('Aid station', '6'), ('Time limit', '21 hours    '), ('Participation', 'solo'), ('Topology', '32% Paths / 60% Tracks / 8% Roads'), ('Number of participants', '10'), ('Challenge', 'N/A'), ('Championship', 'N/A')]\n",
      "\n",
      "                                        Ljugarn, Sweden\n",
      "https://itra.run/race/27363\n"
     ]
    },
    {
     "name": "stderr",
     "output_type": "stream",
     "text": [
      "\r",
      "  5%|▍         | 96/2040 [1:10:15<20:35:43, 38.14s/it]"
     ]
    },
    {
     "name": "stdout",
     "output_type": "stream",
     "text": [
      "1\n",
      "['https://runraisers.com/']\n",
      "[('Distance', '71.60km (44miles)'), ('Elevation gain', '470m'), ('Elevation loss', '470m'), ('Start time', ' 15/01/2022 07:00:00'), ('Start location', 'Ljugarn'), ('Finish location', 'Ljugarn'), ('Aid station', '3'), ('Time limit', '11 hours    '), ('Participation', 'solo'), ('Topology', '32% Paths / 60% Tracks / 8% Roads'), ('Number of participants', '25'), ('Challenge', 'N/A'), ('Championship', 'N/A')]\n",
      "\n",
      "                                        Ljugarn, Sweden\n",
      "https://itra.run/race/27364\n"
     ]
    },
    {
     "name": "stderr",
     "output_type": "stream",
     "text": [
      "\r",
      "  5%|▍         | 97/2040 [1:10:52<20:22:34, 37.75s/it]"
     ]
    },
    {
     "name": "stdout",
     "output_type": "stream",
     "text": [
      "1\n",
      "['https://runraisers.com/']\n",
      "[('Distance', '34.90km (22miles)'), ('Elevation gain', '250m'), ('Elevation loss', '240m'), ('Start time', ' 15/01/2022 11:00:00'), ('Start location', 'Katthammarsvik'), ('Finish location', 'Ljugarn'), ('Aid station', '1'), ('Time limit', '7 hours    '), ('Participation', 'solo'), ('Topology', '27% Paths / 68% Tracks / 5% Roads'), ('Number of participants', '15'), ('Challenge', 'N/A'), ('Championship', 'N/A')]\n",
      "\n",
      "                                        Ljugarn, Sweden\n",
      "https://itra.run/race/27334\n"
     ]
    },
    {
     "name": "stderr",
     "output_type": "stream",
     "text": [
      "\r",
      "  5%|▍         | 98/2040 [1:11:24<19:32:10, 36.22s/it]"
     ]
    },
    {
     "name": "stdout",
     "output_type": "stream",
     "text": [
      "1\n",
      "['https://thewestwindtrail.run']\n",
      "[('Distance', '77.40km (48miles)'), ('Elevation gain', '4100m'), ('Elevation loss', '4100m'), ('Start time', ' 30/01/2021 09:00:00'), ('Start location', 'Pai, Mae Hong Son'), ('Finish location', 'Pai, Mae Hong Son'), ('Aid station', '8'), ('Time limit', '22 hours    '), ('Participation', 'solo'), ('Topology', '20% Paths / 74% Tracks / 6% Roads'), ('Number of participants', '600'), ('Challenge', 'N/A'), ('Championship', 'N/A')]\n",
      "\n",
      "                                        Pai, Thailand\n",
      "https://itra.run/race/27335\n"
     ]
    },
    {
     "name": "stderr",
     "output_type": "stream",
     "text": [
      "\r",
      "  5%|▍         | 99/2040 [1:12:00<19:27:16, 36.08s/it]"
     ]
    },
    {
     "name": "stdout",
     "output_type": "stream",
     "text": [
      "1\n",
      "['https://thewestwindtrail.run']\n",
      "[('Distance', '59.00km (37miles)'), ('Elevation gain', '2350m'), ('Elevation loss', '2350m'), ('Start time', ' 30/01/2021 08:00:00'), ('Start location', 'Pai, Mae Hong Son'), ('Finish location', 'Pai, Mae Hong Son'), ('Aid station', '6'), ('Time limit', '17 hours    '), ('Participation', 'solo'), ('Topology', '20% Paths / 75% Tracks / 5% Roads'), ('Number of participants', '600'), ('Challenge', 'N/A'), ('Championship', 'N/A')]\n",
      "\n",
      "                                        Pai, Thailand\n",
      "https://itra.run/race/27336\n"
     ]
    },
    {
     "name": "stderr",
     "output_type": "stream",
     "text": [
      "\r",
      "  5%|▍         | 100/2040 [1:12:35<19:09:47, 35.56s/it]"
     ]
    },
    {
     "name": "stdout",
     "output_type": "stream",
     "text": [
      "1\n",
      "['https://thewestwindtrail.run']\n",
      "[('Distance', '31.90km (20miles)'), ('Elevation gain', '1180m'), ('Elevation loss', '1180m'), ('Start time', ' 30/01/2021 07:00:00'), ('Start location', 'Pai, Mae Hong Son'), ('Finish location', 'Pai, Mae Hong Son'), ('Aid station', '3'), ('Time limit', '9 hours    '), ('Participation', 'solo'), ('Topology', '20% Paths / 65% Tracks / 15% Roads'), ('Number of participants', '600'), ('Challenge', 'N/A'), ('Championship', 'N/A')]\n",
      "\n",
      "                                        Pai, Thailand\n",
      "https://itra.run/race/27337\n"
     ]
    },
    {
     "name": "stderr",
     "output_type": "stream",
     "text": [
      "\r",
      "  5%|▍         | 101/2040 [1:13:12<19:30:44, 36.23s/it]"
     ]
    },
    {
     "name": "stdout",
     "output_type": "stream",
     "text": [
      "1\n",
      "['https://thewestwindtrail.run']\n",
      "[('Distance', '11.20km (7miles)'), ('Elevation gain', '280m'), ('Elevation loss', '280m'), ('Start time', ' 30/01/2021 06:00:00'), ('Start location', 'Pai, Mae Hong Son'), ('Finish location', 'Pai, Mae Hong Son'), ('Aid station', '1'), ('Time limit', '3 hours    '), ('Participation', 'solo'), ('Topology', '20% Paths / 77% Tracks / 3% Roads'), ('Number of participants', '600'), ('Challenge', 'N/A'), ('Championship', 'N/A')]\n",
      "\n",
      "                                        Pai, Thailand\n",
      "https://itra.run/race/27521\n"
     ]
    },
    {
     "name": "stderr",
     "output_type": "stream",
     "text": [
      "\r",
      "  5%|▌         | 102/2040 [1:13:46<19:04:38, 35.44s/it]"
     ]
    },
    {
     "name": "stdout",
     "output_type": "stream",
     "text": [
      "1\n",
      "['https://thewestwindtrail.run']\n",
      "[('Distance', '120.60km (75miles)'), ('Elevation gain', '5180m'), ('Elevation loss', '6350m'), ('Start time', ' 30/01/2021 04:00:00'), ('Start location', 'Huay Nam Dang National Park'), ('Finish location', 'Pai, Mae Hong Son'), ('Aid station', '12'), ('Time limit', '33 hours    '), ('Participation', 'solo'), ('Topology', '15% Paths / 81% Tracks / 4% Roads'), ('Number of participants', '600'), ('Challenge', 'N/A'), ('Championship', 'N/A')]\n",
      "\n",
      "                                        Pai, Thailand\n",
      "https://itra.run/race/27537\n"
     ]
    },
    {
     "name": "stderr",
     "output_type": "stream",
     "text": [
      "\r",
      "  5%|▌         | 103/2040 [1:14:22<19:05:30, 35.48s/it]"
     ]
    },
    {
     "name": "stdout",
     "output_type": "stream",
     "text": [
      "1\n",
      "['https://thewestwindtrail.run']\n",
      "[('Distance', '43.20km (27miles)'), ('Elevation gain', '1100m'), ('Elevation loss', '2240m'), ('Start time', ' 30/01/2021 05:00:00'), ('Start location', 'Huay Nam Dang National Park'), ('Finish location', 'Pai, Mae Hong Son'), ('Aid station', '3'), ('Time limit', '11 hours    '), ('Participation', 'solo'), ('Topology', '10% Paths / 80% Tracks / 10% Roads'), ('Number of participants', '600'), ('Challenge', 'N/A'), ('Championship', 'N/A')]\n",
      "\n",
      "                                        Pai, Thailand\n",
      "https://itra.run/race/4545\n"
     ]
    },
    {
     "name": "stderr",
     "output_type": "stream",
     "text": [
      "\r",
      "  5%|▌         | 104/2040 [1:14:58<19:10:19, 35.65s/it]"
     ]
    },
    {
     "name": "stdout",
     "output_type": "stream",
     "text": [
      "1\n",
      "['http://www.maratonbieszczadzki.pl']\n",
      "[('Distance', '42.50km (26miles)'), ('Elevation gain', '1110m'), ('Elevation loss', '1110m'), ('Start time', ' 30/01/2021 07:20:00'), ('Start location', 'Cisna'), ('Finish location', 'Cisna'), ('Aid station', '3'), ('Time limit', '7 hours    '), ('Participation', 'solo'), ('Topology', '1% Paths / 50% Tracks / 49% Roads'), ('Number of participants', '800'), ('Challenge', 'N/A'), ('Championship', 'N/A')]\n",
      "\n",
      "                                        Cisna, Poland\n",
      "https://itra.run/race/15939\n"
     ]
    },
    {
     "name": "stderr",
     "output_type": "stream",
     "text": [
      "\r",
      "  5%|▌         | 105/2040 [1:15:31<18:47:16, 34.95s/it]"
     ]
    },
    {
     "name": "stdout",
     "output_type": "stream",
     "text": [
      "1\n",
      "['http://www.maratonbieszczadzki.pl']\n",
      "[('Distance', '19.80km (12miles)'), ('Elevation gain', '590m'), ('Elevation loss', '600m'), ('Start time', ' 30/01/2021 07:20:00'), ('Start location', 'Cisna'), ('Finish location', 'Cisna'), ('Aid station', '1'), ('Time limit', '     '), ('Participation', 'solo'), ('Topology', '1% Paths / 50% Tracks / 49% Roads'), ('Number of participants', '100'), ('Challenge', 'N/A'), ('Championship', 'N/A')]\n",
      "\n",
      "                                        Cisna, Poland\n",
      "https://itra.run/race/15981\n"
     ]
    },
    {
     "name": "stderr",
     "output_type": "stream",
     "text": [
      "\r",
      "  5%|▌         | 106/2040 [1:16:11<19:36:11, 36.49s/it]"
     ]
    },
    {
     "name": "stdout",
     "output_type": "stream",
     "text": [
      "1\n",
      "['http://www.maratonbieszczadzki.pl']\n",
      "[('Distance', '10.00km (6miles)'), ('Elevation gain', '350m'), ('Elevation loss', '350m'), ('Start time', ' 30/01/2021 07:20:00'), ('Start location', 'Cisna'), ('Finish location', 'Cisna'), ('Aid station', '1'), ('Time limit', '2 hours    '), ('Participation', 'solo'), ('Topology', '0% Paths / 50% Tracks / 50% Roads'), ('Number of participants', '200'), ('Challenge', 'N/A'), ('Championship', 'N/A')]\n",
      "\n",
      "                                        Cisna, Poland\n",
      "https://itra.run/race/27971\n"
     ]
    },
    {
     "name": "stderr",
     "output_type": "stream",
     "text": [
      "\r",
      "  5%|▌         | 107/2040 [1:16:49<19:48:41, 36.90s/it]"
     ]
    },
    {
     "name": "stdout",
     "output_type": "stream",
     "text": [
      "1\n",
      "['https://srk.sportbox.hr']\n",
      "[('Distance', '27.60km (17miles)'), ('Elevation gain', '930m'), ('Elevation loss', '910m'), ('Start time', ' 30/01/2021 09:00:00'), ('Start location', 'Buzet'), ('Finish location', 'Buzet'), ('Aid station', '0'), ('Time limit', '6 hours    '), ('Participation', 'solo'), ('Topology', '50% Paths / 38% Tracks / 12% Roads'), ('Number of participants', '150'), ('Challenge', 'N/A'), ('Championship', 'N/A')]\n",
      "\n",
      "                                        Buzet, Croatia\n",
      "https://itra.run/race/27996\n"
     ]
    },
    {
     "name": "stderr",
     "output_type": "stream",
     "text": [
      "\r",
      "  5%|▌         | 108/2040 [1:17:28<20:13:08, 37.67s/it]"
     ]
    },
    {
     "name": "stdout",
     "output_type": "stream",
     "text": [
      "1\n",
      "['http://www.trailrun-tahura.com']\n",
      "[('Distance', '42.00km (26miles)'), ('Elevation gain', '1310m'), ('Elevation loss', '1310m'), ('Start time', ' 30/01/2021 06:00:00'), ('Start location', 'Bandung'), ('Finish location', 'Bandung'), ('Aid station', '3'), ('Time limit', '     '), ('Participation', 'team'), ('Topology', '55% Paths / 34% Tracks / 11% Roads'), ('Number of participants', '150'), ('Challenge', 'N/A'), ('Championship', 'N/A')]\n",
      "\n",
      "                                        Bandung, Indonesia\n",
      "https://itra.run/race/28030\n"
     ]
    },
    {
     "name": "stderr",
     "output_type": "stream",
     "text": [
      "\r",
      "  5%|▌         | 109/2040 [1:18:04<19:57:33, 37.21s/it]"
     ]
    },
    {
     "name": "stdout",
     "output_type": "stream",
     "text": [
      "2\n",
      "['rukan Aventura', 'http://www.kokamwala.cl']\n",
      "[('Distance', '50.00km (31miles)'), ('Elevation gain', '3400m'), ('Elevation loss', '3410m'), ('Start time', ' 30/01/2021 06:00:00'), ('Start location', 'Embalse Valle Hermoso'), ('Finish location', 'Embalse Valle Hermoso'), ('Aid station', '4'), ('Time limit', '     '), ('Participation', 'solo'), ('Topology', '88% Paths / 0% Tracks / 12% Roads'), ('Number of participants', '50'), ('Challenge', '50k'), ('Championship', 'N/A')]\n",
      "\n",
      "                                        Combarbalá, Chile\n",
      "https://itra.run/race/28031\n"
     ]
    },
    {
     "name": "stderr",
     "output_type": "stream",
     "text": [
      "\r",
      "  5%|▌         | 110/2040 [1:18:42<19:55:49, 37.18s/it]"
     ]
    },
    {
     "name": "stdout",
     "output_type": "stream",
     "text": [
      "2\n",
      "['rukan Aventura', 'http://www.kokamwala.cl']\n",
      "[('Distance', '30.00km (19miles)'), ('Elevation gain', '2090m'), ('Elevation loss', '2100m'), ('Start time', ' 30/01/2021 06:30:00'), ('Start location', 'Embalse Valle Hermoso'), ('Finish location', 'Embalse Valle Hermoso'), ('Aid station', '3'), ('Time limit', '     '), ('Participation', 'solo'), ('Topology', '99% Paths / 0% Tracks / 4% Roads'), ('Number of participants', '50'), ('Challenge', 'N/A'), ('Championship', 'N/A')]\n",
      "\n",
      "                                        Combarbalá, Chile\n",
      "https://itra.run/race/28330\n"
     ]
    },
    {
     "name": "stderr",
     "output_type": "stream",
     "text": [
      "\r",
      "  5%|▌         | 111/2040 [1:19:23<20:35:05, 38.42s/it]"
     ]
    },
    {
     "name": "stdout",
     "output_type": "stream",
     "text": [
      "2\n",
      "['https://arf.by', 'no']\n",
      "[('Distance', '68.00km (42miles)'), ('Elevation gain', '539m'), ('Elevation loss', '498m'), ('Start time', ' 30/01/2021 08:00:00'), ('Start location', 'Osovets'), ('Finish location', 'Osovers'), ('Aid station', '1'), ('Time limit', '15 hours    '), ('Participation', 'solo'), ('Topology', '50% Paths / 30% Tracks / 20% Roads'), ('Number of participants', '50'), ('Challenge', 'N/A'), ('Championship', 'N/A')]\n",
      "\n",
      "                                        Minsk, Belarus\n",
      "https://itra.run/race/14633\n"
     ]
    },
    {
     "name": "stderr",
     "output_type": "stream",
     "text": [
      "\r",
      "  5%|▌         | 112/2040 [1:19:58<20:01:08, 37.38s/it]"
     ]
    },
    {
     "name": "stdout",
     "output_type": "stream",
     "text": [
      "1\n",
      "['http://www.traildes2baies.fr']\n",
      "[('Distance', '11.60km (7miles)'), ('Elevation gain', '73m'), ('Elevation loss', '84m'), ('Start time', ' 31/01/2021 11:00:00'), ('Start location', 'Stella Plage'), ('Finish location', 'Le Touquet'), ('Aid station', '1'), ('Time limit', '     '), ('Participation', 'solo'), ('Topology', '40% Paths / 60% Tracks / 0% Roads'), ('Number of participants', '680'), ('Challenge', 'N/A'), ('Championship', 'N/A')]\n",
      "\n",
      "                                        Le Touquet, France\n",
      "https://itra.run/race/14637\n"
     ]
    },
    {
     "name": "stderr",
     "output_type": "stream",
     "text": [
      "\r",
      "  6%|▌         | 113/2040 [1:20:35<19:55:28, 37.22s/it]"
     ]
    },
    {
     "name": "stdout",
     "output_type": "stream",
     "text": [
      "1\n",
      "['http://www.traildes2baies.fr']\n",
      "[('Distance', '23.60km (15miles)'), ('Elevation gain', '144m'), ('Elevation loss', '144m'), ('Start time', ' 31/01/2021 10:00:00'), ('Start location', 'Le Touquet'), ('Finish location', 'Le Touquet'), ('Aid station', '2'), ('Time limit', '     '), ('Participation', 'solo'), ('Topology', '48% Paths / 50% Tracks / 2% Roads'), ('Number of participants', '1210'), ('Challenge', 'N/A'), ('Championship', 'N/A')]\n",
      "\n",
      "                                        Le Touquet, France\n",
      "https://itra.run/race/7929\n"
     ]
    },
    {
     "name": "stderr",
     "output_type": "stream",
     "text": [
      "\r",
      "  6%|▌         | 114/2040 [1:21:21<21:23:03, 39.97s/it]"
     ]
    },
    {
     "name": "stdout",
     "output_type": "stream",
     "text": [
      "1\n",
      "['http://www.omt100.com']\n",
      "[('Distance', '26.30km (16miles)'), ('Elevation gain', '1880m'), ('Elevation loss', '1880m'), ('Start time', ' 31/01/2021 10:00:00'), ('Start location', 'Litochoro'), ('Finish location', 'Litochoro'), ('Aid station', '3'), ('Time limit', '6 hours 30 minutes  '), ('Participation', 'solo'), ('Topology', '100% Paths / 0% Tracks / 0% Roads'), ('Number of participants', '300'), ('Challenge', 'N/A'), ('Championship', 'N/A')]\n",
      "\n",
      "                                        000, Greece\n",
      "https://itra.run/race/21871\n"
     ]
    },
    {
     "name": "stderr",
     "output_type": "stream",
     "text": [
      "\r",
      "  6%|▌         | 115/2040 [1:21:58<20:55:05, 39.12s/it]"
     ]
    },
    {
     "name": "stdout",
     "output_type": "stream",
     "text": [
      "1\n",
      "['https://boletopolis.com/es/evento/11093/funcion/38688']\n",
      "[('Distance', '30.00km (19miles)'), ('Elevation gain', '1319m'), ('Elevation loss', '1319m'), ('Start time', ' 31/01/2021 07:00:00'), ('Start location', 'Huauchinango'), ('Finish location', 'Huauchinango'), ('Aid station', '2'), ('Time limit', '5 hours    '), ('Participation', 'solo'), ('Topology', '76% Paths / 17% Tracks / 7% Roads'), ('Number of participants', '200'), ('Challenge', 'N/A'), ('Championship', 'N/A')]\n",
      "\n",
      "                                        Huauchinango, Mexico\n",
      "https://itra.run/race/28032\n"
     ]
    },
    {
     "name": "stderr",
     "output_type": "stream",
     "text": [
      "\r",
      "  6%|▌         | 116/2040 [1:22:41<21:26:44, 40.13s/it]"
     ]
    },
    {
     "name": "stdout",
     "output_type": "stream",
     "text": [
      "2\n",
      "['rukan Aventura', 'http://www.kokamwala.cl']\n",
      "[('Distance', '20.00km (12miles)'), ('Elevation gain', '1260m'), ('Elevation loss', '630m'), ('Start time', ' 31/01/2021 07:00:00'), ('Start location', 'Embalse Valle Hermoso'), ('Finish location', 'Embalse Valle Hermoso'), ('Aid station', '2'), ('Time limit', '     '), ('Participation', 'solo'), ('Topology', '91% Paths / 0% Tracks / 9% Roads'), ('Number of participants', '50'), ('Challenge', 'N/A'), ('Championship', 'N/A')]\n",
      "\n",
      "                                        Combarbalá, Chile\n",
      "https://itra.run/race/28033\n"
     ]
    },
    {
     "name": "stderr",
     "output_type": "stream",
     "text": [
      "\r",
      "  6%|▌         | 117/2040 [1:23:14<20:16:26, 37.95s/it]"
     ]
    },
    {
     "name": "stdout",
     "output_type": "stream",
     "text": [
      "2\n",
      "['rukan Aventura', 'http://www.kokamwala.cl']\n",
      "[('Distance', '12.00km (7miles)'), ('Elevation gain', '620m'), ('Elevation loss', '630m'), ('Start time', ' 31/01/2021 07:00:00'), ('Start location', 'Embaslse Valle Hermoso'), ('Finish location', 'Embalse Valle Hermoso'), ('Aid station', '1'), ('Time limit', '     '), ('Participation', 'solo'), ('Topology', '97% Paths / 0% Tracks / 3% Roads'), ('Number of participants', '50'), ('Challenge', 'N/A'), ('Championship', 'N/A')]\n",
      "\n",
      "                                        Combarbalá, Chile\n",
      "https://itra.run/race/1386\n"
     ]
    },
    {
     "name": "stderr",
     "output_type": "stream",
     "text": [
      "\r",
      "  6%|▌         | 118/2040 [1:23:52<20:19:23, 38.07s/it]"
     ]
    },
    {
     "name": "stdout",
     "output_type": "stream",
     "text": [
      "1\n",
      "['http://www.rondaghibellina-trail.com']\n",
      "[('Distance', '45.10km (28miles)'), ('Elevation gain', '2320m'), ('Elevation loss', '2320m'), ('Start time', ' 31/01/2021 08:00:00'), ('Start location', 'Castiglion Fiorentino'), ('Finish location', 'Castiglion Fiorentino'), ('Aid station', '5'), ('Time limit', '9 hours 30 minutes  '), ('Participation', 'solo'), ('Topology', '50% Paths / 43% Tracks / 7% Roads'), ('Number of participants', '500'), ('Challenge', 'no'), ('Championship', 'no')]\n",
      "\n",
      "                                        Castiglion Fiorentino, Italy\n",
      "https://itra.run/race/10967\n"
     ]
    },
    {
     "name": "stderr",
     "output_type": "stream",
     "text": [
      "\r",
      "  6%|▌         | 119/2040 [1:24:26<19:43:32, 36.97s/it]"
     ]
    },
    {
     "name": "stdout",
     "output_type": "stream",
     "text": [
      "1\n",
      "['http://www.rondaghibellina-trail.com']\n",
      "[('Distance', '70.80km (44miles)'), ('Elevation gain', '3680m'), ('Elevation loss', '3680m'), ('Start time', ' 31/01/2021 06:00:00'), ('Start location', 'Castiglion Fiorentino'), ('Finish location', 'Castiglion Fiorentino'), ('Aid station', '7'), ('Time limit', '13 hours    '), ('Participation', 'solo'), ('Topology', '50% Paths / 45% Tracks / 5% Roads'), ('Number of participants', '250'), ('Challenge', 'N/A'), ('Championship', 'N/A')]\n",
      "\n",
      "                                        Castiglion Fiorentino, Italy\n",
      "https://itra.run/race/21849\n"
     ]
    },
    {
     "name": "stderr",
     "output_type": "stream",
     "text": [
      "\r",
      "  6%|▌         | 120/2040 [1:24:59<19:03:11, 35.72s/it]"
     ]
    },
    {
     "name": "stdout",
     "output_type": "stream",
     "text": [
      "1\n",
      "['https://www.lebelier-laclusaz.fr/']\n",
      "[('Distance', '14.00km (9miles)'), ('Elevation gain', '650m'), ('Elevation loss', '650m'), ('Start time', ' 05/02/2021 18:30:00'), ('Start location', 'Place du Village'), ('Finish location', 'Place du Village'), ('Aid station', '1'), ('Time limit', '     '), ('Participation', 'solo'), ('Number of participants', '650'), ('Challenge', 'N/A'), ('Championship', 'N/A'), ('Distance', '14.00km (9miles)')]\n",
      "\n",
      "                                        LA CLUSAZ, France\n",
      "https://itra.run/race/28194\n"
     ]
    },
    {
     "name": "stderr",
     "output_type": "stream",
     "text": [
      "\r",
      "  6%|▌         | 121/2040 [1:25:33<18:44:24, 35.16s/it]"
     ]
    },
    {
     "name": "stdout",
     "output_type": "stream",
     "text": [
      "1\n",
      "['https://www.lebelier-laclusaz.fr/']\n",
      "[('Distance', '8.00km (5miles)'), ('Elevation gain', '330m'), ('Elevation loss', '330m'), ('Start time', ' 05/02/2021 19:00:00'), ('Start location', 'La Clusaz'), ('Finish location', 'La Clusaz'), ('Aid station', '1'), ('Time limit', '     '), ('Participation', 'solo'), ('Topology', '100% Paths / 0% Tracks / 0% Roads'), ('Number of participants', '250'), ('Challenge', 'N/A'), ('Championship', 'N/A')]\n",
      "\n",
      "                                        LA CLUSAZ, France\n",
      "https://itra.run/race/22019\n"
     ]
    },
    {
     "name": "stderr",
     "output_type": "stream",
     "text": [
      "\r",
      "  6%|▌         | 122/2040 [1:26:08<18:40:12, 35.04s/it]"
     ]
    },
    {
     "name": "stdout",
     "output_type": "stream",
     "text": [
      "1\n",
      "['https://ultrasignup.com/register.aspx?did=66837']\n",
      "[('Distance', '48.30km (30miles)'), ('Elevation gain', '1300m'), ('Elevation loss', '1180m'), ('Start time', ' 06/02/2021 04:00:00'), ('Start location', 'San Diego'), ('Finish location', 'San Diego'), ('Aid station', '1'), ('Time limit', '7 hours    '), ('Participation', 'solo'), ('Topology', '95% Paths / 0% Tracks / 5% Roads'), ('Number of participants', '20'), ('Challenge', 'N/A'), ('Championship', 'N/A')]\n",
      "\n",
      "                                        San Diego, United States\n",
      "https://itra.run/race/17501\n"
     ]
    },
    {
     "name": "stderr",
     "output_type": "stream",
     "text": [
      "\r",
      "  6%|▌         | 123/2040 [1:26:41<18:25:42, 34.61s/it]"
     ]
    },
    {
     "name": "stdout",
     "output_type": "stream",
     "text": [
      "1\n",
      "['https://ultrasignup.com/register.aspx?did=66837']\n",
      "[('Distance', '100.20km (62miles)'), ('Elevation gain', '1830m'), ('Elevation loss', '1830m'), ('Start time', ' 06/02/2021 04:00:00'), ('Start location', 'San Diego'), ('Finish location', 'San Diego'), ('Aid station', '3'), ('Time limit', '14 hours    '), ('Participation', 'solo'), ('Topology', '95% Paths / 0% Tracks / 5% Roads'), ('Number of participants', '20'), ('Challenge', 'N/A'), ('Championship', 'N/A')]\n",
      "\n",
      "                                        San Diego, United States\n",
      "https://itra.run/race/1667\n"
     ]
    },
    {
     "name": "stderr",
     "output_type": "stream",
     "text": [
      "\r",
      "  6%|▌         | 124/2040 [1:27:17<18:35:10, 34.92s/it]"
     ]
    },
    {
     "name": "stdout",
     "output_type": "stream",
     "text": [
      "1\n",
      "['http://www.endurancelife.com/']\n",
      "[('Distance', '54.40km (34miles)'), ('Elevation gain', '1866m'), ('Elevation loss', '1866m'), ('Start time', ' 08/05/2021 08:30:00'), ('Start location', 'Beesands'), ('Finish location', 'Beesands'), ('Aid station', '5'), ('Time limit', '     '), ('Participation', 'solo'), ('Topology', '60% Paths / 30% Tracks / 10% Roads'), ('Challenge', 'N/A'), ('Championship', 'N/A'), ('Registration', '<a href=\"http://www.endurancelife.com\" target=\"_blank\" style=\"cursor: pointer; color: black; text-decoration: underline;\">Visit registration website</a>')]\n",
      "\n",
      "                                        Kingsbridge, United Kingdom\n",
      "https://itra.run/race/16849\n"
     ]
    },
    {
     "name": "stderr",
     "output_type": "stream",
     "text": [
      "\r",
      "  6%|▌         | 125/2040 [1:27:51<18:25:24, 34.63s/it]"
     ]
    },
    {
     "name": "stdout",
     "output_type": "stream",
     "text": [
      "1\n",
      "['https://tchimberaid.com']\n",
      "[('Distance', '41.30km (26miles)'), ('Elevation gain', '2600m'), ('Elevation loss', '2600m'), ('Start time', ' 06/02/2021 05:30:00'), ('Start location', 'LE PRECHEUR'), ('Finish location', 'LE PRECHEUR'), ('Aid station', '3'), ('Time limit', '10 hours    '), ('Participation', 'solo'), ('Topology', '68% Paths / 17% Tracks / 15% Roads'), ('Number of participants', '350'), ('Challenge', 'DEFI DES MORNES'), ('Championship', ' Championnat france Trail court')]\n",
      "\n",
      "                                        LE PRECHEUR, France\n",
      "https://itra.run/race/22731\n"
     ]
    },
    {
     "name": "stderr",
     "output_type": "stream",
     "text": [
      "\r",
      "  6%|▌         | 126/2040 [1:28:23<18:00:45, 33.88s/it]"
     ]
    },
    {
     "name": "stdout",
     "output_type": "stream",
     "text": [
      "1\n",
      "['https://tchimberaid.com']\n",
      "[('Distance', '23.00km (14miles)'), ('Elevation gain', '1270m'), ('Elevation loss', '1270m'), ('Start time', ' 06/02/2021 06:30:00'), ('Start location', 'LE PRECHEUR'), ('Finish location', 'GRAND RIVIERE'), ('Aid station', '1'), ('Time limit', '7 hours    '), ('Participation', 'solo'), ('Topology', '85% Paths / 0% Tracks / 15% Roads'), ('Number of participants', '400'), ('Challenge', 'N/A'), ('Championship', 'N/A')]\n",
      "\n",
      "                                        LE PRECHEUR, France\n",
      "https://itra.run/race/302\n"
     ]
    },
    {
     "name": "stderr",
     "output_type": "stream",
     "text": [
      "\r",
      "  6%|▌         | 127/2040 [1:28:57<17:57:14, 33.79s/it]"
     ]
    },
    {
     "name": "stdout",
     "output_type": "stream",
     "text": [
      "1\n",
      "['https://www.tejastrails.com/#/rocky100/']\n",
      "[('Distance', '163.10km (101miles)'), ('Elevation gain', '2260m'), ('Elevation loss', '2260m'), ('Start time', ' 06/02/2021 06:00:00'), ('Start location', 'Huntsville State Park, TX'), ('Finish location', 'Huntsville State Park, TX'), ('Aid station', '19'), ('Time limit', '30 hours    '), ('Participation', 'solo'), ('Topology', '100% Paths / 0% Tracks / 0% Roads'), ('Number of participants', '500'), ('Challenge', 'N/A'), ('Championship', 'N/A')]\n",
      "\n",
      "                                        Huntsville, United States\n",
      "https://itra.run/race/20657\n"
     ]
    },
    {
     "name": "stderr",
     "output_type": "stream",
     "text": [
      "\r",
      "  6%|▋         | 128/2040 [1:29:32<18:07:19, 34.12s/it]"
     ]
    },
    {
     "name": "stdout",
     "output_type": "stream",
     "text": [
      "1\n",
      "['https://www.tejastrails.com/#/rocky100/']\n",
      "[('Distance', '101.30km (63miles)'), ('Elevation gain', '1440m'), ('Elevation loss', '1450m'), ('Start time', ' 06/02/2021 07:00:00'), ('Start location', 'Huntsville State Park, TX'), ('Finish location', 'Huntsville State Park, TX'), ('Aid station', '15'), ('Time limit', '29 hours    '), ('Participation', 'solo'), ('Topology', '100% Paths / 0% Tracks / 0% Roads'), ('Number of participants', '600'), ('Challenge', 'N/A'), ('Championship', 'N/A')]\n",
      "\n",
      "                                        Huntsville, United States\n",
      "https://itra.run/race/15061\n"
     ]
    },
    {
     "name": "stderr",
     "output_type": "stream",
     "text": [
      "\r",
      "  6%|▋         | 129/2040 [1:30:06<18:09:42, 34.21s/it]"
     ]
    },
    {
     "name": "stdout",
     "output_type": "stream",
     "text": [
      "1\n",
      "['http://www.ultramaratonelsalvador.com/']\n",
      "[('Distance', '48.00km (30miles)'), ('Elevation gain', '3460m'), ('Elevation loss', '3460m'), ('Start time', ' 06/02/2021 04:00:00'), ('Start location', 'Hotel Entre Pinos,San Ignacio'), ('Finish location', 'Hotel EntrePinos,San Ignacio'), ('Aid station', '4'), ('Time limit', '14 hours    '), ('Participation', 'solo'), ('Topology', '72% Paths / 25% Tracks / 3% Roads'), ('Number of participants', '200'), ('Challenge', 'N/A'), ('Championship', 'N/A')]\n",
      "\n",
      "                                        SAN IGNACIO-LA PALMA, El Salvador\n",
      "https://itra.run/race/9347\n"
     ]
    },
    {
     "name": "stderr",
     "output_type": "stream",
     "text": [
      "\r",
      "  6%|▋         | 130/2040 [1:30:39<17:59:26, 33.91s/it]"
     ]
    },
    {
     "name": "stdout",
     "output_type": "stream",
     "text": [
      "1\n",
      "['http://www.ultramaratonelsalvador.com/']\n",
      "[('Distance', '81.00km (50miles)'), ('Elevation gain', '4800m'), ('Elevation loss', '4800m'), ('Start time', ' 06/02/2021 00:01:00'), ('Start location', 'Hotel Entre Pinos ,Chalatenango, ElSalvador'), ('Finish location', 'San IgnacioHotel Entre Pinos ,Chalatenango, ElSalvador'), ('Aid station', '7'), ('Time limit', '24 hours    '), ('Participation', 'solo'), ('Topology', '62% Paths / 35% Tracks / 3% Roads'), ('Number of participants', '100'), ('Challenge', 'UltraEs 2021'), ('Championship', 'N/A')]\n",
      "\n",
      "                                        SAN IGNACIO-LA PALMA, El Salvador\n",
      "https://itra.run/race/27401\n"
     ]
    },
    {
     "name": "stderr",
     "output_type": "stream",
     "text": [
      "\r",
      "  6%|▋         | 131/2040 [1:31:13<17:56:40, 33.84s/it]"
     ]
    },
    {
     "name": "stdout",
     "output_type": "stream",
     "text": [
      "1\n",
      "['http://www.ultramaratonelsalvador.com/']\n",
      "[('Distance', '104.10km (65miles)'), ('Elevation gain', '6260m'), ('Elevation loss', '6260m'), ('Start time', ' 06/02/2021 00:01:00'), ('Start location', 'Hotel Entrepinos, San Ignacio Chalatenango'), ('Finish location', 'Hotel Entre Pinos, Chalatenenago'), ('Aid station', '9'), ('Time limit', '27 hours    '), ('Participation', 'solo'), ('Topology', '53% Paths / 35% Tracks / 12% Roads'), ('Number of participants', '100'), ('Challenge', 'N/A'), ('Championship', 'N/A')]\n",
      "\n",
      "                                        SAN IGNACIO-LA PALMA, El Salvador\n",
      "https://itra.run/race/17541\n"
     ]
    },
    {
     "name": "stderr",
     "output_type": "stream",
     "text": [
      "\r",
      "  6%|▋         | 132/2040 [1:31:46<17:47:57, 33.58s/it]"
     ]
    },
    {
     "name": "stdout",
     "output_type": "stream",
     "text": [
      "1\n",
      "['http://www.kbsobotka.pl/gorski-zimowy-maraton-slezanski/']\n",
      "[('Distance', '42.90km (27miles)'), ('Elevation gain', '1340m'), ('Elevation loss', '1340m'), ('Start time', ' 06/02/2021 09:00:00'), ('Start location', 'Sobótka'), ('Finish location', 'Sobótka'), ('Aid station', '3'), ('Time limit', '7 hours    '), ('Participation', 'solo'), ('Topology', '30% Paths / 70% Tracks / 0% Roads'), ('Number of participants', '700'), ('Challenge', 'N/A'), ('Championship', 'N/A')]\n",
      "\n",
      "                                        Sobótka, Poland\n",
      "https://itra.run/race/27441\n",
      "1\n",
      "['http://www.kbsobotka.pl/gorski-zimowy-maraton-slezanski/']\n"
     ]
    },
    {
     "name": "stderr",
     "output_type": "stream",
     "text": [
      "\r",
      "  7%|▋         | 133/2040 [1:53:53<223:21:26, 421.65s/it]"
     ]
    },
    {
     "name": "stdout",
     "output_type": "stream",
     "text": [
      "[('Distance', '24.10km (15miles)'), ('Elevation gain', '790m'), ('Elevation loss', '790m'), ('Start time', ' 06/02/2021 10:00:00'), ('Start location', 'Sobótka'), ('Finish location', 'Sobótka'), ('Aid station', '1'), ('Time limit', '5 hours    '), ('Participation', 'solo'), ('Topology', '36% Paths / 63% Tracks / 1% Roads'), ('Number of participants', '700'), ('Challenge', 'N/A'), ('Championship', 'N/A')]\n",
      "\n",
      "                                        Sobótka, Poland\n",
      "https://itra.run/race/15081\n"
     ]
    },
    {
     "name": "stderr",
     "output_type": "stream",
     "text": [
      "\r",
      "  7%|▋         | 134/2040 [2:10:40<316:15:19, 597.33s/it]"
     ]
    },
    {
     "name": "stdout",
     "output_type": "stream",
     "text": [
      "1\n",
      "['http://ultramarathon-grauer-kopf.de/']\n",
      "[('Distance', '68.10km (42miles)'), ('Elevation gain', '1970m'), ('Elevation loss', '1970m'), ('Start time', ' 06/02/2021 08:00:00'), ('Start location', 'Holzhausen an der Haide'), ('Finish location', 'Holzhausen an der Haide'), ('Aid station', '2'), ('Time limit', '12 hours    '), ('Participation', 'solo'), ('Topology', '40% Paths / 50% Tracks / 10% Roads'), ('Number of participants', '150'), ('Challenge', 'N/A'), ('Championship', 'N/A')]\n",
      "\n",
      "                                        Holzhausen an der Haide, Germany\n",
      "https://itra.run/race/27972\n"
     ]
    },
    {
     "name": "stderr",
     "output_type": "stream",
     "text": [
      "\r",
      "  7%|▋         | 135/2040 [2:11:30<229:13:24, 433.18s/it]"
     ]
    },
    {
     "name": "stdout",
     "output_type": "stream",
     "text": [
      "1\n",
      "['https://srk.sportbox.hr']\n",
      "[('Distance', '30.00km (19miles)'), ('Elevation gain', '1210m'), ('Elevation loss', '1210m'), ('Start time', ' 06/02/2021 09:00:00'), ('Start location', 'Buzet'), ('Finish location', 'Buzet'), ('Aid station', '0'), ('Time limit', '6 hours    '), ('Participation', 'solo'), ('Topology', '51% Paths / 37% Tracks / 12% Roads'), ('Number of participants', '150'), ('Challenge', 'N/A'), ('Championship', 'N/A')]\n",
      "\n",
      "                                        Buzet, Croatia\n",
      "https://itra.run/race/28073\n"
     ]
    },
    {
     "name": "stderr",
     "output_type": "stream",
     "text": [
      "\r",
      "  7%|▋         | 136/2040 [2:12:14<167:15:29, 316.24s/it]"
     ]
    },
    {
     "name": "stdout",
     "output_type": "stream",
     "text": [
      "1\n",
      "['https://basecamp.run']\n",
      "[('Distance', '2.70km (2miles)'), ('Elevation gain', '120m'), ('Elevation loss', '120m'), ('Start time', ' 06/02/2021 13:00:00'), ('Start location', 'Kilyos'), ('Finish location', 'kilyos'), ('Aid station', '2'), ('Time limit', '12 hours    '), ('Participation', 'solo'), ('Topology', '55% Paths / 45% Tracks / 0% Roads'), ('Number of participants', '250'), ('Challenge', 'N/A'), ('Championship', 'N/A')]\n",
      "\n",
      "                                        Kilyos, Turkey\n",
      "https://itra.run/race/4485\n"
     ]
    },
    {
     "name": "stderr",
     "output_type": "stream",
     "text": [
      "\r",
      "  7%|▋         | 137/2040 [2:12:52<123:03:00, 232.78s/it]"
     ]
    },
    {
     "name": "stdout",
     "output_type": "stream",
     "text": [
      "1\n",
      "['http://www.ultrarunnereventos.net']\n",
      "[('Distance', '78.10km (49miles)'), ('Elevation gain', '2460m'), ('Elevation loss', '2460m'), ('Start time', ' 06/02/2021 08:00:00'), ('Start location', 'Passa Quatro'), ('Finish location', 'Passa Quatro'), ('Aid station', '5'), ('Time limit', '20 hours    '), ('Participation', 'solo'), ('Topology', '5% Paths / 80% Tracks / 15% Roads'), ('Number of participants', '300'), ('Challenge', 'N/A'), ('Championship', 'N/A')]\n",
      "\n",
      "                                        PASSA QUATRO, Brazil\n",
      "https://itra.run/race/4250\n"
     ]
    },
    {
     "name": "stderr",
     "output_type": "stream",
     "text": [
      "\r",
      "  7%|▋         | 138/2040 [2:13:30<92:05:40, 174.31s/it] "
     ]
    },
    {
     "name": "stdout",
     "output_type": "stream",
     "text": [
      "1\n",
      "['http://www.ultrarunnereventos.net']\n",
      "[('Distance', '117.10km (73miles)'), ('Elevation gain', '3090m'), ('Elevation loss', '3090m'), ('Start time', ' 06/02/2021 08:00:00'), ('Start location', 'PASSA QUATRO'), ('Finish location', 'PASSA QUATRO'), ('Aid station', '7'), ('Time limit', '40 hours    '), ('Participation', 'solo'), ('Topology', '5% Paths / 25% Tracks / 70% Roads'), ('Number of participants', '200'), ('Challenge', 'N/A'), ('Championship', 'N/A')]\n",
      "\n",
      "                                        PASSA QUATRO, Brazil\n",
      "https://itra.run/race/16329\n"
     ]
    },
    {
     "name": "stderr",
     "output_type": "stream",
     "text": [
      "\r",
      "  7%|▋         | 139/2040 [2:14:09<70:36:22, 133.71s/it]"
     ]
    },
    {
     "name": "stdout",
     "output_type": "stream",
     "text": [
      "1\n",
      "['http://www.ultrarunnereventos.net']\n",
      "[('Distance', '31.70km (20miles)'), ('Elevation gain', '1070m'), ('Elevation loss', '1070m'), ('Start time', ' 06/02/2021 08:00:00'), ('Start location', 'Passa Quatro'), ('Finish location', 'Passa Quatro'), ('Aid station', '3'), ('Time limit', '     '), ('Participation', 'solo'), ('Topology', '60% Paths / 20% Tracks / 20% Roads'), ('Number of participants', '300'), ('Challenge', 'N/A'), ('Championship', 'N/A')]\n",
      "\n",
      "                                        PASSA QUATRO, Brazil\n",
      "https://itra.run/race/16331\n"
     ]
    },
    {
     "name": "stderr",
     "output_type": "stream",
     "text": [
      "\r",
      "  7%|▋         | 140/2040 [2:14:47<55:26:03, 105.03s/it]"
     ]
    },
    {
     "name": "stdout",
     "output_type": "stream",
     "text": [
      "1\n",
      "['http://www.ultrarunnereventos.net']\n",
      "[('Distance', '15.30km (10miles)'), ('Elevation gain', '340m'), ('Elevation loss', '340m'), ('Start time', ' 06/02/2021 08:00:00'), ('Start location', 'Passa Quatro'), ('Finish location', 'Passa Quatro'), ('Aid station', '2'), ('Time limit', '     '), ('Participation', 'solo'), ('Topology', '40% Paths / 30% Tracks / 30% Roads'), ('Number of participants', '200'), ('Challenge', 'N/A'), ('Championship', 'N/A')]\n",
      "\n",
      "                                        PASSA QUATRO, Brazil\n",
      "https://itra.run/race/24329\n"
     ]
    },
    {
     "name": "stderr",
     "output_type": "stream",
     "text": [
      "\r",
      "  7%|▋         | 141/2040 [2:32:40<208:38:40, 395.53s/it]"
     ]
    },
    {
     "name": "stdout",
     "output_type": "stream",
     "text": [
      "1\n",
      "['http://www.ultrarunnereventos.net']\n",
      "[('Distance', '55.20km (34miles)'), ('Elevation gain', '1710m'), ('Elevation loss', '1720m'), ('Start time', ' 06/02/2021 08:00:00'), ('Start location', 'Passa-Quatro'), ('Finish location', 'Passa-Quatro'), ('Aid station', '4'), ('Time limit', '     '), ('Participation', 'solo'), ('Topology', '40% Paths / 40% Tracks / 20% Roads'), ('Number of participants', '300'), ('Challenge', 'Rafael Ananias Nogueira'), ('Championship', 'Rafael Ananias Nogueira')]\n",
      "\n",
      "                                        PASSA QUATRO, Brazil\n",
      "https://itra.run/race/28097\n",
      "1\n",
      "['https://basecamp.run']\n"
     ]
    },
    {
     "name": "stderr",
     "output_type": "stream",
     "text": [
      "\r",
      "  7%|▋         | 142/2040 [4:33:24<1291:45:01, 2450.11s/it]"
     ]
    },
    {
     "name": "stdout",
     "output_type": "stream",
     "text": [
      "[('Distance', '40.50km (25miles)'), ('Elevation gain', '1800m'), ('Elevation loss', '1800m'), ('Start time', ' 06/02/2021 13:00:00'), ('Start location', 'kilyos'), ('Finish location', 'kilyos'), ('Aid station', '0'), ('Time limit', '12 hours    '), ('Participation', 'solo'), ('Topology', '50% Paths / 50% Tracks / 0% Roads'), ('Number of participants', '50'), ('Challenge', 'N/A'), ('Championship', 'N/A')]\n",
      "\n",
      "                                        Kilyos, Turkey\n",
      "https://itra.run/race/28098\n"
     ]
    },
    {
     "name": "stderr",
     "output_type": "stream",
     "text": [
      "\r",
      "  7%|▋         | 143/2040 [4:34:25<913:22:27, 1733.34s/it] "
     ]
    },
    {
     "name": "stdout",
     "output_type": "stream",
     "text": [
      "1\n",
      "['https://basecamp.run']\n",
      "[('Distance', '67.50km (42miles)'), ('Elevation gain', '3900m'), ('Elevation loss', '3900m'), ('Start time', ' 06/02/2021 13:00:00'), ('Start location', 'kilyos'), ('Finish location', 'kilyos'), ('Aid station', '0'), ('Time limit', '12 hours    '), ('Participation', 'solo'), ('Topology', '50% Paths / 50% Tracks / 0% Roads'), ('Number of participants', '50'), ('Challenge', 'N/A'), ('Championship', 'N/A')]\n",
      "\n",
      "                                        Kilyos, Turkey\n",
      "https://itra.run/race/28100\n"
     ]
    },
    {
     "name": "stderr",
     "output_type": "stream",
     "text": [
      "\r",
      "  7%|▋         | 144/2040 [4:35:06<645:28:49, 1225.60s/it]"
     ]
    },
    {
     "name": "stdout",
     "output_type": "stream",
     "text": [
      "1\n",
      "['https://basecamp.run']\n",
      "[('Distance', '87.75km (55miles)'), ('Elevation gain', '3900m'), ('Elevation loss', '3900m'), ('Start time', ' 06/02/2021 13:00:00'), ('Start location', 'kilyos'), ('Finish location', 'kilyos'), ('Aid station', '0'), ('Time limit', '12 hours    '), ('Participation', 'solo'), ('Topology', '50% Paths / 50% Tracks / 0% Roads'), ('Number of participants', '50'), ('Challenge', 'N/A'), ('Championship', 'N/A')]\n",
      "\n",
      "                                        Kilyos, Turkey\n",
      "https://itra.run/race/3507\n"
     ]
    },
    {
     "name": "stderr",
     "output_type": "stream",
     "text": [
      "\r",
      "  7%|▋         | 145/2040 [4:35:50<458:36:29, 871.23s/it] "
     ]
    },
    {
     "name": "stdout",
     "output_type": "stream",
     "text": [
      "1\n",
      "['http://www.aravaiparunning.com/elephant-mountain/']\n",
      "[('Distance', '49.60km (31miles)'), ('Elevation gain', '1290m'), ('Elevation loss', '1290m'), ('Start time', ' 06/02/2021 07:00:00'), ('Start location', 'Cave Creek'), ('Finish location', 'Cave Creek'), ('Aid station', '4'), ('Time limit', '9 hours    '), ('Participation', 'solo'), ('Topology', '100% Paths / 0% Tracks / 0% Roads'), ('Number of participants', '400'), ('Challenge', 'N/A'), ('Championship', 'N/A')]\n",
      "\n",
      "                                        Cave Creek, United States\n",
      "https://itra.run/race/5017\n"
     ]
    },
    {
     "name": "stderr",
     "output_type": "stream",
     "text": [
      "\r",
      "  7%|▋         | 146/2040 [4:36:38<328:20:26, 624.09s/it]"
     ]
    },
    {
     "name": "stdout",
     "output_type": "stream",
     "text": [
      "1\n",
      "['http://www.aravaiparunning.com/elephant-mountain/']\n",
      "[('Distance', '34.50km (21miles)'), ('Elevation gain', '710m'), ('Elevation loss', '710m'), ('Start time', ' 06/02/2021 07:30:00'), ('Start location', 'Cave Creek'), ('Finish location', 'Cave Creek'), ('Aid station', '3'), ('Time limit', '9 hours    '), ('Participation', 'solo'), ('Topology', '100% Paths / 0% Tracks / 0% Roads'), ('Number of participants', '400'), ('Challenge', 'N/A'), ('Championship', 'N/A')]\n",
      "\n",
      "                                        Cave Creek, United States\n",
      "https://itra.run/race/5018\n"
     ]
    },
    {
     "name": "stderr",
     "output_type": "stream",
     "text": [
      "\r",
      "  7%|▋         | 147/2040 [4:37:18<236:06:02, 449.00s/it]"
     ]
    },
    {
     "name": "stdout",
     "output_type": "stream",
     "text": [
      "1\n",
      "['http://www.aravaiparunning.com/elephant-mountain/']\n",
      "[('Distance', '21.60km (13miles)'), ('Elevation gain', '460m'), ('Elevation loss', '460m'), ('Start time', ' 06/02/2021 08:00:00'), ('Start location', 'Cave Creek'), ('Finish location', 'Cave Creek'), ('Aid station', '3'), ('Time limit', '4 hours    '), ('Participation', 'solo'), ('Topology', '100% Paths / 0% Tracks / 0% Roads'), ('Number of participants', '400'), ('Challenge', 'N/A'), ('Championship', 'N/A')]\n",
      "\n",
      "                                        Cave Creek, United States\n",
      "https://itra.run/race/25065\n"
     ]
    },
    {
     "name": "stderr",
     "output_type": "stream",
     "text": [
      "\r",
      "  7%|▋         | 148/2040 [4:37:55<171:02:09, 325.44s/it]"
     ]
    },
    {
     "name": "stdout",
     "output_type": "stream",
     "text": [
      "1\n",
      "['http://www.aravaiparunning.com/elephant-mountain/']\n",
      "[('Distance', '79.40km (49miles)'), ('Elevation gain', '1900m'), ('Elevation loss', '1900m'), ('Start time', ' 06/02/2021 06:00:00'), ('Start location', 'Cave Creek'), ('Finish location', 'Cave Creek'), ('Aid station', '6'), ('Time limit', '16 hours    '), ('Participation', 'solo'), ('Topology', '98% Paths / 1% Tracks / 1% Roads'), ('Number of participants', '500'), ('Challenge', 'N/A'), ('Championship', 'N/A')]\n",
      "\n",
      "                                        Cave Creek, United States\n",
      "https://itra.run/race/22025\n"
     ]
    },
    {
     "name": "stderr",
     "output_type": "stream",
     "text": [
      "\r",
      "  7%|▋         | 149/2040 [4:38:34<125:43:05, 239.34s/it]"
     ]
    },
    {
     "name": "stdout",
     "output_type": "stream",
     "text": [
      "1\n",
      "['https://sportevents.be/index.php?route=common/homese&manufacturer_id=12?tracking_marketing=5d778568f27c']\n",
      "[('Distance', '27.20km (17miles)'), ('Elevation gain', '860m'), ('Elevation loss', '860m'), ('Start time', ' 07/02/2021 10:00:00'), ('Start location', 'Vaals'), ('Finish location', 'Vaals'), ('Aid station', '2'), ('Time limit', '     '), ('Participation', 'solo'), ('Topology', '95% Paths / 3% Tracks / 2% Roads'), ('Number of participants', '450'), ('Challenge', 'N/A'), ('Championship', 'N/A')]\n",
      "\n",
      "                                        Vaals, Netherlands\n",
      "https://itra.run/race/17587\n"
     ]
    },
    {
     "name": "stderr",
     "output_type": "stream",
     "text": [
      "\r",
      "  7%|▋         | 150/2040 [6:39:08<1227:17:14, 2337.69s/it]"
     ]
    },
    {
     "name": "stdout",
     "output_type": "stream",
     "text": [
      "1\n",
      "['http://lesmouflons.com']\n",
      "[('Distance', '42.20km (26miles)'), ('Elevation gain', '1180m'), ('Elevation loss', '1180m'), ('Start time', ' 07/02/2021 08:30:00'), ('Start location', 'Cherveix Cubas'), ('Finish location', 'Cherveix Cubas'), ('Aid station', '2'), ('Time limit', '     '), ('Participation', 'solo'), ('Topology', '85% Paths / 10% Tracks / 5% Roads'), ('Number of participants', '250'), ('Challenge', 'Challenge des Trails  du Périgord'), ('Championship', 'N/A')]\n",
      "\n",
      "                                        Cherveix Cubas, France\n",
      "https://itra.run/race/22199\n"
     ]
    },
    {
     "name": "stderr",
     "output_type": "stream",
     "text": [
      "\r",
      "  7%|▋         | 151/2040 [6:39:52<865:37:13, 1649.67s/it] "
     ]
    },
    {
     "name": "stdout",
     "output_type": "stream",
     "text": [
      "1\n",
      "['http://lesmouflons.com']\n",
      "[('Distance', '23.40km (15miles)'), ('Elevation gain', '550m'), ('Elevation loss', '550m'), ('Start time', ' 07/02/2021 09:00:00'), ('Start location', 'Cherveix Cubas'), ('Finish location', 'Cherveix Cubas'), ('Aid station', '1'), ('Time limit', '     '), ('Participation', 'solo'), ('Topology', '75% Paths / 20% Tracks / 5% Roads'), ('Number of participants', '150'), ('Challenge', 'N/A'), ('Championship', 'N/A')]\n",
      "\n",
      "                                        Cherveix Cubas, France\n",
      "https://itra.run/race/27731\n"
     ]
    },
    {
     "name": "stderr",
     "output_type": "stream",
     "text": [
      "\r",
      "  7%|▋         | 152/2040 [6:40:33<612:07:06, 1167.18s/it]"
     ]
    },
    {
     "name": "stdout",
     "output_type": "stream",
     "text": [
      "1\n",
      "['https://www.oxfam.org.hk/en/join-our-events/OTWvirtually-together']\n",
      "[('Distance', '98.90km (61miles)'), ('Elevation gain', '4620m'), ('Elevation loss', '4520m'), ('Start time', ' 08/02/2021 00:00:00'), ('Start location', 'Sai Kung'), ('Finish location', 'Yuen Long'), ('Aid station', '0'), ('Time limit', '     '), ('Participation', 'solo'), ('Topology', '0% Paths / 50% Tracks / 50% Roads'), ('Number of participants', '2000'), ('Challenge', 'N/A'), ('Championship', 'N/A')]\n",
      "\n",
      "                                        Hong Kong, Hong Kong, China\n",
      "https://itra.run/race/25199\n"
     ]
    },
    {
     "name": "stderr",
     "output_type": "stream",
     "text": [
      "\r",
      "  8%|▊         | 153/2040 [8:41:22<1568:03:31, 2991.53s/it]"
     ]
    },
    {
     "name": "stdout",
     "output_type": "stream",
     "text": [
      "2\n",
      "['LeTregEnnediTrail', 'http://www.le-treg.com/zakouma-accueil-en']\n",
      "[('Distance', '89.80km (56miles)'), ('Elevation gain', '220m'), ('Elevation loss', '220m'), ('Start time', ' 10/02/2021 07:00:00'), ('Start location', 'Zakouma'), ('Finish location', 'Zakouma'), ('Aid station', '4'), ('Time limit', '30 hours    '), ('Participation', 'solo'), ('Topology', '20% Paths / 80% Tracks / 0% Roads'), ('Number of participants', '50'), ('Challenge', 'N/A'), ('Championship', 'N/A')]\n",
      "\n",
      "                                        ZAKOUMA, Chad\n",
      "https://itra.run/race/12255\n"
     ]
    },
    {
     "name": "stderr",
     "output_type": "stream",
     "text": [
      "\r",
      "  8%|▊         | 154/2040 [10:39:43<2213:08:53, 4224.46s/it]"
     ]
    },
    {
     "name": "stdout",
     "output_type": "stream",
     "text": [
      "2\n",
      "['geoparktrail', 'http://www.persiantrailrunners.com/']\n",
      "[('Distance', '26.50km (16miles)'), ('Elevation gain', '380m'), ('Elevation loss', '380m'), ('Start time', ' 11/02/2021 06:30:00'), ('Start location', 'qeshm-salakh'), ('Finish location', 'qeshm-salakh'), ('Aid station', '2'), ('Time limit', '4 hours 59 minutes  '), ('Participation', 'solo'), ('Topology', '50% Paths / 50% Tracks / 0% Roads'), ('Challenge', 'challange'), ('Championship', 'GeoparkTrail 30K'), ('Registration', '<a href=\"http://www.persiantrailrunners.com\" target=\"_blank\" style=\"cursor: pointer; color: black; text-decoration: underline;\">Visit registration website</a>')]\n",
      "\n",
      "                                        qeshm, Iran\n",
      "https://itra.run/race/11215\n"
     ]
    },
    {
     "name": "stderr",
     "output_type": "stream",
     "text": [
      "\r",
      "  8%|▊         | 155/2040 [10:40:21<1554:25:12, 2968.65s/it]"
     ]
    },
    {
     "name": "stdout",
     "output_type": "stream",
     "text": [
      "1\n",
      "['http://www.tjornarparen.se']\n",
      "[('Distance', '81.10km (50miles)'), ('Elevation gain', '1140m'), ('Elevation loss', '1170m'), ('Start time', ' 13/02/2021 09:00:00'), ('Start location', 'Tjörnarp'), ('Finish location', 'Tjörnarp'), ('Aid station', '4'), ('Time limit', '12 hours    '), ('Participation', 'solo'), ('Topology', '61% Paths / 37% Tracks / 2% Roads'), ('Number of participants', '75'), ('Challenge', 'Lars Hektor'), ('Championship', 'Lars Hektor')]\n",
      "\n",
      "                                        TJÖRNARP, Sweden\n",
      "https://itra.run/race/11213\n"
     ]
    },
    {
     "name": "stderr",
     "output_type": "stream",
     "text": [
      "\r",
      "  8%|▊         | 156/2040 [10:40:57<1093:06:00, 2088.73s/it]"
     ]
    },
    {
     "name": "stdout",
     "output_type": "stream",
     "text": [
      "1\n",
      "['http://www.tjornarparen.se']\n",
      "[('Distance', '162.90km (101miles)'), ('Elevation gain', '2300m'), ('Elevation loss', '2330m'), ('Start time', ' 13/02/2021 09:00:00'), ('Start location', 'Tjörnarp'), ('Finish location', 'Tjörnarp'), ('Aid station', '9'), ('Time limit', '30 hours    '), ('Participation', 'solo'), ('Topology', '61% Paths / 37% Tracks / 2% Roads'), ('Number of participants', '50'), ('Challenge', 'N/A'), ('Championship', 'N/A')]\n",
      "\n",
      "                                        TJÖRNARP, Sweden\n",
      "https://itra.run/race/6629\n"
     ]
    },
    {
     "name": "stderr",
     "output_type": "stream",
     "text": [
      "\r",
      "  8%|▊         | 157/2040 [10:41:35<770:48:08, 1473.65s/it] "
     ]
    },
    {
     "name": "stdout",
     "output_type": "stream",
     "text": [
      "1\n",
      "['http://www.tjornarparen.se']\n",
      "[('Distance', '51.20km (32miles)'), ('Elevation gain', '680m'), ('Elevation loss', '710m'), ('Start time', ' 13/02/2021 09:00:00'), ('Start location', 'Tjörnarp'), ('Finish location', 'Tjörnarp'), ('Aid station', '3'), ('Time limit', '8 hours    '), ('Participation', 'solo'), ('Topology', '61% Paths / 37% Tracks / 2% Roads'), ('Number of participants', '100'), ('Challenge', 'N/A'), ('Championship', 'N/A')]\n",
      "\n",
      "                                        TJÖRNARP, Sweden\n",
      "https://itra.run/race/6631\n"
     ]
    },
    {
     "name": "stderr",
     "output_type": "stream",
     "text": [
      "\r",
      "  8%|▊         | 158/2040 [10:42:12<545:03:01, 1042.60s/it]"
     ]
    },
    {
     "name": "stdout",
     "output_type": "stream",
     "text": [
      "1\n",
      "['http://www.tjornarparen.se']\n",
      "[('Distance', '102.30km (64miles)'), ('Elevation gain', '1390m'), ('Elevation loss', '1410m'), ('Start time', ' 13/02/2021 09:00:00'), ('Start location', 'Tjörnarp'), ('Finish location', 'Tjörnarp'), ('Aid station', '7'), ('Time limit', '17 hours    '), ('Participation', 'solo'), ('Topology', '61% Paths / 37% Tracks / 2% Roads'), ('Number of participants', '50'), ('Challenge', 'N/A'), ('Championship', 'N/A')]\n",
      "\n",
      "                                        TJÖRNARP, Sweden\n",
      "https://itra.run/race/11949\n"
     ]
    },
    {
     "name": "stderr",
     "output_type": "stream",
     "text": [
      "\r",
      "  8%|▊         | 159/2040 [10:42:50<387:17:14, 741.22s/it] "
     ]
    },
    {
     "name": "stdout",
     "output_type": "stream",
     "text": [
      "1\n",
      "['https://www.taraweraultra.co.nz']\n",
      "[('Distance', '165.40km (103miles)'), ('Elevation gain', '5510m'), ('Elevation loss', '5520m'), ('Start time', ' 13/02/2021 04:00:00'), ('Start location', 'Rotorua'), ('Finish location', 'Rotorua'), ('Aid station', '14'), ('Time limit', '36 hours    '), ('Participation', 'solo'), ('Topology', '32% Paths / 59% Tracks / 9% Roads'), ('Number of participants', '300'), ('Challenge', 'N/A'), ('Championship', 'N/A')]\n",
      "\n",
      "                                        Rotorua, New Zealand\n",
      "https://itra.run/race/895\n"
     ]
    },
    {
     "name": "stderr",
     "output_type": "stream",
     "text": [
      "\r",
      "  8%|▊         | 160/2040 [10:43:28<276:55:29, 530.28s/it]"
     ]
    },
    {
     "name": "stdout",
     "output_type": "stream",
     "text": [
      "1\n",
      "['https://www.taraweraultra.co.nz']\n",
      "[('Distance', '103.00km (64miles)'), ('Elevation gain', '3860m'), ('Elevation loss', '3600m'), ('Start time', ' 13/02/2021 07:00:00'), ('Start location', 'Kawerau'), ('Finish location', 'Rotorua'), ('Aid station', '8'), ('Time limit', '30 hours    '), ('Participation', 'solo'), ('Topology', '35% Paths / 60% Tracks / 5% Roads'), ('Number of participants', '800'), ('Challenge', 'N/A'), ('Championship', 'N/A')]\n",
      "\n",
      "                                        Rotorua, New Zealand\n",
      "https://itra.run/race/26075\n"
     ]
    },
    {
     "name": "stderr",
     "output_type": "stream",
     "text": [
      "\r",
      "  8%|▊         | 161/2040 [10:44:02<199:01:59, 381.33s/it]"
     ]
    },
    {
     "name": "stdout",
     "output_type": "stream",
     "text": [
      "1\n",
      "['https://www.taraweraultra.co.nz']\n",
      "[('Distance', '51.00km (32miles)'), ('Elevation gain', '1680m'), ('Elevation loss', '1680m'), ('Start time', ' 13/02/2021 07:00:00'), ('Start location', 'Rotorua'), ('Finish location', 'Rotorua'), ('Aid station', '4'), ('Time limit', '14 hours    '), ('Participation', 'solo'), ('Topology', '69% Paths / 31% Tracks / 0% Roads'), ('Number of participants', '1500'), ('Challenge', 'N/A'), ('Championship', 'N/A')]\n",
      "\n",
      "                                        Rotorua, New Zealand\n",
      "https://itra.run/race/27586\n"
     ]
    },
    {
     "name": "stderr",
     "output_type": "stream",
     "text": [
      "\r",
      "  8%|▊         | 162/2040 [10:44:37<144:43:08, 277.42s/it]"
     ]
    },
    {
     "name": "stdout",
     "output_type": "stream",
     "text": [
      "1\n",
      "['https://http://rudawy.pl/']\n",
      "[('Distance', '10.70km (7miles)'), ('Elevation gain', '510m'), ('Elevation loss', '510m'), ('Start time', ' 13/02/2021 10:00:00'), ('Start location', 'Karpniki'), ('Finish location', 'Karpniki'), ('Aid station', '0'), ('Time limit', '     '), ('Participation', 'solo'), ('Topology', '100% Paths / 0% Tracks / 0% Roads'), ('Number of participants', '300'), ('Challenge', 'N/A'), ('Championship', 'N/A')]\n",
      "\n",
      "                                        Karpniki, Poland\n",
      "https://itra.run/race/27587\n"
     ]
    },
    {
     "name": "stderr",
     "output_type": "stream",
     "text": [
      "\r",
      "  8%|▊         | 163/2040 [10:45:10<106:25:06, 204.11s/it]"
     ]
    },
    {
     "name": "stdout",
     "output_type": "stream",
     "text": [
      "1\n",
      "['https://http://rudawy.pl/']\n",
      "[('Distance', '20.80km (13miles)'), ('Elevation gain', '890m'), ('Elevation loss', '890m'), ('Start time', ' 13/02/2021 09:00:00'), ('Start location', 'Karpniki'), ('Finish location', 'Karpniki'), ('Aid station', '0'), ('Time limit', '     '), ('Participation', 'solo'), ('Topology', '100% Paths / 0% Tracks / 0% Roads'), ('Number of participants', '300'), ('Challenge', 'N/A'), ('Championship', 'N/A')]\n",
      "\n",
      "                                        Karpniki, Poland\n",
      "https://itra.run/race/27588\n"
     ]
    },
    {
     "name": "stderr",
     "output_type": "stream",
     "text": [
      "\r",
      "  8%|▊         | 164/2040 [10:45:43<79:35:12, 152.73s/it] "
     ]
    },
    {
     "name": "stdout",
     "output_type": "stream",
     "text": [
      "1\n",
      "['https://http://rudawy.pl/']\n",
      "[('Distance', '43.30km (27miles)'), ('Elevation gain', '1970m'), ('Elevation loss', '1980m'), ('Start time', ' 13/02/2021 07:00:00'), ('Start location', 'Karpniki'), ('Finish location', 'Karpniki'), ('Aid station', '0'), ('Time limit', '     '), ('Participation', 'solo'), ('Topology', '100% Paths / 0% Tracks / 0% Roads'), ('Number of participants', '300'), ('Challenge', 'N/A'), ('Championship', 'N/A')]\n",
      "\n",
      "                                        Karpniki, Poland\n",
      "https://itra.run/race/27589\n"
     ]
    },
    {
     "name": "stderr",
     "output_type": "stream",
     "text": [
      "\r",
      "  8%|▊         | 165/2040 [10:46:16<60:48:46, 116.76s/it]"
     ]
    },
    {
     "name": "stdout",
     "output_type": "stream",
     "text": [
      "1\n",
      "['https://http://rudawy.pl/']\n",
      "[('Distance', '60.40km (38miles)'), ('Elevation gain', '2570m'), ('Elevation loss', '2570m'), ('Start time', ' 13/02/2021 04:00:00'), ('Start location', 'Karpniki'), ('Finish location', 'Karpniki'), ('Aid station', '0'), ('Time limit', '     '), ('Participation', 'solo'), ('Topology', '100% Paths / 0% Tracks / 0% Roads'), ('Number of participants', '300'), ('Challenge', 'N/A'), ('Championship', 'N/A')]\n",
      "\n",
      "                                        Karpniki, Poland\n",
      "https://itra.run/race/4984\n"
     ]
    },
    {
     "name": "stderr",
     "output_type": "stream",
     "text": [
      "\r",
      "  8%|▊         | 166/2040 [10:46:49<47:40:00, 91.57s/it] "
     ]
    },
    {
     "name": "stdout",
     "output_type": "stream",
     "text": [
      "1\n",
      "['http://aravaiparunning.com/network/blackcanyon/']\n",
      "[('Distance', '60.20km (37miles)'), ('Elevation gain', '1100m'), ('Elevation loss', '1700m'), ('Start time', ' 13/02/2021 07:00:00'), ('Start location', 'Spring Valley'), ('Finish location', 'Black Canyon City'), ('Aid station', '5'), ('Time limit', '12 hours    '), ('Participation', 'solo'), ('Topology', '99% Paths / 0% Tracks / 1% Roads'), ('Number of participants', '500'), ('Challenge', 'N/A'), ('Championship', 'N/A')]\n",
      "\n",
      "                                        Mayer, United States\n",
      "https://itra.run/race/3297\n"
     ]
    },
    {
     "name": "stderr",
     "output_type": "stream",
     "text": [
      "\r",
      "  8%|▊         | 167/2040 [10:47:23<38:45:22, 74.49s/it]"
     ]
    },
    {
     "name": "stdout",
     "output_type": "stream",
     "text": [
      "1\n",
      "['http://aravaiparunning.com/network/blackcanyon/']\n",
      "[('Distance', '100.90km (63miles)'), ('Elevation gain', '2103m'), ('Elevation loss', '2712m'), ('Start time', ' 13/02/2021 07:00:00'), ('Start location', 'Spring Valley, AZ'), ('Finish location', 'New River, AZ'), ('Aid station', '8'), ('Time limit', '20 hours    '), ('Participation', 'solo'), ('Topology', '83% Paths / 11% Tracks / 6% Roads'), ('Number of participants', '1000'), ('Challenge', 'N/A'), ('Championship', 'Western States Golden Ticket Race')]\n",
      "\n",
      "                                        Mayer, United States\n",
      "https://itra.run/race/27926\n"
     ]
    },
    {
     "name": "stderr",
     "output_type": "stream",
     "text": [
      "\r",
      "  8%|▊         | 168/2040 [10:47:56<32:12:39, 61.94s/it]"
     ]
    },
    {
     "name": "stdout",
     "output_type": "stream",
     "text": [
      "1\n",
      "['https://www.saintelyon.com/']\n",
      "[('Distance', '73.50km (46miles)'), ('Elevation gain', '1870m'), ('Elevation loss', '2195m'), ('Start time', ' 13/02/2021 19:00:00'), ('Start location', 'Saint-etienne'), ('Finish location', 'Lyon'), ('Aid station', '0'), ('Time limit', '16 hours 30 minutes  '), ('Participation', 'solo'), ('Topology', '65% Paths / 15% Tracks / 20% Roads'), ('Number of participants', '1000'), ('Challenge', 'La SaintéLyon Just In...Time'), ('Championship', 'N/A')]\n",
      "\n",
      "                                        LYON, France\n",
      "https://itra.run/race/27973\n"
     ]
    },
    {
     "name": "stderr",
     "output_type": "stream",
     "text": [
      "\r",
      "  8%|▊         | 169/2040 [10:48:31<28:03:35, 53.99s/it]"
     ]
    },
    {
     "name": "stdout",
     "output_type": "stream",
     "text": [
      "1\n",
      "['https://srk.sportbox.hr']\n",
      "[('Distance', '27.50km (17miles)'), ('Elevation gain', '960m'), ('Elevation loss', '960m'), ('Start time', ' 13/02/2021 09:00:00'), ('Start location', 'Buzet'), ('Finish location', 'Buzet'), ('Aid station', '0'), ('Time limit', '6 hours    '), ('Participation', 'solo'), ('Topology', '55% Paths / 31% Tracks / 14% Roads'), ('Number of participants', '150'), ('Challenge', 'N/A'), ('Championship', 'N/A')]\n",
      "\n",
      "                                        Buzet, Croatia\n",
      "https://itra.run/race/28053\n"
     ]
    },
    {
     "name": "stderr",
     "output_type": "stream",
     "text": [
      "\r",
      "  8%|▊         | 170/2040 [10:49:06<24:58:45, 48.09s/it]"
     ]
    },
    {
     "name": "stdout",
     "output_type": "stream",
     "text": [
      "1\n",
      "['https://www.saintelyon.com/']\n",
      "[('Distance', '44.00km (27miles)'), ('Elevation gain', '895m'), ('Elevation loss', '1420m'), ('Start time', ' 13/02/2021 19:00:00'), ('Start location', 'Sainte-Catherine'), ('Finish location', 'Lyon'), ('Aid station', '0'), ('Time limit', '     '), ('Participation', 'solo'), ('Topology', '10% Paths / 30% Tracks / 60% Roads'), ('Number of participants', '500'), ('Challenge', 'La SaintéLyon Just In...Time'), ('Championship', 'N/A')]\n",
      "\n",
      "                                        LYON, France\n",
      "https://itra.run/race/28054\n"
     ]
    },
    {
     "name": "stderr",
     "output_type": "stream",
     "text": [
      "\r",
      "  8%|▊         | 171/2040 [10:49:39<22:40:54, 43.69s/it]"
     ]
    },
    {
     "name": "stdout",
     "output_type": "stream",
     "text": [
      "1\n",
      "['https://www.saintelyon.com/']\n",
      "[('Distance', '19.00km (12miles)'), ('Elevation gain', '250m'), ('Elevation loss', '450m'), ('Start time', ' 13/02/2021 19:00:00'), ('Start location', 'Soucieu-en-Jarrest'), ('Finish location', 'Lyon'), ('Aid station', '0'), ('Time limit', '     '), ('Participation', 'solo'), ('Topology', '11% Paths / 39% Tracks / 50% Roads'), ('Number of participants', '500'), ('Challenge', 'La SaintéLyon Just In...Time'), ('Championship', 'N/A')]\n",
      "\n",
      "                                        LYON, France\n",
      "https://itra.run/race/28055\n"
     ]
    },
    {
     "name": "stderr",
     "output_type": "stream",
     "text": [
      "\r",
      "  8%|▊         | 172/2040 [10:50:13<21:05:03, 40.63s/it]"
     ]
    },
    {
     "name": "stdout",
     "output_type": "stream",
     "text": [
      "1\n",
      "['https://www.saintelyon.com/']\n",
      "[('Distance', '10.00km (6miles)'), ('Elevation gain', '165m'), ('Elevation loss', '290m'), ('Start time', ' 13/02/2021 19:00:00'), ('Start location', 'Chaponost'), ('Finish location', 'Lyon'), ('Aid station', '0'), ('Time limit', '     '), ('Participation', 'solo'), ('Topology', '0% Paths / 30% Tracks / 70% Roads'), ('Number of participants', '500'), ('Challenge', 'La SaintéLyon Just In...Time'), ('Championship', 'N/A')]\n",
      "\n",
      "                                        LYON, France\n",
      "https://itra.run/race/23099\n"
     ]
    },
    {
     "name": "stderr",
     "output_type": "stream",
     "text": [
      "\r",
      "  8%|▊         | 173/2040 [10:50:49<20:21:48, 39.27s/it]"
     ]
    },
    {
     "name": "stdout",
     "output_type": "stream",
     "text": [
      "1\n",
      "['http://deccanultra.com']\n",
      "[('Distance', '115.40km (72miles)'), ('Elevation gain', '4540m'), ('Elevation loss', '4540m'), ('Start time', ' 13/02/2021 04:30:00'), ('Start location', 'Bhandardara'), ('Finish location', 'Bhandardara'), ('Aid station', '12'), ('Time limit', '26 hours    '), ('Participation', 'solo'), ('Topology', '60% Paths / 25% Tracks / 15% Roads'), ('Number of participants', '150'), ('Challenge', 'N/A'), ('Championship', 'Deccan Ultra')]\n",
      "\n",
      "                                        Bhandardara, India\n",
      "https://itra.run/race/23105\n"
     ]
    },
    {
     "name": "stderr",
     "output_type": "stream",
     "text": [
      "\r",
      "  9%|▊         | 174/2040 [10:51:24<19:47:47, 38.19s/it]"
     ]
    },
    {
     "name": "stdout",
     "output_type": "stream",
     "text": [
      "1\n",
      "['http://deccanultra.com']\n",
      "[('Distance', '80.80km (50miles)'), ('Elevation gain', '3560m'), ('Elevation loss', '3560m'), ('Start time', ' 13/02/2021 04:30:00'), ('Start location', 'Bhandardara'), ('Finish location', 'Bhandardara'), ('Aid station', '8'), ('Time limit', '18 hours    '), ('Participation', 'solo'), ('Topology', '60% Paths / 25% Tracks / 15% Roads'), ('Number of participants', '50'), ('Challenge', 'N/A'), ('Championship', 'Deccan Ultra')]\n",
      "\n",
      "                                        Bhandardara, India\n",
      "https://itra.run/race/23101\n"
     ]
    },
    {
     "name": "stderr",
     "output_type": "stream",
     "text": [
      "\r",
      "  9%|▊         | 175/2040 [10:51:58<19:00:52, 36.70s/it]"
     ]
    },
    {
     "name": "stdout",
     "output_type": "stream",
     "text": [
      "1\n",
      "['http://deccanultra.com']\n",
      "[('Distance', '31.80km (20miles)'), ('Elevation gain', '1330m'), ('Elevation loss', '1330m'), ('Start time', ' 13/02/2021 06:30:00'), ('Start location', 'Bhandardara'), ('Finish location', 'Bhandardara'), ('Aid station', '3'), ('Time limit', '7 hours    '), ('Participation', 'solo'), ('Topology', '60% Paths / 25% Tracks / 15% Roads'), ('Number of participants', '50'), ('Challenge', 'N/A'), ('Championship', 'Deccan Ultra')]\n",
      "\n",
      "                                        Bhandardara, India\n",
      "https://itra.run/race/23103\n"
     ]
    },
    {
     "name": "stderr",
     "output_type": "stream",
     "text": [
      "\r",
      "  9%|▊         | 176/2040 [10:52:32<18:41:08, 36.09s/it]"
     ]
    },
    {
     "name": "stdout",
     "output_type": "stream",
     "text": [
      "1\n",
      "['http://deccanultra.com']\n",
      "[('Distance', '57.40km (36miles)'), ('Elevation gain', '2160m'), ('Elevation loss', '2160m'), ('Start time', ' 13/02/2021 06:00:00'), ('Start location', 'Bhandardara'), ('Finish location', 'Bhandardara'), ('Aid station', '5'), ('Time limit', '11 hours    '), ('Participation', 'solo'), ('Topology', '60% Paths / 25% Tracks / 15% Roads'), ('Number of participants', '50'), ('Challenge', 'N/A'), ('Championship', 'Deccan Ultra')]\n",
      "\n",
      "                                        Bhandardara, India\n",
      "https://itra.run/race/26145\n"
     ]
    },
    {
     "name": "stderr",
     "output_type": "stream",
     "text": [
      "\r",
      "  9%|▊         | 177/2040 [10:53:07<18:24:23, 35.57s/it]"
     ]
    },
    {
     "name": "stdout",
     "output_type": "stream",
     "text": [
      "1\n",
      "['http://xterace.com/CNY-Grand-3-Tour-2021/']\n",
      "[('Distance', '26.70km (17miles)'), ('Elevation gain', '2370m'), ('Elevation loss', '1870m'), ('Start time', ' 14/02/2021 09:00:00'), ('Start location', 'Fung Kat Heung'), ('Finish location', 'Tsuen Kam Au Rotary Park'), ('Aid station', '2'), ('Time limit', '8 hours    '), ('Participation', 'solo'), ('Topology', '70% Paths / 10% Tracks / 20% Roads'), ('Number of participants', '100'), ('Challenge', 'N/A'), ('Championship', 'N/A')]\n",
      "\n",
      "                                        Mestia, Georgia\n",
      "https://itra.run/race/26147\n"
     ]
    },
    {
     "name": "stderr",
     "output_type": "stream",
     "text": [
      "\r",
      "  9%|▊         | 178/2040 [10:53:40<18:01:05, 34.84s/it]"
     ]
    },
    {
     "name": "stdout",
     "output_type": "stream",
     "text": [
      "1\n",
      "['http://xterace.com/CNY-Grand-3-Tour-2021/']\n",
      "[('Distance', '26.70km (17miles)'), ('Elevation gain', '2370m'), ('Elevation loss', '1870m'), ('Start time', ' 14/02/2021 09:00:00'), ('Start location', 'Fung Kat Heung'), ('Finish location', 'Tsuen Kam Au Rotary Park'), ('Aid station', '2'), ('Time limit', '8 hours    '), ('Participation', 'team'), ('Topology', '70% Paths / 10% Tracks / 20% Roads'), ('Number of participants', '100'), ('Challenge', 'N/A'), ('Championship', 'N/A')]\n",
      "\n",
      "                                        Mestia, Georgia\n",
      "https://itra.run/race/26149\n"
     ]
    },
    {
     "name": "stderr",
     "output_type": "stream",
     "text": [
      "\r",
      "  9%|▉         | 179/2040 [10:54:13<17:45:04, 34.34s/it]"
     ]
    },
    {
     "name": "stdout",
     "output_type": "stream",
     "text": [
      "1\n",
      "['http://xterace.com/CNY-Grand-3-Tour-2021/']\n",
      "[('Distance', '20.10km (12miles)'), ('Elevation gain', '1530m'), ('Elevation loss', '1070m'), ('Start time', ' 14/02/2021 10:00:00'), ('Start location', 'Tong Sheung Tsuen'), ('Finish location', 'Tsuen Kam Au Rotary Park'), ('Aid station', '1'), ('Time limit', '6 hours    '), ('Participation', 'solo'), ('Topology', '80% Paths / 5% Tracks / 15% Roads'), ('Number of participants', '100'), ('Challenge', 'N/A'), ('Championship', 'N/A')]\n",
      "\n",
      "                                        Mestia, Georgia\n",
      "https://itra.run/race/26151\n"
     ]
    },
    {
     "name": "stderr",
     "output_type": "stream",
     "text": [
      "\r",
      "  9%|▉         | 180/2040 [10:54:46<17:28:25, 33.82s/it]"
     ]
    },
    {
     "name": "stdout",
     "output_type": "stream",
     "text": [
      "1\n",
      "['http://xterace.com/CNY-Grand-3-Tour-2021/']\n",
      "[('Distance', '20.20km (13miles)'), ('Elevation gain', '1530m'), ('Elevation loss', '1070m'), ('Start time', ' 14/02/2021 10:00:00'), ('Start location', 'Tong Sheung Tsuen'), ('Finish location', 'Tsuen Kam Au Rotary Park'), ('Aid station', '1'), ('Time limit', '6 hours    '), ('Participation', 'team'), ('Topology', '80% Paths / 5% Tracks / 15% Roads'), ('Number of participants', '100'), ('Challenge', 'N/A'), ('Championship', 'N/A')]\n",
      "\n",
      "                                        Mestia, Georgia\n",
      "https://itra.run/race/22689\n"
     ]
    },
    {
     "name": "stderr",
     "output_type": "stream",
     "text": [
      "\r",
      "  9%|▉         | 181/2040 [10:55:25<18:22:41, 35.59s/it]"
     ]
    },
    {
     "name": "stdout",
     "output_type": "stream",
     "text": [
      "1\n",
      "['http://www.trailmaroc.com']\n",
      "[('Distance', '29.00km (18miles)'), ('Elevation gain', '300m'), ('Elevation loss', '3m'), ('Start time', ' 14/02/2021 09:00:00'), ('Start location', 'Lalla Takerkoust'), ('Finish location', 'Lalla Takerkoust'), ('Aid station', '3'), ('Time limit', '4 hours 30 minutes  '), ('Participation', 'solo'), ('Topology', '29% Paths / 70% Tracks / 1% Roads'), ('Number of participants', '500'), ('Challenge', 'N/A'), ('Championship', 'N/A')]\n",
      "\n",
      "                                        LALLA TAKERKOUST, Morocco\n",
      "https://itra.run/race/24467\n"
     ]
    },
    {
     "name": "stderr",
     "output_type": "stream",
     "text": [
      "\r",
      "  9%|▉         | 182/2040 [10:56:02<18:31:04, 35.88s/it]"
     ]
    },
    {
     "name": "stdout",
     "output_type": "stream",
     "text": [
      "1\n",
      "['http://www.trailmaroc.com']\n",
      "[('Distance', '42.00km (26miles)'), ('Elevation gain', '1250m'), ('Elevation loss', '1250m'), ('Start time', ' 14/02/2021 08:00:00'), ('Start location', 'TAKERKOUST'), ('Finish location', 'TAKERKOUST'), ('Aid station', '5'), ('Time limit', '5 hours 17 minutes  '), ('Participation', 'solo'), ('Topology', '29% Paths / 70% Tracks / 1% Roads'), ('Number of participants', '500'), ('Challenge', 'N/A'), ('Championship', 'N/A')]\n",
      "\n",
      "                                        LALLA TAKERKOUST, Morocco\n",
      "https://itra.run/race/27948\n"
     ]
    },
    {
     "name": "stderr",
     "output_type": "stream",
     "text": [
      "\r",
      "  9%|▉         | 183/2040 [10:56:37<18:27:17, 35.78s/it]"
     ]
    },
    {
     "name": "stdout",
     "output_type": "stream",
     "text": [
      "1\n",
      "['https://storstenshojden50milesoch100miles.wordpress.com/']\n",
      "[('Distance', '162.00km (101miles)'), ('Elevation gain', '11400m'), ('Elevation loss', '11400m'), ('Start time', ' 19/02/2021 06:00:00'), ('Start location', 'Storstenshöjden'), ('Finish location', 'Storstenshöjden'), ('Aid station', '0'), ('Time limit', '65 hours    '), ('Participation', 'solo'), ('Topology', '98% Paths / 2% Tracks / 0% Roads'), ('Number of participants', '50'), ('Challenge', 'N/A'), ('Championship', 'N/A')]\n",
      "\n",
      "                                        Örebro, Sweden\n",
      "https://itra.run/race/28245\n"
     ]
    },
    {
     "name": "stderr",
     "output_type": "stream",
     "text": [
      "\r",
      "  9%|▉         | 184/2040 [10:57:13<18:27:43, 35.81s/it]"
     ]
    },
    {
     "name": "stdout",
     "output_type": "stream",
     "text": [
      "1\n",
      "['https://storstenshojden50milesoch100miles.wordpress.com/']\n",
      "[('Distance', '84.10km (52miles)'), ('Elevation gain', '5780m'), ('Elevation loss', '5760m'), ('Start time', ' 19/02/2021 00:00:00'), ('Start location', 'Storstenshöjden'), ('Finish location', 'Storstenshöjden'), ('Aid station', '0'), ('Time limit', '25 hours    '), ('Participation', 'solo'), ('Topology', '98% Paths / 2% Tracks / 0% Roads'), ('Number of participants', '25'), ('Challenge', 'N/A'), ('Championship', 'N/A')]\n",
      "\n",
      "                                        Örebro, Sweden\n",
      "https://itra.run/race/5931\n"
     ]
    },
    {
     "name": "stderr",
     "output_type": "stream",
     "text": [
      "\r",
      "  9%|▉         | 185/2040 [10:57:48<18:14:24, 35.40s/it]"
     ]
    },
    {
     "name": "stdout",
     "output_type": "stream",
     "text": [
      "1\n",
      "['https://www.oldghostultra.com']\n",
      "[('Distance', '82.50km (51miles)'), ('Elevation gain', '3530m'), ('Elevation loss', '3600m'), ('Start time', ' 20/02/2021 06:00:00'), ('Start location', 'Seddonville'), ('Finish location', 'Lyell'), ('Aid station', '4'), ('Time limit', '     '), ('Participation', 'solo'), ('Challenge', 'N/A'), ('Championship', 'N/A'), ('Distance', '82.50km (51miles)'), ('Elevation gain', '3530m')]\n",
      "\n",
      "                                        Westport, New Zealand\n",
      "https://itra.run/race/12479\n"
     ]
    },
    {
     "name": "stderr",
     "output_type": "stream",
     "text": [
      "\r",
      "  9%|▉         | 186/2040 [10:58:25<18:33:09, 36.02s/it]"
     ]
    },
    {
     "name": "stdout",
     "output_type": "stream",
     "text": [
      "1\n",
      "['http://www.hardmoors110.org.uk/cms/?q=blog']\n",
      "[('Distance', '124.30km (77miles)'), ('Elevation gain', '2420m'), ('Elevation loss', '2400m'), ('Start time', ' 20/02/2021 08:00:00'), ('Start location', 'Hessle'), ('Finish location', 'Filey'), ('Aid station', '7'), ('Time limit', '24 hours    '), ('Participation', 'solo'), ('Topology', '30% Paths / 50% Tracks / 20% Roads'), ('Number of participants', '300'), ('Challenge', 'N/A'), ('Championship', 'N/A')]\n",
      "\n",
      "                                        , United Kingdom\n",
      "https://itra.run/race/7697\n"
     ]
    },
    {
     "name": "stderr",
     "output_type": "stream",
     "text": [
      "\r",
      "  9%|▉         | 187/2040 [10:59:11<20:00:00, 38.86s/it]"
     ]
    },
    {
     "name": "stdout",
     "output_type": "stream",
     "text": [
      "1\n",
      "['http://aconcaguaultratrail.com.ar/']\n",
      "[('Distance', '60.20km (37miles)'), ('Elevation gain', '1930m'), ('Elevation loss', '1930m'), ('Start time', ' 19/02/2022 05:00:00'), ('Start location', 'Los Penitentes'), ('Finish location', 'Los Penitentes'), ('Aid station', '4'), ('Time limit', '16 hours    '), ('Participation', 'solo'), ('Topology', '95% Paths / 5% Tracks / 0% Roads'), ('Number of participants', '100'), ('Challenge', 'N/A'), ('Championship', 'N/A')]\n",
      "\n",
      "                                        PENITENTES, Argentina\n",
      "https://itra.run/race/6989\n"
     ]
    },
    {
     "name": "stderr",
     "output_type": "stream",
     "text": [
      "\r",
      "  9%|▉         | 188/2040 [10:59:46<19:25:28, 37.76s/it]"
     ]
    },
    {
     "name": "stdout",
     "output_type": "stream",
     "text": [
      "1\n",
      "['http://aconcaguaultratrail.com.ar/']\n",
      "[('Distance', '102.50km (64miles)'), ('Elevation gain', '3200m'), ('Elevation loss', '3200m'), ('Start time', ' 19/02/2022 05:00:00'), ('Start location', 'Los Penitentes'), ('Finish location', 'Los Penitentes'), ('Aid station', '7'), ('Time limit', '22 hours    '), ('Participation', 'solo'), ('Topology', '91% Paths / 9% Tracks / 0% Roads'), ('Number of participants', '80'), ('Challenge', 'N/A'), ('Championship', 'N/A')]\n",
      "\n",
      "                                        PENITENTES, Argentina\n",
      "https://itra.run/race/14967\n"
     ]
    },
    {
     "name": "stderr",
     "output_type": "stream",
     "text": [
      "\r",
      "  9%|▉         | 189/2040 [11:00:21<19:01:35, 37.00s/it]"
     ]
    },
    {
     "name": "stdout",
     "output_type": "stream",
     "text": [
      "1\n",
      "['http://aconcaguaultratrail.com.ar/']\n",
      "[('Distance', '42.60km (26miles)'), ('Elevation gain', '1150m'), ('Elevation loss', '1150m'), ('Start time', ' 19/02/2022 08:00:00'), ('Start location', 'Los Penitentes'), ('Finish location', 'Los Penitentes'), ('Aid station', '4'), ('Time limit', '12 hours    '), ('Participation', 'solo'), ('Topology', '95% Paths / 5% Tracks / 0% Roads'), ('Number of participants', '80'), ('Challenge', 'N/A'), ('Championship', 'N/A')]\n",
      "\n",
      "                                        PENITENTES, Argentina\n",
      "https://itra.run/race/27530\n"
     ]
    },
    {
     "name": "stderr",
     "output_type": "stream",
     "text": [
      "\r",
      "  9%|▉         | 190/2040 [11:00:54<18:19:38, 35.66s/it]"
     ]
    },
    {
     "name": "stdout",
     "output_type": "stream",
     "text": [
      "1\n",
      "['https://https://metabief-snow-trail.fr/']\n",
      "[('Distance', '15.80km (10miles)'), ('Elevation gain', '690m'), ('Elevation loss', '690m'), ('Start time', ' 20/02/2021 17:30:00'), ('Start location', 'Métabief'), ('Finish location', 'Métabief'), ('Aid station', '0'), ('Time limit', '     '), ('Participation', 'solo'), ('Topology', '80% Paths / 15% Tracks / 5% Roads'), ('Number of participants', '500'), ('Challenge', 'N/A'), ('Championship', 'N/A')]\n",
      "\n",
      "                                        Métabief, France\n",
      "https://itra.run/race/4953\n"
     ]
    },
    {
     "name": "stderr",
     "output_type": "stream",
     "text": [
      "\r",
      "  9%|▉         | 191/2040 [11:01:26<17:45:24, 34.57s/it]"
     ]
    },
    {
     "name": "stdout",
     "output_type": "stream",
     "text": [
      "1\n",
      "['http://www.teelakow.com']\n",
      "[('Distance', '65.00km (40miles)'), ('Elevation gain', '2860m'), ('Elevation loss', '2860m'), ('Start time', ' 20/02/2021 16:00:00'), ('Start location', 'Wat Salakpeth School'), ('Finish location', 'Wat Salakpeth School'), ('Aid station', '5'), ('Time limit', '24 hours    '), ('Participation', 'solo'), ('Topology', '30% Paths / 70% Tracks / 0% Roads'), ('Number of participants', '500'), ('Challenge', 'N/A'), ('Championship', 'N/A')]\n",
      "\n",
      "                                        Koh Chang, Thailand\n",
      "https://itra.run/race/12047\n"
     ]
    },
    {
     "name": "stderr",
     "output_type": "stream",
     "text": [
      "\r",
      "  9%|▉         | 192/2040 [11:01:59<17:32:33, 34.17s/it]"
     ]
    },
    {
     "name": "stdout",
     "output_type": "stream",
     "text": [
      "1\n",
      "['http://www.teelakow.com']\n",
      "[('Distance', '99.20km (62miles)'), ('Elevation gain', '3700m'), ('Elevation loss', '3700m'), ('Start time', ' 20/02/2021 04:00:00'), ('Start location', 'Wat Salak Petch School'), ('Finish location', 'Wat Salak Petch School'), ('Aid station', '10'), ('Time limit', '36 hours    '), ('Participation', 'solo'), ('Topology', '30% Paths / 70% Tracks / 0% Roads'), ('Number of participants', '500'), ('Challenge', 'N/A'), ('Championship', 'N/A')]\n",
      "\n",
      "                                        Koh Chang, Thailand\n",
      "https://itra.run/race/23425\n"
     ]
    },
    {
     "name": "stderr",
     "output_type": "stream",
     "text": [
      "\r",
      "  9%|▉         | 193/2040 [11:02:36<17:57:04, 34.99s/it]"
     ]
    },
    {
     "name": "stdout",
     "output_type": "stream",
     "text": [
      "1\n",
      "['https://www.gorceultratrail.com/pl/podstawowe-informacje/']\n",
      "[('Distance', '24.60km (15miles)'), ('Elevation gain', '1010m'), ('Elevation loss', '1010m'), ('Start time', ' 20/02/2021 09:00:00'), ('Start location', 'Ochotnica Górna'), ('Finish location', 'Ochotnica Górna'), ('Aid station', '1'), ('Time limit', '6 hours    '), ('Participation', 'solo'), ('Topology', '80% Paths / 15% Tracks / 5% Roads'), ('Number of participants', '200'), ('Challenge', 'N/A'), ('Championship', 'N/A')]\n",
      "\n",
      "                                        Ochotnica Górna, Poland\n",
      "https://itra.run/race/23427\n"
     ]
    },
    {
     "name": "stderr",
     "output_type": "stream",
     "text": [
      "\r",
      " 10%|▉         | 194/2040 [11:03:09<17:39:34, 34.44s/it]"
     ]
    },
    {
     "name": "stdout",
     "output_type": "stream",
     "text": [
      "1\n",
      "['https://www.gorceultratrail.com/pl/podstawowe-informacje/']\n",
      "[('Distance', '43.20km (27miles)'), ('Elevation gain', '2220m'), ('Elevation loss', '2220m'), ('Start time', ' 20/02/2021 07:00:00'), ('Start location', 'Ochotnica Górna'), ('Finish location', 'Ochotnica Górna'), ('Aid station', '3'), ('Time limit', '11 hours    '), ('Participation', 'solo'), ('Topology', '80% Paths / 15% Tracks / 5% Roads'), ('Number of participants', '100'), ('Challenge', 'N/A'), ('Championship', 'N/A')]\n",
      "\n",
      "                                        Ochotnica Górna, Poland\n",
      "https://itra.run/race/24133\n"
     ]
    },
    {
     "name": "stderr",
     "output_type": "stream",
     "text": [
      "\r",
      " 10%|▉         | 195/2040 [11:03:41<17:19:26, 33.80s/it]"
     ]
    },
    {
     "name": "stdout",
     "output_type": "stream",
     "text": [
      "1\n",
      "['https://www.gorceultratrail.com/pl/podstawowe-informacje/']\n",
      "[('Distance', '9.50km (6miles)'), ('Elevation gain', '450m'), ('Elevation loss', '450m'), ('Start time', ' 20/02/2021 09:30:00'), ('Start location', 'Ochotnica Górna'), ('Finish location', 'Ochotnica Górna'), ('Aid station', '0'), ('Time limit', '3 hours    '), ('Participation', 'solo'), ('Topology', '60% Paths / 30% Tracks / 10% Roads'), ('Number of participants', '100'), ('Challenge', 'N/A'), ('Championship', 'N/A')]\n",
      "\n",
      "                                        Ochotnica Górna, Poland\n",
      "https://itra.run/race/27758\n"
     ]
    },
    {
     "name": "stderr",
     "output_type": "stream",
     "text": [
      "\r",
      " 10%|▉         | 196/2040 [11:04:15<17:17:47, 33.77s/it]"
     ]
    },
    {
     "name": "stdout",
     "output_type": "stream",
     "text": [
      "1\n",
      "['https://www.gorceultratrail.com/pl/podstawowe-informacje/']\n",
      "[('Distance', '33.90km (21miles)'), ('Elevation gain', '1460m'), ('Elevation loss', '1460m'), ('Start time', ' 20/02/2021 07:00:00'), ('Start location', 'Ochotnica Górna'), ('Finish location', 'Ochotnica Górna'), ('Aid station', '2'), ('Time limit', '     '), ('Participation', 'solo'), ('Topology', '90% Paths / 0% Tracks / 10% Roads'), ('Number of participants', '100'), ('Challenge', 'N/A'), ('Championship', 'N/A')]\n",
      "\n",
      "                                        Ochotnica Górna, Poland\n",
      "https://itra.run/race/27916\n"
     ]
    },
    {
     "name": "stderr",
     "output_type": "stream",
     "text": [
      "\r",
      " 10%|▉         | 197/2040 [11:04:47<16:58:03, 33.14s/it]"
     ]
    },
    {
     "name": "stdout",
     "output_type": "stream",
     "text": [
      "1\n",
      "['https://www.fields-co.jp/yama_run/99valley/']\n",
      "[('Distance', '23.20km (14miles)'), ('Elevation gain', '1130m'), ('Elevation loss', '1130m'), ('Start time', ' 20/02/2021 08:30:00'), ('Start location', 'Mother Farm'), ('Finish location', 'Mother Farm'), ('Aid station', '1'), ('Time limit', '6 hours    '), ('Participation', 'solo'), ('Topology', '50% Paths / 0% Tracks / 50% Roads'), ('Number of participants', '700'), ('Challenge', 'N/A'), ('Championship', 'N/A')]\n",
      "\n",
      "                                        Futtsu City, Kimitsu City, Japan\n",
      "https://itra.run/race/27974\n"
     ]
    },
    {
     "name": "stderr",
     "output_type": "stream",
     "text": [
      "\r",
      " 10%|▉         | 198/2040 [11:05:19<16:54:55, 33.06s/it]"
     ]
    },
    {
     "name": "stdout",
     "output_type": "stream",
     "text": [
      "1\n",
      "['https://srk.sportbox.hr']\n",
      "[('Distance', '27.90km (17miles)'), ('Elevation gain', '1390m'), ('Elevation loss', '1390m'), ('Start time', ' 20/02/2021 09:00:00'), ('Start location', 'Buzet'), ('Finish location', 'Buzet'), ('Aid station', '0'), ('Time limit', '6 hours    '), ('Participation', 'solo'), ('Topology', '57% Paths / 38% Tracks / 5% Roads'), ('Number of participants', '150'), ('Challenge', 'N/A'), ('Championship', 'N/A')]\n",
      "\n",
      "                                        Buzet, Croatia\n",
      "https://itra.run/race/26233\n"
     ]
    },
    {
     "name": "stderr",
     "output_type": "stream",
     "text": [
      "\r",
      " 10%|▉         | 199/2040 [11:05:54<17:07:12, 33.48s/it]"
     ]
    },
    {
     "name": "stdout",
     "output_type": "stream",
     "text": [
      "1\n",
      "['http://xterace.com/NE-Traverse-2021/']\n",
      "[('Distance', '39.30km (24miles)'), ('Elevation gain', '2620m'), ('Elevation loss', '2620m'), ('Start time', ' 21/02/2021 09:00:00'), ('Start location', 'Tai Mei Tuk'), ('Finish location', 'Kwu Tung'), ('Aid station', '3'), ('Time limit', '10 hours    '), ('Participation', 'solo'), ('Topology', '70% Paths / 5% Tracks / 25% Roads'), ('Number of participants', '200'), ('Challenge', 'N/A'), ('Championship', 'N/A')]\n",
      "\n",
      "                                        Tai Mei Tuk, Hong Kong, China\n",
      "https://itra.run/race/26307\n"
     ]
    },
    {
     "name": "stderr",
     "output_type": "stream",
     "text": [
      "\r",
      " 10%|▉         | 200/2040 [11:06:26<16:56:47, 33.16s/it]"
     ]
    },
    {
     "name": "stdout",
     "output_type": "stream",
     "text": [
      "1\n",
      "['http://xterace.com/NE-Traverse-2021/']\n",
      "[('Distance', '39.30km (24miles)'), ('Elevation gain', '2620m'), ('Elevation loss', '2620m'), ('Start time', ' 21/02/2021 09:00:00'), ('Start location', 'Tai Mei Tuk'), ('Finish location', 'Kwu Tung'), ('Aid station', '2'), ('Time limit', '10 hours    '), ('Participation', 'team'), ('Topology', '70% Paths / 5% Tracks / 25% Roads'), ('Number of participants', '150'), ('Challenge', 'N/A'), ('Championship', 'N/A')]\n",
      "\n",
      "                                        Tai Mei Tuk, Hong Kong, China\n",
      "https://itra.run/race/26321\n"
     ]
    },
    {
     "name": "stderr",
     "output_type": "stream",
     "text": [
      "\r",
      " 10%|▉         | 201/2040 [11:07:01<17:08:57, 33.57s/it]"
     ]
    },
    {
     "name": "stdout",
     "output_type": "stream",
     "text": [
      "1\n",
      "['https://www.fearlessdragontrail.com/en/home-en/']\n",
      "[('Distance', '21.80km (14miles)'), ('Elevation gain', '1539m'), ('Elevation loss', '1538m'), ('Start time', ' 21/02/2021 09:00:00'), ('Start location', 'Rotary Park, Tusen Kam Au'), ('Finish location', 'Rotary Park, Tusen Kam Au'), ('Aid station', '1'), ('Time limit', '6 hours    '), ('Participation', 'solo'), ('Topology', '70% Paths / 5% Tracks / 25% Roads'), ('Number of participants', '200'), ('Challenge', 'N/A'), ('Championship', 'N/A')]\n",
      "\n",
      "                                        Rotary Park, Tusen Kam Au, Hong Kong, China\n",
      "https://itra.run/race/16175\n"
     ]
    },
    {
     "name": "stderr",
     "output_type": "stream",
     "text": [
      "\r",
      " 10%|▉         | 202/2040 [11:07:34<17:01:04, 33.33s/it]"
     ]
    },
    {
     "name": "stdout",
     "output_type": "stream",
     "text": [
      "1\n",
      "['http://athle22.athle.org/asp.net/espaces.html/html.aspx?id=40947']\n",
      "[('Distance', '90.10km (56miles)'), ('Elevation gain', '1200m'), ('Elevation loss', '1200m'), ('Start time', ' 21/02/2021 07:30:00'), ('Start location', 'Lannion'), ('Finish location', 'Lannion'), ('Aid station', '6'), ('Time limit', '13 hours 30 minutes  '), ('Participation', 'solo'), ('Topology', '85% Paths / 0% Tracks / 15% Roads'), ('Number of participants', '300'), ('Challenge', 'N/A'), ('Championship', 'N/A')]\n",
      "\n",
      "                                        LANNION, France\n",
      "https://itra.run/race/16177\n"
     ]
    },
    {
     "name": "stderr",
     "output_type": "stream",
     "text": [
      "\r",
      " 10%|▉         | 203/2040 [11:08:07<17:05:09, 33.48s/it]"
     ]
    },
    {
     "name": "stdout",
     "output_type": "stream",
     "text": [
      "1\n",
      "['http://athle22.athle.org/asp.net/espaces.html/html.aspx?id=40947']\n",
      "[('Distance', '59.70km (37miles)'), ('Elevation gain', '840m'), ('Elevation loss', '820m'), ('Start time', ' 21/02/2021 08:30:00'), ('Start location', 'Trégastel'), ('Finish location', 'Lannion'), ('Aid station', '3'), ('Time limit', '9 hours    '), ('Participation', 'solo'), ('Topology', '85% Paths / 0% Tracks / 15% Roads'), ('Number of participants', '300'), ('Challenge', 'N/A'), ('Championship', 'N/A')]\n",
      "\n",
      "                                        LANNION, France\n",
      "https://itra.run/race/27136\n"
     ]
    },
    {
     "name": "stderr",
     "output_type": "stream",
     "text": [
      "\r",
      " 10%|█         | 204/2040 [11:08:40<16:57:17, 33.24s/it]"
     ]
    },
    {
     "name": "stdout",
     "output_type": "stream",
     "text": [
      "1\n",
      "['http://athle22.athle.org/asp.net/espaces.html/html.aspx?id=40947']\n",
      "[('Distance', '32.10km (20miles)'), ('Elevation gain', '690m'), ('Elevation loss', '670m'), ('Start time', ' 21/02/2021 08:30:00'), ('Start location', 'Ile Grande'), ('Finish location', 'Lannion'), ('Aid station', '2'), ('Time limit', '     '), ('Participation', 'solo'), ('Topology', '80% Paths / 0% Tracks / 20% Roads'), ('Number of participants', '300'), ('Challenge', 'N/A'), ('Championship', 'N/A')]\n",
      "\n",
      "                                        LANNION, France\n",
      "https://itra.run/race/24859\n"
     ]
    },
    {
     "name": "stderr",
     "output_type": "stream",
     "text": [
      "\r",
      " 10%|█         | 205/2040 [11:09:14<17:06:34, 33.57s/it]"
     ]
    },
    {
     "name": "stdout",
     "output_type": "stream",
     "text": [
      "1\n",
      "['http://freedom-racing.co.uk/ndr-50-entry']\n",
      "[('Distance', '53.20km (33miles)'), ('Elevation gain', '960m'), ('Elevation loss', '960m'), ('Start time', ' 21/02/2021 09:00:00'), ('Start location', 'Dorking'), ('Finish location', 'Dorking'), ('Aid station', '4'), ('Time limit', '12 hours    '), ('Participation', 'solo'), ('Topology', '70% Paths / 20% Tracks / 10% Roads'), ('Number of participants', '250'), ('Challenge', 'N/A'), ('Championship', 'N/A')]\n",
      "\n",
      "                                        Dorking, United Kingdom\n",
      "https://itra.run/race/4955\n"
     ]
    },
    {
     "name": "stderr",
     "output_type": "stream",
     "text": [
      "\r",
      " 10%|█         | 206/2040 [11:09:49<17:16:45, 33.92s/it]"
     ]
    },
    {
     "name": "stdout",
     "output_type": "stream",
     "text": [
      "1\n",
      "['http://www.teelakow.com']\n",
      "[('Distance', '34.60km (21miles)'), ('Elevation gain', '1260m'), ('Elevation loss', '1270m'), ('Start time', ' 21/02/2021 06:15:00'), ('Start location', 'Wat Salakpeth School'), ('Finish location', 'Wat Salakpeth School'), ('Aid station', '4'), ('Time limit', '9 hours    '), ('Participation', 'solo'), ('Topology', '40% Paths / 60% Tracks / 0% Roads'), ('Number of participants', '800'), ('Challenge', 'N/A'), ('Championship', 'N/A')]\n",
      "\n",
      "                                        Koh Chang, Thailand\n",
      "https://itra.run/race/24527\n"
     ]
    },
    {
     "name": "stderr",
     "output_type": "stream",
     "text": [
      "\r",
      " 10%|█         | 207/2040 [11:10:26<17:41:23, 34.74s/it]"
     ]
    },
    {
     "name": "stdout",
     "output_type": "stream",
     "text": [
      "1\n",
      "['http://www.sanremobikeschool.eu']\n",
      "[('Distance', '32.60km (20miles)'), ('Elevation gain', '1740m'), ('Elevation loss', '1740m'), ('Start time', ' 21/02/2021 10:00:00'), ('Start location', 'SANREMO'), ('Finish location', 'SANREMO'), ('Aid station', '2'), ('Time limit', '     '), ('Participation', 'solo'), ('Topology', '25% Paths / 65% Tracks / 10% Roads'), ('Number of participants', '300'), ('Challenge', 'N/A'), ('Championship', 'N/A')]\n",
      "\n",
      "                                        SANREMO, Italy\n",
      "https://itra.run/race/18451\n"
     ]
    },
    {
     "name": "stderr",
     "output_type": "stream",
     "text": [
      "\r",
      " 10%|█         | 208/2040 [11:10:59<17:29:21, 34.37s/it]"
     ]
    },
    {
     "name": "stdout",
     "output_type": "stream",
     "text": [
      "1\n",
      "['http://zabtrail.ru/']\n",
      "[('Distance', '21.20km (13miles)'), ('Elevation gain', '980m'), ('Elevation loss', '980m'), ('Start time', ' 21/02/2021 12:00:00'), ('Start location', 'Chita'), ('Finish location', 'Chita'), ('Aid station', '2'), ('Time limit', '4 hours    '), ('Participation', 'solo'), ('Topology', '70% Paths / 30% Tracks / 0% Roads'), ('Number of participants', '30'), ('Challenge', 'N/A'), ('Championship', 'N/A')]\n",
      "\n",
      "                                        Chita, Russia\n",
      "https://itra.run/race/15909\n"
     ]
    },
    {
     "name": "stderr",
     "output_type": "stream",
     "text": [
      "\r",
      " 10%|█         | 209/2040 [11:11:32<17:13:38, 33.87s/it]"
     ]
    },
    {
     "name": "stdout",
     "output_type": "stream",
     "text": [
      "1\n",
      "['https://ivermile.ru/ice_valdaice/']\n",
      "[('Distance', '21.30km (13miles)'), ('Elevation gain', '90m'), ('Elevation loss', '90m'), ('Start time', ' 23/02/2021 12:00:00'), ('Start location', 'Valday'), ('Finish location', 'Valday'), ('Aid station', '1'), ('Time limit', '6 hours    '), ('Participation', 'solo'), ('Topology', '100% Paths / 0% Tracks / 0% Roads'), ('Number of participants', '300'), ('Challenge', 'N/A'), ('Championship', 'N/A')]\n",
      "\n",
      "                                        Valday, Russia\n",
      "https://itra.run/race/15911\n"
     ]
    },
    {
     "name": "stderr",
     "output_type": "stream",
     "text": [
      "\r",
      " 10%|█         | 210/2040 [11:12:09<17:41:13, 34.79s/it]"
     ]
    },
    {
     "name": "stdout",
     "output_type": "stream",
     "text": [
      "1\n",
      "['https://ivermile.ru/ice_valdaice/']\n",
      "[('Distance', '42.70km (27miles)'), ('Elevation gain', '180m'), ('Elevation loss', '180m'), ('Start time', ' 23/02/2021 12:00:00'), ('Start location', 'Valday'), ('Finish location', 'Valday'), ('Aid station', '3'), ('Time limit', '8 hours    '), ('Participation', 'solo'), ('Topology', '100% Paths / 0% Tracks / 0% Roads'), ('Number of participants', '100'), ('Challenge', 'N/A'), ('Championship', 'N/A')]\n",
      "\n",
      "                                        Valday, Russia\n",
      "https://itra.run/race/22747\n"
     ]
    },
    {
     "name": "stderr",
     "output_type": "stream",
     "text": [
      "\r",
      " 10%|█         | 211/2040 [11:12:41<17:18:42, 34.07s/it]"
     ]
    },
    {
     "name": "stdout",
     "output_type": "stream",
     "text": [
      "1\n",
      "['https://ivermile.ru/ice_valdaice/']\n",
      "[('Distance', '10.00km (6miles)'), ('Elevation gain', '50m'), ('Elevation loss', '60m'), ('Start time', ' 23/02/2021 12:00:00'), ('Start location', 'Valday'), ('Finish location', 'Valday'), ('Aid station', '1'), ('Time limit', '3 hours    '), ('Participation', 'solo'), ('Topology', '100% Paths / 0% Tracks / 0% Roads'), ('Number of participants', '200'), ('Challenge', 'N/A'), ('Championship', 'N/A')]\n",
      "\n",
      "                                        Valday, Russia\n",
      "https://itra.run/race/11071\n"
     ]
    },
    {
     "name": "stderr",
     "output_type": "stream",
     "text": [
      "\r",
      " 10%|█         | 212/2040 [11:13:15<17:12:25, 33.89s/it]"
     ]
    },
    {
     "name": "stdout",
     "output_type": "stream",
     "text": [
      "2\n",
      "['fb.me/v162ultra', 'https://www.victoria162.hk']\n",
      "[('Distance', '161.90km (101miles)'), ('Elevation gain', '7450m'), ('Elevation loss', '7490m'), ('Start time', ' 26/02/2021 08:00:00'), ('Start location', 'Tung Chung'), ('Finish location', 'Kennedy Town'), ('Aid station', '0'), ('Time limit', '49 hours    '), ('Participation', 'solo'), ('Topology', '50% Paths / 35% Tracks / 15% Roads'), ('Number of participants', '100'), ('Challenge', 'N/A'), ('Championship', 'N/A')]\n",
      "\n",
      "                                        Hong Kong, Hong Kong, China\n",
      "https://itra.run/race/11073\n"
     ]
    },
    {
     "name": "stderr",
     "output_type": "stream",
     "text": [
      "\r",
      " 10%|█         | 213/2040 [11:43:42<290:15:20, 571.93s/it]"
     ]
    },
    {
     "name": "stdout",
     "output_type": "stream",
     "text": [
      "2\n",
      "['fb.me/v162ultra', 'https://www.victoria162.hk']\n",
      "[('Distance', '57.50km (36miles)'), ('Elevation gain', '2580m'), ('Elevation loss', '2580m'), ('Start time', ' 26/02/2021 08:00:00'), ('Start location', 'Tung Chung'), ('Finish location', 'Tung Chung'), ('Aid station', '0'), ('Time limit', '15 hours    '), ('Participation', 'solo'), ('Topology', '60% Paths / 30% Tracks / 10% Roads'), ('Number of participants', '100'), ('Challenge', 'N/A'), ('Championship', 'N/A')]\n",
      "\n",
      "                                        Hong Kong, Hong Kong, China\n",
      "https://itra.run/race/18825\n"
     ]
    },
    {
     "name": "stderr",
     "output_type": "stream",
     "text": [
      "\r",
      " 10%|█         | 214/2040 [11:44:28<210:05:16, 414.19s/it]"
     ]
    },
    {
     "name": "stdout",
     "output_type": "stream",
     "text": [
      "2\n",
      "['fb.me/v162ultra', 'https://www.victoria162.hk']\n",
      "[('Distance', '161.90km (101miles)'), ('Elevation gain', '7450m'), ('Elevation loss', '7490m'), ('Start time', ' 26/02/2021 08:00:00'), ('Start location', 'Tung Chung'), ('Finish location', 'Kennedy Town'), ('Aid station', '17'), ('Time limit', '49 hours    '), ('Participation', 'solo'), ('Topology', '50% Paths / 35% Tracks / 15% Roads'), ('Number of participants', '20'), ('Challenge', 'N/A'), ('Championship', 'N/A')]\n",
      "\n",
      "                                        Hong Kong, Hong Kong, China\n",
      "https://itra.run/race/425\n"
     ]
    },
    {
     "name": "stderr",
     "output_type": "stream",
     "text": [
      "\r",
      " 11%|█         | 215/2040 [11:45:04<152:25:25, 300.67s/it]"
     ]
    },
    {
     "name": "stdout",
     "output_type": "stream",
     "text": [
      "2\n",
      "['transgrancanaria', 'http://www.transgrancanaria.net/']\n",
      "[('Distance', '130.30km (81miles)'), ('Elevation gain', '6620m'), ('Elevation loss', '6620m'), ('Start time', ' 26/02/2021 23:00:00'), ('Start location', 'Las Palmas de Gran Canaria'), ('Finish location', 'Maspalomas'), ('Aid station', '10'), ('Time limit', '30 hours    '), ('Participation', 'solo'), ('Topology', '55% Paths / 40% Tracks / 5% Roads'), ('Number of participants', '900'), ('Challenge', 'N/A'), ('Championship', 'SPARTAN TRAIL WORLD CHAMPIONSHIP')]\n",
      "\n",
      "                                        Las Palmas de GC, Spain\n",
      "https://itra.run/race/8117\n"
     ]
    },
    {
     "name": "stderr",
     "output_type": "stream",
     "text": [
      "\r",
      " 11%|█         | 216/2040 [11:45:40<112:06:08, 221.25s/it]"
     ]
    },
    {
     "name": "stdout",
     "output_type": "stream",
     "text": [
      "2\n",
      "['transgrancanaria', 'http://www.transgrancanaria.net/']\n",
      "[('Distance', '262.30km (163miles)'), ('Elevation gain', '11007m'), ('Elevation loss', '12707m'), ('Start time', ' 26/02/2021 09:00:00'), ('Start location', 'Roque Nublo. Gran Canaria'), ('Finish location', 'Maspalomas. Gran Canaria'), ('Aid station', '5'), ('Time limit', '101 hours    '), ('Participation', 'solo'), ('Number of participants', '100'), ('Challenge', 'N/A'), ('Championship', 'N/A'), ('Registration', '<a href=\"https://aristaeventos.chronorace.es/\" target=\"_blank\" style=\"cursor: pointer; color: black; text-decoration: underline;\">Visit registration website</a>')]\n",
      "\n",
      "                                        Las Palmas de GC, Spain\n",
      "https://itra.run/race/1673\n"
     ]
    },
    {
     "name": "stderr",
     "output_type": "stream",
     "text": [
      "\r",
      " 11%|█         | 217/2040 [11:46:15<83:46:46, 165.45s/it] "
     ]
    },
    {
     "name": "stdout",
     "output_type": "stream",
     "text": [
      "1\n",
      "['http://www.translantau.com/']\n",
      "[('Distance', '103.30km (64miles)'), ('Elevation gain', '5160m'), ('Elevation loss', '5170m'), ('Start time', ' 26/02/2021 23:30:00'), ('Start location', 'Mui Wo'), ('Finish location', 'Mui Wo'), ('Aid station', '9'), ('Time limit', '33 hours    '), ('Participation', 'solo'), ('Topology', '10% Paths / 70% Tracks / 20% Roads'), ('Challenge', 'N/A'), ('Championship', 'N/A'), ('Distance', '103.30km (64miles)')]\n",
      "\n",
      "                                        Lantau Island, Hong Kong, China\n",
      "https://itra.run/race/25547\n"
     ]
    },
    {
     "name": "stderr",
     "output_type": "stream",
     "text": [
      "\r",
      " 11%|█         | 218/2040 [11:46:51<64:00:33, 126.47s/it]"
     ]
    },
    {
     "name": "stdout",
     "output_type": "stream",
     "text": [
      "1\n",
      "['http://fourfeathersultra.com']\n",
      "[('Distance', '90.20km (56miles)'), ('Elevation gain', '2960m'), ('Elevation loss', '3610m'), ('Start time', ' 27/02/2021 06:00:00'), ('Start location', 'Kiau Nulu'), ('Finish location', 'Melangkap Baru'), ('Aid station', '9'), ('Time limit', '28 hours    '), ('Participation', 'solo'), ('Topology', '35% Paths / 55% Tracks / 10% Roads'), ('Number of participants', '200'), ('Challenge', 'N/A'), ('Championship', 'N/A')]\n",
      "\n",
      "                                        Kota Kinabalu, Malaysia\n"
     ]
    },
    {
     "name": "stderr",
     "output_type": "stream",
     "text": [
      " 11%|█         | 218/2040 [12:00:09<100:18:52, 198.21s/it]\n"
     ]
    },
    {
     "ename": "TimeoutException",
     "evalue": "Message: Timeout loading page after 300000ms\n",
     "output_type": "error",
     "traceback": [
      "\u001b[0;31m---------------------------------------------------------------------------\u001b[0m",
      "\u001b[0;31mTimeoutException\u001b[0m                          Traceback (most recent call last)",
      "\u001b[0;32m<ipython-input-256-d4624cfb9f85>\u001b[0m in \u001b[0;36m<module>\u001b[0;34m\u001b[0m\n\u001b[1;32m     17\u001b[0m     \u001b[0mdriver2\u001b[0m \u001b[0;34m=\u001b[0m \u001b[0mwebdriver\u001b[0m\u001b[0;34m.\u001b[0m\u001b[0mFirefox\u001b[0m\u001b[0;34m(\u001b[0m\u001b[0;34m)\u001b[0m\u001b[0;34m\u001b[0m\u001b[0;34m\u001b[0m\u001b[0m\n\u001b[1;32m     18\u001b[0m     \u001b[0;31m#driver2.get(\"https://itra.run/race/13893\")\u001b[0m\u001b[0;34m\u001b[0m\u001b[0;34m\u001b[0m\u001b[0;34m\u001b[0m\u001b[0m\n\u001b[0;32m---> 19\u001b[0;31m     \u001b[0mdriver2\u001b[0m\u001b[0;34m.\u001b[0m\u001b[0mget\u001b[0m\u001b[0;34m(\u001b[0m\u001b[0mi\u001b[0m\u001b[0;34m)\u001b[0m\u001b[0;34m\u001b[0m\u001b[0;34m\u001b[0m\u001b[0m\n\u001b[0m\u001b[1;32m     20\u001b[0m     \u001b[0mprint\u001b[0m\u001b[0;34m(\u001b[0m\u001b[0mi\u001b[0m\u001b[0;34m)\u001b[0m\u001b[0;34m\u001b[0m\u001b[0;34m\u001b[0m\u001b[0m\n\u001b[1;32m     21\u001b[0m \u001b[0;34m\u001b[0m\u001b[0m\n",
      "\u001b[0;32m~/anaconda3/envs/certTrail/lib/python3.8/site-packages/selenium/webdriver/remote/webdriver.py\u001b[0m in \u001b[0;36mget\u001b[0;34m(self, url)\u001b[0m\n\u001b[1;32m    331\u001b[0m         \u001b[0mLoads\u001b[0m \u001b[0ma\u001b[0m \u001b[0mweb\u001b[0m \u001b[0mpage\u001b[0m \u001b[0;32min\u001b[0m \u001b[0mthe\u001b[0m \u001b[0mcurrent\u001b[0m \u001b[0mbrowser\u001b[0m \u001b[0msession\u001b[0m\u001b[0;34m.\u001b[0m\u001b[0;34m\u001b[0m\u001b[0;34m\u001b[0m\u001b[0m\n\u001b[1;32m    332\u001b[0m         \"\"\"\n\u001b[0;32m--> 333\u001b[0;31m         \u001b[0mself\u001b[0m\u001b[0;34m.\u001b[0m\u001b[0mexecute\u001b[0m\u001b[0;34m(\u001b[0m\u001b[0mCommand\u001b[0m\u001b[0;34m.\u001b[0m\u001b[0mGET\u001b[0m\u001b[0;34m,\u001b[0m \u001b[0;34m{\u001b[0m\u001b[0;34m'url'\u001b[0m\u001b[0;34m:\u001b[0m \u001b[0murl\u001b[0m\u001b[0;34m}\u001b[0m\u001b[0;34m)\u001b[0m\u001b[0;34m\u001b[0m\u001b[0;34m\u001b[0m\u001b[0m\n\u001b[0m\u001b[1;32m    334\u001b[0m \u001b[0;34m\u001b[0m\u001b[0m\n\u001b[1;32m    335\u001b[0m     \u001b[0;34m@\u001b[0m\u001b[0mproperty\u001b[0m\u001b[0;34m\u001b[0m\u001b[0;34m\u001b[0m\u001b[0m\n",
      "\u001b[0;32m~/anaconda3/envs/certTrail/lib/python3.8/site-packages/selenium/webdriver/remote/webdriver.py\u001b[0m in \u001b[0;36mexecute\u001b[0;34m(self, driver_command, params)\u001b[0m\n\u001b[1;32m    319\u001b[0m         \u001b[0mresponse\u001b[0m \u001b[0;34m=\u001b[0m \u001b[0mself\u001b[0m\u001b[0;34m.\u001b[0m\u001b[0mcommand_executor\u001b[0m\u001b[0;34m.\u001b[0m\u001b[0mexecute\u001b[0m\u001b[0;34m(\u001b[0m\u001b[0mdriver_command\u001b[0m\u001b[0;34m,\u001b[0m \u001b[0mparams\u001b[0m\u001b[0;34m)\u001b[0m\u001b[0;34m\u001b[0m\u001b[0;34m\u001b[0m\u001b[0m\n\u001b[1;32m    320\u001b[0m         \u001b[0;32mif\u001b[0m \u001b[0mresponse\u001b[0m\u001b[0;34m:\u001b[0m\u001b[0;34m\u001b[0m\u001b[0;34m\u001b[0m\u001b[0m\n\u001b[0;32m--> 321\u001b[0;31m             \u001b[0mself\u001b[0m\u001b[0;34m.\u001b[0m\u001b[0merror_handler\u001b[0m\u001b[0;34m.\u001b[0m\u001b[0mcheck_response\u001b[0m\u001b[0;34m(\u001b[0m\u001b[0mresponse\u001b[0m\u001b[0;34m)\u001b[0m\u001b[0;34m\u001b[0m\u001b[0;34m\u001b[0m\u001b[0m\n\u001b[0m\u001b[1;32m    322\u001b[0m             response['value'] = self._unwrap_value(\n\u001b[1;32m    323\u001b[0m                 response.get('value', None))\n",
      "\u001b[0;32m~/anaconda3/envs/certTrail/lib/python3.8/site-packages/selenium/webdriver/remote/errorhandler.py\u001b[0m in \u001b[0;36mcheck_response\u001b[0;34m(self, response)\u001b[0m\n\u001b[1;32m    240\u001b[0m                 \u001b[0malert_text\u001b[0m \u001b[0;34m=\u001b[0m \u001b[0mvalue\u001b[0m\u001b[0;34m[\u001b[0m\u001b[0;34m'alert'\u001b[0m\u001b[0;34m]\u001b[0m\u001b[0;34m.\u001b[0m\u001b[0mget\u001b[0m\u001b[0;34m(\u001b[0m\u001b[0;34m'text'\u001b[0m\u001b[0;34m)\u001b[0m\u001b[0;34m\u001b[0m\u001b[0;34m\u001b[0m\u001b[0m\n\u001b[1;32m    241\u001b[0m             \u001b[0;32mraise\u001b[0m \u001b[0mexception_class\u001b[0m\u001b[0;34m(\u001b[0m\u001b[0mmessage\u001b[0m\u001b[0;34m,\u001b[0m \u001b[0mscreen\u001b[0m\u001b[0;34m,\u001b[0m \u001b[0mstacktrace\u001b[0m\u001b[0;34m,\u001b[0m \u001b[0malert_text\u001b[0m\u001b[0;34m)\u001b[0m\u001b[0;34m\u001b[0m\u001b[0;34m\u001b[0m\u001b[0m\n\u001b[0;32m--> 242\u001b[0;31m         \u001b[0;32mraise\u001b[0m \u001b[0mexception_class\u001b[0m\u001b[0;34m(\u001b[0m\u001b[0mmessage\u001b[0m\u001b[0;34m,\u001b[0m \u001b[0mscreen\u001b[0m\u001b[0;34m,\u001b[0m \u001b[0mstacktrace\u001b[0m\u001b[0;34m)\u001b[0m\u001b[0;34m\u001b[0m\u001b[0;34m\u001b[0m\u001b[0m\n\u001b[0m\u001b[1;32m    243\u001b[0m \u001b[0;34m\u001b[0m\u001b[0m\n\u001b[1;32m    244\u001b[0m     \u001b[0;32mdef\u001b[0m \u001b[0m_value_or_default\u001b[0m\u001b[0;34m(\u001b[0m\u001b[0mself\u001b[0m\u001b[0;34m,\u001b[0m \u001b[0mobj\u001b[0m\u001b[0;34m,\u001b[0m \u001b[0mkey\u001b[0m\u001b[0;34m,\u001b[0m \u001b[0mdefault\u001b[0m\u001b[0;34m)\u001b[0m\u001b[0;34m:\u001b[0m\u001b[0;34m\u001b[0m\u001b[0;34m\u001b[0m\u001b[0m\n",
      "\u001b[0;31mTimeoutException\u001b[0m: Message: Timeout loading page after 300000ms\n"
     ]
    }
   ],
   "source": [
    "# Ara ataquem les dades de la pàgina específica de cada cursa\n",
    "\n",
    "\n",
    "# List with race websites\n",
    "websitesList = []\n",
    "\n",
    "# List with race place and country\n",
    "locationList = []\n",
    "\n",
    "# List containing the table for each website (as a list)\n",
    "tableList = []\n",
    "\n",
    "\n",
    "#slicedLinks = links[:5]\n",
    "\n",
    "for i in tqdm(links):\n",
    "    print(i)\n",
    "    # Using selenium, open firefox window with the ITRA website\n",
    "    driver2 = webdriver.Firefox()\n",
    "    #driver2.get(\"https://itra.run/race/13893\")\n",
    "    driver2.get(i)\n",
    "    \n",
    "    \n",
    "    try:\n",
    "        time.sleep(3)   \n",
    "\n",
    "        # Click dropdown menu for language selection\n",
    "        driver2.find_element_by_xpath(\"/html/body/div[1]/div[1]/nav/div[4]\").click()\n",
    "\n",
    "        # Select language EN\n",
    "        driver2.find_element_by_xpath(\"/html/body/div[1]/div[1]/nav/div[4]/div/div[1]\").click()\n",
    "\n",
    "        time.sleep(15)\n",
    "        \n",
    "        # if link is broken, go back\n",
    "    except TimeoutException:\n",
    "        driver2.back()\n",
    "        print(\"Time out exception.\")\n",
    "        # continue so we can return to beginning of loop\n",
    "        continue\n",
    "\n",
    "    # if you reach this point, the link is valid, and you can 'do stuff' on the page\n",
    "    \n",
    "    # Getting current URL source code \n",
    "    get_source2 = driver2.page_source\n",
    "    time.sleep(2)   \n",
    "    driver2.close()\n",
    "\n",
    "    # Scraping race names with BeautifulSoup\n",
    "    soup2 = BeautifulSoup(get_source2, 'html')\n",
    "\n",
    "    # List containing the race website (when available) and \"facebook\", \"twitter\" and other info\n",
    "    hrefList = [a['href'] for a in soup2.find_all('a', {'rel': \"ugc\"}, href=True)]\n",
    "\n",
    "    # Remove the links that contain \"facebook\" or \"twitter\" or \"@\"\n",
    "    hrefList[:] = [x for x in hrefList if \"facebook\" not in x]\n",
    "    hrefList[:] = [x for x in hrefList if \"twitter\" not in x]\n",
    "    hrefList[:] = [x for x in hrefList if \"@\" not in x]\n",
    "\n",
    "    print(len(hrefList))\n",
    "    print(hrefList) \n",
    "    websitesList.append(hrefList)\n",
    "    \n",
    "    # Srape the table with additional data: data labels (first) and content\n",
    "    labelsList  = re.findall(r'(?<=<div class=\"colinforace1\">)(.*?)(?=</div>)', get_source2)\n",
    "    contentList = re.findall(r'(?<=<div class=\"colinforace2 mbb\">)(.*?)(?=</div>)', get_source2)\n",
    "\n",
    "    labels_content_list_of_tuples = list(zip(labelsList[:13], contentList[:13])) \n",
    "    print(labels_content_list_of_tuples)\n",
    "    tableList.append(labels_content_list_of_tuples)\n",
    "    \n",
    "    # Scrape the location\n",
    "    location = soup2.find('p').getText()\n",
    "    print(location)\n",
    "    locationList.append(location)\n",
    "    \n",
    "    # Check scraped data is saved in a manner that can be directly matched\n",
    "    print(len(websitesList))\n",
    "    print(len(locationList))\n",
    "    print(len(tableList))\n",
    "    \n",
    "print(websitesList)"
   ]
  },
  {
   "cell_type": "code",
   "execution_count": null,
   "metadata": {},
   "outputs": [],
   "source": []
  }
 ],
 "metadata": {
  "kernelspec": {
   "display_name": "Python 3",
   "language": "python",
   "name": "python3"
  },
  "language_info": {
   "codemirror_mode": {
    "name": "ipython",
    "version": 3
   },
   "file_extension": ".py",
   "mimetype": "text/x-python",
   "name": "python",
   "nbconvert_exporter": "python",
   "pygments_lexer": "ipython3",
   "version": "3.8.5-final"
  }
 },
 "nbformat": 4,
 "nbformat_minor": 1
}